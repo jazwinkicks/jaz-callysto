{
 "cells": [
  {
   "cell_type": "markdown",
   "metadata": {},
   "source": [
    "\n",
    "\n",
    "<div style=\"text-align: left\"> \n",
    "\n",
    "<h1 > WebGLdemo </h1>\n",
    "\n",
    "<p>\n",
    "\n",
    "Callysto.ca \n",
    "\n",
    "<img style=\"float: right;\" width=\"100px\" src=\"C_logo.png\">\n",
    "\n",
    "</div>\n",
    "\n",
    "\n"
   ]
  },
  {
   "cell_type": "markdown",
   "metadata": {},
   "source": [
    "May 28, 2018. M. Lamoureux\n",
    "\n",
    "A quick test to see if we can run WebGL 3D animations.\n",
    "\n",
    "Quick answer is YES. This is just JavaScript, so we load it in as a text file, then execute as an HTML file. \n",
    "\n",
    "Examples are taken from this repo: \n",
    "https://github.com/mdn/webgl-examples/tree/gh-pages/tutorial"
   ]
  },
  {
   "cell_type": "code",
   "execution_count": 1,
   "metadata": {},
   "outputs": [],
   "source": [
    "from IPython.display import IFrame\n",
    "\n"
   ]
  },
  {
   "cell_type": "code",
   "execution_count": 2,
   "metadata": {},
   "outputs": [
    {
     "data": {
      "text/html": [
       "\n",
       "        <iframe\n",
       "            width=\"700\"\n",
       "            height=\"500\"\n",
       "            src=\"W8.html\"\n",
       "            frameborder=\"0\"\n",
       "            allowfullscreen\n",
       "        ></iframe>\n",
       "        "
      ],
      "text/plain": [
       "<IPython.lib.display.IFrame at 0x7fe0c0402898>"
      ]
     },
     "execution_count": 2,
     "metadata": {},
     "output_type": "execute_result"
    }
   ],
   "source": [
    "from IPython.display import IFrame\n",
    "\n",
    "with open('WebGLtest8.txt','r') as f:\n",
    "    s=f.read()\n",
    "    with open('W8.html','w') as g:\n",
    "        g.write(s)\n",
    "    \n",
    "IFrame('W8.html',700,500)"
   ]
  },
  {
   "cell_type": "markdown",
   "metadata": {},
   "source": [
    "### Easier\n",
    "\n",
    "Here are some easier examples. The html structure is in WebGLtest2.txt while the javascript code is in webgl-demo2.js as well as gl-matrix.js\n",
    "\n"
   ]
  },
  {
   "cell_type": "code",
   "execution_count": 3,
   "metadata": {},
   "outputs": [
    {
     "data": {
      "text/html": [
       "\n",
       "        <iframe\n",
       "            width=\"700\"\n",
       "            height=\"500\"\n",
       "            src=\"W2.html\"\n",
       "            frameborder=\"0\"\n",
       "            allowfullscreen\n",
       "        ></iframe>\n",
       "        "
      ],
      "text/plain": [
       "<IPython.lib.display.IFrame at 0x7fe0c0402860>"
      ]
     },
     "execution_count": 3,
     "metadata": {},
     "output_type": "execute_result"
    }
   ],
   "source": [
    "with open('WebGLtest2.txt','r') as f:\n",
    "    s=f.read()\n",
    "    with open('W2.html','w') as g:\n",
    "        g.write(s)\n",
    "    \n",
    "IFrame('W2.html',700,500)"
   ]
  },
  {
   "cell_type": "code",
   "execution_count": 4,
   "metadata": {},
   "outputs": [
    {
     "data": {
      "text/html": [
       "\n",
       "        <iframe\n",
       "            width=\"700\"\n",
       "            height=\"500\"\n",
       "            src=\"W4.html\"\n",
       "            frameborder=\"0\"\n",
       "            allowfullscreen\n",
       "        ></iframe>\n",
       "        "
      ],
      "text/plain": [
       "<IPython.lib.display.IFrame at 0x7fe0c0402f28>"
      ]
     },
     "execution_count": 4,
     "metadata": {},
     "output_type": "execute_result"
    }
   ],
   "source": [
    "from IPython.display import IFrame\n",
    "\n",
    "with open('WebGLtest4.txt','r') as f:\n",
    "    s=f.read()\n",
    "    with open('W4.html','w') as g:\n",
    "        g.write(s)\n",
    "    \n",
    "IFrame('W4.html',700,500)"
   ]
  },
  {
   "cell_type": "code",
   "execution_count": null,
   "metadata": {},
   "outputs": [],
   "source": []
  }
 ],
 "metadata": {
  "kernelspec": {
   "display_name": "Python 3",
   "language": "python",
   "name": "python3"
  },
  "language_info": {
   "codemirror_mode": {
    "name": "ipython",
    "version": 3
   },
   "file_extension": ".py",
   "mimetype": "text/x-python",
   "name": "python",
   "nbconvert_exporter": "python",
   "pygments_lexer": "ipython3",
   "version": "3.6.5"
  }
 },
 "nbformat": 4,
 "nbformat_minor": 2
}
