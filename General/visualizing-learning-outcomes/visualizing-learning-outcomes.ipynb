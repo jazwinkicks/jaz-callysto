{
 "cells": [
  {
   "cell_type": "markdown",
   "metadata": {},
   "source": [
    "# A Data Scrape of Alberta Education Learning Outcomes"
   ]
  },
  {
   "cell_type": "markdown",
   "metadata": {},
   "source": [
    "The Alberta Ministry of Education hosts teaching resources relevant to K-12 programs of study at [learnalberta.ca](http://www.learnalberta.ca/ProgramsOfStudy.aspx). Many of these resources outline common curriculum outcomes. We can extract and visualize structures of the more codified ones."
   ]
  },
  {
   "cell_type": "markdown",
   "metadata": {},
   "source": [
    "---"
   ]
  },
  {
   "cell_type": "markdown",
   "metadata": {},
   "source": [
    "### 1. Get the Data\n"
   ]
  },
  {
   "cell_type": "markdown",
   "metadata": {},
   "source": [
    "We will scrape what we can from queries of [learnalberta.ca](http://www.learnalberta.ca/ProgramsOfStudy.aspx) using `requests`."
   ]
  },
  {
   "cell_type": "code",
   "execution_count": 62,
   "metadata": {},
   "outputs": [
    {
     "data": {
      "text/plain": [
       "True"
      ]
     },
     "execution_count": 62,
     "metadata": {},
     "output_type": "execute_result"
    }
   ],
   "source": [
    "url = 'http://www.learnalberta.ca/ProgramsOfStudy.aspx'\n",
    "\n",
    "# point to and query url\n",
    "from requests import get, utils\n",
    "r = get(url); r.ok"
   ]
  },
  {
   "cell_type": "markdown",
   "metadata": {},
   "source": [
    "$\\uparrow \\ $ If we see `True` above, then our first request worked. With this response, we can proceed.\n",
    "\n",
    "The `BeautifulSoup` package offers us a way to parse the web content we receive.\n",
    "\n",
    "We first detect the encoding of the response."
   ]
  },
  {
   "cell_type": "code",
   "execution_count": 63,
   "metadata": {},
   "outputs": [
    {
     "data": {
      "text/plain": [
       "'utf-8'"
      ]
     },
     "execution_count": 63,
     "metadata": {},
     "output_type": "execute_result"
    }
   ],
   "source": [
    "# decide which encoding to use\n",
    "from bs4.dammit import EncodingDetector\n",
    "httpEncoding = r.encoding if 'charset' in r.headers.get('content-type', '').lower() else None\n",
    "htmlEncoding = EncodingDetector.find_declared_encoding(r.content, is_html=True)\n",
    "encoding = htmlEncoding or httpEncoding; encoding"
   ]
  },
  {
   "cell_type": "markdown",
   "metadata": {},
   "source": [
    "Now we parse. We extract the names of programs of study to see that things are working."
   ]
  },
  {
   "cell_type": "code",
   "execution_count": 64,
   "metadata": {},
   "outputs": [
    {
     "name": "stdout",
     "output_type": "stream",
     "text": [
      "Core Programs\n",
      "\t English Language Arts\n",
      "\t Fine Arts\n",
      "\t Health / Career & Life Management\n",
      "\t Mathematics\n",
      "\t Physical Education\n",
      "\t Science\n",
      "\t Social Studies\n",
      "Complementary Programs\n",
      "\t Aboriginal Studies\n",
      "\t CTF\n",
      "\t CTS: Apprenticeship\n",
      "\t CTS: Business, Administration, Finance & Information Technology (BIT)\n",
      "\t CTS: Career Transitions (CTR)\n",
      "\t CTS: Health, Recreation & Human Services (HRH)\n",
      "\t CTS: Media, Design & Communication Arts (MDC)\n",
      "\t CTS: Natural Resources (NAT)\n",
      "\t CTS: Trades, Manufacturing & Transportation (TMT)\n",
      "\t English as a Second Language\n",
      "\t Fine Arts\n",
      "\t First Nations, Métis and Inuit (FNMI) Languages\n",
      "\t French as a Second Language (FSL)\n",
      "\t International Languages\n",
      "\t Knowledge and Employability Occupational Courses\n"
     ]
    }
   ],
   "source": [
    "# begin parsing HTML\n",
    "from bs4 import BeautifulSoup as bs\n",
    "soup = bs(r.content, \"lxml\", from_encoding=encoding)\n",
    "searchFields = [i.find_next() for i in soup.find_all('strong')]\n",
    "\n",
    "searchOptions = [i.find_next()\n",
    "                  .find_next()\n",
    "                  .find_next()\n",
    "                  .find_all(\"option\")[1:]\n",
    "                     for i in soup.find_all('strong')\n",
    "                ]\n",
    "fieldsOptionsReference = dict(zip(searchFields, searchOptions))\n",
    "\n",
    "# print programs\n",
    "for field, option in fieldsOptionsReference.items():\n",
    "    print(field.text)\n",
    "    for opt in option:\n",
    "        print('\\t', opt.text)"
   ]
  },
  {
   "cell_type": "markdown",
   "metadata": {},
   "source": [
    "---"
   ]
  },
  {
   "cell_type": "markdown",
   "metadata": {},
   "source": [
    "### 2. Select a Program & Course"
   ]
  },
  {
   "cell_type": "markdown",
   "metadata": {},
   "source": [
    "Once we choose a subject, we can preview specific programs."
   ]
  },
  {
   "cell_type": "code",
   "execution_count": 65,
   "metadata": {},
   "outputs": [
    {
     "data": {
      "text/plain": [
       "{'174398': 'Mathematics (K & E) 10-4, 20-4',\n",
       " '26061': 'Mathematics Kindergarten to Grade 9 (2007, Updated 2016)',\n",
       " '348234': 'Mathematics Grade 10 - 12',\n",
       " '432948': 'Mathematics 31',\n",
       " '447048': 'Mathematics (K & E) Grade 8 - 9'}"
      ]
     },
     "execution_count": 65,
     "metadata": {},
     "output_type": "execute_result"
    }
   ],
   "source": [
    "subject = 'Mathematics'\n",
    "\n",
    "# find programs\n",
    "from learnAlberta import soupForField\n",
    "programs = soupForField(subject).find_all('a', href=lambda href: href and \"ProgramOfStudy\" in href)\n",
    "programReference = {}\n",
    "for p in programs:\n",
    "    href = p['href']\n",
    "    parameters = dict(q.split('=') for q in utils.urlparse(href).query.split('&'))\n",
    "    programReference[parameters['ProgramId']] = p.text.strip()\n",
    "programReference"
   ]
  },
  {
   "cell_type": "markdown",
   "metadata": {},
   "source": [
    "$\\uparrow \\ $ We choose a `programID` from those above, and specify a course code, e.g. 20-1."
   ]
  },
  {
   "cell_type": "code",
   "execution_count": 99,
   "metadata": {
    "collapsed": true
   },
   "outputs": [],
   "source": [
    "programID = \"348234\"\n",
    "course = '20-1'"
   ]
  },
  {
   "cell_type": "markdown",
   "metadata": {},
   "source": [
    "---"
   ]
  },
  {
   "cell_type": "markdown",
   "metadata": {},
   "source": [
    "### 3. Isolate Learning Outcomes"
   ]
  },
  {
   "cell_type": "markdown",
   "metadata": {},
   "source": [
    "Each high school mathematics course has its general outcomes formatted as headers.\n",
    "\n",
    "Since `BeautifulSoup` can detect headers, there is a structure for us to isolate."
   ]
  },
  {
   "cell_type": "code",
   "execution_count": 100,
   "metadata": {},
   "outputs": [
    {
     "name": "stdout",
     "output_type": "stream",
     "text": [
      "29 : 20-1 \n",
      "30 : Algebra & Number (20-1)\n",
      "37 : Trigonometry (20-1)\n",
      "41 : Relations & Functions (20-1)\n"
     ]
    }
   ],
   "source": [
    "# find headers for course code\n",
    "from learnAlberta import soupForProgram\n",
    "programData = soupForProgram(programID)\n",
    "rationaleSections = programData.find_all('div', class_='title')\n",
    "for i, r in enumerate(rationaleSections):\n",
    "    if course in r.text:\n",
    "        print(i, ':', r.text)"
   ]
  },
  {
   "cell_type": "markdown",
   "metadata": {},
   "source": [
    "$\\uparrow \\ $ We should see the names of general outcomes in Mathematics 20-1."
   ]
  },
  {
   "cell_type": "markdown",
   "metadata": {},
   "source": [
    "We can go further and isolate specific learning outcomes, which we will represent as `vertices` of a [graph](https://en.wikipedia.org/wiki/Graph).\n",
    "\n",
    "For brevity, we use Python methods from an accompanying file, `learnAlberta.py`."
   ]
  },
  {
   "cell_type": "code",
   "execution_count": 101,
   "metadata": {
    "collapsed": true
   },
   "outputs": [],
   "source": [
    "# generate vertex and processes data\n",
    "from learnAlberta import removeBrackets, groupByOutcomeGroup\n",
    "outcomeGroups = [(i, ''.join(c for c in removeBrackets(r.text) if c.isupper()))\n",
    "                 for (i, r) in enumerate(rationaleSections) if course in r.text and '(' in r.text]\n",
    "vertices, processes = groupByOutcomeGroup(subject, course, rationaleSections, outcomeGroups)"
   ]
  },
  {
   "cell_type": "markdown",
   "metadata": {},
   "source": [
    "Our set of `vertices`, a list of dictionaries, has a useful format, and may be exported as a `DataFrame` via `pandas`."
   ]
  },
  {
   "cell_type": "code",
   "execution_count": 102,
   "metadata": {
    "collapsed": true
   },
   "outputs": [],
   "source": [
    "from pandas import DataFrame\n",
    "df = DataFrame(vertices)"
   ]
  },
  {
   "cell_type": "code",
   "execution_count": 103,
   "metadata": {},
   "outputs": [
    {
     "data": {
      "text/html": [
       "<div>\n",
       "<style>\n",
       "    .dataframe thead tr:only-child th {\n",
       "        text-align: right;\n",
       "    }\n",
       "\n",
       "    .dataframe thead th {\n",
       "        text-align: left;\n",
       "    }\n",
       "\n",
       "    .dataframe tbody tr th {\n",
       "        vertical-align: top;\n",
       "    }\n",
       "</style>\n",
       "<table border=\"1\" class=\"dataframe\">\n",
       "  <thead>\n",
       "    <tr style=\"text-align: right;\">\n",
       "      <th></th>\n",
       "      <th>description</th>\n",
       "      <th>group</th>\n",
       "      <th>name</th>\n",
       "      <th>processes</th>\n",
       "    </tr>\n",
       "  </thead>\n",
       "  <tbody>\n",
       "    <tr>\n",
       "      <th>0</th>\n",
       "      <td>Demonstrate an understanding of the absolute v...</td>\n",
       "      <td>0</td>\n",
       "      <td>MA20-1.AN1</td>\n",
       "      <td>[Reasoning, Visualization]</td>\n",
       "    </tr>\n",
       "    <tr>\n",
       "      <th>1</th>\n",
       "      <td>Solve problems that involve operations on radi...</td>\n",
       "      <td>0</td>\n",
       "      <td>MA20-1.AN2</td>\n",
       "      <td>[Connections, Mental Mathematics and Estimatio...</td>\n",
       "    </tr>\n",
       "    <tr>\n",
       "      <th>2</th>\n",
       "      <td>Solve problems that involve radical equations ...</td>\n",
       "      <td>0</td>\n",
       "      <td>MA20-1.AN3</td>\n",
       "      <td>[Communication, Problem Solving, Reasoning]</td>\n",
       "    </tr>\n",
       "  </tbody>\n",
       "</table>\n",
       "</div>"
      ],
      "text/plain": [
       "                                         description  group        name  \\\n",
       "0  Demonstrate an understanding of the absolute v...      0  MA20-1.AN1   \n",
       "1  Solve problems that involve operations on radi...      0  MA20-1.AN2   \n",
       "2  Solve problems that involve radical equations ...      0  MA20-1.AN3   \n",
       "\n",
       "                                           processes  \n",
       "0                         [Reasoning, Visualization]  \n",
       "1  [Connections, Mental Mathematics and Estimatio...  \n",
       "2        [Communication, Problem Solving, Reasoning]  "
      ]
     },
     "execution_count": 103,
     "metadata": {},
     "output_type": "execute_result"
    }
   ],
   "source": [
    "df[:3] # generate first three elements"
   ]
  },
  {
   "cell_type": "markdown",
   "metadata": {},
   "source": [
    "Another step yields `CSV` data."
   ]
  },
  {
   "cell_type": "code",
   "execution_count": 104,
   "metadata": {},
   "outputs": [
    {
     "name": "stdout",
     "output_type": "stream",
     "text": [
      ",description,group,name,processes\n",
      "0,Demonstrate an understanding of the absolute value of real numbers,0,MA20-1.AN1,\"['Reasoning', 'Visualization']\"\n",
      "1,Solve problems that involve operations on radicals and radical expressions with numerical and variable radicands,0,MA20-1.AN2,\"['Connections', 'Mental Mathematics and Estimation', 'Problem Solving', 'Reasoning']\"\n",
      "2,Solve problems that involve radical equations (limited to square roots),0,MA20-1.AN3,\"['Communication', 'Problem Solving', 'Reasoning']\"\n",
      "\n"
     ]
    }
   ],
   "source": [
    "print(df[:3].to_csv())"
   ]
  },
  {
   "cell_type": "markdown",
   "metadata": {},
   "source": [
    "---"
   ]
  },
  {
   "cell_type": "markdown",
   "metadata": {},
   "source": [
    "### 4. Connect the Data"
   ]
  },
  {
   "cell_type": "markdown",
   "metadata": {},
   "source": [
    "We have yet to connect these learning outcomes.\n",
    "\n",
    "Each specific learning outcome in mathematics is tied to several of seven interrelated \"mathematical processes.\"\n",
    "\n",
    "These processes aim to \"permeate the teaching and learning of mathematics.\" [$^\\dagger$](http://www.learnalberta.ca/ProgramOfStudy.aspx?lang=en&ProgramId=348234#)"
   ]
  },
  {
   "cell_type": "code",
   "execution_count": 105,
   "metadata": {},
   "outputs": [
    {
     "data": {
      "text/plain": [
       "['Reasoning', 'Visualization']"
      ]
     },
     "execution_count": 105,
     "metadata": {},
     "output_type": "execute_result"
    }
   ],
   "source": [
    "# preview processes of first learning outcome\n",
    "vertices[0]['processes']"
   ]
  },
  {
   "cell_type": "markdown",
   "metadata": {},
   "source": [
    "Earlier we generated this set, `processes`, to connect mathematical processes to specific learning outcomes."
   ]
  },
  {
   "cell_type": "code",
   "execution_count": 106,
   "metadata": {},
   "outputs": [
    {
     "data": {
      "text/plain": [
       "['MA20-1.AN2',\n",
       " 'MA20-1.AN4',\n",
       " 'MA20-1.AN5',\n",
       " 'MA20-1.T2',\n",
       " 'MA20-1.RF1A',\n",
       " 'MA20-1.RF1B',\n",
       " 'MA20-1.RF1C',\n",
       " 'MA20-1.RF1D']"
      ]
     },
     "execution_count": 106,
     "metadata": {},
     "output_type": "execute_result"
    }
   ],
   "source": [
    "processes['Mental Mathematics and Estimation']"
   ]
  },
  {
   "cell_type": "markdown",
   "metadata": {},
   "source": [
    "The `edges` of our graph are chosen to connect learning outcomes sharing one or more of the seven processes."
   ]
  },
  {
   "cell_type": "code",
   "execution_count": 107,
   "metadata": {
    "collapsed": true
   },
   "outputs": [],
   "source": [
    "edges = []\n",
    "\n",
    "# find all pairwise combinations of identifiers within a process sublist, append to edges\n",
    "from itertools import permutations\n",
    "for process, identifiers in processes.items():\n",
    "    pairwise = list(permutations(identifiers, 2))\n",
    "    for p in pairwise:\n",
    "        edges.append({\n",
    "                    'source': next((i for (i, d) in enumerate(vertices) if d['name'] == p[0]), None),\n",
    "                    'target': next((i for (i, d) in enumerate(vertices) if d['name'] == p[1]), None),\n",
    "                    'value': 1\n",
    "                })"
   ]
  },
  {
   "cell_type": "markdown",
   "metadata": {},
   "source": [
    "We may also group specific learning outcomes by their general outcomes.\n",
    "\n",
    "In fact, this is already done! Notice the `group` column in our `DataFrame`."
   ]
  },
  {
   "cell_type": "markdown",
   "metadata": {},
   "source": [
    "---"
   ]
  },
  {
   "cell_type": "markdown",
   "metadata": {},
   "source": [
    "### 5. Visualize Processes"
   ]
  },
  {
   "cell_type": "markdown",
   "metadata": {},
   "source": [
    "We export our newfound sets to the `JSON` format."
   ]
  },
  {
   "cell_type": "code",
   "execution_count": 108,
   "metadata": {
    "collapsed": true
   },
   "outputs": [],
   "source": [
    "from json import dumps\n",
    "with open('learnAlberta.json', 'w') as f:\n",
    "    f.write(dumps({\n",
    "        'nodes': vertices,\n",
    "        'links': edges},\n",
    "        indent=4))"
   ]
  },
  {
   "cell_type": "markdown",
   "metadata": {},
   "source": [
    "With [$\\mathbf{\\text{D3}}.js$](https://d3js.org/) we lay out the graph as a matrix.\n",
    "\n",
    "We are using JavaScript from another accompanying file, `processesMatrix.html`."
   ]
  },
  {
   "cell_type": "code",
   "execution_count": 109,
   "metadata": {},
   "outputs": [
    {
     "data": {
      "text/html": [
       "<select id=\"order\">\n",
       "  <option value=\"group\">by Outcome</option>\n",
       "  <option value=\"count\">by Frequency</option>\n",
       "</select>\n",
       "<svg width=\"100%\" height=\"500\"></svg>\n",
       "<script>\n",
       "requirejs.config({paths: {d3: \"https://d3js.org/d3.v4.min\"}});\n",
       "requirejs([\"d3\"], d3 => {\n",
       "    var margin = {top: 125, right: 0, bottom: 0, left: 125},\n",
       "        width = 500,\n",
       "        height = 500;\n",
       "\n",
       "    var x = d3.scaleBand().rangeRound([0, width]),\n",
       "        z = d3.scaleLinear().clamp(true),\n",
       "        c = d3.scaleOrdinal(d3.schemeCategory10).domain(d3.range(3));\n",
       "\n",
       "    var svg = d3.select(\"svg\")\n",
       "        .attr(\"width\", width + margin.left + margin.right)\n",
       "        .attr(\"height\", height + margin.top + margin.bottom)\n",
       "      .append(\"g\")\n",
       "        .attr(\"transform\", \"translate(\" + margin.left + \",\" + margin.top + \")\");\n",
       "\n",
       "    d3.json(\"learnAlberta.json\", function(graph) {\n",
       "      var matrix = [],\n",
       "          nodes = graph.nodes,\n",
       "          n = nodes.length;\n",
       "\n",
       "      // compute index per node\n",
       "      nodes.forEach(function(node, i) {\n",
       "        node.index = i;\n",
       "        node.count = 0;\n",
       "        matrix[i] = d3.range(n).map(function(j) { return {x: j, y: i, z: 0}; });\n",
       "      });\n",
       "\n",
       "      var maxZ = 0;\n",
       "      // convert links to matrix; count occurrences\n",
       "      graph.links.forEach(function(link) {\n",
       "        matrix[link.source][link.target].z += link.value;\n",
       "        matrix[link.target][link.source].z += link.value;\n",
       "        matrix[link.source][link.source].z += link.value;\n",
       "        matrix[link.target][link.target].z += link.value;\n",
       "        if (matrix[link.source][link.target].z >= maxZ ||\n",
       "            matrix[link.target][link.source].z >= maxZ) {\n",
       "            maxZ = Math.max(matrix[link.source][link.target].z, matrix[link.target][link.source].z)\n",
       "        }\n",
       "        nodes[link.source].count += link.value;\n",
       "        nodes[link.target].count += link.value;\n",
       "      });\n",
       "      z.domain([0, maxZ]);\n",
       "\n",
       "      // compute orders in advance\n",
       "      var orders = {\n",
       "        count: d3.range(n).sort(function(a, b) { return nodes[b].count - nodes[a].count; }),\n",
       "        group: d3.range(n).sort(function(a, b) { return nodes[b].group - nodes[a].group; })\n",
       "      };\n",
       "\n",
       "      // default sort order.\n",
       "      x.domain(orders.group);\n",
       "\n",
       "      svg.append(\"rect\")\n",
       "          .attr(\"class\", \"background\")\n",
       "          .attr(\"width\", width)\n",
       "          .attr(\"fill\", \"#fff\")\n",
       "          .attr(\"height\", height);\n",
       "\n",
       "      var row = svg.selectAll(\".row\")\n",
       "          .data(matrix)\n",
       "        .enter().append(\"g\")\n",
       "          .attr(\"class\", \"row\")\n",
       "          .attr(\"transform\", function(d, i) { return \"translate(0,\" + x(i) + \")\"; })\n",
       "          .each(row);\n",
       "\n",
       "      row.append(\"line\")\n",
       "        .attr('stroke', '#fff')\n",
       "          .attr(\"x2\", width);\n",
       "\n",
       "      row.append(\"text\")\n",
       "          .attr(\"x\", -6)\n",
       "          .attr(\"y\", x.bandwidth()/2)\n",
       "          .attr(\"font-family\", \"monospace\")\n",
       "          .attr(\"text-anchor\", \"end\")\n",
       "          .text(function(d, i) { return nodes[i].name; });\n",
       "\n",
       "      var column = svg.selectAll(\".column\")\n",
       "          .data(matrix)\n",
       "        .enter().append(\"g\")\n",
       "          .attr(\"class\", \"column\")\n",
       "          .attr(\"transform\", function(d, i) { return \"translate(\" + x(i) + \") rotate(-90)\"; });\n",
       "\n",
       "      column.append(\"line\")\n",
       "          .attr('stroke', '#fff')\n",
       "          .attr(\"x1\", -width);\n",
       "\n",
       "      column.append(\"text\")\n",
       "          .attr(\"x\", 6)\n",
       "          .attr(\"y\", x.bandwidth()/2)\n",
       "          .attr(\"font-family\", \"monospace\")\n",
       "          .attr(\"text-anchor\", \"start\")\n",
       "          .text(function(d, i) { return nodes[i].name; });\n",
       "\n",
       "      function row(row) {\n",
       "        var cell = d3.select(this).selectAll(\".cell\")\n",
       "            .data(row.filter(function(d) { return d.z; }))\n",
       "          .enter().append(\"rect\")\n",
       "            .attr(\"class\", \"cell\")\n",
       "            .attr(\"x\", function(d) { return x(d.x); })\n",
       "            .attr(\"width\", x.bandwidth())\n",
       "            .attr(\"height\", x.bandwidth())\n",
       "            .style(\"fill-opacity\", function(d) { return z(d.z); })\n",
       "            .style(\"fill\", function(d) { return nodes[d.x].group == nodes[d.y].group ? c(nodes[d.x].group) : null; })\n",
       "            .on(\"mouseover\", mouseover)\n",
       "            .on(\"mouseout\", mouseout);\n",
       "      }\n",
       "\n",
       "      function mouseover(p) {\n",
       "        d3.selectAll(\".row text\").classed(\"active\", function(d, i) { return i == p.y; });\n",
       "        d3.selectAll(\".column text\").classed(\"active\", function(d, i) { return i == p.x; });\n",
       "      }\n",
       "\n",
       "      function mouseout() {\n",
       "        d3.selectAll(\"text\").classed(\"active\", false);\n",
       "      }\n",
       "\n",
       "      d3.select(\"#order\").on(\"change\", function() {\n",
       "        order(this.value);\n",
       "      });\n",
       "\n",
       "      function order(value) {\n",
       "        x.domain(orders[value]);\n",
       "\n",
       "        var t = svg.transition().duration(2000);\n",
       "\n",
       "        t.selectAll(\".row\")\n",
       "            .delay(function(d, i) { return x(i) * 4; })\n",
       "            .attr(\"transform\", function(d, i) { return \"translate(0,\" + x(i) + \")\"; })\n",
       "          .selectAll(\".cell\")\n",
       "            .delay(function(d) { return x(d.x) * 4; })\n",
       "            .attr(\"x\", function(d) { return x(d.x); });\n",
       "\n",
       "        t.selectAll(\".column\")\n",
       "            .delay(function(d, i) { return x(i) * 4; })\n",
       "            .attr(\"transform\", function(d, i) { return \"translate(\" + x(i) + \")rotate(-90)\"; });\n",
       "      }\n",
       "    });\n",
       "});\n",
       "</script>"
      ],
      "text/plain": [
       "<IPython.core.display.HTML object>"
      ]
     },
     "metadata": {},
     "output_type": "display_data"
    }
   ],
   "source": [
    "from IPython.display import HTML\n",
    "with open('processesMatrix.html', 'r') as g:\n",
    "    display(HTML(g.read()))"
   ]
  },
  {
   "cell_type": "markdown",
   "metadata": {},
   "source": [
    "$\\uparrow \\ $ Ordering the matrix \"`by Outcome`\" groups specific learning outcomes with general outcomes, as desired.\n",
    "\n",
    "We may reorder the matrix \"`by Frequency`\" using the dropdown menu to see which learning outcomes have more overlap between processes."
   ]
  },
  {
   "cell_type": "markdown",
   "metadata": {},
   "source": [
    "If any two specific outcomes emerge from the same general outcome, they are endowed with a colour.\n",
    "\n",
    "The greyscale colouring, then, is assigned to pairs of specific outcomes that emerge from different general outcomes, but share similar processes.\n",
    "\n",
    "The opacity of any cell quantifies its relative overlap with the processes of another cell."
   ]
  },
  {
   "cell_type": "markdown",
   "metadata": {},
   "source": [
    "The colourless region is significant, as it reflects the interplay between general outcomes.\n",
    "\n",
    "For example, observe above that outcomes `AN5: Perform operations on rational expressions` and `RF7: Solve problems that involve linear and quadratic inequalities in two variables` have no overlap with respect to their processes.\n",
    "\n",
    "We may compare the processes of `AN5`, `\"Communication | Problem Solving | Technology | Visualization,\"` with those of `RF7`, `\"Connections | Mental Mathematics and Estimation | Reasoning,\"` to see that, indeed, there is **no** pairwise overlap."
   ]
  },
  {
   "cell_type": "markdown",
   "metadata": {},
   "source": [
    "---"
   ]
  },
  {
   "cell_type": "markdown",
   "metadata": {},
   "source": [
    "_Assembled by Eric Easthope_\n",
    "\n",
    "Visualization directly inspired by [_Les Misérables Co-occurrence_](https://bost.ocks.org/mike/miserables/).\n",
    "\n",
    "_MIT License_"
   ]
  },
  {
   "cell_type": "markdown",
   "metadata": {},
   "source": [
    "---"
   ]
  }
 ],
 "metadata": {
  "kernelspec": {
   "display_name": "Python 3",
   "language": "python",
   "name": "python3"
  },
  "language_info": {
   "codemirror_mode": {
    "name": "ipython",
    "version": 3
   },
   "file_extension": ".py",
   "mimetype": "text/x-python",
   "name": "python",
   "nbconvert_exporter": "python",
   "pygments_lexer": "ipython3",
   "version": "3.6.1"
  }
 },
 "nbformat": 4,
 "nbformat_minor": 2
}
