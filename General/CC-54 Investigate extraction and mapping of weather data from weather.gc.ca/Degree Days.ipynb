{
 "cells": [
  {
   "cell_type": "code",
   "execution_count": 68,
   "metadata": {},
   "outputs": [],
   "source": [
    "# Baskerville-Emin Method\n",
    "\n",
    "import math\n",
    "\n",
    "TWO_PI = math.acos(-1) * 2\n",
    "\n",
    "# Degrees C\n",
    "daily_high = 26\n",
    "daily_low = 9\n",
    "\n",
    "mean_temp = (daily_high + daily_low) / 2\n",
    "amplitude = daily_high - mean_temp\n",
    "\n",
    "lower_threshold = 10\n",
    "upper_threshold = 30.5\n",
    "\n",
    "P = math.asin((lower_threshold - mean_temp) / amplitude) / TWO_PI"
   ]
  },
  {
   "cell_type": "code",
   "execution_count": 70,
   "metadata": {},
   "outputs": [
    {
     "data": {
      "text/plain": [
       "0.8279791303773694"
      ]
     },
     "execution_count": 70,
     "metadata": {},
     "output_type": "execute_result"
    }
   ],
   "source": [
    "y = mean_temp + amplitude * math.cos(TWO_PI * P)\n",
    "y\n",
    "1 - P"
   ]
  },
  {
   "cell_type": "code",
   "execution_count": 74,
   "metadata": {},
   "outputs": [
    {
     "data": {
      "image/png": "[encoded data removed]",
      "text/plain": [
       "<matplotlib.figure.Figure at 0x7f85e8599438>"
      ]
     },
     "metadata": {},
     "output_type": "display_data"
    }
   ],
   "source": [
    "from numpy import arange, cos, sin\n",
    "from matplotlib.pyplot import figure, show\n",
    "\n",
    "t = arange(-0.5, 1.5, 0.01)\n",
    "fig = figure(1)\n",
    "ax1 = fig.add_subplot(211)\n",
    "ax1.plot(t, (mean_temp + amplitude * sin(TWO_PI * t)) - lower_threshold)\n",
    "ax1.grid(True)\n",
    "show()"
   ]
  },
  {
   "cell_type": "code",
   "execution_count": null,
   "metadata": {},
   "outputs": [],
   "source": [
    "thlow = 0.0\n",
    "thup = 0.0\n",
    "p = 0.0\n",
    "ddlow = 0.0\n",
    "ddup = 0.0\n",
    "dd = 0.0\n",
    "cumdd = 0.0\n",
    "av = 0.0\n",
    "amp = 0.0\n",
    "_max = 0.0\n",
    "_min = 0.0\n",
    "rainmm = 0.0\n",
    "snowcv = 0.0\n",
    "day = 0\n",
    "Y = 0\n",
    "M = 0\n",
    "D = 0\n",
    "jday = 0\n",
    "w = math.acos(-1)\n",
    "\n",
    "thlow = 12.0\n",
    "thup = 50.0\n",
    "_min = 9.0\n",
    "_max = 26.0\n",
    "\n",
    "av = (_max + _min) / 2\n",
    "amp = max - av\n",
    "\n",
    "if _min < thlow:\n",
    "    if _max > thlow:\n",
    "        p = (math.acos((thlow - av)/amp)) / w\n",
    "        ddlow = 2*(p*(av - thlow) + (amp/2) * math.sin(w*p))\n",
    "    else:\n",
    "        ddlow = 0\n",
    "else:\n",
    "    ddlow = (_max + _min - 2*thlow) / 2\n",
    "\n",
    "if _max > thup:\n",
    "    p = (math.acos((thup-av)/amp))/w\n",
    "    ddup = 2*(p*(av - thup) + (amp/w)*sin(w*p))\n",
    "else:\n",
    "    ddup = 0\n",
    "\n",
    "dd = ddlow - ddup\n",
    "if dd < 0.0:\n",
    "    dd = 0.0\n",
    "cumdd += dd\n",
    "cumr += rain\n",
    "cums += snow\n"
   ]
  }
 ],
 "metadata": {
  "kernelspec": {
   "display_name": "Python 3",
   "language": "python",
   "name": "python3"
  },
  "language_info": {
   "codemirror_mode": {
    "name": "ipython",
    "version": 3
   },
   "file_extension": ".py",
   "mimetype": "text/x-python",
   "name": "python",
   "nbconvert_exporter": "python",
   "pygments_lexer": "ipython3",
   "version": "3.6.5"
  }
 },
 "nbformat": 4,
 "nbformat_minor": 2
}
