{
 "cells": [
  {
   "cell_type": "markdown",
   "metadata": {},
   "source": [
    "<img src=\"images/Callysto_Notebook-Banner_Top_06.06.18.jpg\">"
   ]
  },
  {
   "cell_type": "code",
   "execution_count": 1,
   "metadata": {},
   "outputs": [
    {
     "data": {
      "text/html": [
       "\n",
       "<script>\n",
       "  function code_toggle() {\n",
       "    if (code_shown){\n",
       "      $('div.input').hide('500');\n",
       "      $('#toggleButton').val('Show Code')\n",
       "    } else {\n",
       "      $('div.input').show('500');\n",
       "      $('#toggleButton').val('Hide Code')\n",
       "    }\n",
       "    code_shown = !code_shown\n",
       "  }\n",
       "\n",
       "  $( document ).ready(function(){\n",
       "    code_shown=false;\n",
       "    $('div.input').hide()\n",
       "  });\n",
       "</script>\n",
       "<form action=\"javascript:code_toggle()\"><input type=\"submit\" id=\"toggleButton\" value=\"Show Code\"></form>"
      ],
      "text/plain": [
       "<IPython.core.display.HTML object>"
      ]
     },
     "metadata": {},
     "output_type": "display_data"
    }
   ],
   "source": [
    "%%html\n",
    "\n",
    "<script>\n",
    "  function code_toggle() {\n",
    "    if (code_shown){\n",
    "      $('div.input').hide('500');\n",
    "      $('#toggleButton').val('Show Code')\n",
    "    } else {\n",
    "      $('div.input').show('500');\n",
    "      $('#toggleButton').val('Hide Code')\n",
    "    }\n",
    "    code_shown = !code_shown\n",
    "  }\n",
    "\n",
    "  $( document ).ready(function(){\n",
    "    code_shown=false;\n",
    "    $('div.input').hide()\n",
    "  });\n",
    "</script>\n",
    "<form action=\"javascript:code_toggle()\"><input type=\"submit\" id=\"toggleButton\" value=\"Show Code\"></form>"
   ]
  },
  {
   "cell_type": "markdown",
   "metadata": {},
   "source": [
    "# Adding Fractions and Mixed Numbers with the Same Denominator\n",
    "\n",
    "## Proper (and Improper) Fractions\n",
    "\n",
    "Adding fractions is easy, as long as we are adding fractions with the same denominator.\n",
    "It is just like adding anything else.\n",
    "We all know that two plus three equals five.\n",
    "It is also true that two kilometers plus three kilometers equals five kilometers,\n",
    "and that two teaspoons of sugar plus three teaspoons of sugar equals five teaspoons of sugar.\n",
    "No matter what kind of thing we are adding, two of those things plus three more of those things equals five of those things.\n",
    "\n",
    "\\begin{equation}\n",
    "    \\begin{array}{lclcl}\n",
    "        2                    & + & 3                    & = & 5 \\\\\n",
    "        2 \\text{ km}         & + & 3 \\text{ km}         & = & 5 \\text{ km} \\\\\n",
    "        2 \\text{ tsp. sugar} & + & 3 \\text{ tsp. sugar} & = & 5 \\text{ tsp. sugar} \\\\\n",
    "    \\end{array}\n",
    "\\end{equation}\n",
    "\n",
    "The same idea works for fractions.\n",
    "\n",
    "\\begin{equation}\n",
    "    \\begin{array}{lclcl}\n",
    "        2                & + & 3                & = & 5 \\\\\n",
    "        2 \\text{ thirds} & + & 3 \\text{ thirds} & = & 5 \\text{ thirds} \\\\\n",
    "        2 \\text{ fifths} & + & 3 \\text{ fifths} & = & 5 \\text{ fifths} \\\\\n",
    "    \\end{array}\n",
    "\\end{equation}\n",
    "\n",
    "This gives us a way to add fractions.\n",
    "If we are asked to add\n",
    "\n",
    "\\begin{equation}\n",
    "    \\frac 2 3 + \\frac 3 3,\n",
    "\\end{equation}\n",
    "\n",
    "we can read it as \"2 thirds + 3 thirds\", which, of course, is 5 thirds:\n",
    "\n",
    "\\begin{equation}\n",
    "    \\frac 2 3 + \\frac 3 3 = \\frac 5 3.\n",
    "\\end{equation}\n",
    "\n",
    "In other words, the \"rule\" for adding two fractions\n",
    " * Add the two numerators\n",
    " * Keep the denominator\n",
    "\n",
    "\\begin{equation}\n",
    "    \\frac 2 3 + \\frac 3 3 = \\frac {2+3} 3 = \\frac 5 3.\n",
    "\\end{equation}\n"
   ]
  },
  {
   "cell_type": "markdown",
   "metadata": {},
   "source": [
    "## Mixed Numbers\n",
    "\n",
    "$\\newcommand{\\mixed}[3]{{\\large #1} \\frac{#2}{#3}}$\n",
    "$\\newcommand{\\Mixed}[3]{{\\Large #1} \\frac{#2}{#3}}$\n",
    "\n",
    "Adding mixed numbers is a lot like adding regular fractions.\n",
    "Remember that a mixed number is made up of a whole number and a proper fraction.\n",
    "To add two mixed numbers, we just add the whole numbers together and then add the proper fractions together.\n",
    "The sum of the two proper fractions might be *improper*, though.\n",
    "If that happens, then we have to do a little more work and turn the improper fraction into a proper one.\n",
    "\n",
    "These are the steps to follow:\n",
    " * Add the whole numbers together.\n",
    " * Add the proper fractions together.\n",
    " * If the sum of the fractions is improper,\n",
    " add 1 to the whole number and subtract the denominator from the numerator.\n",
    "\n",
    "Here is an example.\n",
    "Let's try adding\n",
    "\n",
    "\\begin{equation}\n",
    "    \\Mixed 5 4 5 + \\Mixed 3 3 5.\n",
    "\\end{equation}\n",
    "\n",
    "Following the steps, we add the whole numbers, $5 + 3 = 8$.\n",
    "Then we add the proper fractions, $\\frac 4 5 + \\frac 3 5 = \\frac 7 5$.\n",
    "So far, we have\n",
    "\n",
    "\\begin{equation}\n",
    "    \\Mixed 5 4 5 + \\Mixed 3 3 5 = \\Mixed 8 7 5.\n",
    "\\end{equation}\n",
    "\n",
    "However, the fraction in $\\mixed 8 7 5$ is improper (the numerator is not smaller than the denominator),\n",
    "so this is not really a mixed number yet.\n",
    "So we add 1 to the whole number and subtract 5 (the denominator) from the numerator.\n",
    "This is because $\\frac 7 5 = \\mixed 1 2 5$.\n",
    "\n",
    "\\begin{equation}\n",
    "   \\Mixed 8 7 5 = \\Mixed 9 2 5.\n",
    "\\end{equation}\n",
    "\n",
    "At the end of this notebook, you will have the chance to practice adding fractions and mixed numbers."
   ]
  },
  {
   "cell_type": "markdown",
   "metadata": {},
   "source": [
    "## Visually\n",
    "\n",
    "Here is a animation to visualize adding fractions.\n",
    "On top is a circle cut into five equal pieces.\n",
    "Four of the pieces are coloured in.\n",
    "This represents four fifths of a circle, or the fraction $\\frac 4 5$.\n",
    "On the bottom is a partially colored circle representing $\\frac 3 5$.\n",
    "See what happens when you press the **Add** button."
   ]
  },
  {
   "cell_type": "code",
   "execution_count": 2,
   "metadata": {},
   "outputs": [
    {
     "data": {
      "text/html": [
       "\n",
       "<divz>\n",
       "    <svg width=960 height=260></svg>\n",
       "</div>\n",
       "\n",
       "<label>\n",
       "    Numerator 1: <input id=\"numer1\" type=\"range\" value=\"4\" min=\"0\" max=\"100\" step=\"1\" onchange=\"update()\"/><br>\n",
       "    Numerator 2: <input id=\"numer2\" type=\"range\" value=\"3\" min=\"0\" max=\"100\" step=\"1\" onchange=\"update()\"/><br>\n",
       "    Denominator: <input id=\"denom\"  type=\"range\" value=\"5\" min=\"1\" max=\"20\" step=\"1\" onchange=\"update()\"/><br>\n",
       "    <input id=\"button\" type=\"button\"/>\n",
       "</label>\n",
       "\n",
       "<script src=\"http://d3js.org/d3.v3.min.js\" charset=\"utf-8\"></script>\n",
       "<script src=\"javascript/fractions.js\"></script>\n",
       "<script src=\"javascript/same_denominator.js\"></script>\n",
       "\n",
       "<script>\n",
       "\n",
       "var defaultNumer1, defaultDenom1, defaultNumer2, defaultDenom2;\n",
       "\n",
       "function update() {\n",
       "    defaultNumer1 = d3.select(\"#numer1\").property(\"value\");\n",
       "    defaultNumer2 = d3.select(\"#numer2\").property(\"value\");\n",
       "    defaultDenom1 = d3.select(\"#denom\").property(\"value\");\n",
       "    defaultDenom2 = d3.select(\"#denom\").property(\"value\");\n",
       "    reset();\n",
       "}\n",
       "\n",
       "update();\n",
       "reset();\n",
       "\n",
       "</script>"
      ],
      "text/plain": [
       "<IPython.core.display.HTML object>"
      ]
     },
     "metadata": {},
     "output_type": "display_data"
    }
   ],
   "source": [
    "%%html\n",
    "\n",
    "<divz>\n",
    "    <svg width=960 height=260></svg>\n",
    "</div>\n",
    "\n",
    "<label>\n",
    "    Numerator 1: <input id=\"numer1\" type=\"range\" value=\"4\" min=\"0\" max=\"100\" step=\"1\" onchange=\"update()\"/><br>\n",
    "    Numerator 2: <input id=\"numer2\" type=\"range\" value=\"3\" min=\"0\" max=\"100\" step=\"1\" onchange=\"update()\"/><br>\n",
    "    Denominator: <input id=\"denom\"  type=\"range\" value=\"5\" min=\"1\" max=\"20\" step=\"1\" onchange=\"update()\"/><br>\n",
    "    <input id=\"button\" type=\"button\"/>\n",
    "</label>\n",
    "\n",
    "<script src=\"http://d3js.org/d3.v3.min.js\" charset=\"utf-8\"></script>\n",
    "<script src=\"javascript/fractions.js\"></script>\n",
    "<script src=\"javascript/same_denominator.js\"></script>\n",
    "\n",
    "<script>\n",
    "\n",
    "var defaultNumer1, defaultDenom1, defaultNumer2, defaultDenom2;\n",
    "\n",
    "function update() {\n",
    "    defaultNumer1 = d3.select(\"#numer1\").property(\"value\");\n",
    "    defaultNumer2 = d3.select(\"#numer2\").property(\"value\");\n",
    "    defaultDenom1 = d3.select(\"#denom\").property(\"value\");\n",
    "    defaultDenom2 = d3.select(\"#denom\").property(\"value\");\n",
    "    reset();\n",
    "}\n",
    "\n",
    "update();\n",
    "reset();\n",
    "\n",
    "</script>"
   ]
  },
  {
   "cell_type": "markdown",
   "metadata": {},
   "source": [
    "## Practice\n",
    "\n",
    "Try this multiple choice game.\n",
    "Sometimes it will ask you to add proper or improper fractions.\n",
    "Sometimes it will ask you to add mixed numbers.\n",
    "This is your chance to practice all of these skills.\n",
    "See how many you can get right in a row!"
   ]
  },
  {
   "cell_type": "code",
   "execution_count": 3,
   "metadata": {},
   "outputs": [
    {
     "ename": "ModuleNotFoundError",
     "evalue": "No module named 'nbvis'",
     "output_type": "error",
     "traceback": [
      "\u001b[0;31m---------------------------------------------------------------------------\u001b[0m",
      "\u001b[0;31mModuleNotFoundError\u001b[0m                       Traceback (most recent call last)",
      "\u001b[0;32m<ipython-input-3-d8667fa00d02>\u001b[0m in \u001b[0;36m<module>\u001b[0;34m()\u001b[0m\n\u001b[0;32m----> 1\u001b[0;31m \u001b[0;32mfrom\u001b[0m \u001b[0mnbvis\u001b[0m\u001b[0;34m.\u001b[0m\u001b[0mggb\u001b[0m \u001b[0;32mimport\u001b[0m \u001b[0;34m*\u001b[0m\u001b[0;34m\u001b[0m\u001b[0m\n\u001b[0m\u001b[1;32m      2\u001b[0m \u001b[0;34m\u001b[0m\u001b[0m\n\u001b[1;32m      3\u001b[0m \u001b[0mggb\u001b[0m \u001b[0;34m=\u001b[0m \u001b[0mGGB\u001b[0m\u001b[0;34m(\u001b[0m\u001b[0;34m)\u001b[0m\u001b[0;34m\u001b[0m\u001b[0m\n\u001b[1;32m      4\u001b[0m \u001b[0mggb\u001b[0m\u001b[0;34m.\u001b[0m\u001b[0mfile\u001b[0m\u001b[0;34m(\u001b[0m\u001b[0;34m\"geogebra/fractions-game1.ggb\"\u001b[0m\u001b[0;34m)\u001b[0m     \u001b[0;34m.\u001b[0m\u001b[0moptions\u001b[0m\u001b[0;34m(\u001b[0m\u001b[0mheight\u001b[0m \u001b[0;34m=\u001b[0m \u001b[0;36m400\u001b[0m\u001b[0;34m,\u001b[0m             \u001b[0mshowAlgebraInput\u001b[0m \u001b[0;34m=\u001b[0m \u001b[0;32mFalse\u001b[0m\u001b[0;34m,\u001b[0m             \u001b[0menableLabelDrags\u001b[0m \u001b[0;34m=\u001b[0m \u001b[0;32mFalse\u001b[0m\u001b[0;34m,\u001b[0m             \u001b[0menableShiftDragZoom\u001b[0m \u001b[0;34m=\u001b[0m \u001b[0;32mFalse\u001b[0m\u001b[0;34m,\u001b[0m             \u001b[0mshowResetIcon\u001b[0m \u001b[0;34m=\u001b[0m \u001b[0;32mTrue\u001b[0m\u001b[0;34m,\u001b[0m             \u001b[0museBrowserForJS\u001b[0m \u001b[0;34m=\u001b[0m \u001b[0;32mFalse\u001b[0m\u001b[0;34m,\u001b[0m             \u001b[0mshowToolBar\u001b[0m \u001b[0;34m=\u001b[0m \u001b[0;32mFalse\u001b[0m\u001b[0;34m,\u001b[0m             \u001b[0mshowMenuBar\u001b[0m \u001b[0;34m=\u001b[0m \u001b[0;32mFalse\u001b[0m\u001b[0;34m)\u001b[0m     \u001b[0;34m.\u001b[0m\u001b[0mdraw\u001b[0m\u001b[0;34m(\u001b[0m\u001b[0;34m)\u001b[0m\u001b[0;34m\u001b[0m\u001b[0m\n",
      "\u001b[0;31mModuleNotFoundError\u001b[0m: No module named 'nbvis'"
     ]
    }
   ],
   "source": [
    "from nbvis.ggb import *\n",
    "\n",
    "ggb = GGB()\n",
    "ggb.file(\"geogebra/fractions-game1.ggb\") \\\n",
    "    .options(height = 400, \\\n",
    "            showAlgebraInput = False, \\\n",
    "            enableLabelDrags = False, \\\n",
    "            enableShiftDragZoom = False, \\\n",
    "            showResetIcon = True, \\\n",
    "            useBrowserForJS = False, \\\n",
    "            showToolBar = False, \\\n",
    "            showMenuBar = False) \\\n",
    "    .draw()"
   ]
  },
  {
   "cell_type": "markdown",
   "metadata": {},
   "source": [
    "<img src=\"images/Callysto_Notebook-Banners_Bottom_06.06.18.jpg\">"
   ]
  }
 ],
 "metadata": {
  "kernelspec": {
   "display_name": "Python 3",
   "language": "python",
   "name": "python3"
  },
  "language_info": {
   "codemirror_mode": {
    "name": "ipython",
    "version": 3
   },
   "file_extension": ".py",
   "mimetype": "text/x-python",
   "name": "python",
   "nbconvert_exporter": "python",
   "pygments_lexer": "ipython3",
   "version": "3.6.5"
  }
 },
 "nbformat": 4,
 "nbformat_minor": 2
}
