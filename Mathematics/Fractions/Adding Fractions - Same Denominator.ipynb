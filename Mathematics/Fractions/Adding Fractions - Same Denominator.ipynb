{
 "cells": [
  {
   "cell_type": "code",
   "execution_count": 4,
   "metadata": {},
   "outputs": [
    {
     "name": "stdout",
     "output_type": "stream",
     "text": [
      "The py_d3 extension is already loaded. To reload it, use:\n",
      "  %reload_ext py_d3\n"
     ]
    }
   ],
   "source": [
    "%load_ext py_d3"
   ]
  },
  {
   "cell_type": "markdown",
   "metadata": {},
   "source": [
    "# Adding Fractions and Mixed Numbers\n",
    "\n",
    "## Adding Fractions with the same Denominator\n",
    "\n",
    "Adding fractions is easy, as long as we are adding fractions with the same denominator.\n",
    "It is just like adding anything else.\n",
    "We all know that two plus three equals five.\n",
    "It is also true that two kilometers plus three kilometers equals five kilometers,\n",
    "and that two teaspoons of sugar plus three teaspoons of sugar equals five teaspoons of sugar.\n",
    "No matter what kind of thing we are adding, two of those things plus three more of those things equals five of those things.\n",
    "\n",
    "\\begin{equation}\n",
    "    \\begin{array}{lclcl}\n",
    "        2                    & + & 3                    & = & 5 \\\\\n",
    "        2 \\text{ km}         & + & 3 \\text{ km}         & = & 5 \\text{ km} \\\\\n",
    "        2 \\text{ tsp. sugar} & + & 3 \\text{ tsp. sugar} & = & 5 \\text{ tsp. sugar} \\\\\n",
    "    \\end{array}\n",
    "\\end{equation}\n",
    "\n",
    "The same idea works for fractions.\n",
    "\n",
    "\\begin{equation}\n",
    "    \\begin{array}{lclcl}\n",
    "        2                & + & 3                & = & 5 \\\\\n",
    "        2 \\text{ thirds} & + & 3 \\text{ thirds} & = & 5 \\text{ thirds} \\\\\n",
    "        2 \\text{ fifths} & + & 3 \\text{ fifths} & = & 5 \\text{ fifths} \\\\\n",
    "    \\end{array}\n",
    "\\end{equation}\n",
    "\n",
    "This gives us a way to add fractions.\n",
    "If we are asked to add\n",
    "\n",
    "\\begin{equation}\n",
    "    \\frac 2 3 + \\frac 3 3,\n",
    "\\end{equation}\n",
    "\n",
    "we can read it as \"2 thirds + 3 thirds\", which, of course, is 5 thirds:\n",
    "\n",
    "\\begin{equation}\n",
    "    \\frac 2 3 + \\frac 3 3 = \\frac 5 3.\n",
    "\\end{equation}\n",
    "\n",
    "The \"rule\" for adding two fractions\n",
    " * Add the two numerators\n",
    " * Keep the denominator\n",
    "\n",
    "\\begin{equation}\n",
    "    \\frac 2 3 + \\frac 3 3 = \\frac {2+3} 3 = \\frac 5 3.\n",
    "\\end{equation}\n",
    "\n",
    "\n"
   ]
  },
  {
   "cell_type": "markdown",
   "metadata": {},
   "source": [
    "## Visually\n",
    "\n",
    "Here is a way to visualize adding fractions.\n",
    "On top is a circle cut into five equal pieces.\n",
    "Four of the pieces are coloured in.\n",
    "This represents four fifths of a circle, or the fraction $\\frac 4 5$.\n",
    "On the bottom is a partially colored circle representing $\\frac 3 5$.\n",
    "See what happens when you press the **Add** button."
   ]
  },
  {
   "cell_type": "code",
   "execution_count": 2,
   "metadata": {},
   "outputs": [
    {
     "data": {
      "text/html": [
       "\n",
       "<script>\n",
       "requirejs.config({\n",
       "    paths: {\n",
       "        d3: \"//cdnjs.cloudflare.com/ajax/libs/d3/4.13.0/d3\"\n",
       "    }\n",
       "});\n",
       "\n",
       "require([\"d3\"], function(d3) {\n",
       "    window.d3 = d3;\n",
       "});\n",
       "</script>\n",
       "<script>\n",
       "_select = d3.select;\n",
       "\n",
       "d3.select0 = function(selection) {\n",
       "    return _select(\"#d3-cell-0\").select(selection);\n",
       "}\n",
       "d3.selectAll0 = function(selection) {\n",
       "    return _select(\"#d3-cell-0\").selectAll(selection);\n",
       "}\n",
       "</script>\n",
       "\n",
       "<g id=\"d3-cell-0\">\n",
       "        \n",
       "<div>\n",
       "    <svg width=960 height=260></svg>\n",
       "</div>\n",
       "\n",
       "<label>\n",
       "    Numerator 1: <input id=\"numer1\" type=\"number\" value=\"4\" onchange=\"update()\"/><br>\n",
       "    Numerator 2: <input id=\"numer2\" type=\"number\" value=\"3\" onchange=\"update()\"/><br>\n",
       "    Denominator: <input id=\"denom\"  type=\"number\" value=\"5\" onchange=\"update()\"/><br>\n",
       "    <input id=\"button\" type=\"button\"/>\n",
       "</label>\n",
       "\n",
       "<script src=\"adding_fractions_files/fractions.js\"></script>\n",
       "<script src=\"adding_fractions_files/same_denominator.js\"></script>\n",
       "\n",
       "<script>\n",
       "\n",
       "var defaultNumer1, defaultDenom1, defaultNumer2, defaultDenom2;\n",
       "\n",
       "function update() {\n",
       "    defaultNumer1 = d3.select0(\"#numer1\").property(\"value\");\n",
       "    defaultNumer2 = d3.select0(\"#numer2\").property(\"value\");\n",
       "    defaultDenom1 = d3.select0(\"#denom\").property(\"value\");\n",
       "    defaultDenom2 = d3.select0(\"#denom\").property(\"value\");\n",
       "    reset();\n",
       "}\n",
       "\n",
       "update();\n",
       "reset();\n",
       "\n",
       "</script>\n",
       "</g>"
      ],
      "text/plain": [
       "<IPython.core.display.HTML object>"
      ]
     },
     "metadata": {},
     "output_type": "display_data"
    }
   ],
   "source": [
    "%%d3\n",
    "\n",
    "<div>\n",
    "    <svg width=960 height=260></svg>\n",
    "</div>\n",
    "\n",
    "<label>\n",
    "    Numerator 1: <input id=\"numer1\" type=\"number\" value=\"4\" onchange=\"update()\"/><br>\n",
    "    Numerator 2: <input id=\"numer2\" type=\"number\" value=\"3\" onchange=\"update()\"/><br>\n",
    "    Denominator: <input id=\"denom\"  type=\"number\" value=\"5\" onchange=\"update()\"/><br>\n",
    "    <input id=\"button\" type=\"button\"/>\n",
    "</label>\n",
    "\n",
    "<script src=\"adding_fractions_files/fractions.js\"></script>\n",
    "<script src=\"adding_fractions_files/same_denominator.js\"></script>\n",
    "\n",
    "<script>\n",
    "\n",
    "var defaultNumer1, defaultDenom1, defaultNumer2, defaultDenom2;\n",
    "\n",
    "function update() {\n",
    "    defaultNumer1 = d3.select(\"#numer1\").property(\"value\");\n",
    "    defaultNumer2 = d3.select(\"#numer2\").property(\"value\");\n",
    "    defaultDenom1 = d3.select(\"#denom\").property(\"value\");\n",
    "    defaultDenom2 = d3.select(\"#denom\").property(\"value\");\n",
    "    reset();\n",
    "}\n",
    "\n",
    "update();\n",
    "reset();\n",
    "\n",
    "</script>"
   ]
  },
  {
   "cell_type": "markdown",
   "metadata": {},
   "source": [
    "## Adding Mixed Numbers\n",
    "\n",
    "Adding mixed numbers is much like adding regular fractions.\n",
    "Just add the whole part and the fraction part separately.\n",
    "\n",
    "$\\newcommand{\\mixed}[3]{{\\Large #1} \\frac{#2}{#3}}$\n",
    "\n",
    "\\begin{equation}\n",
    "    \\mixed 5 4 5 + \\mixed 3 3 5 = \\mixed 8 7 5\n",
    "\\end{equation}\n",
    "\n",
    "Here, we added the 5 and 3 to get 8.\n",
    "Then we added $\\frac 4 5$ and $\\frac 3 5$ to get $\\frac 7 5$.\n",
    "The numerator in the fraction is bigger than the denominator,\n",
    "so we can even rewrite this as\n",
    "\n",
    "\\begin{equation}\n",
    "    \\mixed 5 4 5 + \\mixed 3 3 5 = \\mixed 8 7 5 = \\mixed 9 2 5.\n",
    "\\end{equation}\n"
   ]
  },
  {
   "cell_type": "code",
   "execution_count": 3,
   "metadata": {},
   "outputs": [
    {
     "data": {
      "text/html": [
       "\n",
       "<div id=\"ggb-element\"></div>\n",
       "<script src=\"https://cdn.geogebra.org/apps/deployggb.js\"></script>\n",
       "<script>\n",
       "   var ggbApp = new GGBApplet({\n",
       "       \"width\": 960,\n",
       "       \"height\": 400,\n",
       "       \"showToolBar\": false,\n",
       "       \"showMenuBar\": false,\n",
       "       \"showAlgebraInput\": false,\n",
       "       \"showResetIcon\": true,\n",
       "       \"enableLabelDrags\": false,\n",
       "       \"enableShiftDragZoom\": false,\n",
       "       \"enableRightClick\": false,\n",
       "       \"filename\": \"adding_fractions_files/fractions1.ggb\"\n",
       "   });    ggbApp.inject('ggb-element');\n",
       "</script>"
      ],
      "text/plain": [
       "<IPython.core.display.HTML object>"
      ]
     },
     "metadata": {},
     "output_type": "display_data"
    }
   ],
   "source": [
    "%%html\n",
    "\n",
    "<div id=\"ggb-element\"></div>\n",
    "<script src=\"https://cdn.geogebra.org/apps/deployggb.js\"></script>\n",
    "<script>\n",
    "   var ggbApp = new GGBApplet({\n",
    "       \"width\": 960,\n",
    "       \"height\": 400,\n",
    "       \"showToolBar\": false,\n",
    "       \"showMenuBar\": false,\n",
    "       \"showAlgebraInput\": false,\n",
    "       \"showResetIcon\": true,\n",
    "       \"enableLabelDrags\": false,\n",
    "       \"enableShiftDragZoom\": false,\n",
    "       \"enableRightClick\": false,\n",
    "       \"filename\": \"adding_fractions_files/fractions1.ggb\"\n",
    "   });    ggbApp.inject('ggb-element');\n",
    "</script>"
   ]
  },
  {
   "cell_type": "code",
   "execution_count": null,
   "metadata": {},
   "outputs": [],
   "source": []
  }
 ],
 "metadata": {
  "kernelspec": {
   "display_name": "Python 3",
   "language": "python",
   "name": "python3"
  },
  "language_info": {
   "codemirror_mode": {
    "name": "ipython",
    "version": 3
   },
   "file_extension": ".py",
   "mimetype": "text/x-python",
   "name": "python",
   "nbconvert_exporter": "python",
   "pygments_lexer": "ipython3",
   "version": "3.6.4"
  }
 },
 "nbformat": 4,
 "nbformat_minor": 2
}
