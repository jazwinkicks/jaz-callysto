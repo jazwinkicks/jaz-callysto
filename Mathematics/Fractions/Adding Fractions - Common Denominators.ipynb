{
 "cells": [
  {
   "cell_type": "markdown",
   "metadata": {},
   "source": [
    "<img src=\"images/Callysto_Notebook-Banner_Top_06.06.18.jpg\">"
   ]
  },
  {
   "cell_type": "code",
   "execution_count": 1,
   "metadata": {},
   "outputs": [
    {
     "data": {
      "text/html": [
       "\n",
       "<script>\n",
       "  function code_toggle() {\n",
       "    if (code_shown){\n",
       "      $('div.input').hide('500');\n",
       "      $('#toggleButton').val('Show Code')\n",
       "    } else {\n",
       "      $('div.input').show('500');\n",
       "      $('#toggleButton').val('Hide Code')\n",
       "    }\n",
       "    code_shown = !code_shown\n",
       "  }\n",
       "\n",
       "  $( document ).ready(function(){\n",
       "    code_shown=false;\n",
       "    $('div.input').hide()\n",
       "  });\n",
       "</script>\n",
       "<form action=\"javascript:code_toggle()\"><input type=\"submit\" id=\"toggleButton\" value=\"Show Code\"></form>"
      ],
      "text/plain": [
       "<IPython.core.display.HTML object>"
      ]
     },
     "metadata": {},
     "output_type": "display_data"
    }
   ],
   "source": [
    "%%html\n",
    "\n",
    "<script>\n",
    "  function code_toggle() {\n",
    "    if (code_shown){\n",
    "      $('div.input').hide('500');\n",
    "      $('#toggleButton').val('Show Code')\n",
    "    } else {\n",
    "      $('div.input').show('500');\n",
    "      $('#toggleButton').val('Hide Code')\n",
    "    }\n",
    "    code_shown = !code_shown\n",
    "  }\n",
    "\n",
    "  $( document ).ready(function(){\n",
    "    code_shown=false;\n",
    "    $('div.input').hide()\n",
    "  });\n",
    "</script>\n",
    "<form action=\"javascript:code_toggle()\"><input type=\"submit\" id=\"toggleButton\" value=\"Show Code\"></form>"
   ]
  },
  {
   "cell_type": "code",
   "execution_count": 2,
   "metadata": {},
   "outputs": [
    {
     "data": {
      "application/javascript": [
       "\n",
       "            require.config({\n",
       "                paths: {\n",
       "                    ggb: \"https://cdn.geogebra.org/apps/deployggb\"\n",
       "                }\n",
       "            });\n",
       "\n",
       "            require([\"ggb\"]);\n",
       "        "
      ],
      "text/plain": [
       "<IPython.core.display.Javascript object>"
      ]
     },
     "metadata": {},
     "output_type": "display_data"
    }
   ],
   "source": [
    "from ggb import *\n",
    "\n",
    "ggb = GGB()"
   ]
  },
  {
   "cell_type": "markdown",
   "metadata": {},
   "source": [
    "# Adding Fractions - Common Denominators"
   ]
  },
  {
   "cell_type": "markdown",
   "metadata": {},
   "source": [
    "## Common Denominators\n",
    "\n",
    "Previously, we learned how to add fractions when they have the same denominator,\n",
    "like $\\frac 2 5 + \\frac 3 5$.\n",
    "All we had to do was add the numerators.\n",
    "This was easy because we were adding the same kind of \"things\".\n",
    "Adding 2 fifths + 3 fifths is no different from adding 2 kilometers + 3 kilometers,\n",
    "or 2 teaspoons + 3 teaspoons.\n",
    "\n",
    "What do we do when the denominators are different?\n",
    "What is $\\frac 1 2 + \\frac 1 4$?\n",
    "Now we are adding different kinds of \"things\": halves and quarters.\n",
    "We cannot add these unless we do some sort of conversion.\n",
    "\n",
    "Adding halves and quarters is a lot like adding meters and kilometers.\n",
    "What if you were asked to add one meter and one kilometer?\n",
    "One plus one is two, but one meter plus one kilometer is neither two kilometers nor two meters.\n",
    "If we want to add 1 meter + 1 kilometer, we have to do a conversion.\n",
    "We turn 1 kilometer into 1000 meters.\n",
    "Then we can add\n",
    "\n",
    "\\begin{align*}\n",
    "    1 \\text{ m} + 1 \\text{ km} &= 1 \\text{ m} + 1000 \\text{ m} \\\\ &= 1001 \\text{ m}.\n",
    "\\end{align*}\n",
    "\n",
    "We have to do a conversion when adding fractions with different denominators.\n",
    "We have to change the fractions so that they both have the same denominator.\n",
    "That way we are adding two of the same type of \"thing\".\n",
    "In the case of $\\frac 1 2 + \\frac 1 4$, we can convert $\\frac 1 2$ into $\\frac 2 4$.\n",
    "\n",
    "\\begin{align*}\n",
    "    \\frac 1 2 + \\frac 1 4 = \\frac 2 4 + \\frac 1 4 = \\frac 3 4.\n",
    "\\end{align*}\n",
    "\n",
    "This is called putting the fractions over a **common denominator**.\n",
    "In this notebook, we will learn how to do these conversions."
   ]
  },
  {
   "cell_type": "markdown",
   "metadata": {},
   "source": [
    "## Equivalent Fractions\n",
    "\n",
    "Here is a list of fractions.\n",
    "They all look different from one another,\n",
    "but they are all equal to each other.\n",
    "    $$\\frac 1 3 = \\frac 2 6 = \\frac 3 9 = \\frac 4 {12} = \\frac 5 {15} = \\frac 6 {18}.$$\n",
    "Actually, we can keep making this list longer if we want to.\n",
    "There are infinitely many fractions equal to $\\frac 1 3$.\n",
    "\n",
    "Why are they all equal to each other?\n",
    "Here is one way to think about it.\n",
    "If you want to share a cake equally with three people, you can\n",
    "\n",
    " * Cut the cake into 3 pieces and give everyone 1 piece (everyone gets $\\frac 1 3$ of the cake).\n",
    " * Cut the cake into 6 pieces and give everyone 2 pieces (everyone gets $\\frac 2 6$ of the cake).\n",
    " * Cut the cake into 9 pieces and give everyone 3 pieces (everyone gets $\\frac 3 9$ of the cake).\n",
    " * Cut the cake into 12 pieces and give everyone 4 pieces (everyone gets $\\frac 4 {12}$ of the cake).\n",
    " * Cut the cake into 15 pieces and give everyone 5 pieces (everyone gets $\\frac 5 {15}$ of the cake).\n",
    " * Cut the cake into 18 pieces and give everyone 6 pieces (everyone gets $\\frac 6 {18}$ of the cake).\n",
    "\n",
    "And so on.\n",
    "In all of these situations, everyone gets the same fraction of the cake."
   ]
  },
  {
   "cell_type": "code",
   "execution_count": 16,
   "metadata": {},
   "outputs": [
    {
     "data": {
      "text/html": [
       "\n",
       "<div id=\"div_equivalent_fractions\">\n",
       "    <svg id=\"svg_equivalent_fractions\" width=960 height=160></svg>\n",
       "</div>\n",
       "\n",
       "<script src=\"http://d3js.org/d3.v3.min.js\" charset=\"utf-8\"></script>\n",
       "<script src=\"javascript/fractions.js\"></script>\n",
       "\n",
       "<script>\n",
       "\n",
       "for (var i = 1; i <= 6; i++) {\n",
       "    var f = fraction(1 * i, 3 * i, i * 110 - 30, 80);\n",
       "    var svgx = d3.select(\"#svg_equivalent_fractions\");\n",
       "    svgx.append(\"path\")\n",
       "        .attr(\"d\", f.filledPath())\n",
       "        .attr(\"stroke\", \"#000000\")\n",
       "        .attr(\"fill\", f.fillColor);\n",
       "    svgx.append(\"path\")\n",
       "        .attr(\"d\", f.emptyPath())\n",
       "        .attr(\"stroke\", \"#000000\")\n",
       "        .attr(\"fill\", f.emptyColor);\n",
       "}\n",
       "\n",
       "</script>"
      ],
      "text/plain": [
       "<IPython.core.display.HTML object>"
      ]
     },
     "metadata": {},
     "output_type": "display_data"
    }
   ],
   "source": [
    "%%html\n",
    "\n",
    "<div id=\"div_equivalent_fractions\">\n",
    "    <svg id=\"svg_equivalent_fractions\" width=960 height=160></svg>\n",
    "</div>\n",
    "\n",
    "<script src=\"http://d3js.org/d3.v3.min.js\" charset=\"utf-8\"></script>\n",
    "<script src=\"javascript/fractions.js\"></script>\n",
    "\n",
    "<script>\n",
    "\n",
    "for (var i = 1; i <= 6; i++) {\n",
    "    var f = fraction(1 * i, 3 * i, i * 110 - 30, 80);\n",
    "    var svgx = d3.select(\"#svg_equivalent_fractions\");\n",
    "    svgx.append(\"path\")\n",
    "        .attr(\"d\", f.filledPath())\n",
    "        .attr(\"stroke\", \"#000000\")\n",
    "        .attr(\"fill\", f.fillColor);\n",
    "    svgx.append(\"path\")\n",
    "        .attr(\"d\", f.emptyPath())\n",
    "        .attr(\"stroke\", \"#000000\")\n",
    "        .attr(\"fill\", f.emptyColor);\n",
    "}\n",
    "\n",
    "</script>"
   ]
  },
  {
   "cell_type": "markdown",
   "metadata": {},
   "source": [
    "### Converting Fractions\n",
    "\n",
    "If we are given a fraction, we can always find another fraction equal to it by using this rule:\n",
    "\n",
    " * If we multiply the top and bottom of a fraction by the same number (except 0),\n",
    "   the new fraction is equal to the original fraction.\n",
    "\n",
    "So for example, if we start with $\\frac 1 3$ and multiply the top and bottom of by 2, we get $\\frac 2 6$.\n",
    "According to our rule, $\\frac 2 6$ must be equal to $\\frac 1 3$.\n",
    "\n",
    "\\begin{equation*}\n",
    "    \\frac 1 3 = \\frac {1 \\times 2} {3 \\times 2} = \\frac 2 6\n",
    "\\end{equation*}\n",
    "\n",
    "Here is another example.\n",
    "If we start with $\\frac 3 7$ and multiply the top and bottom by 3, we get\n",
    "\n",
    "\\begin{equation*}\n",
    "    \\frac 3 7 = \\frac {3 \\times 3} {7 \\times 3} = \\frac 9 {21}.\n",
    "\\end{equation*}\n",
    "\n",
    "So $\\frac 3 7$ is equal to $\\frac 9 {21}$."
   ]
  },
  {
   "cell_type": "markdown",
   "metadata": {},
   "source": [
    "### How to Tell if Two Fractions Are Equal\n",
    "\n",
    "In the last section, we learned how to convert fractions.\n",
    "This lets us start with one fraction, and produce a different fraction equal to it.\n",
    "While we are at it, let's do something similar.\n",
    "If we have two fractions, how can we tell if they are equal?\n",
    "This is easy to do using **cross-multiplication**.\n",
    "\n",
    "To tell if two fractions are equal:\n",
    "\n",
    " * Multiply the first fraction's numerator by the second fraction's denominator.\n",
    " * Multiply the first fraction's denominator by the second fraction's numerator.\n",
    "\n",
    "If these two multiplications give you the same product,\n",
    "then the two fractions are equal.\n",
    "\n",
    "Let's use cross-multiplication to see if $\\frac 3 {15}$ and $\\frac 1 5$ are equal."
   ]
  },
  {
   "cell_type": "markdown",
   "metadata": {},
   "source": [
    "<img src=\"images/drawing1.svg\">"
   ]
  },
  {
   "cell_type": "markdown",
   "metadata": {},
   "source": [
    "Both multiplications gave us the same number, 15, so the fractions are equal.\n",
    "\n",
    "Now let's see if $\\frac 7 {12}$ and $\\frac 5 8$ are equal."
   ]
  },
  {
   "cell_type": "markdown",
   "metadata": {},
   "source": [
    "<img src=\"images/drawing2.svg\">"
   ]
  },
  {
   "cell_type": "markdown",
   "metadata": {},
   "source": [
    "These two multiplications gave us different numbers, 56 and 60, so the fractions are *not* equal."
   ]
  },
  {
   "cell_type": "markdown",
   "metadata": {},
   "source": [
    "### Practice"
   ]
  },
  {
   "cell_type": "code",
   "execution_count": 4,
   "metadata": {},
   "outputs": [
    {
     "data": {
      "text/html": [
       "<div id=\"ggb_0_0e\"></div>"
      ],
      "text/plain": [
       "<IPython.core.display.HTML object>"
      ]
     },
     "metadata": {},
     "output_type": "display_data"
    },
    {
     "data": {
      "application/javascript": [
       "var ggb_0_0e = new GGBApplet({\"filename\": \"geogebra/fractions-game2a.ggb\", \"width\": 400, \"height\": 400, \"showAlgebraInput\": false, \"enableLabelDrags\": false, \"enableShiftDragZoom\": false, \"showResetIcon\": true, \"useBrowserForJS\": false, \"showToolBar\": false, \"showMenuBar\": false}, \"ggb_0_0e\", false); ggb_0_0e.inject(); "
      ],
      "text/plain": [
       "<IPython.core.display.Javascript object>"
      ]
     },
     "metadata": {},
     "output_type": "display_data"
    }
   ],
   "source": [
    "ggb.file(\"geogebra/fractions-game2a.ggb\") \\\n",
    "    .options(width = 400, \\\n",
    "            height = 400, \\\n",
    "            showAlgebraInput = False, \\\n",
    "            enableLabelDrags = False, \\\n",
    "            enableShiftDragZoom = False, \\\n",
    "            showResetIcon = True, \\\n",
    "            useBrowserForJS = False, \\\n",
    "            showToolBar = False, \\\n",
    "            showMenuBar = False) \\\n",
    "    .draw()"
   ]
  },
  {
   "cell_type": "markdown",
   "metadata": {},
   "source": [
    "### When one Denominator is a Multiple of the Other\n",
    "\n",
    "Now we know how to convert fractions.\n",
    "The next problem is to know what to convert to.\n",
    "Knowing your multiplication table will help a lot with this.\n",
    "\n",
    " * Convert the fraction with the smaller denominator so that both fractions have the same denominator.\n",
    " * Add the fractions.\n",
    "\n",
    "Suppose we want to add $\\frac 2 3 + \\frac 5 {12}$.\n",
    "The fraction with the smallest denominator is $\\frac 2 3$.\n",
    "We have to convert it into a fraction over 12.\n",
    "We can do this by multiplying the top and bottom of $\\frac 2 3$ by 4.\n",
    "Then we add.\n",
    "\n",
    "\\begin{align*}\n",
    "    \\frac 2 3 + \\frac 5 {12}\n",
    "        &= \\frac {2 \\times 4} {3 \\times 4} + \\frac 5 {12} \\\\\n",
    "        &= \\frac 8 {12} + \\frac 5 {12} \\\\\n",
    "        &= \\frac {13} {12}.\n",
    "\\end{align*}\n",
    "\n",
    "Here is a harder example.\n",
    "What if we want to add $\\frac 1 6 + \\frac 5 {42}$?\n",
    "We can solve this problem because 42 is a multiple of 6.\n",
    "If you have forgotten what to multiply 6 by to get 42,\n",
    "you can divide 42 by 6 to find out.\n",
    "Since 42 divided by 6 is 7, that means 6 times 7 is 42.\n",
    "So if we multiply the top and bottom of $\\frac 1 6$ by 7,\n",
    "the resulting fraction will be equal to $\\frac 1 6$ but its denominator will be 42.\n",
    "\n",
    "\\begin{align*}\n",
    "    \\frac 1 6 + \\frac 5 {42}\n",
    "        &= \\frac {1 \\times 7} {6 \\times 7} + \\frac 5 {42} \\\\\n",
    "        &= \\frac 7 {42} + \\frac 5 {42} \\\\\n",
    "        &= \\frac {12} {42}\n",
    "\\end{align*}\n"
   ]
  },
  {
   "cell_type": "markdown",
   "metadata": {},
   "source": [
    "### Mixed Numbers\n",
    "\n",
    "$\\newcommand{\\mixed}[3]{{\\large #1} \\frac{#2}{#3}}$\n",
    "$\\newcommand{\\Mixed}[3]{{\\Large #1} \\frac{#2}{#3}}$\n",
    "\n",
    "We can use the same idea to add mixed numbers whose denominators are different,\n",
    "but where one denominator is a multiple of the other.\n",
    "We just have to convert one of the fractions so that they both have the same denominator.\n",
    "\n",
    "For example, let's try to add $\\mixed 1 1 5 + \\mixed 2 3 {10}$.\n",
    "We can convert $\\frac 1 5$ into a fraction over 10 by multiplying the top and bottom by two.\n",
    "In other words, we can convert $\\frac 1 5$ to $\\frac 2 {10}$.\n",
    "After converting, we can add the mixed numbers.\n",
    "\n",
    "\\begin{equation*}\n",
    "    \\Mixed 1 1 5 + \\Mixed 2 3 {10} = \\Mixed 1 2 {10} + \\Mixed 2 3 {10} = \\Mixed 3 5 {10}\n",
    "\\end{equation*}\n",
    "\n",
    "Notice that we converted the fraction, but we did not modify the whole number at all!"
   ]
  },
  {
   "cell_type": "markdown",
   "metadata": {},
   "source": [
    "### Visually\n",
    "\n",
    "Here is a animation to visualize adding fractions.\n",
    "Press the **Convert** button to convert one fraction so that they both have the same denominator.\n",
    "Then press the **Add** button to see the fractions added together.\n",
    "\n",
    "See how when you press **Convert**, every piece of the top circle is cut into smaller pieces.\n",
    "This is what it looks like when you multiply the top and bottom of a fraction by the same number.\n",
    "If we multiply the denominator by 4, it is like cutting every piece of the circle into 4 smaller pieces.\n",
    "If we multiply the numerator by 4, we are multiplying the number of pieces by 4.\n",
    "If we do both of these things, they balance out.\n",
    "We have 4 times as many pieces of the circle, but each piece is one quarter of its original size,\n",
    "so we have the same proportion of the circle coloured in."
   ]
  },
  {
   "cell_type": "code",
   "execution_count": 19,
   "metadata": {},
   "outputs": [
    {
     "data": {
      "text/html": [
       "\n",
       "<div id=\"div_interactive_add\">\n",
       "    <svg id=\"svg_interactive_add\" width=960 height=260></svg>\n",
       "</div>\n",
       "\n",
       "<label>\n",
       "    Numerator 1: <input id=\"numer1\" type=\"range\" value=\"2\" min=\"0\" max=\"100\" step=\"1\" onchange=\"update()\"/><br>\n",
       "    Numerator 2: <input id=\"numer2\" type=\"range\" value=\"5\" min=\"0\" max=\"100\" step=\"1\" onchange=\"update()\"/><br>\n",
       "    Denominator: <input id=\"denom\"  type=\"range\" value=\"3\" min=\"1\" max=\"20\"  step=\"1\" onchange=\"update()\"/><br>\n",
       "    Multiple:    <input id=\"factor\" type=\"range\" value=\"4\" min=\"1\" max=\"5\"   step=\"1\" onchange=\"update()\"/><br>\n",
       "    <input id=\"button\" type=\"button\"/>\n",
       "</label>\n",
       "\n",
       "<script src=\"http://d3js.org/d3.v3.min.js\" charset=\"utf-8\"></script>\n",
       "<script src=\"javascript/fractions.js\"></script>\n",
       "<script src=\"javascript/common_denominator.js\"></script>\n",
       "\n",
       "<script>\n",
       "\n",
       "var defaultNumer1, defaultDenom1, defaultNumer2, defaultDenom2;\n",
       "\n",
       "function update() {\n",
       "    defaultNumer1 = Number(d3.select(\"#numer1\").property(\"value\"));\n",
       "    defaultNumer2 = Number(d3.select(\"#numer2\").property(\"value\"));\n",
       "    defaultDenom1 = Number(d3.select(\"#denom\").property(\"value\"));\n",
       "    defaultDenom2 = Number(d3.select(\"#factor\").property(\"value\")) * defaultDenom1;\n",
       "    reset();\n",
       "}\n",
       "\n",
       "update();\n",
       "reset();\n",
       "\n",
       "</script>"
      ],
      "text/plain": [
       "<IPython.core.display.HTML object>"
      ]
     },
     "metadata": {},
     "output_type": "display_data"
    }
   ],
   "source": [
    "%%html\n",
    "\n",
    "<div id=\"div_interactive_add\">\n",
    "    <svg id=\"svg_interactive_add\" width=960 height=260></svg>\n",
    "</div>\n",
    "\n",
    "<label>\n",
    "    Numerator 1: <input id=\"numer1\" type=\"range\" value=\"2\" min=\"0\" max=\"100\" step=\"1\" onchange=\"update()\"/><br>\n",
    "    Numerator 2: <input id=\"numer2\" type=\"range\" value=\"5\" min=\"0\" max=\"100\" step=\"1\" onchange=\"update()\"/><br>\n",
    "    Denominator: <input id=\"denom\"  type=\"range\" value=\"3\" min=\"1\" max=\"20\"  step=\"1\" onchange=\"update()\"/><br>\n",
    "    Multiple:    <input id=\"factor\" type=\"range\" value=\"4\" min=\"1\" max=\"5\"   step=\"1\" onchange=\"update()\"/><br>\n",
    "    <input id=\"button\" type=\"button\"/>\n",
    "</label>\n",
    "\n",
    "<script src=\"http://d3js.org/d3.v3.min.js\" charset=\"utf-8\"></script>\n",
    "<script src=\"javascript/fractions.js\"></script>\n",
    "<script src=\"javascript/common_denominator.js\"></script>\n",
    "\n",
    "<script>\n",
    "\n",
    "var defaultNumer1, defaultDenom1, defaultNumer2, defaultDenom2;\n",
    "\n",
    "function update() {\n",
    "    defaultNumer1 = Number(d3.select(\"#numer1\").property(\"value\"));\n",
    "    defaultNumer2 = Number(d3.select(\"#numer2\").property(\"value\"));\n",
    "    defaultDenom1 = Number(d3.select(\"#denom\").property(\"value\"));\n",
    "    defaultDenom2 = Number(d3.select(\"#factor\").property(\"value\")) * defaultDenom1;\n",
    "    reset();\n",
    "}\n",
    "\n",
    "update();\n",
    "reset();\n",
    "\n",
    "</script>"
   ]
  },
  {
   "cell_type": "markdown",
   "metadata": {},
   "source": [
    "### Practice"
   ]
  },
  {
   "cell_type": "code",
   "execution_count": 6,
   "metadata": {},
   "outputs": [
    {
     "data": {
      "text/html": [
       "<div id=\"ggb_1_0e\"></div>"
      ],
      "text/plain": [
       "<IPython.core.display.HTML object>"
      ]
     },
     "metadata": {},
     "output_type": "display_data"
    },
    {
     "data": {
      "application/javascript": [
       "var ggb_1_0e = new GGBApplet({\"filename\": \"geogebra/fractions-game2.ggb\", \"width\": 400, \"height\": 400, \"showAlgebraInput\": false, \"enableLabelDrags\": false, \"enableShiftDragZoom\": false, \"showResetIcon\": true, \"useBrowserForJS\": false, \"showToolBar\": false, \"showMenuBar\": false}, \"ggb_1_0e\", false); ggb_1_0e.inject(); "
      ],
      "text/plain": [
       "<IPython.core.display.Javascript object>"
      ]
     },
     "metadata": {},
     "output_type": "display_data"
    }
   ],
   "source": [
    "ggb.file(\"geogebra/fractions-game2.ggb\") \\\n",
    "    .options(width = 400, \\\n",
    "            height = 400, \\\n",
    "            showAlgebraInput = False, \\\n",
    "            enableLabelDrags = False, \\\n",
    "            enableShiftDragZoom = False, \\\n",
    "            showResetIcon = True, \\\n",
    "            useBrowserForJS = False, \\\n",
    "            showToolBar = False, \\\n",
    "            showMenuBar = False) \\\n",
    "    .draw()"
   ]
  },
  {
   "cell_type": "markdown",
   "metadata": {},
   "source": [
    "<img src=\"images/Callysto_Notebook-Banners_Bottom_06.06.18.jpg\">"
   ]
  }
 ],
 "metadata": {
  "kernelspec": {
   "display_name": "Python 3",
   "language": "python",
   "name": "python3"
  },
  "language_info": {
   "codemirror_mode": {
    "name": "ipython",
    "version": 3
   },
   "file_extension": ".py",
   "mimetype": "text/x-python",
   "name": "python",
   "nbconvert_exporter": "python",
   "pygments_lexer": "ipython3",
   "version": "3.6.4"
  }
 },
 "nbformat": 4,
 "nbformat_minor": 2
}
