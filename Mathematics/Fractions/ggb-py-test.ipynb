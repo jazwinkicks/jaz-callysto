{
 "cells": [
  {
   "cell_type": "code",
   "execution_count": 3,
   "metadata": {},
   "outputs": [
    {
     "data": {
      "application/javascript": [
       "\n",
       "            require.config({\n",
       "                paths: {\n",
       "                    ggb: \"https://cdn.geogebra.org/apps/deployggb\"\n",
       "                }\n",
       "            });\n",
       "\n",
       "            require([\"ggb\"]);\n",
       "        "
      ],
      "text/plain": [
       "<IPython.core.display.Javascript object>"
      ]
     },
     "metadata": {},
     "output_type": "display_data"
    },
    {
     "data": {
      "text/html": [
       "<div id=\"ggb_0_0e\"></div>"
      ],
      "text/plain": [
       "<IPython.core.display.HTML object>"
      ]
     },
     "metadata": {},
     "output_type": "display_data"
    },
    {
     "data": {
      "application/javascript": [
       "var ggb_0_0e = new GGBApplet({\"filename\" : \"adding_fractions_files/fractions1.ggb\", \"width\" : 960, \"height\" : 400, \"showAlgebraInput\" : false, \"enableLabelDrags\" : false, \"enableShiftDragZoom\" : false, \"showResetIcon\" : true, \"useBrowserForJS\" : false, \"showToolBar\" : false, \"showMenuBar\" : false}, \"ggb_0_0e\", true); ggb_0_0e.inject(); "
      ],
      "text/plain": [
       "<IPython.core.display.Javascript object>"
      ]
     },
     "metadata": {},
     "output_type": "display_data"
    }
   ],
   "source": [
    "from ggb import *\n",
    "\n",
    "ggb = GGB()\n",
    "ggb.file(\"adding_fractions_files/fractions1.ggb\") \\\n",
    "    .options(width = 960, \\\n",
    "            height = 400, \\\n",
    "            showAlgebraInput = False, \\\n",
    "            enableLabelDrags = False, \\\n",
    "            enableShiftDragZoom = False, \\\n",
    "            showResetIcon = True, \\\n",
    "            useBrowserForJS = False, \\\n",
    "            showToolBar = False, \\\n",
    "            showMenuBar = False) \\\n",
    "    .draw()\n"
   ]
  },
  {
   "cell_type": "code",
   "execution_count": null,
   "metadata": {},
   "outputs": [],
   "source": []
  }
 ],
 "metadata": {
  "kernelspec": {
   "display_name": "Python 3",
   "language": "python",
   "name": "python3"
  },
  "language_info": {
   "codemirror_mode": {
    "name": "ipython",
    "version": 3
   },
   "file_extension": ".py",
   "mimetype": "text/x-python",
   "name": "python",
   "nbconvert_exporter": "python",
   "pygments_lexer": "ipython3",
   "version": "3.6.4"
  }
 },
 "nbformat": 4,
 "nbformat_minor": 2
}
