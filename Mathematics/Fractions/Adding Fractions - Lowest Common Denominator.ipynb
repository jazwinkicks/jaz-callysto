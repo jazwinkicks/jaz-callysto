{
 "cells": [
  {
   "cell_type": "code",
   "execution_count": 1,
   "metadata": {},
   "outputs": [],
   "source": [
    "%load_ext py_d3"
   ]
  },
  {
   "cell_type": "markdown",
   "metadata": {},
   "source": [
    "# Adding Fractions - Lowest Common Denominator\n",
    "\n",
    "## When Denominators are not Multiples of One Another\n",
    "\n",
    "Now what do we do when we are asked to add two fractions,\n",
    "but neither denominator is a multiple of the other?\n",
    "The simplest example of this is adding $\\frac 1 2 + \\frac 1 3$.\n",
    "3 is not a multiple of 2, nor is 2 a multiple of 3.\n",
    "We cannot rewrite 1/2 as something over 3,\n",
    "nor can we rewrite 1/3 as something over 2.\n",
    "(Actually, it is possible, but the numerator will not be a whole number!)\n",
    "Instead, we have to rewrite both fractions!\n",
    "\n",
    "One easy way to do this is to multiply the top and bottom of each fraction by the denominator of the other.\n",
    "For example, we are trying to add $\\frac 1 2 + \\frac 1 3$.\n",
    "So we multiply the top and bottom of $\\frac 1 2$ by 3, the denominator of $\\frac 1 3$.\n",
    "Then we multiply the top and bottom of $\\frac 1 3$ by 2, the denominator of $\\frac 1 2$.\n",
    "If we do that, then both fractions will have the same denominator, 6, so we can add them:\n",
    "$$ \\frac 1 2 + \\frac 1 3 = \\frac {1 \\times 3} {2 \\times 3} + \\frac {1 \\times 2} {3 \\times 2} = \\frac 3 6 + \\frac 2 6 = \\frac 5 6. $$\n",
    "\n",
    "This works no matter what the denominators are.\n",
    "Here is another example.\n",
    "Let's add $\\frac 3 4 + \\frac 5 6$.\n",
    "We multiply the top and bottom of each fraction by the bottom of the other fraction.\n",
    "So we multiply the top and bottom of $\\frac 3 4$ by 6 and the top and bottom of $\\frac 5 6$ by 4.\n",
    "$$ \\frac 3 4 + \\frac 5 6 = \\frac {3 \\times 6} {4 \\times 6} + \\frac {5 \\times 4} {6 \\times 4} = \\frac {18} {24} + \\frac {20} {24} = \\frac {38} {24}.$$ "
   ]
  },
  {
   "cell_type": "markdown",
   "metadata": {},
   "source": [
    "## Lowest Common Denominator\n",
    "\n",
    "Here is another way to add two fractions with different denominators:\n",
    " * Multiply the top and bottom of the first fraction by 2, then by 3, and so on to get a list of fractions equal to it.\n",
    " * Do the same thing for the second fraction.\n",
    " * See if there is a fraction in each list with the same denominator.\n",
    "Suppose we want to add $\\frac 3 4 + \\frac 5 6$ by following this process.\n",
    "We multiply the top and bottom of $\\frac 3 4$ by 2, then 3, and so on to get a list of fractions equal to $\\frac 3 4$.\n",
    "So $\\frac 3 4$ is equal to\n",
    "  $$ \\frac 3 4 = \\frac 6 8 = \\frac 9 {12} = \\frac {12} {16} = \\frac {15} {20} = \\frac {18} {24} = ...$$\n",
    "We do the same thing for $\\frac 5 6$.\n",
    "  $$ \\frac 5 6 = \\frac {10} {12} = \\frac {15} {18} = \\frac {20} {24} = \\frac {25} {30} = \\frac {30} {36} = ... $$\n",
    "Both of these lists have a fraction whose denominator is 24 -- \n",
    "$\\frac 3 4 = \\frac {18} {24}$ and $\\frac 5 6 = \\frac {20} {24}$. So\n",
    "  $$ \\frac 3 4 + \\frac 5 6 = \\frac {18} {24} + \\frac {20} {24} = \\frac {38} {24}. $$\n",
    "This is the same result as in the example from the previous section.\n",
    "\n",
    "You might also have noticed that both of the lists have a fraction whose denominator is 12 --\n",
    "$\\frac 3 4 = \\frac 9 {12}$ and $\\frac 5 6 = \\frac {10} {12}$.\n",
    "So we could also write\n",
    "  $$ \\frac 3 4 + \\frac 5 6 = \\frac 9 {12} + \\frac {10} {12} = \\frac {19} {12}. $$\n",
    "We got two different answers, $\\frac {19} {12}$ and $\\frac {38} {24}$, but they are equal to each other because\n",
    "  $$ \\frac {19} {12} = \\frac {19 \\times 2} {12 \\times 2} = \\frac {38} {24}. $$\n",
    "\n",
    "If we made out two lists even longer,\n",
    "then we would find that both lists have fractions with denominators 36, 48, 60, and so on.\n",
    "If we could make the lists big enough, there would be infinitely many different ways we could put them over a common denominator.\n",
    "But one of them is smaller than all the others.\n",
    "This one is called the **lowest common denominator**.\n",
    "In the last example, it was 12.\n",
    "\n",
    "Here is another example, adding $\\frac 1 2 + \\frac 1 3$ with this method.\n",
    "We write down a list of fractions equal to $\\frac 1 2$,\n",
    "    $$ \\frac 1 2 = \\frac 2 4 = \\frac 3 6 = \\frac 4 8 = \\frac 5 {10} = \\frac 6 {12} = \\frac 7 {14} = \\frac 8 {16} = \\frac 9 {18} = ... $$\n",
    "and a list of fractions equal to $\\frac 1 3$,\n",
    "    $$ \\frac 1 3 = \\frac 2 6 = \\frac 3 9 = \\frac 4 {12} = \\frac 5 {15} = \\frac 6 {18} = \\frac 7 {21} = \\frac 8 {24} = \\frac 9 {27} = ...$$\n",
    "There are three common denominators in these lists.\n",
    "We could write $\\frac 1 2$ and $\\frac 1 3$ as fractions over 6, 12, or 18.\n",
    "6 is the smallest possible, so 6 is the lowest common denominator.\n",
    "Now we add $\\frac 1 2 + \\frac 1 3$.\n",
    "    $$ \\frac 1 2 + \\frac 1 3 = \\frac 3 6 + \\frac 2 6 = \\frac 5 6. $$\n"
   ]
  },
  {
   "cell_type": "code",
   "execution_count": null,
   "metadata": {},
   "outputs": [],
   "source": []
  }
 ],
 "metadata": {
  "kernelspec": {
   "display_name": "Python 3",
   "language": "python",
   "name": "python3"
  },
  "language_info": {
   "codemirror_mode": {
    "name": "ipython",
    "version": 3
   },
   "file_extension": ".py",
   "mimetype": "text/x-python",
   "name": "python",
   "nbconvert_exporter": "python",
   "pygments_lexer": "ipython3",
   "version": "3.6.4"
  }
 },
 "nbformat": 4,
 "nbformat_minor": 2
}
