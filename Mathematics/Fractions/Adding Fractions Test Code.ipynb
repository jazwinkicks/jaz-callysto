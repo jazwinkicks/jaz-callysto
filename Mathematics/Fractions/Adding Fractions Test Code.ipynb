{
 "cells": [
  {
   "cell_type": "markdown",
   "metadata": {},
   "source": [
    "Want to be able to\n",
    "* Draw a circle, divided into wedges\n",
    "* Color each wedge separately\n",
    "* Make a grid of circles\n",
    "* Place \"+\" and \"=\" anywhere in the drawing\n",
    "* Label circles above with fractions\n",
    "* Draw a fraction\n",
    "* Compare two fractions\n",
    "* Add two fractions"
   ]
  },
  {
   "cell_type": "code",
   "execution_count": 1,
   "metadata": {},
   "outputs": [],
   "source": [
    "#%matplotlib inline\n",
    "import matplotlib\n",
    "import numpy as np\n",
    "import matplotlib.pyplot as plt\n",
    "from matplotlib.gridspec import GridSpec\n",
    "#import parser\n",
    "#import random\n",
    "from math import ceil\n",
    "from ipywidgets import fixed, interact, interact_manual\n",
    "import ipywidgets as widgets\n",
    "\n",
    "\n",
    "\n",
    "def draw_circle(ax, a, b, empty_col = \"white\", fill_col = \"red\", edge_col = \"black\") :\n",
    "    if (a < 0 or a > b or b <= 0) :\n",
    "        return\n",
    "    \n",
    "    x = [1 for t in range(b)]\n",
    "    colors = [fill_col for t in range(a)] + [empty_col for t in range(b-a)]\n",
    "    ax.pie(x, colors=colors, wedgeprops={'edgecolor':edge_col})\n",
    "    return\n",
    "\n",
    "# Draws a visualization of the fraction a/b as a circle cut into b equally sized wedges, with a of them colored in.\n",
    "# Fraction should be between 0 and 1, inclusive (0 <= a <= b)\n",
    "def draw_fraction(a, b, empty_col = \"white\", fill_col = \"red\", edge_col = \"black\") :\n",
    "    if (b <= 0) :\n",
    "        return\n",
    "    if (a < 0) :\n",
    "        return\n",
    "\n",
    "    n_circles = 1 if a == 0 else ceil(a/b)#(a // b) + 1\n",
    "    grid = GridSpec(1, n_circles)\n",
    "    x = [1 for z in range(b)]\n",
    "    for i in range(n_circles - 1) :\n",
    "        colors = [fill_col for z in range(b)]\n",
    "        plt.subplot(grid[0,i], aspect = 1)\n",
    "        plt.pie(x, colors=colors, wedgeprops={'edgecolor':edge_col})\n",
    "        a = a - b\n",
    "\n",
    "    colors = [fill_col for z in range(a)] + [empty_col for z in range(b-a)]\n",
    "    plt.subplot(grid[0, n_circles - 1], aspect = 1)\n",
    "    plt.pie(x, colors=colors, wedgeprops={'edgecolor':edge_col})\n",
    "\n",
    "\n",
    "\n",
    "# Draws a visualization of the fractions a/b and (na)/(nb).\n",
    "def compare_fraction(a, b, n = 1) :\n",
    "    if (b <= 0) :\n",
    "        return\n",
    "    if (a < 0) :\n",
    "        return\n",
    "    if (n <= 0) :\n",
    "        return\n",
    "    \n",
    "    empty_col = \"white\"\n",
    "    fill_col = \"red\"\n",
    "    edge_col = \"black\"\n",
    "\n",
    "#    plt.rc('text', usetex=True)\n",
    "    n_circles = 1 if a == 0 else ceil(a/b)#(a // b) + 1\n",
    "    #x  = [1 for z in range(b)]\n",
    "    #nx = [1 for z in range(n*b)]\n",
    "    fig, axes = plt.subplots(2, n_circles, squeeze=False)\n",
    "    for i in range(n_circles - 1) :\n",
    "        #colors  = [fill_col for z in range(b)]\n",
    "        #ncolors = [fill_col for z in range(n*b)]\n",
    "        #axes[0][i].pie(x, colors=colors, wedgeprops={'edgecolor':edge_col})\n",
    "        #axes[1][i].pie(nx, colors=ncolors, wedgeprops={'edgecolor':edge_col})\n",
    "        draw_circle(axes[0][i], b, b)\n",
    "        draw_circle(axes[1][i], n*b, n*b)\n",
    "        a = a - b\n",
    "\n",
    "    #colors = [fill_col for z in range(a)] + [empty_col for z in range(b-a)]\n",
    "    #ncolors = [fill_col for z in range(n*a)] + [empty_col for z in range(n*(b-a))]\n",
    "    #axes[0][n_circles-1].pie(x, colors=colors, wedgeprops={'edgecolor':edge_col})\n",
    "    #axes[1][n_circles-1].pie(nx, colors=ncolors, wedgeprops={'edgecolor':edge_col})\n",
    "    draw_circle(axes[0][n_circles-1], a, b)\n",
    "    draw_circle(axes[1][n_circles-1], n*a, n*b)\n"
   ]
  },
  {
   "cell_type": "code",
   "execution_count": 2,
   "metadata": {
    "scrolled": false
   },
   "outputs": [
    {
     "data": {
      "application/vnd.jupyter.widget-view+json": {
       "model_id": "54410bd20df0434f9f1a8b481969746e",
       "version_major": 2,
       "version_minor": 0
      },
      "text/html": [
       "<p>Failed to display Jupyter Widget of type <code>interactive</code>.</p>\n",
       "<p>\n",
       "  If you're reading this message in the Jupyter Notebook or JupyterLab Notebook, it may mean\n",
       "  that the widgets JavaScript is still loading. If this message persists, it\n",
       "  likely means that the widgets JavaScript library is either not installed or\n",
       "  not enabled. See the <a href=\"https://ipywidgets.readthedocs.io/en/stable/user_install.html\">Jupyter\n",
       "  Widgets Documentation</a> for setup instructions.\n",
       "</p>\n",
       "<p>\n",
       "  If you're reading this message in another frontend (for example, a static\n",
       "  rendering on GitHub or <a href=\"https://nbviewer.jupyter.org/\">NBViewer</a>),\n",
       "  it may mean that your frontend doesn't currently support widgets.\n",
       "</p>\n"
      ],
      "text/plain": [
       "interactive(children=(IntSlider(value=0, continuous_update=False, description='a'), Text(value='white', description='empty_col'), Text(value='red', description='fill_col'), Text(value='black', description='edge_col'), Output()), _dom_classes=('widget-interact',))"
      ]
     },
     "metadata": {},
     "output_type": "display_data"
    },
    {
     "data": {
      "text/plain": [
       "<function __main__.draw_fraction>"
      ]
     },
     "execution_count": 2,
     "metadata": {},
     "output_type": "execute_result"
    }
   ],
   "source": [
    "interact(draw_fraction,\n",
    "         a = widgets.IntSlider(min = 0, max = 100, step = 1, continuous_update = False),\n",
    "         b = fixed(3))"
   ]
  },
  {
   "cell_type": "code",
   "execution_count": 3,
   "metadata": {},
   "outputs": [
    {
     "data": {
      "application/vnd.jupyter.widget-view+json": {
       "model_id": "d2c6697e874b4027b9bc062b92160bc7",
       "version_major": 2,
       "version_minor": 0
      },
      "text/html": [
       "<p>Failed to display Jupyter Widget of type <code>interactive</code>.</p>\n",
       "<p>\n",
       "  If you're reading this message in the Jupyter Notebook or JupyterLab Notebook, it may mean\n",
       "  that the widgets JavaScript is still loading. If this message persists, it\n",
       "  likely means that the widgets JavaScript library is either not installed or\n",
       "  not enabled. See the <a href=\"https://ipywidgets.readthedocs.io/en/stable/user_install.html\">Jupyter\n",
       "  Widgets Documentation</a> for setup instructions.\n",
       "</p>\n",
       "<p>\n",
       "  If you're reading this message in another frontend (for example, a static\n",
       "  rendering on GitHub or <a href=\"https://nbviewer.jupyter.org/\">NBViewer</a>),\n",
       "  it may mean that your frontend doesn't currently support widgets.\n",
       "</p>\n"
      ],
      "text/plain": [
       "interactive(children=(IntSlider(value=1, continuous_update=False, description='a', max=10, min=1), IntSlider(value=3, continuous_update=False, description='b', max=10, min=1), IntSlider(value=2, continuous_update=False, description='n', max=10, min=1), Output()), _dom_classes=('widget-interact',))"
      ]
     },
     "metadata": {},
     "output_type": "display_data"
    },
    {
     "data": {
      "text/plain": [
       "<function __main__.compare_fraction>"
      ]
     },
     "execution_count": 3,
     "metadata": {},
     "output_type": "execute_result"
    }
   ],
   "source": [
    "interact(compare_fraction,\n",
    "         a = widgets.IntSlider(min = 1, max = 10, step = 1, value = 1, continuous_update = False),\n",
    "         b = widgets.IntSlider(min = 1, max = 10, step = 1, value = 3, continuous_update = False),\n",
    "         n = widgets.IntSlider(min = 1, max = 10, step = 1, value = 2, continuous_update = False))"
   ]
  },
  {
   "cell_type": "code",
   "execution_count": 4,
   "metadata": {},
   "outputs": [
    {
     "data": {
      "text/html": [
       "<svg>\n",
       "<circle fill=\"green\" stroke=\"black\" cx=\"50\" cy=\"50\" r=\"48\"/>\n",
       "<path d=\"M 200 50\n",
       "         A 1 1 0 0 0 300 50\" stroke=\"black\" fill=\"green\" stroke-width=\"2\"/>\n",
       "</svg>"
      ],
      "text/plain": [
       "<IPython.core.display.HTML object>"
      ]
     },
     "metadata": {},
     "output_type": "display_data"
    }
   ],
   "source": [
    "%%html\n",
    "<svg>\n",
    "<circle fill=\"green\" stroke=\"black\" cx=\"50\" cy=\"50\" r=\"48\"/>\n",
    "<path d=\"M 200 50\n",
    "         A 1 1 0 0 0 300 50\" stroke=\"black\" fill=\"green\" stroke-width=\"2\"/>\n",
    "</svg>"
   ]
  },
  {
   "cell_type": "code",
   "execution_count": 5,
   "metadata": {},
   "outputs": [
    {
     "data": {
      "text/html": [
       "<svg width=\"500\" height=\"100\">\n",
       "    <rect id=\"rect1\" x=\"10\" y=\"10\" width=\"50\" height=\"80\"\n",
       "          style=\"stroke:#000000; fill:none;\"/>\n",
       "</svg>\n",
       "<input id=\"button1\" type=\"button\" value=\"Change Dimensions\"\n",
       "            onclick=\"changeDimensions()\"/>\n",
       "\n",
       "<script>\n",
       "    function changeDimensions() {\n",
       "        document.getElementById(\"rect1\").setAttribute(\"width\", \"100\");\n",
       "    }\n",
       "</script>"
      ],
      "text/plain": [
       "<IPython.core.display.HTML object>"
      ]
     },
     "metadata": {},
     "output_type": "display_data"
    }
   ],
   "source": [
    "%%html\n",
    "<svg width=\"500\" height=\"100\">\n",
    "    <rect id=\"rect1\" x=\"10\" y=\"10\" width=\"50\" height=\"80\"\n",
    "          style=\"stroke:#000000; fill:none;\"/>\n",
    "</svg>\n",
    "<input id=\"button1\" type=\"button\" value=\"Change Dimensions\"\n",
    "            onclick=\"changeDimensions()\"/>\n",
    "\n",
    "<script>\n",
    "    function changeDimensions() {\n",
    "        document.getElementById(\"rect1\").setAttribute(\"width\", \"100\");\n",
    "    }\n",
    "</script>"
   ]
  },
  {
   "cell_type": "code",
   "execution_count": null,
   "metadata": {},
   "outputs": [],
   "source": []
  }
 ],
 "metadata": {
  "kernelspec": {
   "display_name": "Python 3",
   "language": "python",
   "name": "python3"
  },
  "language_info": {
   "codemirror_mode": {
    "name": "ipython",
    "version": 3
   },
   "file_extension": ".py",
   "mimetype": "text/x-python",
   "name": "python",
   "nbconvert_exporter": "python",
   "pygments_lexer": "ipython3",
   "version": "3.6.4"
  }
 },
 "nbformat": 4,
 "nbformat_minor": 2
}
