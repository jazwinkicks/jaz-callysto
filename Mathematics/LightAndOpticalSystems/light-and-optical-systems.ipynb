{
 "cells": [
  {
   "cell_type": "markdown",
   "metadata": {},
   "source": [
    "<img src='images/callysto-top-banner.jpg'>"
   ]
  },
  {
   "cell_type": "code",
   "execution_count": 1,
   "metadata": {},
   "outputs": [],
   "source": [
    "import random\n",
    "import os\n",
    "import os.path\n",
    "import sys\n",
    "from random import randint\n",
    "import numpy as np\n",
    "from IPython.display import display, Math, Latex, clear_output, HTML"
   ]
  },
  {
   "cell_type": "markdown",
   "metadata": {},
   "source": [
    "# Introduction\n",
    "\n",
    "Our eyes help us to interact with the world around us. Have you ever wondered how they work? How does light bounce off of things and then make images in our brains? What about other animals? Do they see things the same way we do? \n",
    "\n",
    "This notebook will answer these questions and more. We'll look at how a lens works and how lenses can be used to make powerful scientific tools. We'll also explore how the human eye works and compare it to the eyes of a few different animals."
   ]
  },
  {
   "cell_type": "markdown",
   "metadata": {},
   "source": [
    "# Background\n",
    "\n",
    "To start our exploration of the human eye, let's first look at a very simple tool that you have probably used. We present: the magnifying glass!"
   ]
  },
  {
   "cell_type": "code",
   "execution_count": 2,
   "metadata": {},
   "outputs": [
    {
     "data": {
      "text/html": [
       "\n",
       "<script type=\"text/javascript\" src=\"scripts/processing.min.js\"></script> \n",
       "<script type=\"text/javascript\">\n",
       "  var processingCode = ` \n",
       "PImage mascara;  \n",
       "PImage magnified, normal;\n",
       "\n",
       "void setup() {\n",
       "  size(400, 400);\n",
       " // mascara=createGraphics(300, 300);\n",
       "  makeImages();\n",
       "  background(255);\n",
       "  noCursor();\n",
       "}\n",
       "\n",
       "\n",
       "void makeImages() {  //draw and store the two images that will be used\n",
       "  noStroke();\n",
       "  translate(width/2, height/2);\n",
       "  alvos();\n",
       "  normal=get(); \n",
       "  scale(1.5);\n",
       "  alvos();\n",
       "  magnified=get();\n",
       "}\n",
       "\n",
       "void alvos() {\n",
       "  background(255);\n",
       "  for (int i=5; i>0; i--) {\n",
       "    fill(200, 0, 0);\n",
       "    ellipse(0, 0, i*40, i*40);\n",
       "    fill(255);\n",
       "    ellipse(0, 0, i*40-20, i*40-20);\n",
       "  }\n",
       "}\n",
       "\n",
       "void draw() {\n",
       "\n",
       "  //this draws a circle in an alternate canvas that will be the mask\n",
       "\n",
       "background(255);\n",
       "fill(0);\n",
       "ellipse(mouseX, mouseY, 80, 80);\n",
       "mascara=get();\n",
       "  //mascara.endDraw();\n",
       "  normal.mask(mascara);  //aplies the mask to the image, the image now has a hole on it\n",
       "\n",
       "  background(255);\n",
       "  image(magnified, -(mouseX-width/2)/1.9, -(mouseY-height/2)/1.9);   //draws the magnified image underneath the normal image and adjusts its position \n",
       "  image(normal, 0, 0);   //draws the normal image\n",
       "\n",
       "  strokeWeight(5);\n",
       "  noFill();\n",
       "  stroke(150, 0, 0);\n",
       "  ellipse(mouseX, mouseY, 80, 80); // draws the \"lens circle\"\n",
       "}\n",
       "`;\n",
       "  var myCanvas = document.getElementById(\"canvas1\");\n",
       "  var jsCode = Processing.compile(processingCode);\n",
       "  var processingInstance = new Processing(myCanvas, jsCode);\n",
       " </script>\n",
       "<canvas id=\"canvas1\"> </canvas>    \n"
      ],
      "text/plain": [
       "<IPython.core.display.HTML object>"
      ]
     },
     "execution_count": 2,
     "metadata": {},
     "output_type": "execute_result"
    }
   ],
   "source": [
    "magnify = \"\"\" \n",
    "PImage mascara;  \n",
    "PImage magnified, normal;\n",
    "\n",
    "void setup() {\n",
    "  size(400, 400);\n",
    " // mascara=createGraphics(300, 300);\n",
    "  makeImages();\n",
    "  background(255);\n",
    "  noCursor();\n",
    "}\n",
    "\n",
    "\n",
    "void makeImages() {  //draw and store the two images that will be used\n",
    "  noStroke();\n",
    "  translate(width/2, height/2);\n",
    "  alvos();\n",
    "  normal=get(); \n",
    "  scale(1.5);\n",
    "  alvos();\n",
    "  magnified=get();\n",
    "}\n",
    "\n",
    "void alvos() {\n",
    "  background(255);\n",
    "  for (int i=5; i>0; i--) {\n",
    "    fill(200, 0, 0);\n",
    "    ellipse(0, 0, i*40, i*40);\n",
    "    fill(255);\n",
    "    ellipse(0, 0, i*40-20, i*40-20);\n",
    "  }\n",
    "}\n",
    "\n",
    "void draw() {\n",
    "\n",
    "  //this draws a circle in an alternate canvas that will be the mask\n",
    "\n",
    "background(255);\n",
    "fill(0);\n",
    "ellipse(mouseX, mouseY, 80, 80);\n",
    "mascara=get();\n",
    "  //mascara.endDraw();\n",
    "  normal.mask(mascara);  //aplies the mask to the image, the image now has a hole on it\n",
    "\n",
    "  background(255);\n",
    "  image(magnified, -(mouseX-width/2)/1.9, -(mouseY-height/2)/1.9);   //draws the magnified image underneath the normal image and adjusts its position \n",
    "  image(normal, 0, 0);   //draws the normal image\n",
    "\n",
    "  strokeWeight(5);\n",
    "  noFill();\n",
    "  stroke(150, 0, 0);\n",
    "  ellipse(mouseX, mouseY, 80, 80); // draws the \"lens circle\"\n",
    "}\n",
    "\"\"\"\n",
    "\n",
    "html_template = \"\"\"\n",
    "<script type=\"text/javascript\" src=\"scripts/processing.min.js\"></script> \n",
    "<script type=\"text/javascript\">\n",
    "  var processingCode = `{}`;\n",
    "  var myCanvas = document.getElementById(\"canvas1\");\n",
    "  var jsCode = Processing.compile(processingCode);\n",
    "  var processingInstance = new Processing(myCanvas, jsCode);\n",
    " </script>\n",
    "<canvas id=\"canvas1\"> </canvas>    \n",
    "\"\"\"\n",
    "\n",
    "html_code = html_template.format(magnify)\n",
    "HTML(html_code)"
   ]
  },
  {
   "cell_type": "markdown",
   "metadata": {},
   "source": [
    "The magnifying glass makes things bigger because it uses a **convex** lens. **Convex** lenses work by bending light. Starting from a light source, light rays travel outward and reflect off of things. As the reflected light passes through a convex lens, the light rays bend to get closer together. Let's look at a picture of how this works."
   ]
  },
  {
   "cell_type": "code",
   "execution_count": 1,
   "metadata": {},
   "outputs": [],
   "source": [
    "# Formation of real images."
   ]
  },
  {
   "cell_type": "markdown",
   "metadata": {},
   "source": [
    "Explanation of real image diagram\n",
    "\n",
    "### Questions\n",
    "<ol>\n",
    "    <li> What happens to the image when the lens is farther from the object? </li>\n",
    "    <li> What happens to the image when the lens is close to the object? </li>\n",
    "</ol>"
   ]
  },
  {
   "cell_type": "markdown",
   "metadata": {},
   "source": [
    "## How does a microscope work?\n"
   ]
  },
  {
   "cell_type": "code",
   "execution_count": 2,
   "metadata": {},
   "outputs": [],
   "source": [
    "# Microscope interactive cross-section."
   ]
  },
  {
   "cell_type": "markdown",
   "metadata": {},
   "source": [
    "Describe eyeglasses, binoculars, and telescopes in general terms."
   ]
  },
  {
   "cell_type": "markdown",
   "metadata": {},
   "source": [
    "## Exploring the Human Eye"
   ]
  },
  {
   "cell_type": "code",
   "execution_count": 3,
   "metadata": {},
   "outputs": [
    {
     "name": "stdout",
     "output_type": "stream",
     "text": [
      "INFO:OCC.Display.backend:backend loaded: qt-pyqt5\n",
      "INFO:OCC.Display.SimpleGui:GUI backend set to: qt-pyqt5\n",
      "Layer manager created\n",
      "Layer dimensions: 1024, 768\n"
     ]
    }
   ],
   "source": [
    "\"\"\" Human eye 3D explorer. \"\"\"\n",
    "from OCC.Display.SimpleGui import init_display\n",
    "from OCC.BRepPrimAPI import BRepPrimAPI_MakeBox\n",
    "from OCC.STEPControl import STEPControl_Reader\n",
    "\n",
    "# Load in a step reader and read the .STEP file.\n",
    "step_reader = STEPControl_Reader()\n",
    "step_reader.ReadFile('eyeball v13.step')\n",
    "step_reader.TransferRoot()\n",
    "\n",
    "# Create the display window.\n",
    "display, start_display, add_menu, add_function_to_menu = init_display()\n",
    "\n",
    "# Display the .STEP file.\n",
    "display.DisplayShape(step_reader.Shape(), update=True)\n",
    "start_display()"
   ]
  },
  {
   "cell_type": "markdown",
   "metadata": {},
   "source": [
    "### Other animals have eyes. Are they the same as human eyes?"
   ]
  },
  {
   "cell_type": "code",
   "execution_count": 4,
   "metadata": {},
   "outputs": [
    {
     "data": {
      "text/plain": [
       "' Exploring eyes of other animals.'"
      ]
     },
     "execution_count": 4,
     "metadata": {},
     "output_type": "execute_result"
    }
   ],
   "source": [
    "\"\"\" Exploring eyes of other animals.\"\"\""
   ]
  },
  {
   "cell_type": "markdown",
   "metadata": {},
   "source": [
    "Talk about Lasik/laser eye surgery and night vision (picture for laser eye surgery)."
   ]
  },
  {
   "cell_type": "code",
   "execution_count": null,
   "metadata": {},
   "outputs": [],
   "source": []
  },
  {
   "cell_type": "markdown",
   "metadata": {},
   "source": [
    "<img src='images/callysto-bottom-banner.jpg'>"
   ]
  },
  {
   "cell_type": "code",
   "execution_count": null,
   "metadata": {},
   "outputs": [],
   "source": []
  }
 ],
 "metadata": {
  "kernelspec": {
   "display_name": "Python 3",
   "language": "python",
   "name": "python3"
  },
  "language_info": {
   "codemirror_mode": {
    "name": "ipython",
    "version": 3
   },
   "file_extension": ".py",
   "mimetype": "text/x-python",
   "name": "python",
   "nbconvert_exporter": "python",
   "pygments_lexer": "ipython3",
   "version": "3.6.1"
  }
 },
 "nbformat": 4,
 "nbformat_minor": 2
}
