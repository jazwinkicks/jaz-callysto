{
 "cells": [
  {
   "cell_type": "markdown",
   "metadata": {},
   "source": [
    "<img src='images/callysto-top-banner.jpg'>"
   ]
  },
  {
   "cell_type": "code",
   "execution_count": 1,
   "metadata": {},
   "outputs": [],
   "source": [
    "import random\n",
    "import os\n",
    "import os.path\n",
    "import sys\n",
    "from random import randint\n",
    "import numpy as np\n",
    "from IPython.display import display, Math, Latex, clear_output, HTML"
   ]
  },
  {
   "cell_type": "code",
   "execution_count": 2,
   "metadata": {},
   "outputs": [
    {
     "data": {
      "text/html": [
       "\n",
       "<script src=\"https://cdn.geogebra.org/apps/deployggb.js\"></script>"
      ],
      "text/plain": [
       "<IPython.core.display.HTML object>"
      ]
     },
     "metadata": {},
     "output_type": "display_data"
    }
   ],
   "source": [
    "%%html\n",
    "\n",
    "<script src=\"https://cdn.geogebra.org/apps/deployggb.js\"></script>"
   ]
  },
  {
   "cell_type": "markdown",
   "metadata": {},
   "source": [
    "# Introduction\n",
    "\n",
    "Our eyes help us to interact with the world around us. Have you ever wondered how they work? How does light bounce off of things and then make images in our brains? What about other animals? Do they see things the same way we do? \n",
    "\n",
    "This notebook will answer these questions and more. We'll look at how a lens works and how lenses can be used to make powerful scientific tools. We'll also explore how the human eye works and compare it to the eyes of a few different animals."
   ]
  },
  {
   "cell_type": "markdown",
   "metadata": {},
   "source": [
    "# Background\n",
    "\n",
    "To start our exploration of the human eye, let's first look at something called a *double convex lens*. Using a double convex lens, a *real image* can be formed."
   ]
  },
  {
   "cell_type": "markdown",
   "metadata": {},
   "source": [
    "The magnifying glass makes things bigger because it uses a **convex** lens. **Convex** lenses work by bending light. Starting from a light source, light rays travel outward and reflect off of things. As the reflected light passes through a convex lens, the light rays bend to get closer together. Let's look at a picture of how this works."
   ]
  },
  {
   "cell_type": "code",
   "execution_count": 6,
   "metadata": {},
   "outputs": [
    {
     "data": {
      "text/html": [
       "\n",
       "<div id=\"ggb-convex-lens\"></div>\n",
       "\n",
       "<script>\n",
       "  var ggbApp = new GGBApplet({\n",
       "      \"height\": 640,\n",
       "      \"showToolBar\": false,\n",
       "      \"showMenuBar\": false,\n",
       "      \"showAlgebraInput\": false,\n",
       "      \"showResetIcon\": true,\n",
       "      \"enableLabelDrags\": false,\n",
       "      \"enableRightClick\": false,\n",
       "      \"enableShiftDragZoom\": true,\n",
       "      \"useBrowserForJS\": false,\n",
       "      \"filename\": \"scripts/convex_lens.ggb\"\n",
       "  }, 'ggb-convex-lens');\n",
       "\n",
       "  ggbApp.inject();\n",
       "</script>"
      ],
      "text/plain": [
       "<IPython.core.display.HTML object>"
      ]
     },
     "metadata": {},
     "output_type": "display_data"
    }
   ],
   "source": [
    "%%html\n",
    "\n",
    "<div id=\"ggb-convex-lens\"></div>\n",
    "\n",
    "<script>\n",
    "  var ggbApp = new GGBApplet({\n",
    "      \"height\": 640,\n",
    "      \"showToolBar\": false,\n",
    "      \"showMenuBar\": false,\n",
    "      \"showAlgebraInput\": false,\n",
    "      \"showResetIcon\": true,\n",
    "      \"enableLabelDrags\": false,\n",
    "      \"enableRightClick\": false,\n",
    "      \"enableShiftDragZoom\": true,\n",
    "      \"useBrowserForJS\": false,\n",
    "      \"filename\": \"scripts/convex_lens.ggb\"\n",
    "  }, 'ggb-convex-lens');\n",
    "\n",
    "  ggbApp.inject();\n",
    "</script>"
   ]
  },
  {
   "cell_type": "markdown",
   "metadata": {},
   "source": [
    "In the diagram above, the yellow lines represent light rays. An object reflects light rays in lots of different directions. Some of the light is reflected towards the convex lens. When the light rays pass through the convex lens, they change direction. You can see how the light rays come together on the right side of the lens. This is the point where the *real image* is formed. Because of the way the lens changes the direction of the light rays, the *real image* on the right side of the lens is upside down. \n",
    "\n",
    "Let's try to understand this more completely, because the diagram only shows three light rays coming away from the object. In real life, there would be millions more (infinitely more, in fact) light rays coming off of the object. Let's say that the object was a car. All of the light rays that reflected off of the car's wheel would pass through the lens, get flipped upside down, and form a *real image* of the wheel on the other side of the lens. The same thing would happen to all parts of the car. \n",
    "\n",
    "It may seem strange that the real image gets flipped upside down. \n",
    "\n",
    "### Questions\n",
    "<ol>\n",
    "    <li> What happens to the image when the lens is farther from the object? </li>\n",
    "    <li> What happens to the image when the lens is close to the object? </li>\n",
    "    <li> Try moving the focal length (the point labeled F) to the other side of the lens. Is the real image upside down anymore? </li>\n",
    "</ol>"
   ]
  },
  {
   "cell_type": "markdown",
   "metadata": {},
   "source": [
    "## How does a microscope work?\n"
   ]
  },
  {
   "cell_type": "code",
   "execution_count": 4,
   "metadata": {},
   "outputs": [],
   "source": [
    "# Microscope interactive cross-section."
   ]
  },
  {
   "cell_type": "markdown",
   "metadata": {},
   "source": [
    "Describe eyeglasses, binoculars, and telescopes in general terms."
   ]
  },
  {
   "cell_type": "markdown",
   "metadata": {},
   "source": [
    "## Exploring the Human Eye\n",
    "\n",
    "Our eyes are very similar to the magnifying glass at the beginning of this notebook. Both the magnifying glass and our eyes use a **convex** lens to form images. In the magnifying glass, the distance from the object was usually pretty close. With our eyes, the distance to the object is usually much farther than it would be for the magnifying glass.\n",
    "\n",
    "Images are formed in our eyes when light first passes through a transparent (see-through) layer called the *cornea*. This layer bends the light a little, but not very much. Next, the light passes through the *lens*. The lens is convex, and focuses the light onto a layer of light receptor cells at the back of the eyeball called the *retina*. The retina converts the light energy into electrical signals which get sent down the *optic nerve* into the brain.\n",
    "\n",
    "When we look at another person's eye, we see the colour of their eyes. The colored part is a muscle called the *iris*. A black circle in the middle of the iris is actually the hole that lets light through. This hole is called the *pupil*. When there is lots of light (like on a bright, sunny day), the iris **contracts**. This makes the pupil smaller so less light gets through. When there is not much light (like at night), the iris **dilates**. This makes the pupil get bigger so more light gets through. The iris is very important, since too much light getting through when it is very bright can damage your eyes.\n",
    "\n",
    "Let's take a look at the human eye in 3D."
   ]
  },
  {
   "cell_type": "code",
   "execution_count": 5,
   "metadata": {},
   "outputs": [
    {
     "ename": "ModuleNotFoundError",
     "evalue": "No module named 'OCC'",
     "output_type": "error",
     "traceback": [
      "\u001b[0;31m---------------------------------------------------------------------------\u001b[0m",
      "\u001b[0;31mModuleNotFoundError\u001b[0m                       Traceback (most recent call last)",
      "\u001b[0;32m<ipython-input-5-030434c1e2ef>\u001b[0m in \u001b[0;36m<module>\u001b[0;34m()\u001b[0m\n\u001b[1;32m      1\u001b[0m \u001b[0;34m\"\"\" Human eye 3D explorer. \"\"\"\u001b[0m\u001b[0;34m\u001b[0m\u001b[0m\n\u001b[0;32m----> 2\u001b[0;31m \u001b[0;32mfrom\u001b[0m \u001b[0mOCC\u001b[0m\u001b[0;34m.\u001b[0m\u001b[0mDisplay\u001b[0m\u001b[0;34m.\u001b[0m\u001b[0mSimpleGui\u001b[0m \u001b[0;32mimport\u001b[0m \u001b[0minit_display\u001b[0m\u001b[0;34m\u001b[0m\u001b[0m\n\u001b[0m\u001b[1;32m      3\u001b[0m \u001b[0;32mfrom\u001b[0m \u001b[0mOCC\u001b[0m\u001b[0;34m.\u001b[0m\u001b[0mBRepPrimAPI\u001b[0m \u001b[0;32mimport\u001b[0m \u001b[0mBRepPrimAPI_MakeBox\u001b[0m\u001b[0;34m\u001b[0m\u001b[0m\n\u001b[1;32m      4\u001b[0m \u001b[0;32mfrom\u001b[0m \u001b[0mOCC\u001b[0m\u001b[0;34m.\u001b[0m\u001b[0mSTEPControl\u001b[0m \u001b[0;32mimport\u001b[0m \u001b[0mSTEPControl_Reader\u001b[0m\u001b[0;34m\u001b[0m\u001b[0m\n\u001b[1;32m      5\u001b[0m \u001b[0;34m\u001b[0m\u001b[0m\n",
      "\u001b[0;31mModuleNotFoundError\u001b[0m: No module named 'OCC'"
     ]
    }
   ],
   "source": [
    "\"\"\" Human eye 3D explorer. \"\"\"\n",
    "from OCC.Display.SimpleGui import init_display\n",
    "from OCC.BRepPrimAPI import BRepPrimAPI_MakeBox\n",
    "from OCC.STEPControl import STEPControl_Reader\n",
    "\n",
    "# Load in a step reader and read the .STEP file.\n",
    "step_reader = STEPControl_Reader()\n",
    "step_reader.ReadFile('eyeball v13.step')\n",
    "step_reader.TransferRoot()\n",
    "\n",
    "# Create the display window.\n",
    "display, start_display, add_menu, add_function_to_menu = init_display()\n",
    "\n",
    "# Display the .STEP file.\n",
    "display.DisplayShape(step_reader.Shape(), update=True)\n",
    "start_display()"
   ]
  },
  {
   "cell_type": "markdown",
   "metadata": {},
   "source": [
    "### Other animals have eyes. Are they the same as human eyes?\n",
    "\n",
    "We talk about people with good eyesight having 'eagle eyes', or a camera having a 'fish-eye' lens. Also, if you've ever caught a fly and looked really close at its head, you've probably noticed that its eyes look very different from ours. So what's the difference between an animal's eyes and ours? Is anything the same? Let's take a look."
   ]
  },
  {
   "cell_type": "code",
   "execution_count": null,
   "metadata": {},
   "outputs": [],
   "source": [
    "\"\"\" Exploring eyes of other animals.\"\"\""
   ]
  },
  {
   "cell_type": "markdown",
   "metadata": {},
   "source": [
    "Talk about Lasik/laser eye surgery and night vision (picture for laser eye surgery)."
   ]
  },
  {
   "cell_type": "code",
   "execution_count": null,
   "metadata": {},
   "outputs": [],
   "source": []
  },
  {
   "cell_type": "markdown",
   "metadata": {},
   "source": [
    "<img src='images/callysto-bottom-banner.jpg'>"
   ]
  },
  {
   "cell_type": "code",
   "execution_count": null,
   "metadata": {},
   "outputs": [],
   "source": []
  }
 ],
 "metadata": {
  "kernelspec": {
   "display_name": "Python 3",
   "language": "python",
   "name": "python3"
  },
  "language_info": {
   "codemirror_mode": {
    "name": "ipython",
    "version": 3
   },
   "file_extension": ".py",
   "mimetype": "text/x-python",
   "name": "python",
   "nbconvert_exporter": "python",
   "pygments_lexer": "ipython3",
   "version": "3.6.5"
  }
 },
 "nbformat": 4,
 "nbformat_minor": 2
}
