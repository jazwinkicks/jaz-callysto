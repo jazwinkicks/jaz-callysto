{
 "cells": [
  {
   "cell_type": "markdown",
   "metadata": {},
   "source": [
    "<img src='images/callysto-top-banner.jpg'>"
   ]
  },
  {
   "cell_type": "code",
   "execution_count": 1,
   "metadata": {},
   "outputs": [],
   "source": [
    "import random\n",
    "import os\n",
    "import os.path\n",
    "import sys\n",
    "from random import randint\n",
    "import numpy as np\n",
    "from IPython.display import display, Math, Latex, clear_output, HTML"
   ]
  },
  {
   "cell_type": "code",
   "execution_count": 9,
   "metadata": {},
   "outputs": [
    {
     "data": {
      "text/html": [
       "\n",
       "<div>\n",
       "    <img src=\"images/iris.jpg\" width=720px style=\"margin-left:auto; margin-right:auto\">\n",
       "    <div style=\"position: absolute; top: 8%; left: 24%; color: #b3cce6; font-size: 24pt; text-align: center; text-shadow: 2px 2px 4px #000000; padding: 20px; background-color: rgb(0,0,0,0.5); border-radius: 10px;\">\n",
       "        The Science of Image Formation and Vision\n",
       "    </div>\n",
       "</div>"
      ],
      "text/plain": [
       "<IPython.core.display.HTML object>"
      ]
     },
     "metadata": {},
     "output_type": "display_data"
    }
   ],
   "source": [
    "%%html\n",
    "\n",
    "<div>\n",
    "    <img src=\"images/iris.jpg\" width=720px style=\"margin-left:auto; margin-right:auto\">\n",
    "    <div style=\"position: absolute; top: 8%; left: 24%; color: #b3cce6; font-size: 24pt; text-align: center; text-shadow: 2px 2px 4px #000000; padding: 20px; background-color: rgb(0,0,0,0.5); border-radius: 10px;\">\n",
    "        The Science of Image Formation and Vision\n",
    "    </div>\n",
    "</div>"
   ]
  },
  {
   "cell_type": "code",
   "execution_count": 63,
   "metadata": {},
   "outputs": [
    {
     "data": {
      "text/html": [
       "\n",
       "<script src=\"https://cdn.geogebra.org/apps/deployggb.js\"></script>"
      ],
      "text/plain": [
       "<IPython.core.display.HTML object>"
      ]
     },
     "metadata": {},
     "output_type": "display_data"
    }
   ],
   "source": [
    "%%html\n",
    "\n",
    "<script src=\"https://cdn.geogebra.org/apps/deployggb.js\"></script>"
   ]
  },
  {
   "cell_type": "markdown",
   "metadata": {},
   "source": [
    "# Introduction\n",
    "\n",
    "Our eyes help us to interact with the world around us. Have you ever wondered how they work? How does light bounce off of things and then make images in our brains? What about other animals? Do they see things the same way we do? \n",
    "\n",
    "This notebook will answer these questions and more. We'll look at how a lens works and how lenses can be used to make powerful scientific tools. We'll also explore how the human eye works and compare it to the eyes of a few different animals."
   ]
  },
  {
   "cell_type": "markdown",
   "metadata": {},
   "source": [
    "# Background\n",
    "\n",
    "## Real Images\n",
    "\n",
    "To start our exploration of the human eye, let's first look at something called a **double convex lens**. Using a double convex lens, a **real image** can be formed."
   ]
  },
  {
   "cell_type": "code",
   "execution_count": 65,
   "metadata": {},
   "outputs": [
    {
     "data": {
      "text/html": [
       "\n",
       "<div id=\"ggb-convex-lens\"/>\n",
       "\n",
       "<script>\n",
       "  var ggbApp = new GGBApplet({\n",
       "      \"height\": 640,\n",
       "      \"showToolBar\": false,\n",
       "      \"showMenuBar\": false,\n",
       "      \"showAlgebraInput\": false,\n",
       "      \"showResetIcon\": true,\n",
       "      \"enableLabelDrags\": false,\n",
       "      \"enableRightClick\": false,\n",
       "      \"enableShiftDragZoom\": true,\n",
       "      \"useBrowserForJS\": false,\n",
       "      \"filename\": \"scripts/convex_lens.ggb\"\n",
       "  }, 'ggb-convex-lens');\n",
       "\n",
       "  ggbApp.inject();\n",
       "</script>\n",
       "<p style='text-align: center'>Geogebra project adapted from user <i>Magdalena</i>.</p>"
      ],
      "text/plain": [
       "<IPython.core.display.HTML object>"
      ]
     },
     "metadata": {},
     "output_type": "display_data"
    }
   ],
   "source": [
    "%%html\n",
    "\n",
    "<div id=\"ggb-convex-lens\"/>\n",
    "\n",
    "<script>\n",
    "  var ggbApp = new GGBApplet({\n",
    "      \"height\": 640,\n",
    "      \"showToolBar\": false,\n",
    "      \"showMenuBar\": false,\n",
    "      \"showAlgebraInput\": false,\n",
    "      \"showResetIcon\": true,\n",
    "      \"enableLabelDrags\": false,\n",
    "      \"enableRightClick\": false,\n",
    "      \"enableShiftDragZoom\": true,\n",
    "      \"useBrowserForJS\": false,\n",
    "      \"filename\": \"scripts/convex_lens.ggb\"\n",
    "  }, 'ggb-convex-lens');\n",
    "\n",
    "  ggbApp.inject();\n",
    "</script>\n",
    "<p style='text-align: center'>Geogebra project adapted from user <i>Magdalena</i>.</p>"
   ]
  },
  {
   "cell_type": "markdown",
   "metadata": {},
   "source": [
    "In the diagram above, the yellow lines represent light rays. An object reflects light rays in lots of different directions. Some of the light is reflected towards the convex lens. When the light rays pass through the convex lens, they change direction. You can see how the light rays come together on the right side of the lens. This is the point where the *real image* is formed. It is called the **focal point**. Because of the way the lens changes the direction of the light rays, the *real image* on the right side of the lens is upside down. \n",
    "\n",
    "Let's try to understand this more completely, because the diagram only shows three light rays coming away from the object. In real life, there would be millions more (infinitely more, in fact) light rays coming off of the object. Let's say that the object was a car. All of the light rays that reflected off of the car's wheel would pass through the lens, get flipped upside down, and form a *real image* of the wheel on the other side of the lens. The same thing would happen to all parts of the car. \n",
    "\n",
    "It may seem strange that the real image gets flipped upside down. What's even more bizarre is that our eyes have a double convex lens, and that the images our brain receives are upside down! We'll talk more about this in the section on [Exploring the Human Eye](#human_eye).\n",
    "\n",
    "### Questions\n",
    "<ol>\n",
    "    <li> What happens to the real image when the lens is farther from the object? </li>\n",
    "    <li> What happens to the real image when the lens is close to the object? </li>\n",
    "    <li> Try moving the focal length (the point labeled F) to the other side of the lens. Is the real image upside down anymore? </li>\n",
    "</ol>"
   ]
  },
  {
   "cell_type": "markdown",
   "metadata": {},
   "source": [
    "## How does a microscope work?\n"
   ]
  },
  {
   "cell_type": "code",
   "execution_count": 66,
   "metadata": {},
   "outputs": [],
   "source": [
    "# Microscope interactive cross-section."
   ]
  },
  {
   "cell_type": "markdown",
   "metadata": {},
   "source": [
    "Describe eyeglasses, binoculars, and telescopes in general terms."
   ]
  },
  {
   "cell_type": "markdown",
   "metadata": {},
   "source": [
    "<img src=\"images/telescopes.jpg\">"
   ]
  },
  {
   "cell_type": "markdown",
   "metadata": {},
   "source": [
    "<a id='human_eye'></a>\n",
    "## Exploring the Human Eye\n",
    "\n",
    "Our eyes use real images formed by double convex lenses to see the world around us. Real images are formed in our eyes when light first passes through a transparent (see-through) layer called the *cornea*. This layer bends the light a little, but not very much. Next, the light passes through the *lens*, which bends the light rays far more than the cornea. The lens focuses light rays onto a layer of light receptor cells at the back of the eyeball called the *retina*. The retina converts the light energy into electrical signals which get sent down the *optic nerve* into the brain.\n",
    "\n",
    "When we look at another person's eye, we see the colour of their eyes. The colored part is a muscle called the *iris*. A black circle in the middle of the iris is actually the hole that lets light through. This hole is called the *pupil*. When there is lots of light (like on a bright, sunny day), the iris **contracts**. This makes the pupil smaller so less light gets through. When there is not much light (like at night), the iris **dilates**. This makes the pupil get bigger so more light gets through. The iris is very important, since too much light getting through when it is very bright can damage your eyes.\n",
    "\n",
    "Let's take a look at the human eye in 3D."
   ]
  },
  {
   "cell_type": "code",
   "execution_count": null,
   "metadata": {},
   "outputs": [],
   "source": [
    "\"\"\" Human eye 3D explorer. \"\"\"\n",
    "from OCC.Display.SimpleGui import init_display\n",
    "from OCC.BRepPrimAPI import BRepPrimAPI_MakeBox\n",
    "from OCC.STEPControl import STEPControl_Reader\n",
    "\n",
    "# Load in a step reader and read the .STEP file.\n",
    "step_reader = STEPControl_Reader()\n",
    "step_reader.ReadFile('eyeball v13.step')\n",
    "step_reader.TransferRoot()\n",
    "\n",
    "# Create the display window.\n",
    "display, start_display, add_menu, add_function_to_menu = init_display()\n",
    "\n",
    "# Display the .STEP file.\n",
    "display.DisplayShape(step_reader.Shape(), update=True)\n",
    "start_display()"
   ]
  },
  {
   "cell_type": "markdown",
   "metadata": {},
   "source": [
    "Not every person's vision is the same. Some people can't see far away things, and some people can't see things close up. These conditions are called **myopia** (near-sightedness) and **hyperopia** (far-sightedness). "
   ]
  },
  {
   "cell_type": "markdown",
   "metadata": {},
   "source": [
    "### How do Human Eyes Compare with Other Species?\n",
    "\n",
    "We talk about people with good eyesight having 'eagle eyes', or a camera having a 'fish-eye' lens. Also, if you've ever caught a fly and looked really close at its head, you've probably noticed that its eyes look very different from ours. So what's the difference between an animal's eyes and ours? Is anything the same? Let's take a look."
   ]
  },
  {
   "cell_type": "code",
   "execution_count": null,
   "metadata": {},
   "outputs": [],
   "source": [
    "\"\"\" Exploring eyes of other animals.\"\"\""
   ]
  },
  {
   "cell_type": "markdown",
   "metadata": {},
   "source": [
    "Talk about Lasik/laser eye surgery and night vision (picture for laser eye surgery)."
   ]
  },
  {
   "cell_type": "code",
   "execution_count": null,
   "metadata": {},
   "outputs": [],
   "source": [
    "from pythreejs import *\n",
    "from math import pi"
   ]
  },
  {
   "cell_type": "code",
   "execution_count": null,
   "metadata": {},
   "outputs": [],
   "source": [
    "# Generate surface data:\n",
    "view_width = 600\n",
    "view_height = 400\n",
    "nx, ny = (20, 20)\n",
    "xmax=1\n",
    "x = np.linspace(-xmax, xmax, nx)\n",
    "y = np.linspace(-xmax, xmax, ny)\n",
    "xx, yy = np.meshgrid(x, y)\n",
    "z = xx ** 2 - yy ** 2\n",
    "#z[6,1] = float('nan')\n",
    "\n",
    "\n",
    "# Generate scene objects from data:\n",
    "surf_g = SurfaceGeometry(z=list(z[::-1].flat), \n",
    "                         width=2 * xmax,\n",
    "                         height=2 * xmax,\n",
    "                         width_segments=nx - 1,\n",
    "                         height_segments=ny - 1)\n",
    "\n",
    "surf = Mesh(geometry=surf_g,\n",
    "            material=MeshLambertMaterial(map=height_texture(z[::-1], 'YlGnBu_r')))\n",
    "\n",
    "surfgrid = SurfaceGrid(geometry=surf_g, material=LineBasicMaterial(color='black'),\n",
    "                       position=[0, 0, 1e-2])  # Avoid overlap by lifting grid slightly\n",
    "\n",
    "# Set up picking bojects:\n",
    "hover_point = Mesh(geometry=SphereGeometry(radius=0.05),\n",
    "                   material=MeshLambertMaterial(color='hotpink'))\n",
    "\n",
    "click_picker = Picker(controlling=surf, event='dblclick')\n",
    "hover_picker = Picker(controlling=surf, event='mousemove')\n",
    "\n",
    "# Set up scene:\n",
    "key_light = DirectionalLight(color='white', position=[3, 5, 1], intensity=0.4)\n",
    "c = PerspectiveCamera(position=[0, 3, 3], up=[0, 0, 1], aspect=view_width / view_height,\n",
    "                      children=[key_light])\n",
    "\n",
    "scene = Scene(children=[surf, c, surfgrid, hover_point, AmbientLight(intensity=0.8)])\n",
    "\n",
    "renderer = Renderer(camera=c, scene=scene,\n",
    "                    width=view_width, height=view_height,\n",
    "                    controls=[OrbitControls(controlling=c), click_picker, hover_picker])\n",
    "\n",
    "display(renderer)"
   ]
  },
  {
   "cell_type": "markdown",
   "metadata": {},
   "source": [
    "# Definitions of Terms\n",
    "<ul>\n",
    "    <li> **Double convex lens** </li>\n",
    "    <li> **Real image** </li>\n",
    "    <li> **Focal point** </li>\n",
    "</ul>"
   ]
  },
  {
   "cell_type": "markdown",
   "metadata": {},
   "source": [
    "<img src='images/callysto-bottom-banner.jpg'>"
   ]
  }
 ],
 "metadata": {
  "kernelspec": {
   "display_name": "Python 3",
   "language": "python",
   "name": "python3"
  },
  "language_info": {
   "codemirror_mode": {
    "name": "ipython",
    "version": 3
   },
   "file_extension": ".py",
   "mimetype": "text/x-python",
   "name": "python",
   "nbconvert_exporter": "python",
   "pygments_lexer": "ipython3",
   "version": "3.6.5"
  }
 },
 "nbformat": 4,
 "nbformat_minor": 2
}
