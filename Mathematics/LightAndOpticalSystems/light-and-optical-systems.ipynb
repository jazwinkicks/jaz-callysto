{
 "cells": [
  {
   "cell_type": "markdown",
   "metadata": {},
   "source": [
    "<img src='images/callysto-top-banner.jpg'>"
   ]
  },
  {
   "cell_type": "code",
   "execution_count": 5,
   "metadata": {},
   "outputs": [],
   "source": [
    "import random\n",
    "import os\n",
    "import os.path\n",
    "import sys\n",
    "from random import randint\n",
    "import numpy as np\n",
    "from IPython.display import display, Math, Latex, clear_output, HTML"
   ]
  },
  {
   "cell_type": "markdown",
   "metadata": {},
   "source": [
    "# Introduction\n",
    "\n",
    "Our eyes help us to interact with the world around us. Have you ever wondered how they work? How does light bounce off of things and then make images in our brains? What about other animals? Do they see things the same way we do? \n",
    "\n",
    "This notebook will answer these questions and more. We'll look at how a lens works and how lenses can be used to make powerful scientific tools. We'll also explore how the human eye works and compare it to the eyes of a few different animals."
   ]
  },
  {
   "cell_type": "markdown",
   "metadata": {},
   "source": [
    "# Background\n",
    "\n",
    "To start our exploration of the human eye, let's first look at a very simple tool that you have probably used. We present: the magnifying glass!"
   ]
  },
  {
   "cell_type": "code",
   "execution_count": 6,
   "metadata": {},
   "outputs": [
    {
     "data": {
      "text/html": [
       "\n",
       "<script type=\"text/javascript\" src=\"scripts/processing.min.js\"></script> \n",
       "<script type=\"text/javascript\">\n",
       "  var processingCode = ` \n",
       "PImage mascara;  \n",
       "PImage magnified, normal;\n",
       "\n",
       "void setup() {\n",
       "  size(400, 400);\n",
       " // mascara=createGraphics(300, 300);\n",
       "  makeImages();\n",
       "  background(255);\n",
       "  noCursor();\n",
       "}\n",
       "\n",
       "\n",
       "void makeImages() {  //draw and store the two images that will be used\n",
       "  noStroke();\n",
       "  translate(width/2, height/2);\n",
       "  alvos();\n",
       "  normal=get(); \n",
       "  scale(1.5);\n",
       "  alvos();\n",
       "  magnified=get();\n",
       "}\n",
       "\n",
       "void alvos() {\n",
       "  background(255);\n",
       "  for (int i=5; i>0; i--) {\n",
       "    fill(200, 0, 0);\n",
       "    ellipse(0, 0, i*40, i*40);\n",
       "    fill(255);\n",
       "    ellipse(0, 0, i*40-20, i*40-20);\n",
       "  }\n",
       "}\n",
       "\n",
       "void draw() {\n",
       "\n",
       "  //this draws a circle in an alternate canvas that will be the mask\n",
       "\n",
       "background(255);\n",
       "fill(0);\n",
       "ellipse(mouseX, mouseY, 80, 80);\n",
       "mascara=get();\n",
       "  //mascara.endDraw();\n",
       "  normal.mask(mascara);  //aplies the mask to the image, the image now has a hole on it\n",
       "\n",
       "  background(255);\n",
       "  image(magnified, -(mouseX-width/2)/1.9, -(mouseY-height/2)/1.9);   //draws the magnified image underneath the normal image and adjusts its position \n",
       "  image(normal, 0, 0);   //draws the normal image\n",
       "\n",
       "  strokeWeight(5);\n",
       "  noFill();\n",
       "  stroke(150, 0, 0);\n",
       "  ellipse(mouseX, mouseY, 80, 80); // draws the \"lens circle\"\n",
       "}\n",
       "`;\n",
       "  var myCanvas = document.getElementById(\"canvas1\");\n",
       "  var jsCode = Processing.compile(processingCode);\n",
       "  var processingInstance = new Processing(myCanvas, jsCode);\n",
       " </script>\n",
       "<canvas id=\"canvas1\"> </canvas>    \n"
      ],
      "text/plain": [
       "<IPython.core.display.HTML object>"
      ]
     },
     "execution_count": 6,
     "metadata": {},
     "output_type": "execute_result"
    }
   ],
   "source": [
    "magnify = \"\"\" \n",
    "PImage mascara;  \n",
    "PImage magnified, normal;\n",
    "\n",
    "void setup() {\n",
    "  size(400, 400);\n",
    " // mascara=createGraphics(300, 300);\n",
    "  makeImages();\n",
    "  background(255);\n",
    "  noCursor();\n",
    "}\n",
    "\n",
    "\n",
    "void makeImages() {  //draw and store the two images that will be used\n",
    "  noStroke();\n",
    "  translate(width/2, height/2);\n",
    "  alvos();\n",
    "  normal=get(); \n",
    "  scale(1.5);\n",
    "  alvos();\n",
    "  magnified=get();\n",
    "}\n",
    "\n",
    "void alvos() {\n",
    "  background(255);\n",
    "  for (int i=5; i>0; i--) {\n",
    "    fill(200, 0, 0);\n",
    "    ellipse(0, 0, i*40, i*40);\n",
    "    fill(255);\n",
    "    ellipse(0, 0, i*40-20, i*40-20);\n",
    "  }\n",
    "}\n",
    "\n",
    "void draw() {\n",
    "\n",
    "  //this draws a circle in an alternate canvas that will be the mask\n",
    "\n",
    "background(255);\n",
    "fill(0);\n",
    "ellipse(mouseX, mouseY, 80, 80);\n",
    "mascara=get();\n",
    "  //mascara.endDraw();\n",
    "  normal.mask(mascara);  //aplies the mask to the image, the image now has a hole on it\n",
    "\n",
    "  background(255);\n",
    "  image(magnified, -(mouseX-width/2)/1.9, -(mouseY-height/2)/1.9);   //draws the magnified image underneath the normal image and adjusts its position \n",
    "  image(normal, 0, 0);   //draws the normal image\n",
    "\n",
    "  strokeWeight(5);\n",
    "  noFill();\n",
    "  stroke(150, 0, 0);\n",
    "  ellipse(mouseX, mouseY, 80, 80); // draws the \"lens circle\"\n",
    "}\n",
    "\"\"\"\n",
    "\n",
    "html_template = \"\"\"\n",
    "<script type=\"text/javascript\" src=\"scripts/processing.min.js\"></script> \n",
    "<script type=\"text/javascript\">\n",
    "  var processingCode = `{}`;\n",
    "  var myCanvas = document.getElementById(\"canvas1\");\n",
    "  var jsCode = Processing.compile(processingCode);\n",
    "  var processingInstance = new Processing(myCanvas, jsCode);\n",
    " </script>\n",
    "<canvas id=\"canvas1\"> </canvas>    \n",
    "\"\"\"\n",
    "\n",
    "html_code = html_template.format(magnify)\n",
    "HTML(html_code)"
   ]
  },
  {
   "cell_type": "markdown",
   "metadata": {},
   "source": [
    "The magnifying glass makes things bigger because it uses a **convex** lens. **Convex** lenses work by bending light. Starting from a light source, light rays travel outward and reflect off of things. As the reflected light passes through a convex lens, the light rays bend to get closer together. Let's look at a picture of how this works."
   ]
  },
  {
   "cell_type": "code",
   "execution_count": 2,
   "metadata": {},
   "outputs": [
    {
     "ename": "ModuleNotFoundError",
     "evalue": "No module named 'OCC'",
     "output_type": "error",
     "traceback": [
      "\u001b[0;31m---------------------------------------------------------------------------\u001b[0m",
      "\u001b[0;31mModuleNotFoundError\u001b[0m                       Traceback (most recent call last)",
      "\u001b[0;32m<ipython-input-2-2419ecbd322a>\u001b[0m in \u001b[0;36m<module>\u001b[0;34m()\u001b[0m\n\u001b[0;32m----> 1\u001b[0;31m \u001b[0;32mfrom\u001b[0m \u001b[0mOCC\u001b[0m\u001b[0;34m.\u001b[0m\u001b[0mDisplay\u001b[0m\u001b[0;34m.\u001b[0m\u001b[0mSimpleGui\u001b[0m \u001b[0;32mimport\u001b[0m \u001b[0minit_display\u001b[0m\u001b[0;34m\u001b[0m\u001b[0m\n\u001b[0m\u001b[1;32m      2\u001b[0m \u001b[0;32mfrom\u001b[0m \u001b[0mOCC\u001b[0m\u001b[0;34m.\u001b[0m\u001b[0mBRepPrimAPI\u001b[0m \u001b[0;32mimport\u001b[0m \u001b[0mBRepPrimAPI_MakeBox\u001b[0m\u001b[0;34m\u001b[0m\u001b[0m\n\u001b[1;32m      3\u001b[0m \u001b[0;32mfrom\u001b[0m \u001b[0mOCC\u001b[0m\u001b[0;34m.\u001b[0m\u001b[0mSTEPControl\u001b[0m \u001b[0;32mimport\u001b[0m \u001b[0mSTEPControl_Reader\u001b[0m\u001b[0;34m\u001b[0m\u001b[0m\n\u001b[1;32m      4\u001b[0m \u001b[0;34m\u001b[0m\u001b[0m\n\u001b[1;32m      5\u001b[0m \u001b[0;31m# Load in a step reader and read the .STEP file.\u001b[0m\u001b[0;34m\u001b[0m\u001b[0;34m\u001b[0m\u001b[0m\n",
      "\u001b[0;31mModuleNotFoundError\u001b[0m: No module named 'OCC'"
     ]
    }
   ],
   "source": [
    "from OCC.Display.SimpleGui import init_display\n",
    "from OCC.BRepPrimAPI import BRepPrimAPI_MakeBox\n",
    "from OCC.STEPControl import STEPControl_Reader\n",
    "\n",
    "# Load in a step reader and read the .STEP file.\n",
    "step_reader = STEPControl_Reader()\n",
    "step_reader.ReadFile('eyeball v10.step')\n",
    "step_reader.TransferRoot()\n",
    "\n",
    "# Create the display window.\n",
    "display, start_display, add_menu, add_function_to_menu = init_display()\n",
    "\n",
    "# Display the .STEP file.\n",
    "display.DisplayShape(step_reader.Shape(), update=True)\n",
    "start_display()"
   ]
  },
  {
   "cell_type": "code",
   "execution_count": 1,
   "metadata": {},
   "outputs": [
    {
     "ename": "ModuleNotFoundError",
     "evalue": "No module named 'OCC'",
     "output_type": "error",
     "traceback": [
      "\u001b[0;31m---------------------------------------------------------------------------\u001b[0m",
      "\u001b[0;31mModuleNotFoundError\u001b[0m                       Traceback (most recent call last)",
      "\u001b[0;32m<ipython-input-1-e1117df53eb6>\u001b[0m in \u001b[0;36m<module>\u001b[0;34m()\u001b[0m\n\u001b[0;32m----> 1\u001b[0;31m \u001b[0;32mfrom\u001b[0m \u001b[0mOCC\u001b[0m\u001b[0;34m.\u001b[0m\u001b[0mDisplay\u001b[0m\u001b[0;34m.\u001b[0m\u001b[0mWebGl\u001b[0m\u001b[0;34m.\u001b[0m\u001b[0mjupyter_renderer\u001b[0m \u001b[0;32mimport\u001b[0m \u001b[0mJupyterRenderer\u001b[0m\u001b[0;34m\u001b[0m\u001b[0m\n\u001b[0m\u001b[1;32m      2\u001b[0m \u001b[0mren\u001b[0m \u001b[0;34m=\u001b[0m \u001b[0mjupyter_renderer\u001b[0m\u001b[0;34m.\u001b[0m\u001b[0mJupyterRenderer\u001b[0m\u001b[0;34m(\u001b[0m\u001b[0;34m)\u001b[0m\u001b[0;34m\u001b[0m\u001b[0m\n",
      "\u001b[0;31mModuleNotFoundError\u001b[0m: No module named 'OCC'"
     ]
    }
   ],
   "source": [
    "from OCC.Display.WebGl.jupyter_renderer import JupyterRenderer\n",
    "ren = jupyter_renderer.JupyterRenderer()"
   ]
  },
  {
   "cell_type": "markdown",
   "metadata": {},
   "source": [
    "<img src='images/callysto-bottom-banner.jpg'>"
   ]
  },
  {
   "cell_type": "code",
   "execution_count": null,
   "metadata": {},
   "outputs": [],
   "source": []
  }
 ],
 "metadata": {
  "kernelspec": {
   "display_name": "Python 3",
   "language": "python",
   "name": "python3"
  },
  "language_info": {
   "codemirror_mode": {
    "name": "ipython",
    "version": 3
   },
   "file_extension": ".py",
   "mimetype": "text/x-python",
   "name": "python",
   "nbconvert_exporter": "python",
   "pygments_lexer": "ipython3",
   "version": "3.6.5"
  }
 },
 "nbformat": 4,
 "nbformat_minor": 2
}
