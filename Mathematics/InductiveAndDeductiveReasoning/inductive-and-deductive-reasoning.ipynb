{
 "cells": [
  {
   "cell_type": "markdown",
   "metadata": {},
   "source": [
    "# Inductive Reasoning vs. Deductive Reasoning\n",
    "\n",
    "There are two forms of reasoning that that are useful when investigating a piece of mathematics.\n",
    "\n",
    "* `Inductive reasoning` involves using evidence/examples you have collected to figure out what sorts of `claims` are _most likely_ to be true. It is important to mention that this sort of reasoning will __not__ tell you whether or not a `claim` actually _is_ true, only that it's likely worth taking a closer look at. That said, it is still very useful for making connections and developing a general understanding of the problem at hand.\n",
    "\n",
    "* `Deductive reasoning` involves using what you __know__ and logically figuring out `claims` __must__ also be true (and why). This sort of reasoning is stronger than the other but it is also harder to use.\n",
    "\n",
    "In practice, one will use `inductive reasoning` to help guide `deductive reasoning` and `deductive reasoning` to sanity check `inductive reasoning` (because sometimes `inductive reasoning` will lead you in the wrong direction).\n",
    "\n",
    "In this notebook we will illustrate how one would go about using `inductive` and `deductive` reasoning in problem solving and what sorts of gotchas to look out for. Being able to apply these skills will help you maintain a clearer understanding of what you're doing and why you're doing it as well as being able to recognize and avoid mistakes. Moreover the skills can also be used to problem solve in many different areas besides mathematics.\n",
    "\n",
    "### One weird trick\n",
    "\n",
    "From time to time neat computational tricks like this will go viral on social media. Unfortunately the people presenting them will typically only show a few flashy examples and leave the readers feeling completely mystified about __why__ the trick works (or worse, feeling betrayed when it fails). This is a great example to illustrate the differences between `inductive` and `deductive` reasoning.\n",
    "\n",
    "![One Weird Trick](./images/trick2.jpg \"Mathematicians hate him\")\n",
    "\n",
    "###### Premise\n",
    "\n",
    "Before we start lets first rephrase what the picture is saying:\n",
    "\n",
    "To compute $97*96$:\n",
    "1. For each of our values, compute how far they are from 100. In this case we get\n",
    "  - $3=100-97$\n",
    "  - $4=100-96$\n",
    "2. Compute the first two digits of the result\n",
    "  - $12=3*4$\n",
    "3. Compute the remaining digits of the result\n",
    "  - $93=100-(3+4)$\n",
    "4. Glue the two results together as if they were strings ($9312=93|12$) to get the result\n",
    "  - $97*96=9312$\n",
    "\n",
    "In general it looks like the algorithm may be something like this:\n",
    "\n",
    "To compute $a*b$:\n",
    "1. For each of our values, compute how far they are from 100. In this case we get\n",
    "  - $a'=100-a$\n",
    "  - $b'=100-b$\n",
    "2. Compute the first two digits of the result\n",
    "  - $D=a'*b'$\n",
    "3. Compute the remaining digits of the result\n",
    "  - $C=100-(a'+b')$\n",
    "4. Glue the two results together as if they were strings to get the result\n",
    "  - $a*b=C|D$\n",
    "\n",
    "###### Generating examples\n",
    "\n",
    "Next lets create some more examples so that we can get a better sense of the problem and apply `inductive reasoning`.\n",
    "\n",
    "For the first example let's try giving it numbers greater than 100.\n",
    "\n",
    "To compute $115*106$:\n",
    "1. For each of our values, compute how far they are from 100. In this case we get\n",
    "  - $-15=100-115$\n",
    "  - $-6=100-106$\n",
    "2. Compute the first two digits of the result\n",
    "  - $90=(-15)*(-6)$\n",
    "3. Compute the remaining digits of the result\n",
    "  - $121=100+21=100-((-15)+(-6))$\n",
    "4. Glue the two results together as if they were strings ($12190=121|90$) to get the result\n",
    "  - $115*106=12190$\n",
    "\n",
    "The example works but it's still pretty mysterious. by looking at the numbers we computed along the way can you see what parts are likely to fail if we had chosen slightly different numbers?\n",
    "\n",
    "We could compute more examples by hand but luckily the computer do it for us."
   ]
  },
  {
   "cell_type": "code",
   "execution_count": null,
   "metadata": {},
   "outputs": [],
   "source": []
  },
  {
   "cell_type": "markdown",
   "metadata": {},
   "source": [
    "It seems that the algorithm fails in cases where the first digits in the result are either greater than 100 or negative. For instance it gives\n",
    "* For $101*99$ it gives  instead of\n",
    "* For $120*105$ it gives  instead of\n",
    "\n",
    "Can you see a pattern in the way the numbers fail, maybe a way to fix it?\n",
    "\n",
    "\n",
    "###### Inductive Reasoning\n",
    "\n",
    "We now have a good number of examples where it works and ones where it fails. Continuing with `inductive reasoning` we can recognize a pattern in the way values are failing. It seems like both instances can be fixed by carrying values. Perhaps, instead of gluing values together like strings we're actually multiplying one value by 100 and adding them! For instance, instead of saying $93|12$ we would say $9312=(93*100)+12$.\n",
    "\n",
    "For the two failing examples mentioned above we would get:\n",
    "* For $101*99$ it gives  instead of\n",
    "* For $120*105$ it gives  instead of\n",
    "\n",
    "Changing the python implementation we get"
   ]
  },
  {
   "cell_type": "code",
   "execution_count": null,
   "metadata": {},
   "outputs": [],
   "source": []
  },
  {
   "cell_type": "markdown",
   "metadata": {},
   "source": [
    "It's worth noting that so far we've relied almost entirely on `inductive reasoning`. We still don't know why it seems to work (or even if it really does work). The way we wrote out the algorithm, generating examples, and the idea to change the last step have all just been part of an attempt to find claims that are __likely__ to be true. It wouldn't be wrong to say that we don't really know anything yet. In fact, what we think we know could be totally wrong (we won't know anything for sure until we apply deductive reasoning).\n",
    "\n"
   ]
  },
  {
   "cell_type": "code",
   "execution_count": null,
   "metadata": {},
   "outputs": [],
   "source": []
  },
  {
   "cell_type": "markdown",
   "metadata": {},
   "source": [
    "###### Visualization\n",
    "\n",
    "Finally we can make a visualization.\n"
   ]
  },
  {
   "cell_type": "code",
   "execution_count": null,
   "metadata": {},
   "outputs": [],
   "source": []
  },
  {
   "cell_type": "markdown",
   "metadata": {},
   "source": [
    "\n",
    "### Sum of odd numbers\n",
    "\n",
    "Let's look at another example where we compute\n"
   ]
  },
  {
   "cell_type": "code",
   "execution_count": null,
   "metadata": {},
   "outputs": [],
   "source": []
  }
 ],
 "metadata": {
  "kernelspec": {
   "display_name": "Python 3",
   "language": "python",
   "name": "python3"
  },
  "language_info": {
   "codemirror_mode": {
    "name": "ipython",
    "version": 3
   },
   "file_extension": ".py",
   "mimetype": "text/x-python",
   "name": "python",
   "nbconvert_exporter": "python",
   "pygments_lexer": "ipython3",
   "version": "3.6.4"
  }
 },
 "nbformat": 4,
 "nbformat_minor": 2
}
