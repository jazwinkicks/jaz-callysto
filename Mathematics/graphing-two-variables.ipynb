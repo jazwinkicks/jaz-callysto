{
 "cells": [
  {
   "cell_type": "code",
   "execution_count": 1,
   "metadata": {},
   "outputs": [
    {
     "data": {
      "text/html": [
       "<script>requirejs.config({paths: { 'plotly': ['https://cdn.plot.ly/plotly-latest.min']},});if(!window.Plotly) {{require(['plotly'],function(plotly) {window.Plotly=plotly;});}}</script>"
      ],
      "text/vnd.plotly.v1+html": [
       "<script>requirejs.config({paths: { 'plotly': ['https://cdn.plot.ly/plotly-latest.min']},});if(!window.Plotly) {{require(['plotly'],function(plotly) {window.Plotly=plotly;});}}</script>"
      ]
     },
     "metadata": {},
     "output_type": "display_data"
    },
    {
     "data": {
      "text/html": [
       "<script>\n",
       "  function code_toggle() {\n",
       "    if (code_shown){\n",
       "      $('div.input').hide('500');\n",
       "      $('#toggleButton').val('Show Code')\n",
       "    } else {\n",
       "      $('div.input').show('500');\n",
       "      $('#toggleButton').val('Hide Code')\n",
       "    }\n",
       "    code_shown = !code_shown\n",
       "  }\n",
       "  \n",
       "  $( document ).ready(function(){\n",
       "    code_shown=false;\n",
       "    $('div.input').hide()\n",
       "  });\n",
       "</script>\n",
       "<form action=\"javascript:code_toggle()\"><input type=\"submit\" id=\"toggleButton\" value=\"Show Code\"></form>"
      ],
      "text/plain": [
       "<IPython.core.display.HTML object>"
      ]
     },
     "execution_count": 1,
     "metadata": {},
     "output_type": "execute_result"
    }
   ],
   "source": [
    "import matplotlib.pyplot as plt\n",
    "import plotly as py\n",
    "import plotly.graph_objs as go\n",
    "import numpy as np\n",
    "import math\n",
    "import ipywidgets as widgets\n",
    "from IPython.display import display, Math, Latex, HTML\n",
    "from astropy.table import Table, Column\n",
    "from ipywidgets import interact, interactive\n",
    "\n",
    "py.offline.init_notebook_mode(connected=True)\n",
    "\n",
    "%matplotlib inline\n",
    "\n",
    "font = {'family' : 'sans-serif',\n",
    "        'weight' : 'normal',\n",
    "        'size'   : 14}\n",
    "\n",
    "plt.rc('font', **font)\n",
    "\n",
    "\n",
    "\n",
    "#code for User_Graph\n",
    "\n",
    "class User_Graph:\n",
    "    \n",
    "    def __init__(self,num_points,x_dim,y_dim):\n",
    "        \n",
    "        #how many points do you want the user to input?\n",
    "        self.num_points = num_points\n",
    "        \n",
    "        #dimensions of the graph\n",
    "        self.x_dim = x_dim\n",
    "        self.y_dim = y_dim\n",
    "        \n",
    "        #create lists for x and y\n",
    "        self.x_list = []\n",
    "        self.y_list = []\n",
    "        \n",
    "    \n",
    "    def user_input(self):\n",
    "        #ask users to input data points\n",
    "        try:\n",
    "            #get x values\n",
    "            x_list = input(\"Enter the x-values as a list of the form [a,b,c,d,...]: \" )\n",
    "            x_list = x_list.strip(']')\n",
    "            x_list = x_list.strip('[')\n",
    "            x_list = x_list.split(',')\n",
    "            for i in x_list:\n",
    "                x_val = float(i)\n",
    "                self.x_list.append(x_val)\n",
    "            \n",
    "            #get y values\n",
    "            y_list = input(\"Enter the y-values as a list of the form [a,b,c,d,...]: \" )\n",
    "            y_list = y_list.strip(']')\n",
    "            y_list = y_list.strip('[')\n",
    "            y_list = y_list.split(',')\n",
    "            for i in y_list:\n",
    "                y_val = float(i)\n",
    "                self.y_list.append(y_val)\n",
    "            \n",
    "        except:\n",
    "            print(\"Entries must be real numbers!\")\n",
    "            self.user_input()\n",
    "        \n",
    "        if len(self.x_list) != len(self.y_list):\n",
    "            print(\"Must have an equal number of x and y values! Try Again.\")\n",
    "            self.user_input()\n",
    "    \n",
    "    def make_graph(self, title):\n",
    "        #make a graph out of the available data points\n",
    "        \n",
    "        layout = go.Layout(\n",
    "            title = title,\n",
    "            yaxis = dict(\n",
    "                title=\"<i>Y</i> Values\",\n",
    "                range = [self.y_dim[0], self.y_dim[1]]\n",
    "            ),\n",
    "            xaxis = dict(\n",
    "                title=\"<i>X</i> Values\",\n",
    "                range = [self.x_dim[0], self.x_dim[1]]\n",
    "            ),\n",
    "        )\n",
    "\n",
    "        trace1 = go.Scatter(\n",
    "            x = self.x_list,\n",
    "            y = self.y_list,\n",
    "            mode = \"lines+markers\",\n",
    "            name = \"extend plot\",\n",
    "            line=dict(\n",
    "                color = ('rgb(22, 96, 167)'),\n",
    "                shape = \"spline\",\n",
    "                dash = \"dot\"\n",
    "            )\n",
    "    \n",
    "        )\n",
    "\n",
    "        fig = go.Figure(data = [trace1], layout = layout)\n",
    "        py.offline.iplot(fig)\n",
    "        \n",
    "    def run_it(self):\n",
    "        # provide a title\n",
    "        title = input(\"Give the graph a title: \")\n",
    "        self.user_input()\n",
    "        self.make_graph(title)\n",
    "            \n",
    "\n",
    "#code for Double_Graph\n",
    "\n",
    "\n",
    "class Double_Graph:\n",
    "    \n",
    "    def __init__(self,num_points):\n",
    "        \n",
    "        #how many points do you want the user to input?\n",
    "        self.num_points = num_points\n",
    "        \n",
    "        #create lists for x and y\n",
    "        self.x1_list = []\n",
    "        self.y1_list = []\n",
    "        self.x2_list = []\n",
    "        self.y2_list = []\n",
    "    \n",
    "    def function_1(self):\n",
    "        #ask users to input data points\n",
    "        print(\"Enter data points for Quentin.\")\n",
    "        try:\n",
    "            #get x values\n",
    "            x1_list = input(\"Enter the x-values as a list of the form [a,b,c,d,...]: \" )\n",
    "            x1_list = x1_list.strip(']')\n",
    "            x1_list = x1_list.strip('[')\n",
    "            x1_list = x1_list.split(',')\n",
    "            for i in x1_list:\n",
    "                x1_val = float(i)\n",
    "                self.x1_list.append(x1_val)\n",
    "                \n",
    "            #get y values\n",
    "            y1_list = input(\"Enter the y-values as a list of the form [a,b,c,d,...]: \" )\n",
    "            y1_list = y1_list.strip(']')\n",
    "            y1_list = y1_list.strip('[')\n",
    "            y1_list = y1_list.split(',')\n",
    "            for i in y1_list:\n",
    "                y1_val = float(i)\n",
    "                self.y1_list.append(y1_val)\n",
    "            \n",
    "        except:\n",
    "            print(\"Entries must be real numbers!\")\n",
    "            self.function_1(data_num)\n",
    "            \n",
    "    def function_2(self):\n",
    "        #ask users to input data points\n",
    "        print(\"Now, enter data points for Isabelle\")\n",
    "        try:\n",
    "            x2_list = input(\"Enter the x-values as a list of the form [a,b,c,d,...]: \" )\n",
    "            x2_list = x2_list.strip(']')\n",
    "            x2_list = x2_list.strip('[')\n",
    "            x2_list = x2_list.split(',')\n",
    "            for i in x2_list:\n",
    "                x2_val = float(i)\n",
    "                self.x2_list.append(x2_val)\n",
    "                \n",
    "            #get y values\n",
    "            y2_list = input(\"Enter the y-values as a list of the form [a,b,c,d,...]: \" )\n",
    "            y2_list = y2_list.strip(']')\n",
    "            y2_list = y2_list.strip('[')\n",
    "            y2_list = y2_list.split(',')\n",
    "            for i in y2_list:\n",
    "                y2_val = float(i)\n",
    "                self.y2_list.append(y2_val)\n",
    "            \n",
    "        except:\n",
    "            print(\"Entries must be real numbers!\")\n",
    "            self.function_2(data_num)\n",
    "    \n",
    "    def make_graph(self, title):\n",
    "        #make a graph out of the available data points\n",
    "        \n",
    "        layout = go.Layout(\n",
    "            title = title,\n",
    "            yaxis = dict(\n",
    "                title=\"<i>Y</i> Values\",\n",
    "                range = [0,15]\n",
    "            ),\n",
    "            xaxis = dict(\n",
    "                title=\"<i>X</i> Values\",\n",
    "                range = [0,8]\n",
    "            ),\n",
    "        )\n",
    "\n",
    "        trace1 = go.Scatter(\n",
    "            x = self.x1_list,\n",
    "            y = self.y1_list,\n",
    "            mode = \"lines+markers\",\n",
    "            name = \"Quentin\",\n",
    "            line=dict(\n",
    "                color = ('rgb(22, 96, 167)'),\n",
    "                dash = \"dot\"\n",
    "            )\n",
    "    \n",
    "        )\n",
    "        \n",
    "        trace2 = go.Scatter(\n",
    "            x = self.x2_list,\n",
    "            y = self.y2_list,\n",
    "            mode = \"lines+markers\",\n",
    "            name = \"Isabelle\",\n",
    "            line=dict(\n",
    "                color = ('rgb(205, 12, 24)'),\n",
    "                dash = \"dot\"\n",
    "            )\n",
    "    \n",
    "        )\n",
    "\n",
    "        fig = go.Figure(data = [trace1,trace2], layout = layout)\n",
    "        py.offline.iplot(fig)\n",
    "        \n",
    "    def run_it(self):\n",
    "        title = input(\"Give the graph a title: \")\n",
    "        self.function_1()\n",
    "        self.function_2()\n",
    "        self.make_graph(title)\n",
    "\n",
    "'''Above, we are importing all the necessary modules in order to run the notebook. \n",
    "Numpy allows us to define arrays of values for our variables to plot them\n",
    "matplotlib is what we use to create the figures\n",
    "the display and widgets are to make the notebook look neat\n",
    "'''\n",
    "\n",
    "HTML('''<script>\n",
    "  function code_toggle() {\n",
    "    if (code_shown){\n",
    "      $('div.input').hide('500');\n",
    "      $('#toggleButton').val('Show Code')\n",
    "    } else {\n",
    "      $('div.input').show('500');\n",
    "      $('#toggleButton').val('Hide Code')\n",
    "    }\n",
    "    code_shown = !code_shown\n",
    "  }\n",
    "  \n",
    "  $( document ).ready(function(){\n",
    "    code_shown=false;\n",
    "    $('div.input').hide()\n",
    "  });\n",
    "</script>\n",
    "<form action=\"javascript:code_toggle()\"><input type=\"submit\" id=\"toggleButton\" value=\"Show Code\"></form>''')\n",
    "        \n",
    "    "
   ]
  },
  {
   "cell_type": "markdown",
   "metadata": {},
   "source": [
    "<h1><center>  Understanding the Relationship Between Two Variables Using Graphs </center></h1>\n",
    "***\n",
    "\n",
    "\n",
    "\n",
    "\n",
    "![Math_Gif](https://media.giphy.com/media/BmmfETghGOPrW/giphy.gif)\n",
    "<center>*GIF taken from https://giphy.com/gifs/reaction-BmmfETghGOPrW, June 11th, 2018.*</center>\n",
    "\n",
    "***\n",
    "\n",
    "> ## **Introduction**\n",
    "\n",
    "Humans are constantly interacting with other people, objects, and things. The outcomes of these interactions depend on the many **variables** that may exist in the given situation. A variable can be described as something that is free to change, and the way in which it changes can influence the outcome of a certain event. Consider the following example:\n",
    "\n",
    ">### **Example**\n",
    "Say you have a job that pays you an hourly wage of \\$10 per hour. Your wage then determines how much money you will make if you were to work for 5 hours ($5$ hours $\\times$ $\\$10$ per hour = $\\$50$). If your wage were to change to \\$12 per hour, the amount of money you would make in 5 hours would change as well ($5$ hours $\\times$ $\\$12$ per hour = $\\$60$). Your wage is therefore a *variable* that determines how much money you are going to make. \n",
    "\n",
    "Many of the choices we make every day require us to understand how certain variables will affect the results of our actions. The better our understanding, the better we are at reaching our desired outcome! A useful tool to help increase our understanding of how variables affect results is called a **graph**, which is simply a visual representation of the relationship between variables.\n",
    "\n",
    "This lesson will focus on how we can use graphs to improve our understanding of how two variables interact with each other. While there are many different types of graphs, we will focus on line graphs in this lesson to demonstrate the relationship between variables within **linear functions**. We will go through:\n",
    "- how to create a graph of a linear function \n",
    "- how to analyze the important characteristics of a graph, including slope, $x$ and $y$ intercepts\n",
    "\n",
    "Take a look at the graph shown below. This is a line graph that shows the relationship between a persons wage and how much money they will earn if they were to work for 5 hours. You can use the toolbar at the top of the graph to manipulate it."
   ]
  },
  {
   "cell_type": "code",
   "execution_count": null,
   "metadata": {},
   "outputs": [],
   "source": [
    "wages = np.linspace(0,50,11)\n",
    "money = []\n",
    "for item in wages:\n",
    "    y = item*5\n",
    "    money.append(y)\n",
    "\n",
    "layout = go.Layout(\n",
    "    title = \"Money Earned After Working 5 Hours\",\n",
    "    yaxis = dict(\n",
    "        title=\"Money Earned (Dollars)\"\n",
    "    ),\n",
    "    xaxis = dict(\n",
    "        title=\"Wage (Dollars per hour)\",\n",
    "    ),\n",
    ")\n",
    "\n",
    "trace1 = go.Scatter(\n",
    "    x = wages,\n",
    "    y = money,\n",
    "    mode = \"lines+markers\",\n",
    "    name = \"Plot 1\",\n",
    "    line=dict(\n",
    "        color = ('rgb(205, 12, 24)'),\n",
    "        shape = \"spline\",\n",
    "        dash = \"dot\"\n",
    "    )\n",
    "    \n",
    ")\n",
    "\n",
    "fig = go.Figure(data = [trace1], layout = layout)\n",
    "py.offline.iplot(fig)"
   ]
  },
  {
   "cell_type": "markdown",
   "metadata": {},
   "source": [
    "<center> Figure 1: This graph shows the relationship between a persons wage, and the money they will make after working for 5 hours. </center>\n"
   ]
  },
  {
   "cell_type": "markdown",
   "metadata": {},
   "source": [
    "***\n",
    "\n",
    "> ## **Background**\n",
    "\n",
    "### **Algebraic Equations**\n",
    "\n",
    "When dealing with mathematics, the relationship between certain variables can be written as an **algebraic equation**. In an algebraic equation, letters are used to represent variables that may have any value. For example, the relationship between wage and the amount of money made after working for 5 hours, as described above, can be shown as follows:\n",
    "\n",
    "\\begin{equation} \n",
    "\\label{1}\n",
    "\\rm MONEY\\: MADE = 5\\: HOURS \\times WAGE\n",
    "\\end{equation}\n",
    "\n",
    "here is the same equation, only now it is expressed algebraicly:\n",
    "\n",
    "\\begin{equation} \n",
    "\\label{2}\n",
    "M = 5W\n",
    "\\end{equation}\n",
    "\n",
    "In the algebraic equation, each letter represents a variable. The $W$ corresponds to wage, and the $M$ corresponds to the resulting amount of money made.\n",
    "\n",
    "When creating an algebraic expression, the letter that you assign to a variable really doesn't matter. However, in mathematics it is most common to select the letters $x$ and $y$ to represent equations with two different variables.\n",
    "In most cases that you will see in class, an equation will be given to you, and there may not be any meaning behind what each variable represents. Take a look at some of the examples below to get a better grasp on how an algebraic equation may look.\n",
    "***\n",
    ">#### **Examples**\n",
    "\n",
    "\\begin{equation}\n",
    "y = 3x + 9\n",
    "\\end{equation}\n",
    "\n",
    "\\begin{equation}\n",
    "y = \\frac{x}{4} + 3\n",
    "\\end{equation}\n",
    "\n",
    "\\begin{equation}\n",
    "y = \\frac{x + 7}{2}\n",
    "\\end{equation}\n",
    "***\n",
    "\n",
    "### **Linear Functions**\n",
    "\n",
    "Algebraic equations are sometimes called **functions**, particularly when they are used to create a graph. A **linear function** has the form:\n",
    "\n",
    "\\begin{equation} \n",
    "y = mx + b\n",
    "\\end{equation}\n",
    "\n",
    "\n",
    "where both the $x$ and $y$ variables in the equation are of degree 1 or 0, and $m$ and $b$ are *constants*. A *constant* is a number in an equation that does not change, or in other words, is not a variable. A constant can be positive, negative, a fraction or a whole number.\n",
    "\n",
    "Take another look at the equations shown in the section above, these are all linear functions! When a linear function is used to create a graph, the graph will look like a straight line (hence the name *linear* function).\n",
    "\n",
    "In this lesson we will only be looking at linear functions and their corresponding graphs.\n",
    "\n",
    "Use the section below to better your understanding of the difference between a *linear* function, and a *non-linear* function.\n",
    "\n",
    "\n",
    "\n"
   ]
  },
  {
   "cell_type": "code",
   "execution_count": null,
   "metadata": {},
   "outputs": [],
   "source": [
    "def lin_or_non(val):\n",
    "    if val == \"Linear\":\n",
    "        display(Latex(\"Correct!\"))\n",
    "        display(Latex(\"This equation has no exponent on either variable, and is therefore linear.\"))\n",
    "    elif val == \"Non-Linear\":\n",
    "        display(Latex(\"Try Again!\"))\n",
    "\n",
    "display(Latex(\"Is this function linear or non-linear?\"))\n",
    "display(Math('y = 12x -3'))\n",
    "    \n",
    "interact(lin_or_non, val = widgets.Dropdown(options=[' ', 'Linear', 'Non-Linear'],value = ' ',description = 'Choose One:',disabled = False));\n"
   ]
  },
  {
   "cell_type": "code",
   "execution_count": null,
   "metadata": {},
   "outputs": [],
   "source": [
    "def lin_or_non(val):\n",
    "    if val == \"Linear\":\n",
    "        display(Latex(\"Try Again!\"))\n",
    "    elif val == \"Non-Linear\":\n",
    "        display(Latex(\"Right on!\"))\n",
    "        display(Latex(\"Because $x$ is raised to the power of 2, this function is not linear.\"))\n",
    "\n",
    "display(Latex(\"Is this function linear or non-linear?\"))\n",
    "display(Math('y = 2x^2 + 17'))\n",
    "    \n",
    "interact(lin_or_non, val = widgets.Dropdown(options=[' ', 'Linear', 'Non-Linear'],value = ' ',description = 'Choose One:',disabled = False));\n"
   ]
  },
  {
   "cell_type": "code",
   "execution_count": null,
   "metadata": {},
   "outputs": [],
   "source": [
    "def lin_or_non(val):\n",
    "    if val == \"Linear\":\n",
    "        display(Latex(\"Try Again!\"))\n",
    "    elif val == \"Non-Linear\":\n",
    "        display(Latex(\"Way to go!\"))\n",
    "        display(Latex(\"This graph does not resemble a straight line, therefore, it is not linear.\"))\n",
    "        display(Latex(\"The equation for this function is:\"))\n",
    "        display(Math(\"y = x^2\"))\n",
    "\n",
    "display(Latex(\"Is this function linear or non-linear?\"))\n",
    "\n",
    "x = np.linspace(-10,10,21)\n",
    "y = []\n",
    "for num in x:\n",
    "    y_val = num**2\n",
    "    y.append(y_val)\n",
    "\n",
    "layout = go.Layout(\n",
    "    title = \"<i>Y</i> as a Function of <i>X</i>\",\n",
    "    yaxis = dict(\n",
    "        title=\"<i>Y</i> Values\"\n",
    "    ),\n",
    "    xaxis = dict(\n",
    "        title=\"<i>X</i> Values\"\n",
    "    ),\n",
    ")\n",
    "\n",
    "trace1 = go.Scatter(\n",
    "    x = x,\n",
    "    y = y,\n",
    "    mode = \"lines+markers\",\n",
    "    name = \"Plot 1\",\n",
    "    line=dict(\n",
    "        color = ('rgb(22, 96, 167)'),\n",
    "        shape = \"spline\",\n",
    "        dash = \"dot\"\n",
    "    )\n",
    "    \n",
    ")\n",
    "\n",
    "fig = go.Figure(data = [trace1], layout = layout)\n",
    "py.offline.iplot(fig)\n",
    "\n",
    "interact(lin_or_non, val = widgets.Dropdown(options=[' ', 'Linear', 'Non-Linear'],value = ' ',description = 'Choose One:',disabled = False));\n"
   ]
  },
  {
   "cell_type": "code",
   "execution_count": null,
   "metadata": {},
   "outputs": [],
   "source": [
    "def lin_or_non(val):\n",
    "    if val == \"Linear\":\n",
    "        display(Latex(\"Good job!\"))\n",
    "        display(Latex(\"This graph is a straight line, and is therefore linear.\"))\n",
    "        display(Latex(\"The equation for this function is:\"))\n",
    "        display(Math(\"y = -x - 6\"))\n",
    "    elif val == \"Non-Linear\":\n",
    "        display(Latex(\"Try Again!\"))\n",
    "\n",
    "display(Latex(\"Is this function linear or non-linear?\"))\n",
    "\n",
    "x = np.linspace(-10,4,10)\n",
    "y = []\n",
    "for num in x:\n",
    "    y_val = -num - 6\n",
    "    y.append(y_val)\n",
    "    \n",
    "    \n",
    "layout = go.Layout(\n",
    "    title = \"<i>Y</i> as a Function of <i>X</i>\",\n",
    "    yaxis = dict(\n",
    "        title=\"<i>Y</i> Values\"\n",
    "    ),\n",
    "    xaxis = dict(\n",
    "        title=\"<i>X</i> Values\"\n",
    "    ),\n",
    ")\n",
    "\n",
    "trace1 = go.Scatter(\n",
    "    x = x,\n",
    "    y = y,\n",
    "    mode = \"lines+markers\",\n",
    "    name = \"Plot 1\",\n",
    "    line=dict(\n",
    "        color = ('rgb(100, 100, 100)'),\n",
    "        shape = \"spline\",\n",
    "        dash = \"dot\"\n",
    "    )\n",
    "    \n",
    ")\n",
    "\n",
    "fig = go.Figure(data = [trace1], layout = layout)\n",
    "py.offline.iplot(fig)\n",
    "    \n",
    "    \n",
    "interact(lin_or_non, val = widgets.Dropdown(options=[' ', 'Linear', 'Non-Linear'],value = ' ',description = 'Choose One:',disabled = False));\n"
   ]
  },
  {
   "cell_type": "markdown",
   "metadata": {},
   "source": [
    "Now that we know how linear functions can look, lets talk about how we can represent them on a graph!\n",
    "\n",
    "## **Creating a Graph**\n",
    "\n",
    "### **Independent and Dependent Variables**\n",
    "\n",
    "When you want to express a linear function with two variables on a graph, it is important to first establish the **independent variable** and the **dependent variable**. The *independent* variable can be thought of as the variable that is subject to change in order to produce different results, whereas the *dependent* variable can be thought of as the variable whose value *depends* on the independent variable. The difference between the two types of variables may be difficult to understand at first, so here is an example that may help.\n",
    "***\n",
    ">#### **Example**\n",
    "Let's say you are conducting an experiment to measure how many push-ups you can do in a certain amount of time. There are two variables at play here: the amount of time you are given to do push-ups, and the amount of push-ups you actually do in that time. In this scenario, you are able to freely change how much time you have to do push-ups. You could give yourself 30 seconds, an hour, or a day! Therefore, *time is the independent variable*. \n",
    "On the other hand, the amount of push-ups you are actually able to do *depends* on the amount of time you have to do them. Therefore, the *dependent variable is the number of push-ups you do*. \n",
    "***\n",
    "When you are given an equation with two variables ($x$ and $y$), it is common to establish $x$ as the independent variable, and $y$ as the dependent variable.\n",
    "***\n"
   ]
  },
  {
   "cell_type": "code",
   "execution_count": null,
   "metadata": {},
   "outputs": [],
   "source": [
    "def wage(val):\n",
    "    if val == \"W (Wage)\":\n",
    "        display(Latex(\"Correct!\"))\n",
    "        display(Latex(\"The amount of money you make depends on your wage, and your wage is free to change. It is therefore the independent variable.\"))\n",
    "    elif val == \"M (Money Made)\":\n",
    "        display(Latex(\"Try Again!\"))\n",
    "\n",
    "display(Latex(\"From the wage example shown in the section above, which variable do you think is the independent variable?\"))\n",
    "display(Math('M = 5W'))\n",
    "    \n",
    "interact(wage, val = widgets.Dropdown(options=[' ', 'W (Wage)', 'M (Money Made)'],value = ' ',description = 'Choose One:',disabled = False));\n"
   ]
  },
  {
   "cell_type": "markdown",
   "metadata": {},
   "source": [
    "***\n",
    "### **The Cartesian Plane**\n",
    "\n",
    "Once we have established the independent and dependent variables in our linear function, we are ready to set up a graph of their relationship. When graphing two variables, we use what is called the **Cartesian Plane**. You have probably seen a graph on the Cartesian Plane before, but here is what it looks like:"
   ]
  },
  {
   "cell_type": "code",
   "execution_count": null,
   "metadata": {},
   "outputs": [],
   "source": [
    "layout = go.Layout(\n",
    "    title = \"The Cartesian Plane\",\n",
    "    yaxis = dict(\n",
    "        title=\"<i>Y</i> Axis\",\n",
    "        range = [-10,10],\n",
    "        dtick = 1.00\n",
    "    ),\n",
    "    xaxis = dict(\n",
    "        title=\"<i>X</i> Axis\",\n",
    "        range = [-10,10],\n",
    "        dtick = 1.00\n",
    "    ),\n",
    ")\n",
    "\n",
    "trace1 = go.Scatter(\n",
    "    x = [5,-5,-5,5],\n",
    "    y = [5,5,-5,-5],\n",
    "    mode = \"marker+text\",\n",
    "    name = \"Plot 1\",\n",
    "    text=['Quadrant 1', 'Quadrant 2', 'Quadrant 3', 'Quadrant 4'],\n",
    "    textposition='bottom'\n",
    ")\n",
    "\n",
    "fig = go.Figure(data = [trace1], layout = layout)\n",
    "py.offline.iplot(fig)"
   ]
  },
  {
   "cell_type": "markdown",
   "metadata": {},
   "source": [
    "<center> Figure 2: This is the standard layout for the Cartesian Plane, where you will plot all linear functions. The point where $x = 0$ and $y = 0$ is called the origin. </center>"
   ]
  },
  {
   "cell_type": "markdown",
   "metadata": {},
   "source": [
    "On the Cartesian Plane, there are two **axes**: the $x$ axis (horizontal), and the $y$ axis (vertical). When we want to graph a certain relationship, we label the $y$ axis with the dependent variable, and the $x$ axis with the independent variable. When you aren't given a specific name for what the independent and dependent variable represent, it is okay to just label the $x$ axis \"$X$\" and the $y$ axis \"$Y$\". \n",
    "\n",
    "When giving the graph a title, it is customary to describe what is being shown on the graph. Your title should provide the observer with a concise understanding of what is being shown. In most cases, you will describe the dependent variable as a function of the independent variable, or \"$Y$ as a Function of $X$\". \n",
    "\n",
    "The Cartesian Plane consists of four **quadrants**, or sections. The top right section, where both $x$ and $y$ are positive (+,+), is quadrant 1. Then going counter-clockwise, quadrant 2 is the section where $x$ is negative and $y$ is positive (-,+), in quadrant 3 both $x$ and $y$ are negative (-,-), and in quadrant 4, $x$ is positive and $y$ is negative (+,-).\n",
    "\n",
    "Now that we have established how a graph should look, lets talk about how we generate the values that we want to plot on the graph!\n",
    "\n",
    "### **Finding the Data Points**\n",
    "\n",
    "The data points that are shown on a graph don't just appear out of nowhere; they can come from scientific observations, measurements, or mathematical relationships. When graphing on the Cartesian Plane, each data point has an $x$ value and a $y$ value (sometimes called an $x$ coordinate and a $y$ coordinate), and these values are what determine where the point will appear on the graph.\n",
    "\n",
    "The best way to describe how we find the $x$ value and $y$ value for each data point is through an example.\n",
    "\n",
    "***\n",
    "> #### **Example**\n",
    "\n",
    "Suppose you are given a linear equation such as $y = 3x + 2$, and you are asked to plot a graph with ten data points, starting from $x = 1$ up to $x = 5$.\n",
    "\n",
    "To begin generating data points, the first thing you need to do is pick ten unique $x$ values between $1$ and $5$. \n",
    "\n",
    "For simplicity, let's pick 1, 2, 3, 4, and 5.\n",
    "\n",
    "\\begin{array}{| c | c |}\n",
    "\\hline\n",
    "  X\\: Value & Y\\: Value  \\\\\n",
    "  \\hline\n",
    "  1 & ? \\\\\\hline\n",
    "  2 & ? \\\\\\hline\n",
    "  3 & ? \\\\\\hline\n",
    "  4 & ? \\\\\\hline\n",
    "  5 & ? \\\\\\hline\n",
    "\\end{array}\n",
    "\n",
    "Now we need to find the value of $y$ at each one of the chosen values for $x$. We can do this by plugging our chosen $x$ values into the equation that we have been given: $y = 3x + 2$.\n",
    "\n",
    "Lets take our first $x$ value, 1, and plug it into the equation\n",
    "\n",
    "\\begin{equation} \n",
    "y = 3x + 2\n",
    "\\end{equation}\n",
    "\\begin{equation}\n",
    "x = 1\n",
    "\\end{equation}\n",
    "\n",
    "So, plugging in this value:\n",
    "\n",
    "\\begin{equation} \n",
    "y = 3(1) + 2\n",
    "\\end{equation}\n",
    "\\begin{equation}\n",
    "y = 3 + 2\n",
    "\\end{equation}\n",
    "\\begin{equation}\n",
    "y = 5\n",
    "\\end{equation}\n",
    "\n",
    "We now have the value of our first data point! When $x = 1$, $y = 5$. We would write this data point down at (1,5). Lets fill in the table so we can keep track of the data points we find:\n",
    "\n",
    "\\begin{array}{| c | c |}\n",
    "\\hline\n",
    "  X\\: Value  & Y\\: Value  \\\\\n",
    "  \\hline\n",
    "  1 & 5 \\\\\\hline\n",
    "  2 & ? \\\\\\hline\n",
    "  3 & ? \\\\\\hline\n",
    "  4 & ? \\\\\\hline\n",
    "  5 & ? \\\\\\hline\n",
    "\\end{array}\n",
    "\n",
    "\n",
    "In the section below, use the above method to find the remaining $y$ values."
   ]
  },
  {
   "cell_type": "code",
   "execution_count": null,
   "metadata": {},
   "outputs": [],
   "source": [
    "\n",
    "###### Create input boxes to find remaining values\n",
    "\n",
    "def find_y(xval):\n",
    "    try:\n",
    "        \n",
    "        y = 3*(xval) + 2\n",
    "    \n",
    "        ans = input(\"When x = \" + str(xval) + \", y = \")\n",
    "        answer = int(ans)\n",
    "        \n",
    "        \n",
    "        if answer == y:\n",
    "            print(\"Correct!\")\n",
    "        \n",
    "            #show updated table\n",
    "            x_col = [1,2,3,4,5]\n",
    "            y_col = []\n",
    "            for i in range(1,xval + 1):\n",
    "                yval = 3*(i) + 2\n",
    "                y_col.append(yval)\n",
    "            \n",
    "            #fill in empty spots with question marks\n",
    "            if len(y_col) < 5:\n",
    "                extra = 5 - len(y_col)\n",
    "                for j in range(1, extra + 1):\n",
    "                    y_col.append(\"?\")\n",
    "                \n",
    "            #show the table        \n",
    "            t = Table([x_col,y_col], names = (\"X Value\",\"Y Value\"))\n",
    "            print(t)\n",
    "        \n",
    "        else:\n",
    "            print(\"Incorrect, try again!\")\n",
    "            print(\"Remember, the equation is: y = 3x + 2\")\n",
    "            find_y(xval)\n",
    "        \n",
    "        \n",
    "        \n",
    "        \n",
    "    except:\n",
    "        print(\"Answer must be an integer! Try again.\")\n",
    "        find_y(xval)\n",
    "        \n",
    "    \n",
    "                \n",
    "for i in range(2,6):\n",
    "    find_y(i)\n",
    "                "
   ]
  },
  {
   "cell_type": "markdown",
   "metadata": {},
   "source": [
    "Good job! Now that we have all of the data points, we are ready to plot them on the graph.\n",
    "\n",
    "\n",
    "### **Plotting the Data Points on the Graph**\n",
    "\n",
    "To plot our data points on a graph, we will need our Cartesian Plane, with the $x$ axis and $y$ axis labelled as follows:"
   ]
  },
  {
   "cell_type": "code",
   "execution_count": 3,
   "metadata": {},
   "outputs": [
    {
     "data": {
      "application/vnd.plotly.v1+json": {
       "data": [
        {
         "line": {
          "color": "rgb(205, 12, 24)",
          "dash": "dot",
          "shape": "spline"
         },
         "mode": "lines+markers",
         "name": "Plot 1",
         "type": "scatter",
         "x": [],
         "y": []
        }
       ],
       "layout": {
        "title": "<i>Y</i> as a Function of <i>X</i>",
        "xaxis": {
         "dtick": 1,
         "range": [
          -1,
          10
         ],
         "title": "<i>X</i> Values"
        },
        "yaxis": {
         "dtick": 1,
         "range": [
          -1,
          20
         ],
         "title": "<i>Y</i> Values"
        }
       }
      },
      "text/html": [
       "<div id=\"b454ea3d-7a8b-4f20-96e3-0bc6f0c5ad18\" style=\"height: 525px; width: 100%;\" class=\"plotly-graph-div\"></div><script type=\"text/javascript\">require([\"plotly\"], function(Plotly) { window.PLOTLYENV=window.PLOTLYENV || {};window.PLOTLYENV.BASE_URL=\"https://plot.ly\";Plotly.newPlot(\"b454ea3d-7a8b-4f20-96e3-0bc6f0c5ad18\", [{\"type\": \"scatter\", \"x\": [], \"y\": [], \"mode\": \"lines+markers\", \"name\": \"Plot 1\", \"line\": {\"color\": \"rgb(205, 12, 24)\", \"shape\": \"spline\", \"dash\": \"dot\"}}], {\"title\": \"<i>Y</i> as a Function of <i>X</i>\", \"yaxis\": {\"title\": \"<i>Y</i> Values\", \"range\": [-1, 20], \"dtick\": 1.0}, \"xaxis\": {\"title\": \"<i>X</i> Values\", \"range\": [-1, 10], \"dtick\": 1.0}}, {\"showLink\": true, \"linkText\": \"Export to plot.ly\"})});</script>"
      ],
      "text/vnd.plotly.v1+html": [
       "<div id=\"b454ea3d-7a8b-4f20-96e3-0bc6f0c5ad18\" style=\"height: 525px; width: 100%;\" class=\"plotly-graph-div\"></div><script type=\"text/javascript\">require([\"plotly\"], function(Plotly) { window.PLOTLYENV=window.PLOTLYENV || {};window.PLOTLYENV.BASE_URL=\"https://plot.ly\";Plotly.newPlot(\"b454ea3d-7a8b-4f20-96e3-0bc6f0c5ad18\", [{\"type\": \"scatter\", \"x\": [], \"y\": [], \"mode\": \"lines+markers\", \"name\": \"Plot 1\", \"line\": {\"color\": \"rgb(205, 12, 24)\", \"shape\": \"spline\", \"dash\": \"dot\"}}], {\"title\": \"<i>Y</i> as a Function of <i>X</i>\", \"yaxis\": {\"title\": \"<i>Y</i> Values\", \"range\": [-1, 20], \"dtick\": 1.0}, \"xaxis\": {\"title\": \"<i>X</i> Values\", \"range\": [-1, 10], \"dtick\": 1.0}}, {\"showLink\": true, \"linkText\": \"Export to plot.ly\"})});</script>"
      ]
     },
     "metadata": {},
     "output_type": "display_data"
    }
   ],
   "source": [
    "layout = go.Layout(\n",
    "    title = \"<i>Y</i> as a Function of <i>X</i>\",\n",
    "    yaxis = dict(\n",
    "        title=\"<i>Y</i> Values\",\n",
    "        range = [-1,20],\n",
    "        dtick = 1.00\n",
    "    ),\n",
    "    xaxis = dict(\n",
    "        title=\"<i>X</i> Values\",\n",
    "        range = [-1,10],\n",
    "        dtick = 1.00\n",
    "    )\n",
    ")\n",
    "\n",
    "trace1 = go.Scatter(\n",
    "    x = [],\n",
    "    y = [],\n",
    "    mode = \"lines+markers\",\n",
    "    name = \"Plot 1\",\n",
    "    line=dict(\n",
    "        color = ('rgb(205, 12, 24)'),\n",
    "        shape = \"spline\",\n",
    "        dash = \"dot\"\n",
    "    )\n",
    "    \n",
    ")\n",
    "\n",
    "fig = go.Figure(data = [trace1], layout = layout)\n",
    "py.offline.iplot(fig)\n"
   ]
  },
  {
   "cell_type": "markdown",
   "metadata": {},
   "source": [
    "<center> Figure 3: The layout of our graph. As all of our data points have positive $x$ and $y$ values, we only need to focus on the first quadrant (top right corner).</center>\n",
    "\n",
    "Now, using our chart of data points, lets plot our first point. The $x$ value of our first point is 1, and the $y$ value is 5. So lets find the point on the graph where $x=1$ and $y=5$ and mark this point\n"
   ]
  },
  {
   "cell_type": "code",
   "execution_count": null,
   "metadata": {},
   "outputs": [],
   "source": [
    "layout = go.Layout(\n",
    "    title = \"<i>Y</i> as a Function of <i>X</i>\",\n",
    "    yaxis = dict(\n",
    "        title=\"<i>Y</i> Values\",\n",
    "        range = [-1,20],\n",
    "        dtick = 1.00\n",
    "    ),\n",
    "    xaxis = dict(\n",
    "        title=\"<i>X</i> Values\",\n",
    "        range = [-1,10],\n",
    "        dtick = 1.00\n",
    "    )\n",
    ")\n",
    "\n",
    "trace1 = go.Scatter(\n",
    "    x = [1],\n",
    "    y = [5],\n",
    "    mode = \"lines+markers\",\n",
    "    name = \"Plot 1\",\n",
    "    line=dict(\n",
    "        color = ('rgb(205, 12, 24)'),\n",
    "        shape = \"spline\",\n",
    "        dash = \"dot\"\n",
    "    )\n",
    "    \n",
    ")\n",
    "\n",
    "fig = go.Figure(data = [trace1], layout = layout)\n",
    "py.offline.iplot(fig)"
   ]
  },
  {
   "cell_type": "markdown",
   "metadata": {},
   "source": [
    "<center> Figure 4: Here is the location of our first data point.</center>"
   ]
  },
  {
   "cell_type": "markdown",
   "metadata": {},
   "source": [
    "That is your first data point!\n",
    "\n",
    "In the section below, use the above methods to create a graph and plot all of the data points.\n",
    "\n",
    "\\begin{array}{| c | c |}\n",
    "\\hline\n",
    "  X\\: Value & Y\\: Value \\\\\n",
    "  \\hline\n",
    "  1 & 5 \\\\\\hline\n",
    "  2 & 8 \\\\\\hline\n",
    "  3 & 11 \\\\\\hline\n",
    "  4 & 14 \\\\\\hline\n",
    "  5 & 17 \\\\\\hline\n",
    "\\end{array}"
   ]
  },
  {
   "cell_type": "code",
   "execution_count": 2,
   "metadata": {},
   "outputs": [
    {
     "name": "stdout",
     "output_type": "stream",
     "text": [
      "Give the graph a title: Y as a Function of X\n",
      "Enter the x-values as a list of the form [a,b,c,d,...]: [1,2,3,4,5]\n",
      "Enter the y-values as a list of the form [a,b,c,d,...]: [5,8,11,14,17]\n"
     ]
    },
    {
     "data": {
      "application/vnd.plotly.v1+json": {
       "data": [
        {
         "line": {
          "color": "rgb(22, 96, 167)",
          "dash": "dot",
          "shape": "spline"
         },
         "mode": "lines+markers",
         "name": "extend plot",
         "type": "scatter",
         "x": [
          1,
          2,
          3,
          4,
          5
         ],
         "y": [
          5,
          8,
          11,
          14,
          17
         ]
        }
       ],
       "layout": {
        "title": "Y as a Function of X",
        "xaxis": {
         "range": [
          -1,
          10
         ],
         "title": "<i>X</i> Values"
        },
        "yaxis": {
         "range": [
          -1,
          20
         ],
         "title": "<i>Y</i> Values"
        }
       }
      },
      "text/html": [
       "<div id=\"d202420c-7c22-4d08-81e8-5b2705f68d1b\" style=\"height: 525px; width: 100%;\" class=\"plotly-graph-div\"></div><script type=\"text/javascript\">require([\"plotly\"], function(Plotly) { window.PLOTLYENV=window.PLOTLYENV || {};window.PLOTLYENV.BASE_URL=\"https://plot.ly\";Plotly.newPlot(\"d202420c-7c22-4d08-81e8-5b2705f68d1b\", [{\"type\": \"scatter\", \"x\": [1.0, 2.0, 3.0, 4.0, 5.0], \"y\": [5.0, 8.0, 11.0, 14.0, 17.0], \"mode\": \"lines+markers\", \"name\": \"extend plot\", \"line\": {\"color\": \"rgb(22, 96, 167)\", \"shape\": \"spline\", \"dash\": \"dot\"}}], {\"title\": \"Y as a Function of X\", \"yaxis\": {\"title\": \"<i>Y</i> Values\", \"range\": [-1, 20]}, \"xaxis\": {\"title\": \"<i>X</i> Values\", \"range\": [-1, 10]}}, {\"showLink\": true, \"linkText\": \"Export to plot.ly\"})});</script>"
      ],
      "text/vnd.plotly.v1+html": [
       "<div id=\"d202420c-7c22-4d08-81e8-5b2705f68d1b\" style=\"height: 525px; width: 100%;\" class=\"plotly-graph-div\"></div><script type=\"text/javascript\">require([\"plotly\"], function(Plotly) { window.PLOTLYENV=window.PLOTLYENV || {};window.PLOTLYENV.BASE_URL=\"https://plot.ly\";Plotly.newPlot(\"d202420c-7c22-4d08-81e8-5b2705f68d1b\", [{\"type\": \"scatter\", \"x\": [1.0, 2.0, 3.0, 4.0, 5.0], \"y\": [5.0, 8.0, 11.0, 14.0, 17.0], \"mode\": \"lines+markers\", \"name\": \"extend plot\", \"line\": {\"color\": \"rgb(22, 96, 167)\", \"shape\": \"spline\", \"dash\": \"dot\"}}], {\"title\": \"Y as a Function of X\", \"yaxis\": {\"title\": \"<i>Y</i> Values\", \"range\": [-1, 20]}, \"xaxis\": {\"title\": \"<i>X</i> Values\", \"range\": [-1, 10]}}, {\"showLink\": true, \"linkText\": \"Export to plot.ly\"})});</script>"
      ]
     },
     "metadata": {},
     "output_type": "display_data"
    }
   ],
   "source": [
    "g = User_Graph(5,[-1,10],[-1,20])\n",
    "g.run_it()"
   ]
  },
  {
   "cell_type": "markdown",
   "metadata": {},
   "source": [
    "If done correctly, your graph should look something like this:"
   ]
  },
  {
   "cell_type": "code",
   "execution_count": 3,
   "metadata": {},
   "outputs": [
    {
     "data": {
      "application/vnd.plotly.v1+json": {
       "data": [
        {
         "line": {
          "color": "rgb(205, 12, 24)",
          "dash": "dot",
          "shape": "spline"
         },
         "mode": "lines+markers",
         "name": "Plot 1",
         "type": "scatter",
         "x": [
          1,
          2,
          3,
          4,
          5
         ],
         "y": [
          5,
          8,
          11,
          14,
          17
         ]
        }
       ],
       "layout": {
        "title": "<i>Y</i> as a Function of <i>X</i>",
        "xaxis": {
         "range": [
          -1,
          10
         ],
         "title": "<i>X</i> Values"
        },
        "yaxis": {
         "range": [
          -1,
          20
         ],
         "title": "<i>Y</i> Values"
        }
       }
      },
      "text/html": [
       "<div id=\"e5fe49a6-50df-46ff-b035-4c43ce927cf8\" style=\"height: 525px; width: 100%;\" class=\"plotly-graph-div\"></div><script type=\"text/javascript\">require([\"plotly\"], function(Plotly) { window.PLOTLYENV=window.PLOTLYENV || {};window.PLOTLYENV.BASE_URL=\"https://plot.ly\";Plotly.newPlot(\"e5fe49a6-50df-46ff-b035-4c43ce927cf8\", [{\"type\": \"scatter\", \"x\": [1, 2, 3, 4, 5], \"y\": [5, 8, 11, 14, 17], \"mode\": \"lines+markers\", \"name\": \"Plot 1\", \"line\": {\"color\": \"rgb(205, 12, 24)\", \"shape\": \"spline\", \"dash\": \"dot\"}}], {\"title\": \"<i>Y</i> as a Function of <i>X</i>\", \"yaxis\": {\"title\": \"<i>Y</i> Values\", \"range\": [-1, 20]}, \"xaxis\": {\"title\": \"<i>X</i> Values\", \"range\": [-1, 10]}}, {\"showLink\": true, \"linkText\": \"Export to plot.ly\"})});</script>"
      ],
      "text/vnd.plotly.v1+html": [
       "<div id=\"e5fe49a6-50df-46ff-b035-4c43ce927cf8\" style=\"height: 525px; width: 100%;\" class=\"plotly-graph-div\"></div><script type=\"text/javascript\">require([\"plotly\"], function(Plotly) { window.PLOTLYENV=window.PLOTLYENV || {};window.PLOTLYENV.BASE_URL=\"https://plot.ly\";Plotly.newPlot(\"e5fe49a6-50df-46ff-b035-4c43ce927cf8\", [{\"type\": \"scatter\", \"x\": [1, 2, 3, 4, 5], \"y\": [5, 8, 11, 14, 17], \"mode\": \"lines+markers\", \"name\": \"Plot 1\", \"line\": {\"color\": \"rgb(205, 12, 24)\", \"shape\": \"spline\", \"dash\": \"dot\"}}], {\"title\": \"<i>Y</i> as a Function of <i>X</i>\", \"yaxis\": {\"title\": \"<i>Y</i> Values\", \"range\": [-1, 20]}, \"xaxis\": {\"title\": \"<i>X</i> Values\", \"range\": [-1, 10]}}, {\"showLink\": true, \"linkText\": \"Export to plot.ly\"})});</script>"
      ]
     },
     "metadata": {},
     "output_type": "display_data"
    }
   ],
   "source": [
    "layout = go.Layout(\n",
    "    title = \"<i>Y</i> as a Function of <i>X</i>\",\n",
    "    yaxis = dict(\n",
    "        title=\"<i>Y</i> Values\",\n",
    "        range = [-1,20]\n",
    "    ),\n",
    "    xaxis = dict(\n",
    "        title=\"<i>X</i> Values\",\n",
    "        range = [-1,10]\n",
    "    )\n",
    ")\n",
    "\n",
    "trace1 = go.Scatter(\n",
    "    x = [1,2,3,4,5],\n",
    "    y = [5,8,11,14,17],\n",
    "    mode = \"lines+markers\",\n",
    "    name = \"Plot 1\",\n",
    "    line=dict(\n",
    "        color = ('rgb(205, 12, 24)'),\n",
    "        shape = \"spline\",\n",
    "        dash = \"dot\"\n",
    "    )\n",
    "    \n",
    ")\n",
    "\n",
    "fig = go.Figure(data = [trace1], layout = layout)\n",
    "py.offline.iplot(fig)"
   ]
  },
  {
   "cell_type": "markdown",
   "metadata": {},
   "source": [
    "If the graph you made looks significantly different, try running the code segment again to re-try!\n",
    "\n",
    "\n",
    "Now that you know how to create a graph, let's talk about some of the important things that a graph can tell us.\n",
    "\n",
    "***\n",
    "\n",
    "**Features of a Linear Graph: Intercepts**\n",
    "\n",
    "A graph can tell us some interesting details about how two variables relate to one another in a given scenario. Two such details are called the $x$ intercept and the $y$ intercept. The $x$ intercept is the point on the graph where the function crosses the $x$ axis, and similarily, the $y$ intercept is the point where the function crosses the $y$ axis. \n",
    "- At the $x$ intercept, $y = 0$\n",
    "- At the $y$ intercept, $x = 0$.\n",
    "\n",
    "This may seem like trivial information, but depending on what the graph is representing, the position of the $x$ and $y$ intercepts can prove to be very informative.\n",
    "\n",
    "***\n",
    "> ### **Example**\n",
    "\n",
    "Let's say you have a job as a taxi driver and your wage is approximately \\$15 per hour. However, before you start your shift you need to fill your car with \\$30 worth of gas. Knowing this, how many hours do you have to work in order to start making money?\n",
    "\n",
    "The equation for this scenario can be represented as:\n",
    "\n",
    "\\begin{equation} \n",
    "y = 15x - 30\n",
    "\\end{equation}\n",
    "\n",
    "where $x$ represents how many hours you have worked, and $y$ represents the amount of money you have made.\n",
    "\n",
    "Take a look at the graph below that shows the equation."
   ]
  },
  {
   "cell_type": "code",
   "execution_count": 4,
   "metadata": {
    "scrolled": false
   },
   "outputs": [
    {
     "data": {
      "application/vnd.plotly.v1+json": {
       "data": [
        {
         "line": {
          "color": "rgb(22, 96, 167)",
          "dash": "dot",
          "shape": "spline"
         },
         "mode": "lines+markers",
         "name": "Plot 1",
         "type": "scatter",
         "x": [
          0,
          2,
          4,
          6,
          8,
          10,
          12,
          14,
          16,
          18,
          20
         ],
         "y": [
          -30,
          0,
          30,
          60,
          90,
          120,
          150,
          180,
          210,
          240,
          270
         ]
        }
       ],
       "layout": {
        "title": "Amount of Money Earned as a Function of Hours Worked",
        "xaxis": {
         "title": "Hours Worked"
        },
        "yaxis": {
         "title": "Money Earned (Dollars)"
        }
       }
      },
      "text/html": [
       "<div id=\"4cf6c7a2-9258-4a49-8c13-a0c5bfca72f2\" style=\"height: 525px; width: 100%;\" class=\"plotly-graph-div\"></div><script type=\"text/javascript\">require([\"plotly\"], function(Plotly) { window.PLOTLYENV=window.PLOTLYENV || {};window.PLOTLYENV.BASE_URL=\"https://plot.ly\";Plotly.newPlot(\"4cf6c7a2-9258-4a49-8c13-a0c5bfca72f2\", [{\"type\": \"scatter\", \"x\": [0.0, 2.0, 4.0, 6.0, 8.0, 10.0, 12.0, 14.0, 16.0, 18.0, 20.0], \"y\": [-30.0, 0.0, 30.0, 60.0, 90.0, 120.0, 150.0, 180.0, 210.0, 240.0, 270.0], \"mode\": \"lines+markers\", \"name\": \"Plot 1\", \"line\": {\"color\": \"rgb(22, 96, 167)\", \"shape\": \"spline\", \"dash\": \"dot\"}}], {\"title\": \"Amount of Money Earned as a Function of Hours Worked\", \"yaxis\": {\"title\": \"Money Earned (Dollars)\"}, \"xaxis\": {\"title\": \"Hours Worked\"}}, {\"showLink\": true, \"linkText\": \"Export to plot.ly\"})});</script>"
      ],
      "text/vnd.plotly.v1+html": [
       "<div id=\"4cf6c7a2-9258-4a49-8c13-a0c5bfca72f2\" style=\"height: 525px; width: 100%;\" class=\"plotly-graph-div\"></div><script type=\"text/javascript\">require([\"plotly\"], function(Plotly) { window.PLOTLYENV=window.PLOTLYENV || {};window.PLOTLYENV.BASE_URL=\"https://plot.ly\";Plotly.newPlot(\"4cf6c7a2-9258-4a49-8c13-a0c5bfca72f2\", [{\"type\": \"scatter\", \"x\": [0.0, 2.0, 4.0, 6.0, 8.0, 10.0, 12.0, 14.0, 16.0, 18.0, 20.0], \"y\": [-30.0, 0.0, 30.0, 60.0, 90.0, 120.0, 150.0, 180.0, 210.0, 240.0, 270.0], \"mode\": \"lines+markers\", \"name\": \"Plot 1\", \"line\": {\"color\": \"rgb(22, 96, 167)\", \"shape\": \"spline\", \"dash\": \"dot\"}}], {\"title\": \"Amount of Money Earned as a Function of Hours Worked\", \"yaxis\": {\"title\": \"Money Earned (Dollars)\"}, \"xaxis\": {\"title\": \"Hours Worked\"}}, {\"showLink\": true, \"linkText\": \"Export to plot.ly\"})});</script>"
      ]
     },
     "metadata": {},
     "output_type": "display_data"
    }
   ],
   "source": [
    "hours = np.linspace(0,20,11)\n",
    "money = []\n",
    "\n",
    "for item in hours:\n",
    "    y = item*15 - 30\n",
    "    money.append(y)\n",
    "\n",
    "    \n",
    "layout = go.Layout(\n",
    "    title = \"Amount of Money Earned as a Function of Hours Worked\",\n",
    "    yaxis = dict(\n",
    "        title=\"Money Earned (Dollars)\"\n",
    "    ),\n",
    "    xaxis = dict(\n",
    "        title=\"Hours Worked\"\n",
    "    ),\n",
    ")\n",
    "\n",
    "trace1 = go.Scatter(\n",
    "    x = hours,\n",
    "    y = money,\n",
    "    mode = \"lines+markers\",\n",
    "    name = \"Plot 1\",\n",
    "    line=dict(\n",
    "        color = ('rgb(22, 96, 167)'),\n",
    "        shape = \"spline\",\n",
    "        dash = \"dot\"\n",
    "    )\n",
    "    \n",
    ")\n",
    "\n",
    "fig = go.Figure(data = [trace1], layout = layout)\n",
    "py.offline.iplot(fig)\n"
   ]
  },
  {
   "cell_type": "markdown",
   "metadata": {},
   "source": [
    "<center> Figure 5: The amount of money a taxi driver will earn after having to pay for $30 worth of gas."
   ]
  },
  {
   "cell_type": "markdown",
   "metadata": {},
   "source": [
    "To make money, your value for *Money Earned* needs to be greater than zero, and the point where this begins is the $x$ intercept! By identifying the $x$ intercept (the data point on the graph at (2,0)), you now know the minimum amount of time you need to work (2 Hours) in order for you to start making money after spending \\$30 to fill up with gas.\n",
    "\n",
    "While this particular example shows the significance of the $x$ intercept, there are many other scenarios where it may be useful to identify the $y$ intercept on a graph as well.\n",
    "\n",
    "***\n",
    "\n",
    "To find the value of the $x$ intercept without using a graph, we can use the linear equation:\n",
    "\n",
    "\\begin{equation} \n",
    "y = 15x - 30\n",
    "\\end{equation}\n",
    "\n",
    "and set the value of $y$ to zero, then solve for $x$. It would look something like this:\n",
    "\n",
    "\\begin{equation} \n",
    "(0) = 15x - 30\n",
    "\\end{equation}\n",
    "\n",
    "\\begin{equation} \n",
    "30 = 15x\n",
    "\\end{equation}\n",
    "\n",
    "\\begin{equation} \n",
    "\\frac{30}{15} = x\n",
    "\\end{equation}\n",
    "\n",
    "\\begin{equation} \n",
    "2 = x\n",
    "\\end{equation}\n",
    "\n",
    "As before, the x$$ intercept is found to be at (2,0). The same process can be used to find the value of the $y$ intercept, only instead of setting $y$ to zero, we set $x$ so zero, as follows:\n",
    "\n",
    "\\begin{equation} \n",
    "y = 15(0) - 30\n",
    "\\end{equation}\n",
    "\n",
    "\\begin{equation} \n",
    "y = -30\n",
    "\\end{equation}\n",
    "\n",
    "So now we see that the $y$ intecept for this particular equation is (0,-30). \n",
    "\n",
    "You may have noticed that the $y$ coordinate of the $y$ intercept is actually just the $b$ value in an equation of the form $y = mx + b$!\n",
    "\n",
    "> ## **Note**\n",
    "If a graph is a perfectly straight horizontal line (slope = 0), the function may not have an $x$ intercept. If the function is a perfectly vertical line (slope is undefined), the graph may not have a $y$ intercept. In all other cases, a graph will have both an $x$ and $y$ intercept. However, the range in which you have plotted may not show them.\n",
    "\n",
    "***\n",
    "\n"
   ]
  },
  {
   "cell_type": "markdown",
   "metadata": {},
   "source": [
    "**Features of a Linear Graph: Slope**\n",
    "\n",
    "Another important characteristic of a linear function is **slope**. The *slope* of a function can be thought of as the steepness or the angle of the function as it appears on a graph. What it really represents is the rate at which the dependent variable changes with respect to the independent variable. \n",
    "\n",
    "That may sound complicated at first, but here is an example that might make it easier to understand what slope is.\n",
    "\n",
    "***\n",
    "\n",
    "> ### **Example**\n",
    "\n",
    "Say you have been given a set of data points describing how far a car has travelled in a given amount of time:\n",
    "\n",
    "\n",
    "\\begin{array}{| c | c |}\n",
    "\\hline\n",
    "  Time(seconds) & Distance Travelled(meters) \\\\\n",
    "  \\hline\n",
    "  0 & 0 \\\\\\hline\n",
    "  20 & 400 \\\\\\hline\n",
    "  40 & 800 \\\\\\hline\n",
    "  60 & 1200 \\\\\\hline\n",
    "  80 & 1600 \\\\\\hline\n",
    "  100 & 2000 \\\\\\hline\n",
    "  120 & 2400 \\\\\\hline\n",
    "  140 & 2800 \\\\\\hline\n",
    "  160 & 3200 \\\\\\hline\n",
    "  180 & 3600 \\\\\\hline\n",
    "  200 & 4000 \\\\\\hline\n",
    "\\end{array}\n",
    "\n",
    "\n",
    "You are then asked to find out how fast the car was travelling. Let's set up a graph of this data.\n",
    "\n",
    "\n",
    "\n"
   ]
  },
  {
   "cell_type": "code",
   "execution_count": 5,
   "metadata": {},
   "outputs": [
    {
     "data": {
      "application/vnd.plotly.v1+json": {
       "data": [
        {
         "line": {
          "color": "rgb(22, 96, 167)",
          "dash": "dot",
          "shape": "spline"
         },
         "mode": "lines+markers",
         "name": "Plot 1",
         "type": "scatter",
         "x": [
          0,
          20,
          40,
          60,
          80,
          100,
          120,
          140,
          160,
          180,
          200
         ],
         "y": [
          0,
          400,
          800,
          1200,
          1600,
          2000,
          2400,
          2800,
          3200,
          3600,
          4000
         ]
        }
       ],
       "layout": {
        "title": "Distance Travelled as a Function of Time",
        "xaxis": {
         "title": "Time (Seconds)"
        },
        "yaxis": {
         "title": "Distance Travelled (Meters)"
        }
       }
      },
      "text/html": [
       "<div id=\"fe6b9d73-b801-443a-8507-05f26b6ccac6\" style=\"height: 525px; width: 100%;\" class=\"plotly-graph-div\"></div><script type=\"text/javascript\">require([\"plotly\"], function(Plotly) { window.PLOTLYENV=window.PLOTLYENV || {};window.PLOTLYENV.BASE_URL=\"https://plot.ly\";Plotly.newPlot(\"fe6b9d73-b801-443a-8507-05f26b6ccac6\", [{\"type\": \"scatter\", \"x\": [0.0, 20.0, 40.0, 60.0, 80.0, 100.0, 120.0, 140.0, 160.0, 180.0, 200.0], \"y\": [0.0, 400.0, 800.0, 1200.0, 1600.0, 2000.0, 2400.0, 2800.0, 3200.0, 3600.0, 4000.0], \"mode\": \"lines+markers\", \"name\": \"Plot 1\", \"line\": {\"color\": \"rgb(22, 96, 167)\", \"shape\": \"spline\", \"dash\": \"dot\"}}], {\"title\": \"Distance Travelled as a Function of Time\", \"yaxis\": {\"title\": \"Distance Travelled (Meters)\"}, \"xaxis\": {\"title\": \"Time (Seconds)\"}}, {\"showLink\": true, \"linkText\": \"Export to plot.ly\"})});</script>"
      ],
      "text/vnd.plotly.v1+html": [
       "<div id=\"fe6b9d73-b801-443a-8507-05f26b6ccac6\" style=\"height: 525px; width: 100%;\" class=\"plotly-graph-div\"></div><script type=\"text/javascript\">require([\"plotly\"], function(Plotly) { window.PLOTLYENV=window.PLOTLYENV || {};window.PLOTLYENV.BASE_URL=\"https://plot.ly\";Plotly.newPlot(\"fe6b9d73-b801-443a-8507-05f26b6ccac6\", [{\"type\": \"scatter\", \"x\": [0.0, 20.0, 40.0, 60.0, 80.0, 100.0, 120.0, 140.0, 160.0, 180.0, 200.0], \"y\": [0.0, 400.0, 800.0, 1200.0, 1600.0, 2000.0, 2400.0, 2800.0, 3200.0, 3600.0, 4000.0], \"mode\": \"lines+markers\", \"name\": \"Plot 1\", \"line\": {\"color\": \"rgb(22, 96, 167)\", \"shape\": \"spline\", \"dash\": \"dot\"}}], {\"title\": \"Distance Travelled as a Function of Time\", \"yaxis\": {\"title\": \"Distance Travelled (Meters)\"}, \"xaxis\": {\"title\": \"Time (Seconds)\"}}, {\"showLink\": true, \"linkText\": \"Export to plot.ly\"})});</script>"
      ]
     },
     "metadata": {},
     "output_type": "display_data"
    }
   ],
   "source": [
    "time = np.linspace(0,200,11)\n",
    "distance = np.linspace(0,4000,11)\n",
    "\n",
    "layout = go.Layout(\n",
    "    title = \"Distance Travelled as a Function of Time\",\n",
    "    yaxis = dict(\n",
    "        title=\"Distance Travelled (Meters)\"\n",
    "    ),\n",
    "    xaxis = dict(\n",
    "        title=\"Time (Seconds)\"\n",
    "    ),\n",
    ")\n",
    "\n",
    "trace1 = go.Scatter(\n",
    "    x = time,\n",
    "    y = distance,\n",
    "    mode = \"lines+markers\",\n",
    "    name = \"Plot 1\",\n",
    "    line=dict(\n",
    "        color = ('rgb(22, 96, 167)'),\n",
    "        shape = \"spline\",\n",
    "        dash = \"dot\"\n",
    "    )\n",
    "    \n",
    ")\n",
    "\n",
    "fig = go.Figure(data = [trace1], layout = layout)\n",
    "py.offline.iplot(fig)"
   ]
  },
  {
   "cell_type": "markdown",
   "metadata": {},
   "source": [
    "<center> Figure 6: This graph shows the distance a car travels after a given amount of time.</center>"
   ]
  },
  {
   "cell_type": "markdown",
   "metadata": {},
   "source": [
    "We want to find how fast the car is travelling. Knowing that speed is a measurement of distance over time, let's use the total distance travelled and the total amount of time to find the average speed of the car.\n",
    "From the graph, we can see that the car initially started at position 0 meters, and travelled a total of 4000 meters. We also know that the car started moving at time 0 seconds, and stopped moving after 200 seconds. Using this information, we can set up the following equations to find the speed of the car:\n",
    "\n",
    "\\begin{equation}\n",
    "Speed = \\frac{Total\\: Distance}{Total\\: Time}\n",
    "\\end{equation}\n",
    "\n",
    "and we know that:\n",
    "\n",
    "\\begin{equation}\n",
    "Total\\: Distance = Final\\: Distance - Initial\\: Distance\n",
    "\\end{equation}\n",
    "\\begin{equation}\n",
    "Total\\: Time = Final\\: Time - Initial\\: Time\n",
    "\\end{equation}\n",
    "\n",
    "so:\n",
    "\n",
    "\\begin{equation} \n",
    "Speed = \\frac{Final\\: Distance - Initial\\: Distance}{Final\\: Time - Initial\\: Time}\n",
    "\\end{equation}\n",
    "\n",
    "\\begin{equation} \n",
    "Speed = \\frac{4000m - 0m}{200s - 0s}\n",
    "\\end{equation}\n",
    "\n",
    "\\begin{equation}\n",
    "Speed = \\frac{4000m}{200s}\n",
    "\\end{equation}\n",
    "\n",
    "\\begin{equation} \n",
    " Speed = 20 m/s\n",
    "\\end{equation}\n",
    "\n",
    "\n",
    "\n",
    "From the equations above, we can see that the car travels 20 meters every second. While it may not be obvious, we just found the slope of the graph! By finding the average speed of the car, we identified the rate at which the dependent variable (Distance Travelled) changes with respect to the independent variable (Time).\n",
    "\n",
    "***\n",
    "\n",
    "\n",
    "When looking at a graph, the general equation used to find the slope of a linear function from point ($x_i$,$y_i$) to ($x_f$,$y_f$) is given as follows:\n",
    "\n",
    "\\begin{equation} \n",
    "Slope = \\frac{y_f - y_i}{x_f - x_i}\n",
    "\\end{equation}\n",
    "\n",
    "where the subscript $f$ stands for *final*, and the $i$ stands for *initial*.\n",
    "\n",
    "When looking at a linear function that has the form:\n",
    "\\begin{equation} \n",
    "y = mx + b\n",
    "\\end{equation}\n",
    "the value of the slope is the same as the value of the coefficient $m$.\n",
    "\n",
    "Use the section below to see the effect that slope can have on a function."
   ]
  },
  {
   "cell_type": "code",
   "execution_count": 8,
   "metadata": {},
   "outputs": [
    {
     "data": {
      "application/vnd.jupyter.widget-view+json": {
       "model_id": "b524f6d2d2d449b58f2ae4d41c670b59",
       "version_major": 2,
       "version_minor": 0
      },
      "text/html": [
       "<p>Failed to display Jupyter Widget of type <code>interactive</code>.</p>\n",
       "<p>\n",
       "  If you're reading this message in the Jupyter Notebook or JupyterLab Notebook, it may mean\n",
       "  that the widgets JavaScript is still loading. If this message persists, it\n",
       "  likely means that the widgets JavaScript library is either not installed or\n",
       "  not enabled. See the <a href=\"https://ipywidgets.readthedocs.io/en/stable/user_install.html\">Jupyter\n",
       "  Widgets Documentation</a> for setup instructions.\n",
       "</p>\n",
       "<p>\n",
       "  If you're reading this message in another frontend (for example, a static\n",
       "  rendering on GitHub or <a href=\"https://nbviewer.jupyter.org/\">NBViewer</a>),\n",
       "  it may mean that your frontend doesn't currently support widgets.\n",
       "</p>\n"
      ],
      "text/plain": [
       "interactive(children=(FloatSlider(value=2.0, description='slope', max=5.0, step=0.5), Output()), _dom_classes=('widget-interact',))"
      ]
     },
     "metadata": {},
     "output_type": "display_data"
    }
   ],
   "source": [
    "def slider(slope):\n",
    "    \n",
    "    x_list = [0,1,2,3,4,5,6,7,8,9,10]\n",
    "    y_list = []\n",
    "    for i in x_list:\n",
    "        y_val = slope*(i)\n",
    "        y_list.append(y_val)\n",
    "    \n",
    "    \n",
    "    layout = go.Layout(\n",
    "        showlegend = True,\n",
    "        title ='y = ' + str(slope) + 'x',\n",
    "        yaxis = dict(\n",
    "            title=\"<i>X</i> Values\",\n",
    "            range = [-1,20]\n",
    "        ),\n",
    "        xaxis = dict(\n",
    "            title=\"<i>Y</i> Values\",\n",
    "            range = [-1,20]\n",
    "        ),\n",
    "    )\n",
    "\n",
    "    trace1 = go.Scatter(\n",
    "        x = x_list,\n",
    "        y = y_list,\n",
    "        mode = \"lines+markers\",\n",
    "        name = str('$y = ' + str(slope) + 'x$'),\n",
    "        line=dict(\n",
    "            color = ('rgb(22, 96, 167)'),\n",
    "            shape = \"spline\",\n",
    "            dash = \"dot\"\n",
    "        )\n",
    "    \n",
    "    )\n",
    "\n",
    "    fig = go.Figure(data = [trace1], layout = layout)\n",
    "    py.offline.iplot(fig, filename = 'show-legend')\n",
    "    \n",
    "interactive(slider, slope=(0,5,0.5))\n",
    "\n"
   ]
  },
  {
   "cell_type": "markdown",
   "metadata": {},
   "source": [
    "<center> Figure 7: This graph shows the way in which slope can affect the shape of a function. The larger the slope, the \"steeper\" the graph is.</center>"
   ]
  },
  {
   "cell_type": "markdown",
   "metadata": {},
   "source": [
    "When dealing with a single linear function, the slope will be constant across the entire graph. However, if a graph consists of more than one linear function, the slope may change at some point. \n",
    "Take a look at the following graph to see what a graph with more than one linear function may look like:"
   ]
  },
  {
   "cell_type": "code",
   "execution_count": 9,
   "metadata": {},
   "outputs": [
    {
     "data": {
      "application/vnd.plotly.v1+json": {
       "data": [
        {
         "line": {
          "color": "rgb(22, 96, 167)",
          "dash": "dot"
         },
         "mode": "lines+markers",
         "name": "Plot 1",
         "type": "scatter",
         "x": [
          0,
          1,
          2,
          3,
          4,
          5,
          6,
          7,
          8,
          9,
          10
         ],
         "y": [
          1,
          2,
          3,
          4,
          5,
          6,
          9,
          12,
          15,
          18,
          21
         ]
        }
       ],
       "layout": {
        "title": "<i>Y</i> as a Function of <i>X</i>",
        "xaxis": {
         "title": "<i>X</i> Values"
        },
        "yaxis": {
         "title": "<i>Y</i> Values"
        }
       }
      },
      "text/html": [
       "<div id=\"e522e20a-83b8-4718-b251-ac32dc996297\" style=\"height: 525px; width: 100%;\" class=\"plotly-graph-div\"></div><script type=\"text/javascript\">require([\"plotly\"], function(Plotly) { window.PLOTLYENV=window.PLOTLYENV || {};window.PLOTLYENV.BASE_URL=\"https://plot.ly\";Plotly.newPlot(\"e522e20a-83b8-4718-b251-ac32dc996297\", [{\"type\": \"scatter\", \"x\": [0, 1, 2, 3, 4, 5, 6, 7, 8, 9, 10], \"y\": [1, 2, 3, 4, 5, 6, 9, 12, 15, 18, 21], \"mode\": \"lines+markers\", \"name\": \"Plot 1\", \"line\": {\"color\": \"rgb(22, 96, 167)\", \"dash\": \"dot\"}}], {\"title\": \"<i>Y</i> as a Function of <i>X</i>\", \"yaxis\": {\"title\": \"<i>Y</i> Values\"}, \"xaxis\": {\"title\": \"<i>X</i> Values\"}}, {\"showLink\": true, \"linkText\": \"Export to plot.ly\"})});</script>"
      ],
      "text/vnd.plotly.v1+html": [
       "<div id=\"e522e20a-83b8-4718-b251-ac32dc996297\" style=\"height: 525px; width: 100%;\" class=\"plotly-graph-div\"></div><script type=\"text/javascript\">require([\"plotly\"], function(Plotly) { window.PLOTLYENV=window.PLOTLYENV || {};window.PLOTLYENV.BASE_URL=\"https://plot.ly\";Plotly.newPlot(\"e522e20a-83b8-4718-b251-ac32dc996297\", [{\"type\": \"scatter\", \"x\": [0, 1, 2, 3, 4, 5, 6, 7, 8, 9, 10], \"y\": [1, 2, 3, 4, 5, 6, 9, 12, 15, 18, 21], \"mode\": \"lines+markers\", \"name\": \"Plot 1\", \"line\": {\"color\": \"rgb(22, 96, 167)\", \"dash\": \"dot\"}}], {\"title\": \"<i>Y</i> as a Function of <i>X</i>\", \"yaxis\": {\"title\": \"<i>Y</i> Values\"}, \"xaxis\": {\"title\": \"<i>X</i> Values\"}}, {\"showLink\": true, \"linkText\": \"Export to plot.ly\"})});</script>"
      ]
     },
     "metadata": {},
     "output_type": "display_data"
    }
   ],
   "source": [
    "x1 = [0,1,2,3,4,5]\n",
    "y1 = []\n",
    "\n",
    "for num in x1:\n",
    "    y1_val = num + 1\n",
    "    y1.append(y1_val)\n",
    "    \n",
    "x2 = [6,7,8,9,10]\n",
    "y2 = []\n",
    "\n",
    "for num in x2:\n",
    "    y2_val = 3*(num) - 9\n",
    "    y2.append(y2_val)\n",
    "\n",
    "x_list = x1 + x2\n",
    "y_list = y1 + y2\n",
    "    \n",
    "layout = go.Layout(\n",
    "    title = \"<i>Y</i> as a Function of <i>X</i>\",\n",
    "    yaxis = dict(\n",
    "        title=\"<i>Y</i> Values\"\n",
    "    ),\n",
    "    xaxis = dict(\n",
    "        title=\"<i>X</i> Values\"\n",
    "    ),\n",
    ")\n",
    "\n",
    "trace1 = go.Scatter(\n",
    "    x = x_list,\n",
    "    y = y_list,\n",
    "    mode = \"lines+markers\",\n",
    "    name = \"Plot 1\",\n",
    "    line=dict(\n",
    "        color = ('rgb(22, 96, 167)'),\n",
    "        dash = \"dot\"\n",
    "    )\n",
    "    \n",
    ")\n",
    "\n",
    "fig = go.Figure(data = [trace1], layout = layout)\n",
    "py.offline.iplot(fig)\n",
    "\n",
    "    "
   ]
  },
  {
   "cell_type": "markdown",
   "metadata": {},
   "source": [
    "<center> Figure 8: On this plot, notice the distinct change in steepness at $x = 5$. The slope increases at this point.</center>"
   ]
  },
  {
   "cell_type": "markdown",
   "metadata": {},
   "source": [
    "As you can see above, the graph has two distinct sections: one from $x = 0$ to $x = 5$, and the other from $x = 5$ to $x = 10$. As we have seen from the equations of linear functions, we know that the slope of one function has a constant value. Because these sections each have a different slope, they must represent two distinct linear functions.\n",
    "\n",
    "You may be wondering how one graph can show two distinct functions at the same time, but consider our example of the car shown above. What if halfway through the trip, the car began to move at a faster speed? If this were the case, the slope of the graph would increase at the halfway point, much like the graph shown above."
   ]
  },
  {
   "cell_type": "markdown",
   "metadata": {},
   "source": [
    "## **Questions**\n",
    "\n",
    "The following section is meant to test your understanding and improve your familiarity with the concepts we have gone over in this lesson.\n",
    "\n",
    "\n",
    "### **Question 1.**\n",
    "\n",
    "Use the following table of data points describing the motion of a car driving to a destination and complete the following tasks:\n",
    "- Plot a graph (be sure to label the axes, and to give the graph a title!)\n",
    "- Find the slope of the graph\n",
    "- Find the $x$ and $y$ intercept\n",
    "- Derive the equation for the linear function\n",
    "\n",
    "\\begin{array}{| c | c |}\n",
    "\\hline\n",
    "  Time\\: (seconds) & Distance\\: Away\\: from\\: Destination\\: (meters) \\\\\n",
    "  \\hline\n",
    "  0 & 10 \\\\\\hline\n",
    "  1 & 8 \\\\\\hline\n",
    "  2 & 6 \\\\\\hline\n",
    "  3 & 4 \\\\\\hline\n",
    "  4 & 2 \\\\\\hline\n",
    "  5 & 0 \\\\\\hline\n",
    "  6 & -2 \\\\\\hline\n",
    "  7 & -4 \\\\\\hline\n",
    "  8 & -6 \\\\\\hline\n",
    "  9 & -8 \\\\\\hline\n",
    "\\end{array}\n"
   ]
  },
  {
   "cell_type": "markdown",
   "metadata": {},
   "source": [
    "Use the section below to create the graph:"
   ]
  },
  {
   "cell_type": "code",
   "execution_count": 10,
   "metadata": {},
   "outputs": [
    {
     "name": "stdout",
     "output_type": "stream",
     "text": [
      "Label the X-Axis: Time (seconds)\n",
      "Label the Y-Axis: Distance From Destination (meters)\n",
      "Give the graph a title: Driving Somewhere\n",
      "Enter the x-values as a list of the form [a,b,c,d,...]: [0,1,2,3,4,5,6,7,8,9]\n",
      "Enter the y-values as a list of the form [a,b,c,d,...]: [10,8,6,4,2,0,-2,-4,-6,-8]\n"
     ]
    },
    {
     "data": {
      "application/vnd.plotly.v1+json": {
       "data": [
        {
         "line": {
          "color": "rgb(22, 96, 167)",
          "dash": "dot",
          "shape": "spline"
         },
         "mode": "lines+markers",
         "name": "extend plot",
         "type": "scatter",
         "x": [
          0,
          1,
          2,
          3,
          4,
          5,
          6,
          7,
          8,
          9
         ],
         "y": [
          10,
          8,
          6,
          4,
          2,
          0,
          -2,
          -4,
          -6,
          -8
         ]
        }
       ],
       "layout": {
        "title": "Driving Somewhere",
        "xaxis": {
         "range": [
          -1,
          10
         ],
         "title": "Time (seconds)"
        },
        "yaxis": {
         "range": [
          -10,
          12
         ],
         "title": "Distance From Destination (meters)"
        }
       }
      },
      "text/html": [
       "<div id=\"9f29ab44-700e-4899-a52b-17d0fd9d3623\" style=\"height: 525px; width: 100%;\" class=\"plotly-graph-div\"></div><script type=\"text/javascript\">require([\"plotly\"], function(Plotly) { window.PLOTLYENV=window.PLOTLYENV || {};window.PLOTLYENV.BASE_URL=\"https://plot.ly\";Plotly.newPlot(\"9f29ab44-700e-4899-a52b-17d0fd9d3623\", [{\"type\": \"scatter\", \"x\": [0.0, 1.0, 2.0, 3.0, 4.0, 5.0, 6.0, 7.0, 8.0, 9.0], \"y\": [10.0, 8.0, 6.0, 4.0, 2.0, 0.0, -2.0, -4.0, -6.0, -8.0], \"mode\": \"lines+markers\", \"name\": \"extend plot\", \"line\": {\"color\": \"rgb(22, 96, 167)\", \"shape\": \"spline\", \"dash\": \"dot\"}}], {\"title\": \"Driving Somewhere\", \"yaxis\": {\"title\": \"Distance From Destination (meters)\", \"range\": [-10, 12]}, \"xaxis\": {\"title\": \"Time (seconds)\", \"range\": [-1, 10]}}, {\"showLink\": true, \"linkText\": \"Export to plot.ly\"})});</script>"
      ],
      "text/vnd.plotly.v1+html": [
       "<div id=\"9f29ab44-700e-4899-a52b-17d0fd9d3623\" style=\"height: 525px; width: 100%;\" class=\"plotly-graph-div\"></div><script type=\"text/javascript\">require([\"plotly\"], function(Plotly) { window.PLOTLYENV=window.PLOTLYENV || {};window.PLOTLYENV.BASE_URL=\"https://plot.ly\";Plotly.newPlot(\"9f29ab44-700e-4899-a52b-17d0fd9d3623\", [{\"type\": \"scatter\", \"x\": [0.0, 1.0, 2.0, 3.0, 4.0, 5.0, 6.0, 7.0, 8.0, 9.0], \"y\": [10.0, 8.0, 6.0, 4.0, 2.0, 0.0, -2.0, -4.0, -6.0, -8.0], \"mode\": \"lines+markers\", \"name\": \"extend plot\", \"line\": {\"color\": \"rgb(22, 96, 167)\", \"shape\": \"spline\", \"dash\": \"dot\"}}], {\"title\": \"Driving Somewhere\", \"yaxis\": {\"title\": \"Distance From Destination (meters)\", \"range\": [-10, 12]}, \"xaxis\": {\"title\": \"Time (seconds)\", \"range\": [-1, 10]}}, {\"showLink\": true, \"linkText\": \"Export to plot.ly\"})});</script>"
      ]
     },
     "metadata": {},
     "output_type": "display_data"
    }
   ],
   "source": [
    "q1 = User_Graph(10, [-1,10], [-10,12])\n",
    "q1.run_it()\n"
   ]
  },
  {
   "cell_type": "markdown",
   "metadata": {},
   "source": [
    "Use the following sections to answer some questions about the graph you just made:"
   ]
  },
  {
   "cell_type": "code",
   "execution_count": null,
   "metadata": {},
   "outputs": [],
   "source": [
    "def ask_slope():\n",
    "    slope = input(\"What is the value of the slope of the above graph? (Enter your answer as an integer) \")\n",
    "    \n",
    "    if slope in [\"-2\"]:\n",
    "        display(Latex(\"Good stuff!\"))\n",
    "    else:\n",
    "        display(Latex(\"Try Again!\"))\n",
    "        display(Latex(\"Remember, the equation for the slope of a line is:\"))\n",
    "        display(Math(\"Slope = (y_f - y_i)/(x_f - x_i)\"))\n",
    "        ask_slope()\n",
    "        \n",
    "ask_slope()"
   ]
  },
  {
   "cell_type": "code",
   "execution_count": 17,
   "metadata": {},
   "outputs": [
    {
     "name": "stdout",
     "output_type": "stream",
     "text": [
      "What are the coordinates for the y intercept in the above graph? (Enter your answer as (x,y)) (0,10)\n"
     ]
    },
    {
     "data": {
      "text/latex": [
       "Good Job!"
      ],
      "text/plain": [
       "<IPython.core.display.Latex object>"
      ]
     },
     "metadata": {},
     "output_type": "display_data"
    }
   ],
   "source": [
    "def ask_y_int():\n",
    "    y_int = input(\"What are the coordinates for the y intercept in the above graph? (Enter your answer as (x,y)) \")\n",
    "    \n",
    "    if y_int in [\"(0,10)\"]:\n",
    "        display(Latex(\"Correct!\"))\n",
    "    else:\n",
    "        display(Latex(\"Try Again!\"))\n",
    "        display(Latex(\"Hint: Look at where the graph crosses the $y$ axis.\"))\n",
    "        ask_y_int()\n",
    "        \n",
    "ask_y_int()"
   ]
  },
  {
   "cell_type": "code",
   "execution_count": 21,
   "metadata": {},
   "outputs": [
    {
     "name": "stdout",
     "output_type": "stream",
     "text": [
      "What are the coordinates for the x intercept in the above graph? (Enter your answer as (x,y)) (5,0)\n"
     ]
    },
    {
     "data": {
      "text/latex": [
       "Good Job!"
      ],
      "text/plain": [
       "<IPython.core.display.Latex object>"
      ]
     },
     "metadata": {},
     "output_type": "display_data"
    }
   ],
   "source": [
    "def ask_x_int():\n",
    "    x_int = input(\"What are the coordinates for the x intercept in the above graph? (Enter your answer as (x,y)) \")\n",
    "    \n",
    "    if x_int in [\"(5,0)\"]:\n",
    "        display(Latex(\"Well done!\"))\n",
    "    else:\n",
    "        display(Latex(\"Try Again!\"))\n",
    "        display(Latex(\"Hint: Look at where the graph crosses the $x$ axis.\"))\n",
    "        ask_x_int()\n",
    "        \n",
    "ask_x_int()"
   ]
  },
  {
   "cell_type": "code",
   "execution_count": 23,
   "metadata": {},
   "outputs": [
    {
     "name": "stdout",
     "output_type": "stream",
     "text": [
      "What is the equation of the linear function shown on the graph? (Enter your answer as: y = mx + b)y=-2x+10\n"
     ]
    },
    {
     "data": {
      "text/latex": [
       "Good Job!"
      ],
      "text/plain": [
       "<IPython.core.display.Latex object>"
      ]
     },
     "metadata": {},
     "output_type": "display_data"
    }
   ],
   "source": [
    "def ask_equation():\n",
    "    eq = input(\"What is the equation of the linear function shown on the graph? (Enter your answer as: y = mx + b)\")\n",
    "    \n",
    "    if eq in [\"y = -2x + 10\", \"y = -(2)x + 10\", \"y = (-2)x + 10\", \"y=-2x+10\"]:\n",
    "        display(Latex(\"Good Job!\"))\n",
    "    else:\n",
    "        display(Latex(\"Try Again!\"))\n",
    "        display(Latex(\"Hint: Remeber that slope = $m$, and the $y$ intercept = $b$\"))\n",
    "        ask_equation()\n",
    "        \n",
    "ask_equation()"
   ]
  },
  {
   "cell_type": "code",
   "execution_count": 24,
   "metadata": {},
   "outputs": [
    {
     "name": "stdout",
     "output_type": "stream",
     "text": [
      "At what point did the person walk past their destination? (Enter your answer as (x,y)) (5,0)\n"
     ]
    },
    {
     "data": {
      "text/latex": [
       "Good Job!"
      ],
      "text/plain": [
       "<IPython.core.display.Latex object>"
      ]
     },
     "metadata": {},
     "output_type": "display_data"
    }
   ],
   "source": [
    "def ask_q():\n",
    "    q = input(\"At what point did the person walk past their destination? (Enter your answer as (x,y)) \")\n",
    "    \n",
    "    if q in [\"(5,0)\"]:\n",
    "        display(Latex(\"Way to go!\"))\n",
    "    else:\n",
    "        display(Latex(\"Try Again!\"))\n",
    "        display(Latex(\"Hint: At what point is the person 0 meters away from their destination, but then keeps going?\"))\n",
    "        ask_q()\n",
    "        \n",
    "ask_q()"
   ]
  },
  {
   "cell_type": "markdown",
   "metadata": {},
   "source": [
    "###### Question 2.\n",
    "\n",
    "Quentin and Isabelle both earn their allowance by doing exercise. Quentins parents pay him \\$8.00 each time he goes for a run,  plus an additional \\$0.50 for every kilometer he runs.\n",
    "\n",
    "Isabelle gets paid \\$5.00 every time she goes for a run, and an additional \\$1.00 for every kilometer she runs.\n",
    "\n",
    "At what distance do Quentin and Isabelle make the same amount of money?\n",
    "Who makes the most money after running for 10 kilometers?\n",
    "\n",
    "\n",
    "To help answer these questions, here are the linear equations that describe Quentin and Isabelle's allowance:\n",
    "\n",
    "Quentin: \n",
    "\\begin{equation}\n",
    "y = \\frac{1}{2}x + 8\n",
    "\\end{equation}\n",
    "\n",
    "Isabelle:\n",
    "\\begin{equation}\n",
    "y = x + 5\n",
    "\\end{equation}\n",
    "\n",
    "Create a graph that shows both of these functions at the points: \n",
    "\n",
    "\\begin{array}{| c | c |}\n",
    "\\hline\n",
    "  Distance\\: (km) & Money\\: Made\\: (Dollars)\\\\\n",
    "  \\hline\n",
    "  0 & ? \\\\\\hline\n",
    "  1 & ? \\\\\\hline\n",
    "  2 & ? \\\\\\hline\n",
    "  3 & ? \\\\\\hline\n",
    "  4 & ? \\\\\\hline\n",
    "  5 & ? \\\\\\hline\n",
    "  6 & ? \\\\\\hline\n",
    "  7 & ? \\\\\\hline\n",
    "\\end{array}\n",
    "\n",
    "*Hint*: Create one table for each of the equations and find the corresponding y values, then use the section below to enter the points."
   ]
  },
  {
   "cell_type": "code",
   "execution_count": 25,
   "metadata": {},
   "outputs": [
    {
     "name": "stdout",
     "output_type": "stream",
     "text": [
      "Label the X-Axis: Distance (km)\n",
      "Label the Y-Axis: Money Made (dollars)\n",
      "Give the graph a title: Quentin and Isabelle\n",
      "Enter data points for Quentin.\n",
      "Enter the x-values as a list of the form [a,b,c,d,...]: [0,1,2,3,4,5,6,7]\n",
      "Enter the y-values as a list of the form [a,b,c,d,...]: [8,8.5,9,9.5,10,10.5,11,11.5]\n",
      "Now, enter data points for Isabelle\n",
      "Enter the x-values as a list of the form [a,b,c,d,...]: [0,1,2,3,4,5,6,7]\n",
      "Enter the y-values as a list of the form [a,b,c,d,...]: [5,6,7,8,9,10,11,12]\n"
     ]
    },
    {
     "data": {
      "application/vnd.plotly.v1+json": {
       "data": [
        {
         "line": {
          "color": "rgb(22, 96, 167)",
          "dash": "dot"
         },
         "mode": "lines+markers",
         "name": "Quentin",
         "type": "scatter",
         "x": [
          0,
          1,
          2,
          3,
          4,
          5,
          6,
          7
         ],
         "y": [
          8,
          8.5,
          9,
          9.5,
          10,
          10.5,
          11,
          11.5
         ]
        },
        {
         "line": {
          "color": "rgb(205, 12, 24)",
          "dash": "dot"
         },
         "mode": "lines+markers",
         "name": "Isabelle",
         "type": "scatter",
         "x": [
          0,
          1,
          2,
          3,
          4,
          5,
          6,
          7
         ],
         "y": [
          5,
          6,
          7,
          8,
          9,
          10,
          11,
          12
         ]
        }
       ],
       "layout": {
        "title": "Quentin and Isabelle",
        "xaxis": {
         "range": [
          0,
          8
         ],
         "title": "Distance (km)"
        },
        "yaxis": {
         "range": [
          0,
          15
         ],
         "title": "Money Made (dollars)"
        }
       }
      },
      "text/html": [
       "<div id=\"da2b1250-a082-4b45-9875-cad0853abfae\" style=\"height: 525px; width: 100%;\" class=\"plotly-graph-div\"></div><script type=\"text/javascript\">require([\"plotly\"], function(Plotly) { window.PLOTLYENV=window.PLOTLYENV || {};window.PLOTLYENV.BASE_URL=\"https://plot.ly\";Plotly.newPlot(\"da2b1250-a082-4b45-9875-cad0853abfae\", [{\"type\": \"scatter\", \"x\": [0.0, 1.0, 2.0, 3.0, 4.0, 5.0, 6.0, 7.0], \"y\": [8.0, 8.5, 9.0, 9.5, 10.0, 10.5, 11.0, 11.5], \"mode\": \"lines+markers\", \"name\": \"Quentin\", \"line\": {\"color\": \"rgb(22, 96, 167)\", \"dash\": \"dot\"}}, {\"type\": \"scatter\", \"x\": [0.0, 1.0, 2.0, 3.0, 4.0, 5.0, 6.0, 7.0], \"y\": [5.0, 6.0, 7.0, 8.0, 9.0, 10.0, 11.0, 12.0], \"mode\": \"lines+markers\", \"name\": \"Isabelle\", \"line\": {\"color\": \"rgb(205, 12, 24)\", \"dash\": \"dot\"}}], {\"title\": \"Quentin and Isabelle\", \"yaxis\": {\"title\": \"Money Made (dollars)\", \"range\": [0, 15]}, \"xaxis\": {\"title\": \"Distance (km)\", \"range\": [0, 8]}}, {\"showLink\": true, \"linkText\": \"Export to plot.ly\"})});</script>"
      ],
      "text/vnd.plotly.v1+html": [
       "<div id=\"da2b1250-a082-4b45-9875-cad0853abfae\" style=\"height: 525px; width: 100%;\" class=\"plotly-graph-div\"></div><script type=\"text/javascript\">require([\"plotly\"], function(Plotly) { window.PLOTLYENV=window.PLOTLYENV || {};window.PLOTLYENV.BASE_URL=\"https://plot.ly\";Plotly.newPlot(\"da2b1250-a082-4b45-9875-cad0853abfae\", [{\"type\": \"scatter\", \"x\": [0.0, 1.0, 2.0, 3.0, 4.0, 5.0, 6.0, 7.0], \"y\": [8.0, 8.5, 9.0, 9.5, 10.0, 10.5, 11.0, 11.5], \"mode\": \"lines+markers\", \"name\": \"Quentin\", \"line\": {\"color\": \"rgb(22, 96, 167)\", \"dash\": \"dot\"}}, {\"type\": \"scatter\", \"x\": [0.0, 1.0, 2.0, 3.0, 4.0, 5.0, 6.0, 7.0], \"y\": [5.0, 6.0, 7.0, 8.0, 9.0, 10.0, 11.0, 12.0], \"mode\": \"lines+markers\", \"name\": \"Isabelle\", \"line\": {\"color\": \"rgb(205, 12, 24)\", \"dash\": \"dot\"}}], {\"title\": \"Quentin and Isabelle\", \"yaxis\": {\"title\": \"Money Made (dollars)\", \"range\": [0, 15]}, \"xaxis\": {\"title\": \"Distance (km)\", \"range\": [0, 8]}}, {\"showLink\": true, \"linkText\": \"Export to plot.ly\"})});</script>"
      ]
     },
     "metadata": {},
     "output_type": "display_data"
    }
   ],
   "source": [
    "D = Double_Graph(5)\n",
    "D.run_it()"
   ]
  },
  {
   "cell_type": "code",
   "execution_count": 27,
   "metadata": {},
   "outputs": [
    {
     "name": "stdout",
     "output_type": "stream",
     "text": [
      "At what distance do Quentin and Isabelle make the same amount of money? (Enter your answer as a whole number) 6\n"
     ]
    },
    {
     "data": {
      "text/latex": [
       "Good Job!"
      ],
      "text/plain": [
       "<IPython.core.display.Latex object>"
      ]
     },
     "metadata": {},
     "output_type": "display_data"
    }
   ],
   "source": [
    "def ask_q2():\n",
    "    q = input(\"At what distance do Quentin and Isabelle make the same amount of money? (Enter your answer as a whole number) \")\n",
    "    \n",
    "    if q in [\"6\", \"6km\", \"6 km\", \"6 kilometers\"]:\n",
    "        display(Latex(\"You got it!\"))\n",
    "    else:\n",
    "        display(Latex(\"Try Again!\"))\n",
    "        display(Latex(\"Hint: What is the $x$ coordinate where the two functions cross?\"))\n",
    "        ask_q2()\n",
    "        \n",
    "ask_q2()"
   ]
  },
  {
   "cell_type": "code",
   "execution_count": 28,
   "metadata": {},
   "outputs": [
    {
     "name": "stdout",
     "output_type": "stream",
     "text": [
      "Who makes the most money after running 10 kilometers? (Enter: Quentin, or Isabelle) Q\n"
     ]
    },
    {
     "data": {
      "text/latex": [
       "Try Again!"
      ],
      "text/plain": [
       "<IPython.core.display.Latex object>"
      ]
     },
     "metadata": {},
     "output_type": "display_data"
    },
    {
     "data": {
      "text/latex": [
       "Hint: Who has the highest $y$ value when $x = 10$?"
      ],
      "text/plain": [
       "<IPython.core.display.Latex object>"
      ]
     },
     "metadata": {},
     "output_type": "display_data"
    },
    {
     "name": "stdout",
     "output_type": "stream",
     "text": [
      "Who makes the most money after running 10 kilometers? (Enter: Quentin, or Isabelle) I\n"
     ]
    },
    {
     "data": {
      "text/latex": [
       "Try Again!"
      ],
      "text/plain": [
       "<IPython.core.display.Latex object>"
      ]
     },
     "metadata": {},
     "output_type": "display_data"
    },
    {
     "data": {
      "text/latex": [
       "Hint: Who has the highest $y$ value when $x = 10$?"
      ],
      "text/plain": [
       "<IPython.core.display.Latex object>"
      ]
     },
     "metadata": {},
     "output_type": "display_data"
    },
    {
     "name": "stdout",
     "output_type": "stream",
     "text": [
      "Who makes the most money after running 10 kilometers? (Enter: Quentin, or Isabelle) Isabelle\n"
     ]
    },
    {
     "data": {
      "text/latex": [
       "Good Job!"
      ],
      "text/plain": [
       "<IPython.core.display.Latex object>"
      ]
     },
     "metadata": {},
     "output_type": "display_data"
    }
   ],
   "source": [
    "def ask_q3():\n",
    "    q = input(\"Who makes the most money after running 10 kilometers? (Enter: Quentin, or Isabelle) \")\n",
    "    \n",
    "    if q in [\"Isabelle\"]:\n",
    "        display(Latex(\"Nice work!\"))\n",
    "    else:\n",
    "        display(Latex(\"Try Again!\"))\n",
    "        display(Latex(\"Hint: Who has the highest $y$ value when $x = 10$?\"))\n",
    "        ask_q3()\n",
    "        \n",
    "ask_q3()"
   ]
  },
  {
   "cell_type": "markdown",
   "metadata": {},
   "source": [
    "## **Conclusion**\n",
    "\n",
    "In this lesson, we have highlighted some of the many ways that a graph can help us understand the relationship between two variables in a linear function. Some of the important methods that you should remember include:\n",
    "\n",
    "- Defining a Linear Function\n",
    "- Identifying the Independent and Dependent Variables\n",
    "- Setting up a Graph on the Cartesian Plane\n",
    "- Creating and Plotting Data Points\n",
    "- Features of a Graph ($x$ intercept, $y$ intercept, and slope)\n",
    "\n",
    "Throughout your life, you will be presented with all sorts of statistics, data, charts and graphs. It is important that you have the skills required to analyze what a graph is trying to tell you, not just so you can pass your math class, but to enable you to make informed decisions when you need to consider how variables can interact and affect results.\n",
    "\n"
   ]
  }
 ],
 "metadata": {
  "kernelspec": {
   "display_name": "Python 3",
   "language": "python",
   "name": "python3"
  },
  "language_info": {
   "codemirror_mode": {
    "name": "ipython",
    "version": 3
   },
   "file_extension": ".py",
   "mimetype": "text/x-python",
   "name": "python",
   "nbconvert_exporter": "python",
   "pygments_lexer": "ipython3",
   "version": "3.6.5"
  }
 },
 "nbformat": 4,
 "nbformat_minor": 2
}
