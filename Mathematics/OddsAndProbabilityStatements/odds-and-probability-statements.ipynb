{
 "cells": [
  {
   "cell_type": "code",
   "execution_count": 1,
   "metadata": {},
   "outputs": [
    {
     "data": {
      "text/html": [
       "<script>\n",
       "code_show=true; \n",
       "function code_toggle() { if (code_show){ $('div.input').hide(); } else { $('div.input').show(); } code_show = !code_show } \n",
       "$( document ).ready(code_toggle);\n",
       "</script>\n",
       "\n",
       "Raw code hidden. To show code, click <a href=\"javascript:code_toggle()\">here</a>. <b>To begin the notebook, click Kernel then click Restart & Run All. </b> "
      ],
      "text/plain": [
       "<IPython.core.display.HTML object>"
      ]
     },
     "execution_count": 1,
     "metadata": {},
     "output_type": "execute_result"
    }
   ],
   "source": [
    "from IPython.display import HTML\n",
    "\n",
    "HTML('''<script>\n",
    "code_show=true; \n",
    "function code_toggle() { if (code_show){ $('div.input').hide(); } else { $('div.input').show(); } code_show = !code_show } \n",
    "$( document ).ready(code_toggle);\n",
    "</script>\n",
    "\n",
    "Raw code hidden. To show code, click <a href=\"javascript:code_toggle()\">here</a>. <b>To begin the notebook, click Kernel then click Restart & Run All. </b> ''')"
   ]
  },
  {
   "cell_type": "code",
   "execution_count": 2,
   "metadata": {
    "collapsed": true
   },
   "outputs": [],
   "source": [
    "import string\n",
    "\n",
    "from ipywidgets import widgets, interact, Layout, Button\n",
    "from IPython.display import display, Markdown, Javascript"
   ]
  },
  {
   "cell_type": "markdown",
   "metadata": {},
   "source": [
    "<img src = \"./images/callysto-banner-top.jpg\" alt = \"Drawing\" style = \"width: 1000px;\" />"
   ]
  },
  {
   "cell_type": "code",
   "execution_count": 3,
   "metadata": {
    "collapsed": true
   },
   "outputs": [],
   "source": [
    "# Function: checks if input string can be converted to a float\n",
    "# Input: numerical values as string\n",
    "# Output: boolean\n",
    "\n",
    "def is_float(input_st):\n",
    "    \n",
    "    try:\n",
    "        \n",
    "        float(input_st)\n",
    "        \n",
    "        return True\n",
    "        \n",
    "    except ValueError:\n",
    "    \n",
    "        return False\n",
    "    \n",
    "# Function: checks if input is a valid ratio and prints result\n",
    "# Input: ratio as a string\n",
    "# Output: returns 1 if input string is a valid ratio\n",
    "\n",
    "def valid_ratio(input_st):\n",
    "    \n",
    "    ratio = input_st.split(\":\")\n",
    "    \n",
    "    if(len(ratio) == 2 and is_float(ratio[0]) and is_float(ratio[1]) ):\n",
    "        \n",
    "        return 1\n",
    "        \n",
    "    else:\n",
    "        \n",
    "        return 0\n",
    "    \n",
    "# Function: executes next cell on button widget click event \n",
    "\n",
    "def run_cells(ev):\n",
    "    \n",
    "    display(Javascript('IPython.notebook.execute_cell_range(IPython.notebook.get_selected_index()+1,IPython.notebook.get_selected_index()+2)'))\n",
    "    \n",
    "# Function: executes previous cell on button widget click event and hides achievement indicators message\n",
    "\n",
    "def run_current(ev):\n",
    "    \n",
    "    display(Javascript('IPython.notebook.execute_cell_range(IPython.notebook.get_selected_index()+0,IPython.notebook.get_selected_index()+1)'))    \n",
    "    \n",
    "# Function: obtains value of toggle button on click\n",
    "\n",
    "def get_toggle_button_value(change):\n",
    "    \n",
    "    value = change['new']\n",
    "    \n",
    "    print(value)\n",
    "    \n",
    "    return value\n",
    "\n",
    "# Function: executes next cell on toggle button widget click event\n",
    "\n",
    "def toggle_button_run_cell(change):\n",
    "    \n",
    "    display(Javascript('IPython.notebook.execute_cell_range(IPython.notebook.get_selected_index()+1,IPython.notebook.get_selected_index()+2)'))"
   ]
  },
  {
   "cell_type": "markdown",
   "metadata": {},
   "source": [
    "---\n",
    "\n",
    "<h1 align='center'>Odds & Probability Statements</h1>\n",
    "\n",
    "# Abstract\n",
    "\n",
    "In this notebook, our main objective is to interpret and assess the validity of odds and probability statements. But before we can do that, we will first learn what the following two mathematical terms mean: _probability_ and _odds_. Both of these words are used to describe the likeliness of an event to occur. In casual conversations, they are sometimes used to mean the same thing - however, we will learn that they are not equivalent in terms of formal mathematical definitions.\n",
    "\n",
    "This notebook begins with two separate sections, one for odds and one for probabilities. At the start of each, we will first learn the relevant definitions and concepts as to what these terms mean, and examples for how we may think about them. Once we understand the language of odds and probabilities, we will then look at how they are related, and how we may express one as the other. We will also look at how they are used in the media, and how we can determine the odds for and and against an outcome in a situation.\n",
    "\n",
    "---"
   ]
  },
  {
   "cell_type": "markdown",
   "metadata": {},
   "source": [
    "# Introduction to Odds"
   ]
  },
  {
   "cell_type": "markdown",
   "metadata": {},
   "source": [
    "In statistics, when we speak of the odds of an event occurring, we are speaking of a numerical expression, more precisely, a pair of numbers, called ratios, in which we compare the number of ways the event can occur versus the number of ways the event cannot occur.\n",
    "\n",
    "We note that \"odds for\", \"odds of\", and \"odds in favour of\" are all synonymous - they mean the same thing. We write the odds in favour an event as follows:\n",
    "\n",
    "$$\\text{Odds in favour of an event} = \\text{Number of ways the event can occur} : \\text{Number of ways the event cannot occur}.$$\n",
    "\n",
    "If we express the odds of an event $E$ happening as a ratio $r:s$, we say that there are $r$ out of $r+s$ chances in favour of $E$ happening.\n",
    "\n",
    "**Example 1.** Suppose we have an opaque bin that contains 14 coloured balls: 1 red ball, 2 purple balls, 3 orange balls, 3 green balls, and 5 blue balls. We wish to pull out one of the balls. We ask, what are the odds in favour of pulling a ball of a certain colour?\n",
    "\n",
    "We illustrate again the definition, this time visually. To answer the odds in favour of question, proceed below and choose a ball of the color of your choice."
   ]
  },
  {
   "cell_type": "markdown",
   "metadata": {},
   "source": [
    "<img src = \"./images/odds-definition.png\" alt = \"Drawing\" style = \"width: 750px;\" />"
   ]
  },
  {
   "cell_type": "code",
   "execution_count": 4,
   "metadata": {},
   "outputs": [
    {
     "data": {
      "application/vnd.jupyter.widget-view+json": {
       "model_id": "31c4f4c73211471daf480a581e780738",
       "version_major": 2,
       "version_minor": 0
      },
      "text/plain": [
       "A Jupyter Widget"
      ]
     },
     "metadata": {},
     "output_type": "display_data"
    }
   ],
   "source": [
    "# Toggle button for visualizing probability of picking balls\n",
    "\n",
    "odds_color_buttons = widgets.ToggleButtons(\n",
    "    \n",
    "    options=['Purple', 'Green', 'Orange','Red','Blue'],\n",
    "    description='Color',\n",
    "    disabled=False,\n",
    "    button_style='',\n",
    "    \n",
    ")\n",
    "\n",
    "display(odds_color_buttons)\n",
    "odds_color_buttons.observe(toggle_button_run_cell, 'value')"
   ]
  },
  {
   "cell_type": "code",
   "execution_count": 5,
   "metadata": {},
   "outputs": [
    {
     "data": {
      "text/markdown": [
       " <center><img src =  \" ./images/odds-Purple.png \"  alt = \"Drawing\" style = \"width: 850px;\" /> "
      ],
      "text/plain": [
       "<IPython.core.display.Markdown object>"
      ]
     },
     "metadata": {},
     "output_type": "display_data"
    },
    {
     "data": {
      "text/markdown": [
       "With the ball being purple, the number of ways in which a purple ball is chosen is $2$."
      ],
      "text/plain": [
       "<IPython.core.display.Markdown object>"
      ]
     },
     "metadata": {},
     "output_type": "display_data"
    },
    {
     "data": {
      "text/markdown": [
       "The number of ways in which a purple ball is not chosen is $12$."
      ],
      "text/plain": [
       "<IPython.core.display.Markdown object>"
      ]
     },
     "metadata": {},
     "output_type": "display_data"
    },
    {
     "data": {
      "text/markdown": [
       "We write the odds in favour of choosing a purple ball to be $2:12$ or $1:6$."
      ],
      "text/plain": [
       "<IPython.core.display.Markdown object>"
      ]
     },
     "metadata": {},
     "output_type": "display_data"
    },
    {
     "data": {
      "text/markdown": [
       "This means that there are $1$ out of $7$ chances in favour of choosing a purple ball."
      ],
      "text/plain": [
       "<IPython.core.display.Markdown object>"
      ]
     },
     "metadata": {},
     "output_type": "display_data"
    }
   ],
   "source": [
    "# Obtain color value from toggle button widget\n",
    "\n",
    "color = odds_color_buttons.value\n",
    "\n",
    "# Write image path and js command\n",
    "\n",
    "image_path = './images/odds-' + color + '.png'\n",
    "image = ' <center><img src = ' + ' \" ' + image_path + ' \" ' + ' alt = \"Drawing\" style = \"width: 850px;\" /> '\n",
    "\n",
    "display(Markdown(image))\n",
    "\n",
    "if(color == 'Purple'):\n",
    "    \n",
    "    line_1 = \"With the ball being purple, the number of ways in which a purple ball is chosen is $2$.\"\n",
    "    line_2 = \"The number of ways in which a purple ball is not chosen is $12$.\"\n",
    "    line_3 = \"We write the odds in favour of choosing a purple ball to be $2:12$ or $1:6$.\"\n",
    "    line_4 = \"This means that there are $1$ out of $7$ chances in favour of choosing a purple ball.\"\n",
    "    \n",
    "    display(Markdown(line_1))\n",
    "    display(Markdown(line_2))\n",
    "    display(Markdown(line_3))\n",
    "    display(Markdown(line_4))\n",
    "    \n",
    "elif(color == 'Green'):\n",
    "    \n",
    "    line_1 = \"With the ball being green, the number of ways in which a green ball is chosen is $3$.\"\n",
    "    line_2 = \"The number of ways in which a green ball is not chosen is $11$.\"\n",
    "    line_3 = \"We write the odds in favour of choosing a green ball to be $3:11$.\"\n",
    "    line_4 = \"This means that there are $3$ out of $11$ chances in favour of choosing a green ball.\"\n",
    "    \n",
    "    display(Markdown(line_1))\n",
    "    display(Markdown(line_2))\n",
    "    display(Markdown(line_3))\n",
    "    display(Markdown(line_4))\n",
    "    \n",
    "elif(color == 'Orange'):\n",
    "    \n",
    "    line_1 = \"With the ball being orange, the number of ways in which an orange ball is chosen is $3$.\"\n",
    "    line_2 = \"The number of ways in which an orange ball is not chosen is $11$.\"\n",
    "    line_3 = \"We write the odds in favour of choosing an orange ball to be $3:11$.\"\n",
    "    line_4 = \"This means that there are $3$ out of $11$ chances in favour of choosing an orange ball.\"\n",
    "    \n",
    "    display(Markdown(line_1))\n",
    "    display(Markdown(line_2))\n",
    "    display(Markdown(line_3))\n",
    "    display(Markdown(line_4))\n",
    "    \n",
    "elif(color == 'Red'):\n",
    "    \n",
    "    line_1 = \"With the ball being red, the number of ways in which a red ball is chosen is $1$.\"\n",
    "    line_2 = \"The number of ways in which a red ball is not chosen is $13$.\"\n",
    "    line_3 = \"We write the odds in favour of choosing a red ball to be $1:13$.\"\n",
    "    line_4 = \"This means that there are $1$ out of $14$ chances in favour of choosing a red ball.\"\n",
    "    \n",
    "    display(Markdown(line_1))\n",
    "    display(Markdown(line_2))\n",
    "    display(Markdown(line_3))\n",
    "    display(Markdown(line_4))\n",
    "    \n",
    "elif(color == 'Blue'):\n",
    "    \n",
    "    line_1 = \"With the ball being blue, the number of ways in which a blue ball is chosen is $5$.\"\n",
    "    line_2 = \"The number of ways in which a blue ball is not chosen is $9$.\"\n",
    "    line_3 = \"We write the odds in favour of choosing a blue ball to be $5:9$.\"\n",
    "    line_4 = \"This means that there are $5$ out of $14$ chances in favour of choosing a blue ball.\"\n",
    "    \n",
    "    display(Markdown(line_1))\n",
    "    display(Markdown(line_2))\n",
    "    display(Markdown(line_3))\n",
    "    display(Markdown(line_4))"
   ]
  },
  {
   "cell_type": "markdown",
   "metadata": {},
   "source": [
    "$$\\cdots$$\n",
    "\n",
    "We may also be interested in talking about the odds against an event happening, when this is the case, we simply \"swap\" the ratios, and write it as follows:\n",
    "\n",
    "$$\\text{Odds against an event} = \\text{Number of ways an event cannot occur} : \\text{Number of ways an event can occur}.$$"
   ]
  },
  {
   "cell_type": "markdown",
   "metadata": {},
   "source": [
    "**Exercise 1.**\n",
    "What is the ratio when we are interested in finding the odds _against_ a red ball being pulled?\n",
    "\n",
    "Enter your answer in the text box below. Do not use spaces."
   ]
  },
  {
   "cell_type": "code",
   "execution_count": 6,
   "metadata": {},
   "outputs": [
    {
     "data": {
      "application/vnd.jupyter.widget-view+json": {
       "model_id": "4dcc42a8d0f44b71a56850e44fd89028",
       "version_major": 2,
       "version_minor": 0
      },
      "text/plain": [
       "A Jupyter Widget"
      ]
     },
     "metadata": {},
     "output_type": "display_data"
    },
    {
     "data": {
      "application/vnd.jupyter.widget-view+json": {
       "model_id": "725558f5bedb4bc39c9abb4c5ef32604",
       "version_major": 2,
       "version_minor": 0
      },
      "text/plain": [
       "A Jupyter Widget"
      ]
     },
     "metadata": {},
     "output_type": "display_data"
    }
   ],
   "source": [
    "# Exercise 1 widgets\n",
    "\n",
    "ex1_button = widgets.Button(button_style='info',description=\"Enter\", layout=Layout(width='10%', height='30px') )\n",
    "ex1_text = widgets.Text( placeholder='Enter your answer here.', description='', disabled=False , layout=Layout(width='25%') )\n",
    "\n",
    "display(ex1_text)\n",
    "display(ex1_button)\n",
    "\n",
    "ex1_button.on_click( run_cells )"
   ]
  },
  {
   "cell_type": "code",
   "execution_count": 7,
   "metadata": {},
   "outputs": [
    {
     "data": {
      "text/markdown": [
       "Please enter a valid ratio. For example, `3:7` or `4:9`."
      ],
      "text/plain": [
       "<IPython.core.display.Markdown object>"
      ]
     },
     "metadata": {},
     "output_type": "display_data"
    }
   ],
   "source": [
    "# Obtain user input from text box\n",
    "\n",
    "user_input = ex1_text.value\n",
    "\n",
    "# Expected answer\n",
    "\n",
    "expected_answer = '13:1'\n",
    "expected_ratio = expected_answer.split(\":\")\n",
    "expected_left_ratio = int(expected_ratio[0])\n",
    "expected_right_ratio = int(expected_ratio[1])\n",
    "        \n",
    "# Check if user's answer is correct\n",
    "\n",
    "display_answer = \"**Expected Answer. ** 13:1\"\n",
    "display_explanation = \"**Explanation.** The number of ways a red ball is not chosen is when we pick any ball other than the colour red. There are 13 such balls. The number of ways a red ball is chosen is only 1, since there is only a single red ball. Hence, the odds against choosing a red ball is 13:1.\"\n",
    "\n",
    "if(valid_ratio(user_input) == 1):\n",
    "    \n",
    "    user_ratio = user_input.split(\":\")\n",
    "    user_left_ratio = int(user_ratio[0])\n",
    "    user_right_ratio = int(user_ratio[1])\n",
    "    \n",
    "    if(expected_left_ratio == user_left_ratio and expected_right_ratio == user_right_ratio):\n",
    "        \n",
    "        display(Markdown(\"Correct!\"))\n",
    "        display(Markdown(display_answer))\n",
    "        display(Markdown(display_explanation))\n",
    "        \n",
    "    else:\n",
    "        \n",
    "        display(Markdown(\"Your answer is incorrect. Please try again.\"))\n",
    "    \n",
    "else:\n",
    "        \n",
    "    display(Markdown(\"Please enter a valid ratio. For example, `3:7` or `4:9`.\"))"
   ]
  },
  {
   "cell_type": "markdown",
   "metadata": {},
   "source": [
    "**Exercise 2.** How do you interpret your answer in Exercise 1?"
   ]
  },
  {
   "cell_type": "code",
   "execution_count": 8,
   "metadata": {},
   "outputs": [
    {
     "data": {
      "application/vnd.jupyter.widget-view+json": {
       "model_id": "af26b7ba584148809719520c9641b139",
       "version_major": 2,
       "version_minor": 0
      },
      "text/plain": [
       "A Jupyter Widget"
      ]
     },
     "metadata": {},
     "output_type": "display_data"
    },
    {
     "data": {
      "application/vnd.jupyter.widget-view+json": {
       "model_id": "481475b3d5174013a145cd1623b728e0",
       "version_major": 2,
       "version_minor": 0
      },
      "text/plain": [
       "A Jupyter Widget"
      ]
     },
     "metadata": {},
     "output_type": "display_data"
    }
   ],
   "source": [
    "# Exercise 2 counter to prevent text area from collapsing immediately when notebook is run\n",
    "\n",
    "ex2_ctr = 0\n",
    "\n",
    "# Exercise 2 widgets\n",
    "\n",
    "ex2_button = widgets.Button(button_style='info',description=\"Save\", layout=Layout(width='10%', height='30px') )\n",
    "ex2_text = widgets.Textarea( placeholder='Enter your answer here.', description='', disabled=False , layout = Layout(width='50%',height='100px')  )\n",
    "\n",
    "display(ex2_text)\n",
    "display(ex2_button)\n",
    "\n",
    "ex2_button.on_click( run_cells )"
   ]
  },
  {
   "cell_type": "code",
   "execution_count": 9,
   "metadata": {
    "collapsed": true
   },
   "outputs": [],
   "source": [
    "ex2_ctr += 1\n",
    "ex2_explanation = \"One explanation would be that it is 13 times as likely that a ball chosen is not red.\"\n",
    "\n",
    "# Executes when user saves answer\n",
    "\n",
    "if(ex2_ctr == 2):\n",
    "\n",
    "    ex2_button.close()\n",
    "    ex2_user_input = ex2_text.value\n",
    "\n",
    "    display(Markdown(\"**Explanation: **\"))\n",
    "    display(Markdown(ex2_explanation))\n",
    "    \n",
    "    display(Markdown(\"**You wrote: **\"))\n",
    "    display(Markdown(ex2_user_input))"
   ]
  },
  {
   "cell_type": "markdown",
   "metadata": {},
   "source": [
    "# Introduction to Probability\n",
    "\n",
    "Probability is the study of randomness and uncertainty. In a situation where out of a number of possible outcomes can occur, the study of probability provides a method for quantifying the chances associated with varying outcomes."
   ]
  },
  {
   "cell_type": "markdown",
   "metadata": {},
   "source": [
    "### Definitions & Examples\n",
    "\n",
    "<div class=\"alert alert-warning\">\n",
    "<font color=\"black\"><b>Definition.</b> \n",
    "The set $S$ of all possible outcomes of an experiment is defined to be the **sample space**.\n",
    "</div>\n",
    "\n",
    "**Note. **Here, the word _experiment_ is any process whose outcome is subject to uncertainty.\n",
    "\n",
    "**Example 1. ** _Tossing a coin once._\n",
    "\n",
    "Consider the experiment of tossing a fair coin once. The sample space, which is set of all possible outcomes is that the coin either lands with heads faced up or tails faced up. We would write the sample space $S$ to be $S=\\{\\text{head},\\text{tails}\\}.$ For short form, we write $S=\\{H,T\\}$.\n",
    "\n",
    "**Example 2. ** _Tossing a coin three times._\n",
    "\n",
    "Consider the experiment of tossing a fair coin three times. Then $S=\\{TTT,TTH,THT,THH,HTT,HTH,HHT,HHH\\}.$\n",
    "\n",
    "**Example 3. ** _Tossing a die once._ \n",
    "\n",
    "Consider the experiment of tossing a die once. The set of all possible outcomes for the face value of the die is given by $S=\\{1,2,3,4,5,6\\}.$ "
   ]
  },
  {
   "cell_type": "markdown",
   "metadata": {},
   "source": [
    "<div class=\"alert alert-warning\">\n",
    "<font color=\"black\"><b>Definition.</b> \n",
    "A set $E$ of outcomes of an experiment that is a subset of the sample space $S$ for this experiment is called to be an **event**.\n",
    "</font>\n",
    "</div>\n",
    "\n",
    "**Note.** The examples below are continuation of previous examples.\n",
    "\n",
    "**Example 4. ** _Events in tossing a coin once._\n",
    "\n",
    "One outcome of the experiment in example 1 would be that we get a coin that lands head. In this case, we would write $E=\\{H\\}$. Another outcome would be that $E=\\{T\\}$.\n",
    "\n",
    "**Example 5. ** _Event of getting exactly two heads in tossing a coin three times._\n",
    "\n",
    "Suppose we were interested in the event that exactly two of the coin tosses heads facing up. Then $E=\\{THH,HTT,HTH,HHT\\}.$\n",
    "\n",
    "**Example 6. ** _Event of a die having a face value that is an even number._\n",
    "\n",
    "Here $E=\\{2,4,6\\}.$"
   ]
  },
  {
   "cell_type": "markdown",
   "metadata": {},
   "source": [
    "<div class=\"alert alert-warning\">\n",
    "<font color=\"black\"><b>Definition.</b> \n",
    "Given a sample space $S$, the **probability** $P$ of an event $E$ occurring is given by:\n",
    "$$ $$\n",
    "$$P(E) = \\frac{\\text{Number of outcomes in $E$}}{\\text{Number of outcomes in $S$}}.$$\n",
    "$$  $$\n",
    "We denote $|E|$ to be the number of outcomes in $E$ and $|S|$ to be the number of outcomes in $S$ and simply write $P(E)={|E| \\over |S|}.$\n",
    "</font>\n",
    "</div>"
   ]
  },
  {
   "cell_type": "markdown",
   "metadata": {},
   "source": [
    "_Remarks._ We note some important properties of probabilities: they only take on values between $0$ and $1$. Another property is that when we consider the probability of the sample space $S$ as an event, the resulting value is $1$. These are two basic properties of probabilities; there are many other properties of probabilities, but for the purpose of this notebook, we shall not cover them.\n",
    "\n",
    "**Example: ** Suppose again that we have an opaque bin that contains several coloured balls: 1 red ball, 2 purple balls, 3 orange balls, 3 green balls, and 5 blue balls (14 balls in total).\n",
    "\n",
    "What would be the probability of pulling a ball from the bin of a certain colour? The probability of of pulling a ball of a certain colour would be the total number of the balls of the colour we want divided by the total number of balls.\n",
    "\n",
    "In the interactive below, we illustrate visually and mathematically as to how the calculation for the probability of choosing a ball of a certain colour is determined."
   ]
  },
  {
   "cell_type": "markdown",
   "metadata": {},
   "source": [
    "### Visualizing Probability"
   ]
  },
  {
   "cell_type": "code",
   "execution_count": 10,
   "metadata": {},
   "outputs": [
    {
     "data": {
      "application/vnd.jupyter.widget-view+json": {
       "model_id": "18163bf8cbec453bb7af5b422f795519",
       "version_major": 2,
       "version_minor": 0
      },
      "text/plain": [
       "A Jupyter Widget"
      ]
     },
     "metadata": {},
     "output_type": "display_data"
    },
    {
     "data": {
      "text/markdown": [
       "In the example below, we set $E$ to be the event that a ball of the color of our choice below is chosen and we look at the probability of choosing a ball of that color from our bin. Since our bin has $14$ balls in total, we use $|S|=14$. "
      ],
      "text/plain": [
       "<IPython.core.display.Markdown object>"
      ]
     },
     "metadata": {},
     "output_type": "display_data"
    }
   ],
   "source": [
    "# Toggle button for visualizing probability of picking balls\n",
    "\n",
    "probability_color_buttons = widgets.ToggleButtons(\n",
    "    \n",
    "    options=['Purple', 'Green', 'Orange','Red','Blue'],\n",
    "    description='Color',\n",
    "    disabled=False,\n",
    "    button_style='',\n",
    "    \n",
    ")\n",
    "\n",
    "display(probability_color_buttons)\n",
    "probability_color_buttons.observe(toggle_button_run_cell, 'value')\n",
    "\n",
    "display(Markdown(\"In the example below, we set $E$ to be the event that a ball of the color of our choice below is chosen and we look at the probability of choosing a ball of that color from our bin. Since our bin has $14$ balls in total, we use $|S|=14$. \" ))"
   ]
  },
  {
   "cell_type": "code",
   "execution_count": 11,
   "metadata": {
    "scrolled": false
   },
   "outputs": [
    {
     "data": {
      "text/markdown": [
       "<center> <img src =  \" ./images/probability-Purple.png \"  alt = \"Drawing\" style = \"width: 850px;\" /> "
      ],
      "text/plain": [
       "<IPython.core.display.Markdown object>"
      ]
     },
     "metadata": {},
     "output_type": "display_data"
    },
    {
     "data": {
      "text/markdown": [
       "The probability of choosing a purple ball is $\\displaystyle {1 \\over 7}.$"
      ],
      "text/plain": [
       "<IPython.core.display.Markdown object>"
      ]
     },
     "metadata": {},
     "output_type": "display_data"
    },
    {
     "data": {
      "text/markdown": [
       "Let $E$ be the event that a purple ball is chosen. So $|E|=2$ and $\\displaystyle P(E) = {|E| \\over |S|} = {2 \\over 14} = {1 \\over 7}.$"
      ],
      "text/plain": [
       "<IPython.core.display.Markdown object>"
      ]
     },
     "metadata": {},
     "output_type": "display_data"
    }
   ],
   "source": [
    "# Obtain color value from toggle button widget\n",
    "\n",
    "color = probability_color_buttons.value\n",
    "\n",
    "# Write image path and js command\n",
    "\n",
    "image_path = './images/probability-' + color + '.png'\n",
    "image = '<center> <img src = ' + ' \" ' + image_path + ' \" ' + ' alt = \"Drawing\" style = \"width: 850px;\" /> '\n",
    "\n",
    "display(Markdown(image))\n",
    "\n",
    "if(color == 'Purple'):\n",
    "    \n",
    "    line_1 = \"The probability of choosing a purple ball is $\\displaystyle {1 \\over 7}.$\"\n",
    "    line_2 = \"Let $E$ be the event that a purple ball is chosen. \"\n",
    "    line_3 = line_2 + \"So $|E|=2$ and $\\displaystyle P(E) = {|E| \\over |S|} = {2 \\over 14} = {1 \\over 7}.$\"\n",
    "\n",
    "    display(Markdown(line_1))\n",
    "    display(Markdown(line_3))\n",
    "    \n",
    "elif(color == 'Red'):\n",
    "    \n",
    "    line_1 = \"The probability of choosing a red ball is $\\displaystyle {1 \\over 14}.$\"\n",
    "    line_2 = \"Let $E$ be the event that a red ball is chosen. \"\n",
    "    line_3 = line_2 + \"So $|E|=1$ and $\\displaystyle P(E) = {|E| \\over |S|} = {1 \\over 14}.$\"\n",
    "\n",
    "    display(Markdown(line_1))\n",
    "    display(Markdown(line_3))\n",
    "    \n",
    "elif(color == 'Green'):\n",
    "    \n",
    "    line_1 = \"The probability of choosing a green ball is $\\displaystyle {3 \\over 14}.$\"\n",
    "    line_2 = \"Let $E$ be the event that a green ball is chosen. \"\n",
    "    line_3 = line_2 + \"So $|E|=3$ and $\\displaystyle P(E) = {|E| \\over |S|} = {3 \\over 14}.$\"\n",
    "\n",
    "    display(Markdown(line_1))\n",
    "    display(Markdown(line_3))\n",
    "    \n",
    "elif(color == 'Orange'):\n",
    "    \n",
    "    line_1 = \"The probability of choosing a orange ball is $\\displaystyle {3 \\over 14}.$\"\n",
    "    line_2 = \"Let $E$ be the event that an orange ball is chosen. \"\n",
    "    line_3 = line_2 + \"So $|E|=3$ and $\\displaystyle P(E) = {|E| \\over |S|} = {3 \\over 14}.$\"\n",
    "\n",
    "    display(Markdown(line_1))\n",
    "    display(Markdown(line_3))\n",
    "    \n",
    "elif(color == 'Blue'):\n",
    "    \n",
    "    line_1 = \"The probability of choosing a blue ball is $\\displaystyle {5 \\over 14}.$\"\n",
    "    line_2 = \"Let $E$ be the event that a blue ball is chosen. \"\n",
    "    line_3 = line_2 + \"So $|E|=5$ and $\\displaystyle P(E) = {|E| \\over |S|} = {5 \\over 14}.$\"\n",
    "\n",
    "    display(Markdown(line_1))\n",
    "    display(Markdown(line_3))"
   ]
  },
  {
   "cell_type": "markdown",
   "metadata": {},
   "source": [
    "# Odds & Probability"
   ]
  },
  {
   "cell_type": "markdown",
   "metadata": {},
   "source": [
    "### Conversions\n",
    "\n",
    "Now that we understand what odds and probabilities mean, we can now look at how they are related, and how we can express one as the other. \n",
    "\n",
    "To describe an odd in favour of an event $E$, occurring as the result of an experiment in terms of probability, we simply think of what we are writing a ratio of. We are writing the ratio of $E$ occurring versus that of $E$ not happening, this we write simply as $P(E)$ and $1-P(E)$ respectively.\n",
    "\n",
    "We write this in an equation as follows:\n",
    "\n",
    "$$\\text{Odds for the event $E$ occurring} = {P(E) \\over 1-P(E)}$$\n",
    "\n",
    "As a ratio, we would write this as $P(E):1-P(E).$  \n",
    "\n",
    "Conversely, given the odds $r:s$ in favour of an event $E$, we can write this in terms of probability as $\\displaystyle { {r \\over s} \\over {1 + {r \\over s} } }.$\n",
    "\n",
    "Conversely, we can express the probability of an event occurring in terms of odds in favour of an event, as follows:\n",
    "\n",
    "**Example 1.** Consider again our opaque bin and coloured balls example (a bin with 1 red ball, 2 purple balls, 3 orange balls, 3 green balls, and 5 blue balls). We know that the odds in favour of picking a red ball is 1:13. So in using the conversion formula, we would set $r=1$ and $s=13$ and substitute into $\\displaystyle { {r \\over s} \\over {1 + {r \\over s} } }$ to obtain the probability of picking a red ball from the bin. We get:\n",
    "\n",
    "$$\\displaystyle { {1 \\over 13} \\over {1 + {1 \\over 13}} } = { {1 \\over 13} \\over {1+13 \\over 13} } = { {1\\over 13}\\over {14 \\over 13} } = {1 \\over 14}$$\n",
    "\n",
    "which agrees with our earlier calculation of the probability of choosing a red ball in the bin being ${1\\over 14}.$\n",
    "\n",
    "**Exercise 1.** The probability of flipping a fair coin three times and having the coin land heads facing up for all three flips is ${1 \\over 8}$. Express this as a statement of odds. That is, what is the odds in favour of three coin tosses, all of which lands with heads facing up?"
   ]
  },
  {
   "cell_type": "code",
   "execution_count": 12,
   "metadata": {},
   "outputs": [
    {
     "data": {
      "application/vnd.jupyter.widget-view+json": {
       "model_id": "b3f28a876df14ea688e563c7dd2cfa88",
       "version_major": 2,
       "version_minor": 0
      },
      "text/plain": [
       "A Jupyter Widget"
      ]
     },
     "metadata": {},
     "output_type": "display_data"
    },
    {
     "data": {
      "application/vnd.jupyter.widget-view+json": {
       "model_id": "835f3550b0ed465cafb6ba615d731697",
       "version_major": 2,
       "version_minor": 0
      },
      "text/plain": [
       "A Jupyter Widget"
      ]
     },
     "metadata": {},
     "output_type": "display_data"
    }
   ],
   "source": [
    "conversion_q_ctr = 0\n",
    "\n",
    "# Conversion question widgets\n",
    "\n",
    "conversion_q_button = widgets.Button(button_style='info',description=\"Enter\", layout=Layout(width='30%', height='30px') )\n",
    "conversion_q_text = widgets.Textarea( placeholder='Enter your answer here.', description='', disabled=False , layout = Layout(width='30%',height='30px')  )\n",
    "\n",
    "display(conversion_q_text)\n",
    "display(conversion_q_button)\n",
    "\n",
    "conversion_q_button.on_click( run_cells )"
   ]
  },
  {
   "cell_type": "code",
   "execution_count": 13,
   "metadata": {},
   "outputs": [
    {
     "data": {
      "text/markdown": [
       "Please enter a valid ratio. For example, `3:7` or `4:9`."
      ],
      "text/plain": [
       "<IPython.core.display.Markdown object>"
      ]
     },
     "metadata": {},
     "output_type": "display_data"
    }
   ],
   "source": [
    "# Obtain user input from text box\n",
    "\n",
    "conversion_q_user_input = conversion_q_text.value\n",
    "\n",
    "# Expected answer\n",
    "\n",
    "conversion_q_expected_answer = '1:7'\n",
    "conversion_q_expected_ratio = conversion_q_expected_answer.split(\":\")\n",
    "conversion_q_expected_left_ratio = int(conversion_q_expected_ratio[0])\n",
    "conversion_q_expected_right_ratio = int(conversion_q_expected_ratio[1])\n",
    "        \n",
    "# Check if user's answer is correct\n",
    "\n",
    "display_conv_q_answer = \"**Expected answer.** 1:7\"\n",
    "display_conv_q_explanation = \"**Explanation.** We are given that $P(E)={1 \\over 8}.$ Now, using the conversion formula, we have that$\\displaystyle{P(E) \\over 1-P(E)} = {{1\\over 8} \\over 1-{1\\over 8}} = {{1\\over 8}\\over{7\\over 8}} = {1 \\over 7}.$ So the odds in favour of flipping a coin three times where we get the coin to land heads faced up in all three coin tosses is 1:7.\"\n",
    "\n",
    "if(valid_ratio(conversion_q_user_input) == 1):\n",
    "    \n",
    "    user_ratio = conversion_q_user_input.split(\":\")\n",
    "    user_left_ratio = int(user_ratio[0])\n",
    "    user_right_ratio = int(user_ratio[1])\n",
    "    \n",
    "    if(conversion_q_expected_left_ratio == user_left_ratio and conversion_q_expected_right_ratio == user_right_ratio):\n",
    "        \n",
    "        display(Markdown(\"Correct!\"))\n",
    "        display(Markdown(display_conv_q_answer))\n",
    "        display(Markdown(display_conv_q_explanation))\n",
    "        \n",
    "    else:\n",
    "        \n",
    "        display(Markdown(\"Your answer is incorrect. Please try again.\"))\n",
    "    \n",
    "else:\n",
    "        \n",
    "    display(Markdown(\"Please enter a valid ratio. For example, `3:7` or `4:9`.\"))"
   ]
  },
  {
   "cell_type": "markdown",
   "metadata": {},
   "source": [
    "### Making Decisions Based on Odds & Probability\n",
    "\n",
    "One topic where we may hear periodically in the news with regards to the usage of the words odds and probability is that of lottery winners. According to CBC, approximately a quarter of Canadians play the lottery weekly. We can buy a ticket and choose three sets of seven numbers for $5.00 for a chance to become a millionaire. Now how do we calculate the odds of and probability of winning? \n",
    "\n",
    "For an example, let us consider [Lotto Max](http://lotto.bclc.com/lotto-max-and-extra/prizes-and-odds.html). In this lottery game, the player is to select 7 distinct numbers from 1 to 49. We can count the number of ways to do this by using the _Choose Function_ (mathematically known as [Binomial Coefficients](https://en.wikipedia.org/wiki/Binomial_coefficient)), which gives the number of ways to choose $k$ non-ordered elements from a fixed set of $n$ elements, which we write as follows: \n",
    "$${n \\choose k} = {n! \\over {k!(n-k)!}}$$\n",
    "\n",
    "where $n$ and $k$ are both positive integers and $n!$ means $n\\cdot(n-1)\\cdot(n-2)\\cdots 3\\cdot 2\\cdot 1$ (it's simply some positive integer $n$ and multiplied by every positive integer less than it. Now, back to the lottery, we have $k=7$ numbers to choose from a total of $n=49$ numbers. The number of ways to do this is given by:\n",
    "\n",
    "$${49 \\choose 7} = {49! \\over {7!(49-7)!}} = {49! \\over {7!42!}} = {49\\cdot 48\\cdot 47\\cdot 46\\cdot 45\\cdot 44\\cdot 43\\cdot 42! \\over {7!42!}} = {49\\cdot 48\\cdot 47\\cdot 46\\cdot 45\\cdot 44\\cdot 43 \\over {7\\cdot6\\cdot5\\cdot4\\cdot3\\cdot2\\cdot 1}} = 85,900,584$$\n",
    "\n",
    "Now, to win the lottery, we must hold a winning ticket where one of the sets of numbers we chose matches all 7 of the winning numbers - and we note that there is exactly only one set of such winning numbers. \n",
    "\n",
    "Since a $5.00 ticket allows us to choose three sets of seven numbers, our chances of winning are slightly better (assuming that we don't choose exactly the same seven numbers for two or three of our sets). So we have three of the possible 85,900,584 seven number configurations, which makes the odds for holding a winning ticket as 3:85,900,584 or 1:28,633,528.\n",
    "\n",
    "**Exploration.** Every ticket comes with three sets of seven numbers we can choose from. We saw that the odds of having a ticket with winning numbers is 3:85,900,584 (or 1:28,633,528 simplified), if we suppose that we had only one set of seven numbers to choose from in a single ticket, the odds of winning would be much lower -  1:85,900,584. So in comparing having one set of number to that of seven numbers, our chances seems to have improved. \n",
    "\n",
    "**Exploration Question 1.** Would buying more tickets improve our chances of winning?"
   ]
  },
  {
   "cell_type": "code",
   "execution_count": 14,
   "metadata": {},
   "outputs": [
    {
     "data": {
      "application/vnd.jupyter.widget-view+json": {
       "model_id": "5861f98b040e44eebea5039189ff6c93",
       "version_major": 2,
       "version_minor": 0
      },
      "text/plain": [
       "A Jupyter Widget"
      ]
     },
     "metadata": {},
     "output_type": "display_data"
    },
    {
     "data": {
      "application/vnd.jupyter.widget-view+json": {
       "model_id": "0b8ffc55741e4a3b884f036b1b02f293",
       "version_major": 2,
       "version_minor": 0
      },
      "text/plain": [
       "A Jupyter Widget"
      ]
     },
     "metadata": {},
     "output_type": "display_data"
    }
   ],
   "source": [
    "decision_q1_ctr = 0\n",
    "\n",
    "# Exercise 2 widgets\n",
    "\n",
    "decision_q1_button = widgets.Button(button_style='info',description=\"Save & View Answer\", layout=Layout(width='50%', height='30px') )\n",
    "decision_q1_text = widgets.Textarea( placeholder='Enter your answer here.', description='', disabled=False , layout = Layout(width='50%',height='250px')  )\n",
    "\n",
    "display(decision_q1_text)\n",
    "display(decision_q1_button)\n",
    "\n",
    "decision_q1_button.on_click( run_cells )"
   ]
  },
  {
   "cell_type": "code",
   "execution_count": 15,
   "metadata": {
    "collapsed": true
   },
   "outputs": [],
   "source": [
    "decision_q1_ctr += 1\n",
    "\n",
    "# Explanation to display in markdown format\n",
    "\n",
    "exp_q1_line1 = \"Would buying more tickets improve our chances of winning? **Yes.**\"\n",
    "exp_q1_line2 = \"From a technical perspective, buying more tickets does improve our chance of winning. For example, if we buy two tickets, we now have a 6:89,900,584 chance of winning - that is, approximately 1 out of 14,983,430.\"\n",
    "exp_q1_line3 = \"If we let $n$ be the number of tickets so that $n$ tickets gives us $3n$ sets of seven numbers to choose from, we can see that as we increase $n$, the fraction ${89,900,584 \\over 3n}$ becomes smaller, and our chance of winning is approximately 1 out of ${89,900,584 \\over 3n}.$ For instance, if we buy $n=7$ tickets, then our chance of winning is approximately 1 out of ${89,900,594 \\over 21}$. That is, approximately 1 out of 4,280,980.\"\n",
    "\n",
    "# Executes when user saves answer\n",
    "\n",
    "if(decision_q1_ctr >= 2):\n",
    "\n",
    "    decision_q1_button.close()\n",
    "    user_decision_q1_text = decision_q1_text.value\n",
    "\n",
    "    display(Markdown(\"**Explanation: **\"))\n",
    "    display(Markdown(exp_q1_line1))\n",
    "    display(Markdown(exp_q1_line2))\n",
    "    display(Markdown(exp_q1_line3))\n",
    "    \n",
    "    display(Markdown(\"**You wrote: **\"))\n",
    "    display(Markdown(user_decision_q1_text))"
   ]
  },
  {
   "cell_type": "markdown",
   "metadata": {},
   "source": [
    "**Exploration Question 2.** Would this be a sound financial strategy?"
   ]
  },
  {
   "cell_type": "code",
   "execution_count": 16,
   "metadata": {},
   "outputs": [
    {
     "data": {
      "application/vnd.jupyter.widget-view+json": {
       "model_id": "7603a0d1137446ebb2536e5d290b8cd0",
       "version_major": 2,
       "version_minor": 0
      },
      "text/plain": [
       "A Jupyter Widget"
      ]
     },
     "metadata": {},
     "output_type": "display_data"
    },
    {
     "data": {
      "application/vnd.jupyter.widget-view+json": {
       "model_id": "d8e05a072a044e0fadf255c1e3c05155",
       "version_major": 2,
       "version_minor": 0
      },
      "text/plain": [
       "A Jupyter Widget"
      ]
     },
     "metadata": {},
     "output_type": "display_data"
    }
   ],
   "source": [
    "decision_q2_ctr = 0\n",
    "\n",
    "# Exercise 2 widgets\n",
    "\n",
    "decision_q2_button = widgets.Button(button_style='info',description=\"Save & View Answer\", layout=Layout(width='50%', height='30px') )\n",
    "decision_q2_text = widgets.Textarea( placeholder='Enter your answer here.', description='', disabled=False , layout = Layout(width='50%',height='250px')  )\n",
    "\n",
    "display(decision_q2_text)\n",
    "display(decision_q2_button)\n",
    "\n",
    "decision_q2_button.on_click( run_cells )"
   ]
  },
  {
   "cell_type": "code",
   "execution_count": 17,
   "metadata": {
    "collapsed": true
   },
   "outputs": [],
   "source": [
    "decision_q2_ctr += 1\n",
    "\n",
    "# Explanation to display in markdown format\n",
    "\n",
    "exp_q2_line1 = \"Would this be a sound financial strategy? **No.**\"\n",
    "exp_q2_line2 = \"While it is correct to say that buying more tickets does improve our chance of winning, it would be a poor choice to buy more tickets just for the sake of improving the chances of winning.\"\n",
    "exp_q2_line3 = \"In the previous exercise, we found that buying 7 tickets brings our odds in favour of winning at approximately 1 out of 4,280,980. Now consider what we learned previously when we put this in the perspective of the odds against winning. With seven tickets, each of which has three sets of seven numbers, our tickets are still 4,280,980 times as likely to not contain the winning number.\"\n",
    "exp_q2_line4 = \"While buying more tickets improved our chances of winning, the chances of winning remained extremely low. We are significantly more likely to lose than win. \"\n",
    "exp_q2_line5 = \"To put this into perspective, let us see how many tickets we would need to buy in order to increase our odds of winning to about 1:5, which is equivalent to tossing a fair, six-sided die and guessing correctly the face value it lands on. To do this, we would solve for $n$ in the following equation: ${89,900,584 \\over 3n} = 5.$\"\n",
    "exp_q2_line6 = \"So that $1:{89,900,584 \\over 3n}$ is approximately. Solving the above equation, we find $n$ to be $5726705.6$, rounding up, we need to buy 5,726,706 tickets at a cost of $28,633,530.00 just to make our chances as good as guessing the face of the die.\"\n",
    "exp_q2_line7 = \"If in every game we buy 5,726,706 tickets we are still 5 times as likely to lose than win the game. Buying more tickets just increases the amount of money we are likely to lose.\"\n",
    "\n",
    "# Executes when user saves answer\n",
    "\n",
    "if(decision_q2_ctr >= 2):\n",
    "\n",
    "    decision_q2_button.close()\n",
    "    user_decision_q2_text = decision_q2_text.value\n",
    "\n",
    "    display(Markdown(\"**Explanation: **\"))\n",
    "    display(Markdown(exp_q2_line1))\n",
    "    display(Markdown(exp_q2_line2))\n",
    "    display(Markdown(exp_q2_line3))\n",
    "    display(Markdown(exp_q2_line4))\n",
    "    display(Markdown(exp_q2_line5))\n",
    "    display(Markdown(exp_q2_line6))\n",
    "    display(Markdown(exp_q2_line7))\n",
    "    \n",
    "    display(Markdown(\"**You wrote: **\"))\n",
    "    display(Markdown(user_decision_q2_text))"
   ]
  },
  {
   "cell_type": "markdown",
   "metadata": {},
   "source": [
    "<img src = \"./images/callysto-banner-bottom.jpg\" alt = \"Drawing\" style = \"width: 1000px;\" />"
   ]
  }
 ],
 "metadata": {
  "kernelspec": {
   "display_name": "Python 3",
   "language": "python",
   "name": "python3"
  },
  "language_info": {
   "codemirror_mode": {
    "name": "ipython",
    "version": 3
   },
   "file_extension": ".py",
   "mimetype": "text/x-python",
   "name": "python",
   "nbconvert_exporter": "python",
   "pygments_lexer": "ipython3",
   "version": "3.6.3"
  }
 },
 "nbformat": 4,
 "nbformat_minor": 2
}
