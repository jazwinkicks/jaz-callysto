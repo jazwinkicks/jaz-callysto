{
 "cells": [
  {
   "cell_type": "markdown",
   "metadata": {},
   "source": [
    "![alt text][top-banner]\n",
    "\n",
    "[top-banner]:./CC38_figures/callysto-top-banner.jpg"
   ]
  },
  {
   "cell_type": "code",
   "execution_count": 1,
   "metadata": {},
   "outputs": [
    {
     "data": {
      "application/javascript": [
       "\n",
       "            require.config({\n",
       "                paths: {\n",
       "                    ggb: \"https://cdn.geogebra.org/apps/deployggb\"\n",
       "                }\n",
       "            });\n",
       "\n",
       "            require([\"ggb\"]);\n",
       "        "
      ],
      "text/plain": [
       "<IPython.core.display.Javascript object>"
      ]
     },
     "metadata": {},
     "output_type": "display_data"
    },
    {
     "data": {
      "text/html": [
       "<script>\n",
       "  function code_toggle() {\n",
       "    if (code_shown){\n",
       "      $('div.input').hide('500');\n",
       "      $('#toggleButton').val('Show Code')\n",
       "    } else {\n",
       "      $('div.input').show('500');\n",
       "      $('#toggleButton').val('Hide Code')\n",
       "    }\n",
       "    code_shown = !code_shown\n",
       "  }\n",
       "  \n",
       "  $( document ).ready(function(){\n",
       "    code_shown=false;\n",
       "    $('div.input').hide()\n",
       "  });\n",
       "</script>\n",
       "<form action=\"javascript:code_toggle()\"><input type=\"submit\" id=\"toggleButton\" value=\"Show Code\"></form>"
      ],
      "text/plain": [
       "<IPython.core.display.HTML object>"
      ]
     },
     "execution_count": 1,
     "metadata": {},
     "output_type": "execute_result"
    }
   ],
   "source": [
    "import numpy as np\n",
    "import pylab as plt\n",
    "from IPython.display import display, Latex, clear_output, Markdown, Image, HTML, Javascript\n",
    "import ipywidgets as widgets\n",
    "from astropy.table import Table, Column\n",
    "from ipywidgets import interact, interactive, Button , Layout\n",
    "import ipywidgets as w\n",
    "import matplotlib.pyplot as plt\n",
    "import plotly.graph_objs as go\n",
    "import math\n",
    "from ggb import *\n",
    "\n",
    "ggb = GGB()\n",
    "\n",
    "\n",
    "# Create a text box for user to input text\n",
    "\n",
    "get_user_text = w.Textarea( value='', placeholder='Enter your text here.', description='', disabled=False , layout=Layout(width='100%', height='250px') )\n",
    "\n",
    "# Create a slider to obtain shift integer from user \n",
    "\n",
    "get_user_shift = w.IntSlider( value=7, min=1, max=26, step=1, description='Ceasar Shift:', disabled=False, continuous_update=False, orientation='horizontal', readout=True, readout_format='d')\n",
    "\n",
    "# Function: After clicking on a button prompt, the next cell is executed.\n",
    "\n",
    "def rerun_cell(ev):\n",
    "    \n",
    "    display(Javascript('IPython.notebook.execute_cell_range(IPython.notebook.get_selected_index()+1,IPython.notebook.get_selected_index()+2)'))\n",
    "    button_t = w.Button(button_style='info',description=\"Restart\") \n",
    "\n",
    "\n",
    "from IPython.display import HTML\n",
    "HTML('''<script>\n",
    "  function code_toggle() {\n",
    "    if (code_shown){\n",
    "      $('div.input').hide('500');\n",
    "      $('#toggleButton').val('Show Code')\n",
    "    } else {\n",
    "      $('div.input').show('500');\n",
    "      $('#toggleButton').val('Hide Code')\n",
    "    }\n",
    "    code_shown = !code_shown\n",
    "  }\n",
    "  \n",
    "  $( document ).ready(function(){\n",
    "    code_shown=false;\n",
    "    $('div.input').hide()\n",
    "  });\n",
    "</script>\n",
    "<form action=\"javascript:code_toggle()\"><input type=\"submit\" id=\"toggleButton\" value=\"Show Code\"></form>''')"
   ]
  },
  {
   "cell_type": "markdown",
   "metadata": {},
   "source": [
    "#  Solve problems that involve radical equations\n",
    "*By Jessica Cervi*\n",
    "\n",
    "\n",
    "\n",
    "## Overview\n",
    "\n",
    ">### Lesson outcomes\n",
    " * Determine any restrictions on values for the variable in a radical equation.\n",
    " * Explain the necessary steps to to solve a radical equation.\n",
    " * Explain the concept of extraneous roots.\n",
    " * Solve word problems  with a radical equation.\n",
    "\n",
    "\n",
    ">## Introduction\n",
    "\n",
    "A radical equation is an equation in which a variable is under a radical. \n",
    "\n",
    "\n",
    "\n",
    "For instance, this is a radical equation, because the variable is inside the square root:\n",
    "\n",
    "$$\\sqrt{x} -5= 1.$$\n",
    "\n",
    "However, the following is not a radical equation\n",
    "\n",
    "$$\\sqrt{2} -x= 3,$$\n",
    "\n",
    "because there is no variable inside the radical.\n",
    "\n",
    "Throughout this notebook, we will learn the strategy to solve  **radical equations**.\n",
    "\n",
    "The key idea behind the strategy is that we can \"get rid\" of a square root by raising the radical to the power of two. It follows, that when you want to solve an equation with containing a radical expression you have to isolate the radical on one side from all other terms and then square both sides of the equation.\n",
    "\n",
    "For example, consider the following equation\n",
    "\n",
    "$$3\\sqrt{x} = 9.$$\n",
    "\n",
    "The first step is to isolate the radical expression. Dividing both sides by $3$ gives you\n",
    "\n",
    "$$\\sqrt{x} = 3$$\n",
    "\n",
    "Next, we square both sides to eliminate the square root\n",
    "\n",
    "$$\\left(\\sqrt{x}\\right)^2 = (3)^2,$$\n",
    "\n",
    "which gives\n",
    "\n",
    "$$x = 9$$\n",
    "\n",
    "as final result.\n",
    "\n",
    "Unfortunately, when solving radical equations things are not always this easy. Throughout this notebook, we will learn how to deal with more complicated cases.\n",
    "\n",
    "Before we start solving equations, we must keep in mind the following rules:\n",
    "\n",
    "#### 1) Square sides, not terms\n",
    "\n",
    "We said that when we are solving a radical equation we want to eliminate the square root. We can do that by raising it to the power of two.\n",
    "When solving an equation, we must apply the same operation to both SIDES of the equation; in particular, we don't do things to each term in the equation. \n",
    "\n",
    "When solving a radical equation, we must square both sides; we should never try to square every term. \n",
    "\n",
    "For example, consider\n",
    "\n",
    "$$3+4 =7$$\n",
    "\n",
    "The equation above is obviously a true statement. If I square both sides \n",
    "\n",
    "$$(3+4)^2 =7^2$$\n",
    "\n",
    "I end up with with a correct statement:\n",
    "\n",
    "$$49=49.$$\n",
    "\n",
    "However, if I square term by term\n",
    "\n",
    "$$3^2+4^2=7^2,$$\n",
    "\n",
    "I end up with\n",
    "\n",
    "$$25=49,$$\n",
    "\n",
    "which is obviously not true.\n",
    "\n",
    "One of the most common mistakes when  solving radical equations is trying to square terms. Always square sides, not terms.\n",
    "\n",
    "#### 2) Check Your Answers\n",
    "\n",
    "We can always check our solution to an equation by plugging the solution back into the original equation and making sure that it results into a true statement. For instance,  $x + 2 = 5$ has obviously solution $x = 3$. We can confirm this solution by plugging it back into the original equation:\n",
    "\n",
    "$$x + 2 = (3) + 2 = 5.$$\n",
    "\n",
    "The difficulty with solving radical equations is that we may do every step correctly, but still end up with a wrong answer. This is because the very act of squaring the sides can create solutions that never existed before. These kind of solutions are called **extraneous**. We will learn more about them later in the notebook.\n",
    "\n",
    "For now, remember to always check your answers when solving a radical equation.\n",
    "\n",
    "\n",
    "### Determine any restrictions on values for the variable in a radical equation\n",
    "\n",
    "One thing we need to pay attention to when solving radical equations is determining which value of  the solution are allowed.\n",
    "\n",
    "In fact, as long as we are working with real numbers, we cannot take the square root of a negative number. Thus, we must be careful to ensure that we do not choose values for a variable that would result in taking the square root of a negative number. To avoid this situation, we must restric the set of values the variable can take.\n",
    "\n",
    "We will differentiate between different cases.\n",
    "\n",
    "**Radical Expressions that Contain a Single Term Radicand**\n",
    "\n",
    "Consider the simplest case\n",
    "\n",
    "$$\\sqrt{x}.$$\n",
    "\n",
    "We already know that in this case, the solution is restricted to have any positive value, *including $0$*.\n",
    "\n",
    "Suppose though, that our equation has more complicated radicands in it. What's the strategy in those cases?\n",
    "\n",
    "Well, the general idea to follow is that we want  the entire expression under the root sign not to  be equal to a negative number. That is, it must equal zero or any other positive value.\n",
    "\n",
    "So for example, if we have an equation $\\sqrt{17x} = 6$, we must set the expression under the square root to be greater or equal than zero:\n",
    "\n",
    "\n",
    "$$17x\\geq 0.$$\n",
    "\n",
    "Isolating for $x$ gives\n",
    "\n",
    "$$x \\geq 0.$$\n",
    "\n",
    "\n",
    "This means that $x$ in the radical equation can take any positive number greater or equal than zero. Of course we still need to solve the equation. \n",
    "\n",
    "$$\\sqrt{17x} = 6 \\to 17x = 36 \\to x=\\frac{36}{17}.$$\n",
    "\n",
    "Because the solution $\\frac{36}{17}$ is greater than zero, then we can admit it.\n",
    "\n",
    "\n",
    "Consider now the following equation $\\sqrt{x -4} = 5$. Again, we need to set the expression under the square root to be greater or equal than zero:\n",
    "\n",
    "\n",
    "$$x-4\\geq 0.$$\n",
    "\n",
    "Isolating for $x$ gives\n",
    "\n",
    "$$x \\geq 4.$$\n",
    "\n",
    "So $x$ in the radical equation can take any positive number greater or equal than 4.\n",
    "\n",
    "Now we solve the radical equation. The radicand is already isolated so we can square both sides right away.\n",
    "\n",
    "$$\\left(\\sqrt{x -4}\\right) = (5)^2 \\to x-4 = 25$$\n",
    "\n",
    "Solving for $x$ gives \n",
    "\n",
    "$$x = 29,$$\n",
    "\n",
    "which is again a acceptable value because $29> 4$.\n",
    "\n"
   ]
  },
  {
   "cell_type": "markdown",
   "metadata": {},
   "source": [
    "###  Determine, algebraically, the roots of a radical equation.\n",
    "\n",
    "\n",
    "Here we will rigorously lay the necessary steps to solve a radical equation and we will work on some more complicated examples.\n",
    "\n",
    "When solving a radical equation you must go through these steps:\n",
    "\n",
    "**STEP 1**\n",
    "\n",
    "* Isolate the radical expression involving the variable. \n",
    "\n",
    "**STEP 2**\n",
    "\n",
    "* Raise both sides of the equation to the power of two.\n",
    "\n",
    "**Step 3**\n",
    "\n",
    "* Solve the resulting equation and check the solution.\n",
    "\n",
    "\n",
    "#### Example 1\n",
    "\n",
    "Consider the equation\n",
    "\n",
    "$$\\sqrt{x-2}=5.$$\n",
    "\n",
    "First, we set the restrictions on this equation. To do so, we set the argument under the square root $\\geq 0$.\n",
    "\n",
    "$$x-2\\geq0 \\to \\quad x \\geq 2.$$\n",
    "\n",
    "This means that the solution is admissible only if it is greater or equal than $2$.\n",
    "\n",
    "Next, we solve our radical equation. The square root term on the LHS is already isolated so we can square both terms right away.\n",
    "\n",
    "$$\\left(\\sqrt{x-2}\\right)^2 = 5^2,$$\n",
    "\n",
    "which gives\n",
    "\n",
    "$$x-2 = 25.$$\n",
    "\n",
    "Next, we solve for $x$ to get $x = 27$ as a solution. Because $27\\geq 2$ our solution is admissible. Finally, we must check the solution by plugging it in the **original** equation.\n",
    "\n",
    "$$\n",
    "\\begin{align*}\n",
    "\\sqrt{x-2}&=5\\\\\n",
    "\\sqrt{27-2} &=5\\\\\n",
    "\\sqrt{25}&=5\\\\\n",
    "5&=5\n",
    "\\end{align*}\n",
    "$$\n",
    "\n",
    "We obtained an identity: this means that our solution is valid.\n",
    "\n",
    "#### Example 2\n",
    "\n",
    "Consider now\n",
    "\n",
    "$$\\sqrt{3x^2 +10x} - 5 =0.$$\n",
    "\n",
    "First, we determine the restrictions on the solution. Again, we set the expression under the square root $\\geq 0$\n",
    "\n",
    "$$3x^2 +10x \\geq 0.$$\n",
    "\n",
    "Factoring out an $x$ on the LHS gives\n",
    "\n",
    "$$x(3x+10) \\geq 0.$$\n",
    "\n",
    "We can now see the inequality above as two separate problems we need to solve.\n",
    "\n",
    "$$x \\geq 0\\quad \\text{  and  } \\quad  3x+10 \\geq 0.$$\n",
    "\n",
    "Solving the first inequality gives $x \\geq 0$. Solving the second inequality gives $x \\geq -\\frac{10}{3}$.\n",
    "\n",
    "The figure below shows you how to combine results.\n",
    "\n"
   ]
  },
  {
   "cell_type": "markdown",
   "metadata": {},
   "source": [
    "<img src=\"./CC38_figures/inequality.jpg\" style=\"width: 500px;\"/>\n",
    "\n",
    "The green part in the top line highlights the values that solve the first inequality. The green portion in the bottom line highlights the values that solve the second one. We put a plus sign $\\oplus$ above the green areas and a negative sign $\\ominus$ everywhere else. Next, we trace vertical dashed lines at the points that solve the  inequalitites. Finally, we combine the sign vertically.\n",
    "\n",
    "In out example, we were interested in the values of $x$ that made the solution greater or equal than zero.\n",
    "Therefore the admissible values of $x$ are $x \\leq -\\frac{10}{3}$ and $x \\geq 0$."
   ]
  },
  {
   "cell_type": "markdown",
   "metadata": {},
   "source": [
    "Now we are ready to solve the radical equation. First, we isolate the radicand, so we bring the $5$ on the right-hand side\n",
    "\n",
    "$$\\sqrt{3x^2 +10x} = 5.$$\n",
    "\n",
    "Next, we square both sides\n",
    "\n",
    "$$\\left(\\sqrt{3x^2 +10x}\\right)^2 = (5)^2 \\to  \\quad3x^2 +10x = 25 \\to 3x^2 +10x - 25=0$$\n",
    "\n",
    "Then, because there are not any other radical expressions we can solve the equation either by factoring or by applying the quadratic formula. This gives\n",
    "\n",
    "$$\n",
    "\\begin{align*}\n",
    "x_{1,2} &= \\frac{-b\\pm \\sqrt{b^2 -4ac}}{2a}\\\\\n",
    "&=\\frac{-10\\pm\\sqrt{(10^2)-4(3)(-25)}}{2(3)}\\\\\n",
    "&=\\frac{-10 \\pm \\sqrt{100+300}}{6}\\\\\n",
    "&=\\frac{-10 \\pm \\sqrt{400}}{6}\\\\\n",
    "&=\\frac{-10 \\pm 20}{6}\\\\\n",
    "\\end{align*}\n",
    "$$\n",
    "\n",
    "Which gives $x_1 = \\frac{5}{3}$ and $x_2 = -5$.\n",
    "\n",
    "Because $\\frac{5}{3} > 0$ and $-5 <  -\\frac{10}{3}$ both solution are admissible.\n",
    "\n",
    "\n",
    "Now, we want to check the results.\n",
    "\n",
    "\n",
    "Plugging $x_1=\\frac{5}{3}$ in the original equation we get\n",
    "\n",
    "$$\n",
    "\\begin{align*}\n",
    "\\sqrt{3x^2 +10x} - 5 &=0\\\\\n",
    "\\sqrt{3\\left(\\frac{5}{3}\\right)^2 +10\\left(\\frac{5}{3}\\right)} - 5 &=0\\\\\n",
    "\\sqrt{3\\left(\\frac{25}{9}\\right) +\\left(\\frac{50}{3}\\right)} - 5 &=0\\\\\n",
    "\\sqrt{\\left(\\frac{25}{3}\\right) +\\left(\\frac{50}{3}\\right)} - 5 &=0\\\\\n",
    "\\sqrt{\\left(\\frac{75}{3}\\right)} - 5 &=0\\\\\n",
    "\\sqrt{25} - 5 &=0\\\\\n",
    "5-5&=0\\\\\n",
    "0&=0\n",
    "\\end{align*}\n",
    "$$\n",
    "\n",
    "After sobstituting one of the solutions we obtained an identity, therefore,  we conclude that $x_1=\\frac{5}{3}$ is a solution to our equation.\n",
    "\n",
    "For $x_2=-5$ we get\n",
    "\n",
    "$$\n",
    "\\begin{align*}\n",
    "\\sqrt{3x^2 +10x} - 5 &=0\\\\\n",
    "\\sqrt{3\\left(-5\\right)^2 +10\\left(-5\\right)} - 5 &=0\\\\\n",
    "\\sqrt{3\\left(25\\right) -50} - 5 &=0\\\\\n",
    "\\sqrt{75-50} - 5 &=0\\\\\n",
    "\\sqrt{25} - 5 &=0\\\\\n",
    "5-5&=0\\\\\n",
    "0&=0\n",
    "\\end{align*}\n",
    "$$\n",
    "Again, since  after sobstituting one of the solutions we obtained an identity, we conclude that $x_2=-5$ is a true solution to our equation.\n",
    "\n",
    "\n",
    "As next example we consider\n",
    "\n",
    "$$7+\\sqrt{x-3} =1$$\n",
    "\n",
    "Again, we first isolate the term with the square root\n",
    "\n",
    "$$\\sqrt{x-3} =-6$$\n",
    "\n",
    "We quickly see that this equation has no solution because the right-hand side is negative and $\\sqrt{x-3}$ cannot take negative values."
   ]
  },
  {
   "cell_type": "markdown",
   "metadata": {},
   "source": [
    "Check you understanding with the following activities:"
   ]
  },
  {
   "cell_type": "code",
   "execution_count": 2,
   "metadata": {},
   "outputs": [
    {
     "data": {
      "text/latex": [
       "What are the solutions of $1+\\sqrt{2x+3}=6  $ ?"
      ],
      "text/plain": [
       "<IPython.core.display.Latex object>"
      ]
     },
     "metadata": {},
     "output_type": "display_data"
    },
    {
     "data": {
      "text/latex": [
       "If the equation has no solution enter 'No solution'"
      ],
      "text/plain": [
       "<IPython.core.display.Latex object>"
      ]
     },
     "metadata": {},
     "output_type": "display_data"
    },
    {
     "data": {
      "application/vnd.jupyter.widget-view+json": {
       "model_id": "f5cf6ff5cbf54bbe83114a0e657e53ff",
       "version_major": 2,
       "version_minor": 0
      },
      "text/html": [
       "<p>Failed to display Jupyter Widget of type <code>Text</code>.</p>\n",
       "<p>\n",
       "  If you're reading this message in the Jupyter Notebook or JupyterLab Notebook, it may mean\n",
       "  that the widgets JavaScript is still loading. If this message persists, it\n",
       "  likely means that the widgets JavaScript library is either not installed or\n",
       "  not enabled. See the <a href=\"https://ipywidgets.readthedocs.io/en/stable/user_install.html\">Jupyter\n",
       "  Widgets Documentation</a> for setup instructions.\n",
       "</p>\n",
       "<p>\n",
       "  If you're reading this message in another frontend (for example, a static\n",
       "  rendering on GitHub or <a href=\"https://nbviewer.jupyter.org/\">NBViewer</a>),\n",
       "  it may mean that your frontend doesn't currently support widgets.\n",
       "</p>\n"
      ],
      "text/plain": [
       "Text(value='', placeholder='Your answer')"
      ]
     },
     "metadata": {},
     "output_type": "display_data"
    },
    {
     "data": {
      "application/vnd.jupyter.widget-view+json": {
       "model_id": "5042f80c835644838632b01ba4950d56",
       "version_major": 2,
       "version_minor": 0
      },
      "text/html": [
       "<p>Failed to display Jupyter Widget of type <code>Button</code>.</p>\n",
       "<p>\n",
       "  If you're reading this message in the Jupyter Notebook or JupyterLab Notebook, it may mean\n",
       "  that the widgets JavaScript is still loading. If this message persists, it\n",
       "  likely means that the widgets JavaScript library is either not installed or\n",
       "  not enabled. See the <a href=\"https://ipywidgets.readthedocs.io/en/stable/user_install.html\">Jupyter\n",
       "  Widgets Documentation</a> for setup instructions.\n",
       "</p>\n",
       "<p>\n",
       "  If you're reading this message in another frontend (for example, a static\n",
       "  rendering on GitHub or <a href=\"https://nbviewer.jupyter.org/\">NBViewer</a>),\n",
       "  it may mean that your frontend doesn't currently support widgets.\n",
       "</p>\n"
      ],
      "text/plain": [
       "Button(button_style='info', description='Enter', layout=Layout(height='30px', width='15%'), style=ButtonStyle())"
      ]
     },
     "metadata": {},
     "output_type": "display_data"
    },
    {
     "data": {
      "application/javascript": [
       "IPython.notebook.execute_cell_range(IPython.notebook.get_selected_index()+1,IPython.notebook.get_selected_index()+2)"
      ],
      "text/plain": [
       "<IPython.core.display.Javascript object>"
      ]
     },
     "metadata": {},
     "output_type": "display_data"
    },
    {
     "data": {
      "application/javascript": [
       "IPython.notebook.execute_cell_range(IPython.notebook.get_selected_index()+1,IPython.notebook.get_selected_index()+2)"
      ],
      "text/plain": [
       "<IPython.core.display.Javascript object>"
      ]
     },
     "metadata": {},
     "output_type": "display_data"
    }
   ],
   "source": [
    "display(Latex(\"What are the solutions of $1+\\sqrt{2x+3}=6  $ ?\"))\n",
    "display(Latex(\"If the equation has no solution enter 'No solution'\"))\n",
    "\n",
    "\n",
    "attempts = 0\n",
    "exercise_1 = w.Text( placeholder='Your answer', description='', disabled=False )\n",
    "display(exercise_1)\n",
    "\n",
    "button_exercise_1 = w.Button(button_style='info',description=\"Enter\", layout=Layout(width='15%', height='30px') )\n",
    "button_exercise_1.on_click(rerun_cell)\n",
    "display(button_exercise_1)"
   ]
  },
  {
   "cell_type": "code",
   "execution_count": 6,
   "metadata": {},
   "outputs": [
    {
     "data": {
      "text/markdown": [
       "#### Your answer is correct."
      ],
      "text/plain": [
       "<IPython.core.display.Markdown object>"
      ]
     },
     "metadata": {},
     "output_type": "display_data"
    }
   ],
   "source": [
    "# Exercise 1 user answer handling\n",
    "\n",
    "user_answer = exercise_1.value\n",
    "expected_answer = '11'\n",
    "\n",
    "\n",
    "    \n",
    "# Close the option to keep attempting the answer \n",
    "    \n",
    "if(attempts >= 3):\n",
    "        \n",
    "        exercise_1.close()\n",
    "        button_exercise_1.close()\n",
    "        \n",
    "    \n",
    "        display(Markdown(\"#### The solution is \\n $x=11$.\"))\n",
    "\n",
    "        \n",
    "    # If answer is correct, display appropriate markdown cells\n",
    "    \n",
    "if(user_answer == expected_answer):\n",
    "        \n",
    "        display(Markdown(\"#### Your answer is correct.\"))\n",
    "        \n",
    "        exercise_1.close()\n",
    "        button_exercise_1.close()\n",
    "        \n",
    "else:\n",
    "        \n",
    "        attempts += 1\n",
    "        \n",
    "        if(attempts < 3):\n",
    "            display(Markdown(\"# Please try again.\"))\n",
    "        "
   ]
  },
  {
   "cell_type": "code",
   "execution_count": 14,
   "metadata": {},
   "outputs": [
    {
     "data": {
      "text/latex": [
       "What are the solutions of $\\sqrt{x^2+4}=-2  $ ?"
      ],
      "text/plain": [
       "<IPython.core.display.Latex object>"
      ]
     },
     "metadata": {},
     "output_type": "display_data"
    },
    {
     "data": {
      "text/latex": [
       "If the equation has no solution enter 'No solution'"
      ],
      "text/plain": [
       "<IPython.core.display.Latex object>"
      ]
     },
     "metadata": {},
     "output_type": "display_data"
    },
    {
     "data": {
      "application/vnd.jupyter.widget-view+json": {
       "model_id": "2eb8616ca55c49bebba4193098107005",
       "version_major": 2,
       "version_minor": 0
      },
      "text/html": [
       "<p>Failed to display Jupyter Widget of type <code>Text</code>.</p>\n",
       "<p>\n",
       "  If you're reading this message in the Jupyter Notebook or JupyterLab Notebook, it may mean\n",
       "  that the widgets JavaScript is still loading. If this message persists, it\n",
       "  likely means that the widgets JavaScript library is either not installed or\n",
       "  not enabled. See the <a href=\"https://ipywidgets.readthedocs.io/en/stable/user_install.html\">Jupyter\n",
       "  Widgets Documentation</a> for setup instructions.\n",
       "</p>\n",
       "<p>\n",
       "  If you're reading this message in another frontend (for example, a static\n",
       "  rendering on GitHub or <a href=\"https://nbviewer.jupyter.org/\">NBViewer</a>),\n",
       "  it may mean that your frontend doesn't currently support widgets.\n",
       "</p>\n"
      ],
      "text/plain": [
       "Text(value='', placeholder='Your answer')"
      ]
     },
     "metadata": {},
     "output_type": "display_data"
    },
    {
     "data": {
      "application/vnd.jupyter.widget-view+json": {
       "model_id": "f1d86891b3844c02920b3df24ae15add",
       "version_major": 2,
       "version_minor": 0
      },
      "text/html": [
       "<p>Failed to display Jupyter Widget of type <code>Button</code>.</p>\n",
       "<p>\n",
       "  If you're reading this message in the Jupyter Notebook or JupyterLab Notebook, it may mean\n",
       "  that the widgets JavaScript is still loading. If this message persists, it\n",
       "  likely means that the widgets JavaScript library is either not installed or\n",
       "  not enabled. See the <a href=\"https://ipywidgets.readthedocs.io/en/stable/user_install.html\">Jupyter\n",
       "  Widgets Documentation</a> for setup instructions.\n",
       "</p>\n",
       "<p>\n",
       "  If you're reading this message in another frontend (for example, a static\n",
       "  rendering on GitHub or <a href=\"https://nbviewer.jupyter.org/\">NBViewer</a>),\n",
       "  it may mean that your frontend doesn't currently support widgets.\n",
       "</p>\n"
      ],
      "text/plain": [
       "Button(button_style='info', description='Enter', layout=Layout(height='30px', width='15%'), style=ButtonStyle())"
      ]
     },
     "metadata": {},
     "output_type": "display_data"
    },
    {
     "data": {
      "application/javascript": [
       "IPython.notebook.execute_cell_range(IPython.notebook.get_selected_index()+1,IPython.notebook.get_selected_index()+2)"
      ],
      "text/plain": [
       "<IPython.core.display.Javascript object>"
      ]
     },
     "metadata": {},
     "output_type": "display_data"
    }
   ],
   "source": [
    "display(Latex(\"What are the solutions of $\\sqrt{x^2+4}=-2  $ ?\"))\n",
    "display(Latex(\"If the equation has no solution enter 'No solution'\"))\n",
    "\n",
    "\n",
    "attempts = 0\n",
    "exercise_2 = w.Text( placeholder='Your answer', description='', disabled=False )\n",
    "display(exercise_2)\n",
    "\n",
    "button_exercise_2 = w.Button(button_style='info',description=\"Enter\", layout=Layout(width='15%', height='30px') )\n",
    "button_exercise_2.on_click(rerun_cell)\n",
    "display(button_exercise_2)"
   ]
  },
  {
   "cell_type": "code",
   "execution_count": 16,
   "metadata": {},
   "outputs": [
    {
     "data": {
      "text/markdown": [
       "# Please try again."
      ],
      "text/plain": [
       "<IPython.core.display.Markdown object>"
      ]
     },
     "metadata": {},
     "output_type": "display_data"
    }
   ],
   "source": [
    "# Exercise 1 user answer handling\n",
    "\n",
    "user_answer = exercise_2.value\n",
    "expected_answer = 'No solution'\n",
    "\n",
    "\n",
    "    \n",
    "# Close the option to keep attempting the answer \n",
    "    \n",
    "if(attempts >= 3):\n",
    "        \n",
    "        exercise_2.close()\n",
    "        button_exercise_1.close()\n",
    "        \n",
    "    \n",
    "        display(Markdown(\"The equation has no solutions because the right hand side is negative.\"))\n",
    "\n",
    "        \n",
    "    # If answer is correct, display appropriate markdown cells\n",
    "    \n",
    "if(user_answer == expected_answer):\n",
    "        \n",
    "        display(Markdown(\"Correct, the equation has not soluions.\"))\n",
    "        \n",
    "        exercise_2.close()\n",
    "        button_exercise_2.close()\n",
    "        \n",
    "else:\n",
    "        \n",
    "        attempts += 1\n",
    "        \n",
    "        if(attempts < 3):\n",
    "            display(Markdown(\"# Please try again.\"))"
   ]
  },
  {
   "cell_type": "markdown",
   "metadata": {},
   "source": [
    "###  Explain why some roots determined in solving a radical equation are extraneous\n",
    "\n",
    "Consider now the following equation\n",
    "\n",
    "$$\\sqrt{x-1}=x-7.$$\n",
    "\n",
    "First of all, we determine the restriction on the solution.\n",
    "\n",
    "$$x-1\\geq 0 \\quad \\to \\quad x\\geq 1.$$\n",
    "\n",
    "So the solution $x$ can only take values that are greater than $1$.\n",
    "\n",
    "To solve this equation, we can square both sides right away as the radical is already isolated.\n",
    "\n",
    "$$\\left(\\sqrt{x-1}\\right)^2 =(x-7)^2$$\n",
    "\n",
    "$$x-1 = (x-7)(x-7)$$\n",
    "\n",
    "$$x-1 = x^2 -7x -7x +49$$\n",
    "$$x^2 -15x +50 =0$$\n",
    "\n",
    "We obtained a quadratic equation, so we can use the quadratic formula to find the solutions\n",
    "\n",
    "$$\n",
    "\\begin{align*}\n",
    "x_{1,2} &= \\frac{-b\\pm \\sqrt{b^2 -4ac}}{2a}\\\\\n",
    "&=\\frac{15\\pm\\sqrt{(15)^2-4(1)(50)}}{2(1)}\\\\\n",
    "&=\\frac{15 \\pm \\sqrt{225-200}}{2}\\\\\n",
    "&=\\frac{15 \\pm \\sqrt{25}}{2}\\\\\n",
    "&=\\frac{15 \\pm 5}{2}\\\\\n",
    "\\end{align*}\n",
    "$$\n",
    "\n",
    "\n",
    "Therefore $x_1 = 10$ and $x_2 = 5$.\n",
    "\n",
    "We now want to verify our solutions. We consider $x_1=10$ first. Substituting in the original equation gives\n",
    "\n",
    "$$\n",
    "\\begin{align*}\n",
    "\\sqrt{x-1} &=x-7\\\\\n",
    "\\sqrt{10-1} &= 10-7\\\\\n",
    "\\sqrt{9}  &= 3\\\\\n",
    "3 &=3\\\\\n",
    "\\end{align*}\n",
    "$$\n",
    "\n",
    "Because we obtianed an identity, $x_1 =10$ is a solution for our equation.\n",
    "\n",
    "Let's check $x_2=5$\n",
    "\n",
    "$$\n",
    "\\begin{align*}\n",
    "\\sqrt{x-1} &=x-7\\\\\n",
    "\\sqrt{5-1} &= 5-7\\\\\n",
    "\\sqrt{4}  &= -2\\\\\n",
    "2 &\\neq -2\\\\\n",
    "\\end{align*}\n",
    "$$\n",
    "\n",
    "Therefore $x_2=5$ is not a solution for our equation.\n",
    "\n",
    "Where did this solution come from?\n",
    "\n",
    "It came from my squaring both sides of the original equation. By squaring both sides, we created an extra (and wrong) solution. We call this type of solutions **extraneous**.  In this context extraneous means *mathematically correct, but **not relevant or useful**, as far as the original question is concerned*.\n",
    "\n",
    "The creation of this extraneous solutions is precisely the reason why it is important to always algebraically check your solutions to a radical equations."
   ]
  },
  {
   "cell_type": "code",
   "execution_count": 17,
   "metadata": {},
   "outputs": [
    {
     "data": {
      "text/latex": [
       "Is $0$ a solution for the following equation?"
      ],
      "text/plain": [
       "<IPython.core.display.Latex object>"
      ]
     },
     "metadata": {},
     "output_type": "display_data"
    },
    {
     "data": {
      "text/latex": [
       "$$\\sqrt{x+4}=x-2$$"
      ],
      "text/plain": [
       "<IPython.core.display.Latex object>"
      ]
     },
     "metadata": {},
     "output_type": "display_data"
    },
    {
     "data": {
      "application/vnd.jupyter.widget-view+json": {
       "model_id": "8fababff51204861a1d7e12cf839151d",
       "version_major": 2,
       "version_minor": 0
      },
      "text/html": [
       "<p>Failed to display Jupyter Widget of type <code>interactive</code>.</p>\n",
       "<p>\n",
       "  If you're reading this message in the Jupyter Notebook or JupyterLab Notebook, it may mean\n",
       "  that the widgets JavaScript is still loading. If this message persists, it\n",
       "  likely means that the widgets JavaScript library is either not installed or\n",
       "  not enabled. See the <a href=\"https://ipywidgets.readthedocs.io/en/stable/user_install.html\">Jupyter\n",
       "  Widgets Documentation</a> for setup instructions.\n",
       "</p>\n",
       "<p>\n",
       "  If you're reading this message in another frontend (for example, a static\n",
       "  rendering on GitHub or <a href=\"https://nbviewer.jupyter.org/\">NBViewer</a>),\n",
       "  it may mean that your frontend doesn't currently support widgets.\n",
       "</p>\n"
      ],
      "text/plain": [
       "interactive(children=(Dropdown(description='Choose One:', options=(' ', 'Yes', 'No'), value=' '), Output()), _dom_classes=('widget-interact',))"
      ]
     },
     "metadata": {},
     "output_type": "display_data"
    }
   ],
   "source": [
    "def lin_or_non(val):\n",
    "    if val == \"Yes\":\n",
    "        display(Latex(\"Try again!\"))\n",
    "        #display(Latex(\"This equation has no exponent on either variable, and is therefore linear.\"))\n",
    "    elif val == \"No\":\n",
    "        display(Latex(\"Correct!\"))\n",
    "\n",
    "display(Latex(\"Is $0$ a solution for the following equation?\"))\n",
    "display(Latex('$$\\sqrt{x+4}=x-2$$'))\n",
    "    \n",
    "interact(lin_or_non, val = widgets.Dropdown(options=[' ', 'Yes', 'No'],value = ' ',description = 'Choose One:',disabled = False));\n"
   ]
  },
  {
   "cell_type": "markdown",
   "metadata": {},
   "source": [
    "### Solve problems by modelling a situation with a radical equation and solving the equation.\n",
    "\n",
    "Radical equations can be important to model and solve problems.\n",
    "\n",
    "Consider the following problem.\n",
    "\n",
    "**Problem**\n",
    "\n",
    "\n",
    "A circle has area $A= \\pi36 \\text{cm}^2$. Find the area of the biggest square that can be inscribed within the circle\n",
    "\n",
    "\n",
    "**Solution**\n",
    "\n",
    "The figure below shows the circle with area $A= \\pi36 \\text{cm}^2$ and radius $r$. For clarity, we also drew the square inscribed our circle."
   ]
  },
  {
   "cell_type": "code",
   "execution_count": 18,
   "metadata": {},
   "outputs": [
    {
     "data": {
      "text/html": [
       "<div id=\"ggb_0_0e\"></div>"
      ],
      "text/plain": [
       "<IPython.core.display.HTML object>"
      ]
     },
     "metadata": {},
     "output_type": "display_data"
    },
    {
     "data": {
      "application/javascript": [
       "var ggb_0_0e = new GGBApplet({\"filename\": \"circle_problem_1.ggb\"}, \"ggb_0_0e\", false); ggb_0_0e.inject(); "
      ],
      "text/plain": [
       "<IPython.core.display.Javascript object>"
      ]
     },
     "metadata": {},
     "output_type": "display_data"
    }
   ],
   "source": [
    "ggb.file('circle_problem_1.ggb').draw();"
   ]
  },
  {
   "cell_type": "markdown",
   "metadata": {},
   "source": [
    "We know that the area of a circle can be computed with the following formula\n",
    "\n",
    "$$A = \\pi r^2.$$\n",
    "\n",
    "Because we know the area of the circle, we can recover the radius\n",
    "\n",
    "$$\\pi r^2 = \\pi 36.$$\n",
    "\n",
    "Dividing both sides by $\\pi$ gives\n",
    "\n",
    "$$r^2 = 36.$$\n",
    "\n",
    "To find the radius, we take the square root of both sides\n",
    "\n",
    "$$\\sqrt{r^2} = \\sqrt{36} \\quad \\to \\quad r = \\pm .6$$\n",
    "\n",
    "Of course, the radius of a circle cannot have negative length, so we discard the $r=-6$ solution. Therefore $r=6.$"
   ]
  },
  {
   "cell_type": "code",
   "execution_count": 33,
   "metadata": {},
   "outputs": [
    {
     "data": {
      "text/html": [
       "<div id=\"ggb_1_0e\"></div>"
      ],
      "text/plain": [
       "<IPython.core.display.HTML object>"
      ]
     },
     "metadata": {},
     "output_type": "display_data"
    },
    {
     "data": {
      "application/javascript": [
       "var ggb_1_0e = new GGBApplet({\"filename\": \"circle_problem_2.ggb\"}, \"ggb_1_0e\", false); ggb_1_0e.inject(); "
      ],
      "text/plain": [
       "<IPython.core.display.Javascript object>"
      ]
     },
     "metadata": {},
     "output_type": "display_data"
    }
   ],
   "source": [
    "ggb.file('circle_problem_2.ggb').draw();"
   ]
  },
  {
   "cell_type": "markdown",
   "metadata": {},
   "source": [
    "To compute the area of the square, we need to compute the length of the side $l$. We can do this by observing that the diagonals divide the square into four right triangles and by applying the Pithagorean Theorem.\n",
    "\n",
    "Look at the figure below and consider the triangle $\\bigtriangleup OBD$. We can look at the side $BD$ as the hypothenuse of the triangle. "
   ]
  },
  {
   "cell_type": "code",
   "execution_count": 34,
   "metadata": {},
   "outputs": [
    {
     "data": {
      "text/html": [
       "<div id=\"ggb_2_0e\"></div>"
      ],
      "text/plain": [
       "<IPython.core.display.HTML object>"
      ]
     },
     "metadata": {},
     "output_type": "display_data"
    },
    {
     "data": {
      "application/javascript": [
       "var ggb_2_0e = new GGBApplet({\"filename\": \"circle_problem_3.ggb\"}, \"ggb_2_0e\", false); ggb_2_0e.inject(); "
      ],
      "text/plain": [
       "<IPython.core.display.Javascript object>"
      ]
     },
     "metadata": {},
     "output_type": "display_data"
    }
   ],
   "source": [
    "ggb.file('circle_problem_3.ggb').draw();"
   ]
  },
  {
   "cell_type": "markdown",
   "metadata": {},
   "source": [
    "Therefore\n",
    "\n",
    "$$BD = \\sqrt{OB^2+OD^2} \\quad \\to \\quad l = \\sqrt{r^2 +r^2}  \\quad \\to \\quad l = \\sqrt{6^2+6^2}  \\quad \\to \\quad l = \\sqrt{36+36}  \\quad \\to \\quad l = \\sqrt{72}$$\n",
    "\n",
    "Now we can compute the area $A$ of the square\n",
    "\n",
    "$$ A = l^2  \\quad \\to \\quad A = \\left(\\sqrt{72}\\right)^2  \\quad \\to \\quad A = 72$$"
   ]
  },
  {
   "cell_type": "markdown",
   "metadata": {},
   "source": [
    "### Conclusion\n",
    "\n",
    "In this notebook we learnt\n",
    "\n",
    "\n",
    "<ul>\n",
    "    <li> When solving radical equation we first need to determine the restrictions on the solution. </li>\n",
    "    <li> To solve a radical equations we always want to square sides, not terms. </li>\n",
    "    <li> We always need to check the solutions and discard any extraneuos.</li>\n",
    " \n",
    "</ul>\n"
   ]
  },
  {
   "cell_type": "markdown",
   "metadata": {},
   "source": [
    "![alt text][bottom-banner]\n",
    "\n",
    "[bottom-banner]:./CC38_figures/callysto-bottom-banner.jpg"
   ]
  }
 ],
 "metadata": {
  "kernelspec": {
   "display_name": "Python 3",
   "language": "python",
   "name": "python3"
  },
  "language_info": {
   "codemirror_mode": {
    "name": "ipython",
    "version": 3
   },
   "file_extension": ".py",
   "mimetype": "text/x-python",
   "name": "python",
   "nbconvert_exporter": "python",
   "pygments_lexer": "ipython3",
   "version": "3.6.5"
  }
 },
 "nbformat": 4,
 "nbformat_minor": 2
}
