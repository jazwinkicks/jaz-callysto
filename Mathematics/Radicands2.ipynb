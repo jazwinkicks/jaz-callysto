{
 "cells": [
  {
   "cell_type": "markdown",
   "metadata": {},
   "source": [
    "![alt text][top-banner]\n",
    "\n",
    "[top-banner]:./CC38_figures/callysto-top-banner.jpg"
   ]
  },
  {
   "cell_type": "code",
   "execution_count": 1,
   "metadata": {},
   "outputs": [
    {
     "data": {
      "application/javascript": [
       "\n",
       "            require.config({\n",
       "                paths: {\n",
       "                    ggb: \"https://cdn.geogebra.org/apps/deployggb\"\n",
       "                }\n",
       "            });\n",
       "\n",
       "            require([\"ggb\"]);\n",
       "        "
      ],
      "text/plain": [
       "<IPython.core.display.Javascript object>"
      ]
     },
     "metadata": {},
     "output_type": "display_data"
    },
    {
     "data": {
      "text/html": [
       "<script>\n",
       "  function code_toggle() {\n",
       "    if (code_shown){\n",
       "      $('div.input').hide('500');\n",
       "      $('#toggleButton').val('Show Code')\n",
       "    } else {\n",
       "      $('div.input').show('500');\n",
       "      $('#toggleButton').val('Hide Code')\n",
       "    }\n",
       "    code_shown = !code_shown\n",
       "  }\n",
       "  \n",
       "  $( document ).ready(function(){\n",
       "    code_shown=false;\n",
       "    $('div.input').hide()\n",
       "  });\n",
       "</script>\n",
       "<form action=\"javascript:code_toggle()\"><input type=\"submit\" id=\"toggleButton\" value=\"Show Code\"></form>"
      ],
      "text/plain": [
       "<IPython.core.display.HTML object>"
      ]
     },
     "execution_count": 1,
     "metadata": {},
     "output_type": "execute_result"
    }
   ],
   "source": [
    "import numpy as np\n",
    "import pylab as plt\n",
    "from IPython.display import display, Latex, clear_output, Markdown, Image, HTML, Javascript\n",
    "import ipywidgets as widgets\n",
    "from astropy.table import Table, Column\n",
    "from ipywidgets import interact, interactive, Button , Layout\n",
    "import ipywidgets as w\n",
    "import matplotlib.pyplot as plt\n",
    "import plotly.graph_objs as go\n",
    "import math\n",
    "from ggb import *\n",
    "\n",
    "ggb = GGB()\n",
    "\n",
    "\n",
    "# Create a text box for user to input text\n",
    "\n",
    "get_user_text = w.Textarea( value='', placeholder='Enter your text here.', description='', disabled=False , layout=Layout(width='100%', height='250px') )\n",
    "\n",
    "# Create a slider to obtain shift integer from user \n",
    "\n",
    "get_user_shift = w.IntSlider( value=7, min=1, max=26, step=1, description='Ceasar Shift:', disabled=False, continuous_update=False, orientation='horizontal', readout=True, readout_format='d')\n",
    "\n",
    "# Function: After clicking on a button prompt, the next cell is executed.\n",
    "\n",
    "def rerun_cell(ev):\n",
    "    \n",
    "    display(Javascript('IPython.notebook.execute_cell_range(IPython.notebook.get_selected_index()+1,IPython.notebook.get_selected_index()+2)'))\n",
    "    button_t = w.Button(button_style='info',description=\"Restart\") \n",
    "\n",
    "\n",
    "from IPython.display import HTML\n",
    "HTML('''<script>\n",
    "  function code_toggle() {\n",
    "    if (code_shown){\n",
    "      $('div.input').hide('500');\n",
    "      $('#toggleButton').val('Show Code')\n",
    "    } else {\n",
    "      $('div.input').show('500');\n",
    "      $('#toggleButton').val('Hide Code')\n",
    "    }\n",
    "    code_shown = !code_shown\n",
    "  }\n",
    "  \n",
    "  $( document ).ready(function(){\n",
    "    code_shown=false;\n",
    "    $('div.input').hide()\n",
    "  });\n",
    "</script>\n",
    "<form action=\"javascript:code_toggle()\"><input type=\"submit\" id=\"toggleButton\" value=\"Show Code\"></form>''')"
   ]
  },
  {
   "cell_type": "markdown",
   "metadata": {},
   "source": [
    "#  Solve problems that involve radical equations\n",
    "*By Jessica Cervi*\n",
    "\n",
    "\n",
    "\n",
    "## Overview\n",
    "\n",
    ">### Lesson outcomes\n",
    "*  Determine when an equation is a radical equation.\n",
    " * Determine  restrictions on the variable in a radical equation.\n",
    " * Explain and implement the necessary steps to solve a radical equation.\n",
    " * Be ableto find, and explain the concept of, extraneous roots.\n",
    " * Solve word problems  with a radical equation.\n",
    "\n",
    "\n",
    "## Introduction\n",
    "\n",
    "A radical equation is an equation in which a variable is under a radical. \n",
    "\n",
    "\n",
    "\n",
    "For instance, this is a radical equation, because the variable is inside the square root:\n",
    "\n",
    "$$\\sqrt{x} -5= 1.$$\n",
    "\n",
    "However, the following is not a radical equation\n",
    "\n",
    "$$\\sqrt{2} -x= 3,$$\n",
    "\n",
    "because there is no variable inside the radical.\n",
    "\n",
    "Throughout this notebook, we will learn the strategy to solve  **radical equations** focusing only on radicals which are square roots.\n",
    "\n",
    "The key idea behind the strategy is that we can \"get rid\" of a square root by raising the radical to the power of two.\n",
    "We can solve an equation that contains a radical expression by isolating the radical on one side of the equation, then square both sides of the equation.\n",
    "\n",
    "\n",
    "For example, consider the following equation\n",
    "\n",
    "$$3\\sqrt{x} = 9.$$\n",
    "\n",
    "The first step is to isolate the radical expression. Dividing both sides by $3$ gives us\n",
    "\n",
    "$$\\sqrt{x} = 3$$\n",
    "\n",
    "Next, we square both sides to eliminate the square root\n",
    "\n",
    "$$\\left(\\sqrt{x}\\right)^2 = (3)^2,$$\n",
    "\n",
    "which gives\n",
    "\n",
    "$$x = 9$$\n",
    "\n",
    "as final result.\n",
    "\n",
    "Unfortunately, when solving radical equations things are not always this easy. Throughout this notebook, we will learn how to deal with more complicated cases.\n",
    "\n",
    "Before we start solving equations, we must keep in mind the following rules:\n",
    "\n",
    "#### 1) Square sides, not terms\n",
    "\n",
    "We said that when we are solving a radical equation we want to eliminate the square root. We can do that by raising it to the power of two.\n",
    "When solving an equation, we must apply the same operation to both SIDES of the equation; in particular, we can't do things to each term in the equation. \n",
    "\n",
    "When solving a radical equation, we must square both sides; we should never try to square every term. \n",
    "\n",
    "For example, consider\n",
    "\n",
    "$$3+4 =7$$\n",
    "\n",
    "The equation above is obviously a true statement. If we square both sides \n",
    "\n",
    "$$(3+4)^2 =7^2,$$\n",
    "\n",
    "we end up with a correct statement:\n",
    "\n",
    "$$49=49.$$\n",
    "\n",
    "However, if we square term by term\n",
    "\n",
    "$$3^2+4^2=7^2,$$\n",
    "\n",
    "we end up with\n",
    "\n",
    "$$25=49,$$\n",
    "\n",
    "which is obviously not true.\n",
    "\n",
    "One of the most common mistakes when  solving radical equations is trying to square terms. **Always square sides, not terms**.\n",
    "\n",
    "#### 2) Check Your Answers\n",
    "\n",
    "We can always check our solution to an equation by plugging the solution back in the original equation and making sure that it results into a true statement. For example,  $x + 2 = 5$ obviously has the solution $x = 3$. We can confirm this solution by plugging it back into the original equation:\n",
    "\n",
    "$$\n",
    "\\begin{align*}\n",
    "x + 2 &= 5\\\\\n",
    "(3) + 2 &= 5\\\\\n",
    "5 &=5\n",
    "\\end{align*}\n",
    "$$\n",
    "\n",
    "One difficulty that arises when solving radical equations is that we may perform every step correctly, but still end up with an incorrect answer. This is because the very act of squaring both sides can create solutions that never existed before. These kind of solutions are called **extraneous**. We will learn more about them later in the notebook.\n",
    "\n",
    "For now, remember to always check your answers when solving a radical equation.\n",
    "\n",
    "\n",
    "### Determine the restrictions on  the variable in a radical equation\n",
    "\n",
    "One thing we need to pay attention to when solving radical equations is determining which values of  the solution are allowed.\n",
    "\n",
    "In fact, as long as we are working with real numbers, we cannot take the square root of a negative number. Thus, we must be careful to ensure that we do not choose values for a variable that would result in taking the square root of a negative number. To avoid this situation, we must restrict the set of values the variable can take.\n",
    "\n",
    "\n",
    "\n",
    "**Radical Expressions that Contain a Single Term Radicand**\n",
    "\n",
    "Consider the simplest case\n",
    "\n",
    "$$\\sqrt{x}.$$\n",
    "\n",
    "We already know that in this case, the variable $x$ is restricted to have only nonnegative value. Remember that $0$ is  *included* in this set.\n",
    "\n",
    "Suppose though, that our equation has more complicated radicands in it. What's the strategy in those cases?\n",
    "\n",
    "Well, the general idea to follow is that the expression under the root sign cannot be negative. That is, it must equal zero or any other positive value.\n",
    "\n",
    "So for example, if we have the equation $\\sqrt{17x} = 6$, we must set the expression under the square root to be greater than or equal to zero:\n",
    "\n",
    "\n",
    "$$17x\\geq 0.$$\n",
    "\n",
    "Solving for $x$ gives\n",
    "\n",
    "$$x \\geq 0.$$\n",
    "\n",
    "\n",
    "This means that $x$ in the radical equation can only take on values greater than or equal to zero. Of course, we still need to solve the equation.\n",
    "\n",
    "$$\n",
    "\\begin{align*}\n",
    "\\sqrt{17x} &= 6\\\\\n",
    "17x &= 36\\\\ \n",
    "x&=\\frac{36}{17}.\n",
    "\\end{align*}\n",
    "$$\n",
    "\n",
    "Because the solution $\\frac{36}{17}$ is greater than or equal to zero, it satisfies our restraint, and is considered a valid solution to the radical equation.\n",
    "\n",
    "\n",
    "Consider now the equation $\\sqrt{x -4} = 5$. Again, we need to set the expression under the square root to be greater than or equal to zero:\n",
    "\n",
    "\n",
    "$$x-4\\geq 0.$$\n",
    "\n",
    "Solving for $x$ gives\n",
    "\n",
    "$$x \\geq 4.$$\n",
    "\n",
    "So $x$ in the radical equation can take any positive number greater than or equal to 4.\n",
    "\n",
    "Now we solve the radical equation. The radicand is already isolated so we can square both sides right away.\n",
    "\n",
    "$$\n",
    "\\begin{align*}\n",
    "\\left(\\sqrt{x -4}\\right)^2 &= (5)^2\\\\\n",
    "x-4 &= 25\n",
    "\\end{align*}\n",
    "$$\n",
    "\n",
    "Solving for $x$ gives \n",
    "\n",
    "$$x = 29,$$\n",
    "\n",
    "which is again an acceptable value because $29 \\geq 4$.\n",
    "\n"
   ]
  },
  {
   "cell_type": "markdown",
   "metadata": {},
   "source": [
    "###  Determine, algebraically, the roots of a radical equation.\n",
    "\n",
    "\n",
    "Here we will rigorously layout the necessary steps to solve a radical equation, and we will work on some more complicated examples.\n",
    "\n",
    "When solving a radical equation we must go through these steps:\n",
    "\n",
    "**STEP 1**\n",
    "\n",
    "* Finding the restrictions on the variable $x$.\n",
    "\n",
    "**STEP 2**\n",
    "\n",
    "* Isolate the radical expression involving the variable. \n",
    "\n",
    "**STEP 3**\n",
    "\n",
    "* Square both sides of the equation.\n",
    "\n",
    "**Step 4**\n",
    "\n",
    "* Solve the resulting equation.\n",
    "\n",
    "**STEP 5**\n",
    "\n",
    "* Check the solution by plugging it back into the original equation.\n",
    "\n",
    "#### Example 1\n",
    "\n",
    "Consider the equation\n",
    "\n",
    "$$\\sqrt{x-2}=8.$$\n",
    "\n",
    "First, we set the restrictions on this equation. To do so, we set the expression under the square root $\\geq 0$.\n",
    "\n",
    "$$\n",
    "\\begin{align*}\n",
    "x-2\\geq0 \\\\\n",
    " x \\geq 2.\n",
    "\\end{align*}\n",
    "$$\n",
    "\n",
    "This means that the solution is admissible only if it is greater than or equal to $2$.\n",
    "\n",
    "Next, we solve our radical equation. The square root term on the left hand side (LHS) is already isolated so we can square both terms right away.\n",
    "\n",
    "$$\\left(\\sqrt{x-2}\\right)^2 = 8^2,$$\n",
    "\n",
    "which gives\n",
    "\n",
    "$$x-2 = 64.$$\n",
    "\n",
    "Next, we solve for $x$ to get $x = 66$ as a solution. Because $66\\geq 2$ our solution is admissible. Finally, we must check the solution by plugging it into the **original** equation.\n",
    "\n",
    "$$\n",
    "\\begin{align*}\n",
    "\\sqrt{x-2}&= 8\\\\\n",
    "\\sqrt{66-2} &= 8\\\\\n",
    "\\sqrt{64}&= 8\\\\\n",
    "8&=8\n",
    "\\end{align*}\n",
    "$$\n",
    "\n",
    "We obtained an identity: this means that our solution is valid.\n",
    "\n",
    "#### Example 2\n",
    "\n",
    "Consider now\n",
    "\n",
    "$$\\sqrt{3x^2 +10x} - 5 =0.$$\n",
    "\n",
    "First, we determine the restrictions on the solution. Again, we set the expression under the square root $\\geq 0$\n",
    "\n",
    "$$3x^2 +10x \\geq 0.$$\n",
    "\n",
    "Factoring out an $x$ on the LHS gives\n",
    "\n",
    "$$x(3x+10) \\geq 0.$$\n",
    "\n",
    "Since there are two factors in the inequality, a sign analysis is required.\n",
    "\n",
    "$$x \\geq 0\\quad \\text{  and  } \\quad  3x+10 \\geq 0.$$\n",
    "\n",
    "Solving the first inequality gives $x \\geq 0$. Solving the second inequality gives $x \\geq -\\frac{10}{3}$.\n",
    "\n",
    "The figure below shows you how to combine results.  We are interested in having $x$ and $3x+10$ **both** nonnegative or **both** nonpositive, so that their **combination will be  positive**.\n",
    "\n"
   ]
  },
  {
   "cell_type": "markdown",
   "metadata": {},
   "source": [
    "<img src=\"./CC38_figures/inequality.jpg\" style=\"width: 500px;\"/>\n",
    "\n",
    "The green part in the top line highlights the values that solve the first inequality. The green portion in the bottom line highlights the values that solve the second one. We put a plus sign $\\oplus$ above the green areas and a negative sign $\\ominus$ everywhere else. Next, we trace vertical dashed lines at the points that solve the  inequalitites. Finally, we combine the sign vertically.\n",
    "\n",
    "In our example, we are interested in the values of $x$ that make the solution greater than or equal to zero.\n",
    "Therefore the admissible values of $x$ are $x \\leq -\\frac{10}{3}$ and $x \\geq 0$."
   ]
  },
  {
   "cell_type": "markdown",
   "metadata": {},
   "source": [
    "Now we are ready to solve the radical equation. First, we isolate the radicand, so we  add $5$ to both sidesofthe equation\n",
    "\n",
    "$$\\sqrt{3x^2 +10x} = 5.$$\n",
    "\n",
    "Next, we square both sides\n",
    "\n",
    "$$\n",
    "\\begin{align*}\n",
    "\\left(\\sqrt{3x^2 +10x}\\right)^2 &= (5)^2\\\\ \n",
    "\\quad3x^2 +10x &= 25\\\\\n",
    " 3x^2 +10x - 25&=0\n",
    "\\end{align*}\n",
    "$$\n",
    "\n",
    "Then, because there are not any other radical expressions we can solve the equation either by factoring or by applying the quadratic formula. This gives\n",
    "\n",
    "$$\n",
    "\\begin{align*}\n",
    "x_{1,2} &= \\frac{-b\\pm \\sqrt{b^2 -4ac}}{2a}\\\\\n",
    "&=\\frac{-10\\pm\\sqrt{(-10^2)-4(3)(-25)}}{2(3)}\\\\\n",
    "&=\\frac{-10 \\pm \\sqrt{100+300}}{6}\\\\\n",
    "&=\\frac{-10 \\pm \\sqrt{400}}{6}\\\\\n",
    "&=\\frac{-10 \\pm 20}{6}\\\\\n",
    "\\end{align*}\n",
    "$$\n",
    "\n",
    "which gives $x_1 = \\frac{5}{3}$ and $x_2 = -5$.\n",
    "\n",
    "Because $\\frac{5}{3} \\geq 0$ and $-5 \\leq  -\\frac{10}{3}$ both solution are admissible.\n",
    "\n",
    "\n",
    "Now, we want to check the results.\n",
    "\n",
    "\n",
    "Plugging $x_1=\\frac{5}{3}$ into the original equation, we get\n",
    "\n",
    "$$ \n",
    "\\begin{align*}\n",
    "\\sqrt{3x^2 +10x} - 5 &= 0\\\\\n",
    "\\sqrt{3\\left(\\frac{5}{3}\\right)^2 +10\\left(\\frac{5}{3}\\right)} -5&=0\\\\\n",
    "\\sqrt{3\\left(\\frac{25}{9}\\right) +\\left(\\frac{50}{3}\\right)} - 5 &= 0\\\\\n",
    "\\sqrt{\\frac{25}{3} +\\frac{50}{3}} - 5 &= 0\\\\\n",
    "\\sqrt{\\frac{75}{3}} - 5 &= 0\\\\\n",
    "\\sqrt{25} - 5&= 0\\\\\n",
    "5-5&= 0 \\\\\n",
    "0&=0\n",
    "\\end{align*}\n",
    "$$\n",
    "\n",
    "After substituting $x_1$ into the original equation, we obtained an identity, therefore,  we conclude that $x_1=\\frac{5}{3}$ is a valid solution to our equation.\n",
    "\n",
    "For $x_2=-5$ we get\n",
    "\n",
    "$$\n",
    "\\begin{align*}\n",
    "\\sqrt{3x^2 +10x} - 5&= 0\\\\\n",
    "\\sqrt{3\\left(-5\\right)^2 +10\\left(-5\\right)} - 5 &= 0\\\\\n",
    "\\sqrt{3\\left(25\\right) -50} - 5 &=0\\\\\n",
    "\\sqrt{75-50} - 5 &=0\\\\\n",
    "\\sqrt{25} - 5 &= 0\\\\\n",
    "5-5&=0\\\\\n",
    "0&= 0.\n",
    "\\end{align*}\n",
    "$$\n",
    "Again, since  after substituting $x_2$ into the original equation we obtained an identity, we conclude that $x_2=-5$ is a valid solution to our equation.\n",
    "\n",
    "\n",
    "As next example we consider\n",
    "\n",
    "$$7+\\sqrt{x-3} =1.$$\n",
    "\n",
    "First, we find the restrictions on the variable $x$. Subtracting $7$ from both sides gives\n",
    "\n",
    "$$\\sqrt{x-3} =-6$$\n",
    "\n",
    "We quickly see that this equation has no solution because the right-hand side is negative and $\\sqrt{x-3}$ cannot take negative values."
   ]
  },
  {
   "cell_type": "markdown",
   "metadata": {},
   "source": [
    "Check you understanding with the following activities:"
   ]
  },
  {
   "cell_type": "code",
   "execution_count": 2,
   "metadata": {},
   "outputs": [
    {
     "data": {
      "text/latex": [
       "What are the solutions of $1+\\sqrt{2x+3}=6  $ ?"
      ],
      "text/plain": [
       "<IPython.core.display.Latex object>"
      ]
     },
     "metadata": {},
     "output_type": "display_data"
    },
    {
     "data": {
      "text/latex": [
       "If the equation has no solution enter 'No solution'"
      ],
      "text/plain": [
       "<IPython.core.display.Latex object>"
      ]
     },
     "metadata": {},
     "output_type": "display_data"
    },
    {
     "data": {
      "application/vnd.jupyter.widget-view+json": {
       "model_id": "b79eab18076644f2b0106ffa31b9357e",
       "version_major": 2,
       "version_minor": 0
      },
      "text/html": [
       "<p>Failed to display Jupyter Widget of type <code>Text</code>.</p>\n",
       "<p>\n",
       "  If you're reading this message in the Jupyter Notebook or JupyterLab Notebook, it may mean\n",
       "  that the widgets JavaScript is still loading. If this message persists, it\n",
       "  likely means that the widgets JavaScript library is either not installed or\n",
       "  not enabled. See the <a href=\"https://ipywidgets.readthedocs.io/en/stable/user_install.html\">Jupyter\n",
       "  Widgets Documentation</a> for setup instructions.\n",
       "</p>\n",
       "<p>\n",
       "  If you're reading this message in another frontend (for example, a static\n",
       "  rendering on GitHub or <a href=\"https://nbviewer.jupyter.org/\">NBViewer</a>),\n",
       "  it may mean that your frontend doesn't currently support widgets.\n",
       "</p>\n"
      ],
      "text/plain": [
       "Text(value='', placeholder='Your answer')"
      ]
     },
     "metadata": {},
     "output_type": "display_data"
    },
    {
     "data": {
      "application/vnd.jupyter.widget-view+json": {
       "model_id": "8717a9f944494820867985469847eb4a",
       "version_major": 2,
       "version_minor": 0
      },
      "text/html": [
       "<p>Failed to display Jupyter Widget of type <code>Button</code>.</p>\n",
       "<p>\n",
       "  If you're reading this message in the Jupyter Notebook or JupyterLab Notebook, it may mean\n",
       "  that the widgets JavaScript is still loading. If this message persists, it\n",
       "  likely means that the widgets JavaScript library is either not installed or\n",
       "  not enabled. See the <a href=\"https://ipywidgets.readthedocs.io/en/stable/user_install.html\">Jupyter\n",
       "  Widgets Documentation</a> for setup instructions.\n",
       "</p>\n",
       "<p>\n",
       "  If you're reading this message in another frontend (for example, a static\n",
       "  rendering on GitHub or <a href=\"https://nbviewer.jupyter.org/\">NBViewer</a>),\n",
       "  it may mean that your frontend doesn't currently support widgets.\n",
       "</p>\n"
      ],
      "text/plain": [
       "Button(button_style='info', description='Enter', layout=Layout(height='30px', width='15%'), style=ButtonStyle())"
      ]
     },
     "metadata": {},
     "output_type": "display_data"
    }
   ],
   "source": [
    "display(Latex(\"What are the solutions of $1+\\sqrt{2x+3}=6  $ ?\"))\n",
    "display(Latex(\"If the equation has no solution enter 'No solution'\"))\n",
    "\n",
    "\n",
    "attempts = 0\n",
    "exercise_1 = w.Text( placeholder='Your answer', description='', disabled=False )\n",
    "display(exercise_1)\n",
    "\n",
    "button_exercise_1 = w.Button(button_style='info',description=\"Enter\", layout=Layout(width='15%', height='30px') )\n",
    "button_exercise_1.on_click(rerun_cell)\n",
    "display(button_exercise_1)"
   ]
  },
  {
   "cell_type": "code",
   "execution_count": 3,
   "metadata": {},
   "outputs": [
    {
     "data": {
      "text/markdown": [
       "# Please try again."
      ],
      "text/plain": [
       "<IPython.core.display.Markdown object>"
      ]
     },
     "metadata": {},
     "output_type": "display_data"
    }
   ],
   "source": [
    "# Exercise 1 user answer handling\n",
    "\n",
    "user_answer = exercise_1.value\n",
    "expected_answer = '11'\n",
    "\n",
    "\n",
    "    \n",
    "# Close the option to keep attempting the answer \n",
    "    \n",
    "if(attempts >= 3):\n",
    "        \n",
    "        exercise_1.close()\n",
    "        button_exercise_1.close()\n",
    "        \n",
    "    \n",
    "        display(Markdown(\"#### The solution is \\n $x=11$.\"))\n",
    "\n",
    "        \n",
    "    # If answer is correct, display appropriate markdown cells\n",
    "    \n",
    "if(user_answer == expected_answer):\n",
    "        \n",
    "        display(Markdown(\"#### Your answer is correct.\"))\n",
    "        \n",
    "        exercise_1.close()\n",
    "        button_exercise_1.close()\n",
    "        \n",
    "else:\n",
    "        \n",
    "        attempts += 1\n",
    "        \n",
    "        if(attempts < 3):\n",
    "            display(Markdown(\"# Please try again.\"))\n",
    "        "
   ]
  },
  {
   "cell_type": "code",
   "execution_count": 4,
   "metadata": {},
   "outputs": [
    {
     "data": {
      "text/latex": [
       "What are the solutions of $\\sqrt{x^2+4}=-2  $ ?"
      ],
      "text/plain": [
       "<IPython.core.display.Latex object>"
      ]
     },
     "metadata": {},
     "output_type": "display_data"
    },
    {
     "data": {
      "text/latex": [
       "If the equation has no solution enter 'No solution'"
      ],
      "text/plain": [
       "<IPython.core.display.Latex object>"
      ]
     },
     "metadata": {},
     "output_type": "display_data"
    },
    {
     "data": {
      "application/vnd.jupyter.widget-view+json": {
       "model_id": "27aabdde7b744d5caf8eeac13f1e08e4",
       "version_major": 2,
       "version_minor": 0
      },
      "text/html": [
       "<p>Failed to display Jupyter Widget of type <code>Text</code>.</p>\n",
       "<p>\n",
       "  If you're reading this message in the Jupyter Notebook or JupyterLab Notebook, it may mean\n",
       "  that the widgets JavaScript is still loading. If this message persists, it\n",
       "  likely means that the widgets JavaScript library is either not installed or\n",
       "  not enabled. See the <a href=\"https://ipywidgets.readthedocs.io/en/stable/user_install.html\">Jupyter\n",
       "  Widgets Documentation</a> for setup instructions.\n",
       "</p>\n",
       "<p>\n",
       "  If you're reading this message in another frontend (for example, a static\n",
       "  rendering on GitHub or <a href=\"https://nbviewer.jupyter.org/\">NBViewer</a>),\n",
       "  it may mean that your frontend doesn't currently support widgets.\n",
       "</p>\n"
      ],
      "text/plain": [
       "Text(value='', placeholder='Your answer')"
      ]
     },
     "metadata": {},
     "output_type": "display_data"
    },
    {
     "data": {
      "application/vnd.jupyter.widget-view+json": {
       "model_id": "8aac84738d914d8ba21bab50599c2ea4",
       "version_major": 2,
       "version_minor": 0
      },
      "text/html": [
       "<p>Failed to display Jupyter Widget of type <code>Button</code>.</p>\n",
       "<p>\n",
       "  If you're reading this message in the Jupyter Notebook or JupyterLab Notebook, it may mean\n",
       "  that the widgets JavaScript is still loading. If this message persists, it\n",
       "  likely means that the widgets JavaScript library is either not installed or\n",
       "  not enabled. See the <a href=\"https://ipywidgets.readthedocs.io/en/stable/user_install.html\">Jupyter\n",
       "  Widgets Documentation</a> for setup instructions.\n",
       "</p>\n",
       "<p>\n",
       "  If you're reading this message in another frontend (for example, a static\n",
       "  rendering on GitHub or <a href=\"https://nbviewer.jupyter.org/\">NBViewer</a>),\n",
       "  it may mean that your frontend doesn't currently support widgets.\n",
       "</p>\n"
      ],
      "text/plain": [
       "Button(button_style='info', description='Enter', layout=Layout(height='30px', width='15%'), style=ButtonStyle())"
      ]
     },
     "metadata": {},
     "output_type": "display_data"
    }
   ],
   "source": [
    "display(Latex(\"What are the solutions of $\\sqrt{x^2+4}=-2  $ ?\"))\n",
    "display(Latex(\"If the equation has no solution enter 'No solution'\"))\n",
    "\n",
    "\n",
    "attempts = 0\n",
    "exercise_2 = w.Text( placeholder='Your answer', description='', disabled=False )\n",
    "display(exercise_2)\n",
    "\n",
    "button_exercise_2 = w.Button(button_style='info',description=\"Enter\", layout=Layout(width='15%', height='30px') )\n",
    "button_exercise_2.on_click(rerun_cell)\n",
    "display(button_exercise_2)"
   ]
  },
  {
   "cell_type": "code",
   "execution_count": 5,
   "metadata": {},
   "outputs": [
    {
     "data": {
      "text/markdown": [
       "# Please try again."
      ],
      "text/plain": [
       "<IPython.core.display.Markdown object>"
      ]
     },
     "metadata": {},
     "output_type": "display_data"
    }
   ],
   "source": [
    "# Exercise 1 user answer handling\n",
    "\n",
    "user_answer = exercise_2.value\n",
    "expected_answer = 'No solution'\n",
    "\n",
    "\n",
    "    \n",
    "# Close the option to keep attempting the answer \n",
    "    \n",
    "if(attempts >= 3):\n",
    "        \n",
    "        exercise_2.close()\n",
    "        button_exercise_1.close()\n",
    "        \n",
    "    \n",
    "        display(Markdown(\"The equation has no solutions because the right hand side is negative.\"))\n",
    "\n",
    "        \n",
    "    # If answer is correct, display appropriate markdown cells\n",
    "    \n",
    "if(user_answer == expected_answer):\n",
    "        \n",
    "        display(Markdown(\"Correct, the equation has not soluions.\"))\n",
    "        \n",
    "        exercise_2.close()\n",
    "        button_exercise_2.close()\n",
    "        \n",
    "else:\n",
    "        \n",
    "        attempts += 1\n",
    "        \n",
    "        if(attempts < 3):\n",
    "            display(Markdown(\"# Please try again.\"))"
   ]
  },
  {
   "cell_type": "markdown",
   "metadata": {},
   "source": [
    "###  Explain why some roots determined in solving a radical equation are extraneous\n",
    "\n",
    "Consider now the following equation\n",
    "\n",
    "$$\\sqrt{x-1}=x-7.$$\n",
    "\n",
    "First of all, we determine the restriction on the solution.\n",
    "\n",
    "$$x-1\\geq 0 \\quad \\to \\quad x\\geq 1.$$\n",
    "\n",
    "So the solution $x$ can only take values that are greater than or equal to $1$.\n",
    "\n",
    "To solve this equation, we can square both sides right away as the radical is already isolated.\n",
    "\n",
    "$$\\left(\\sqrt{x-1}\\right)^2 =(x-7)^2$$\n",
    "\n",
    "$$x-1 = (x-7)(x-7)$$\n",
    "\n",
    "$$x-1 = x^2 -7x -7x +49$$\n",
    "$$x^2 -15x +50 =0$$\n",
    "\n",
    "We obtained a quadratic equation. To find the solutions, we could use either the quadratic formula or simply factor the terms in the equations. In this case, we follow the second approach. We look for $x_1$ and $x_2$ such that their product equals $50$ and their sum equal $15$. \n",
    "\n",
    "Those numbers, and therefore the possible solutions to our equation, are $x_1 = 10$ and $x_2 = 5$.\n",
    "\n",
    "We now want to verify our solutions. We consider $x_1=10$ first. Substituting into the original equation gives\n",
    "\n",
    "$$\n",
    "\\begin{align*}\n",
    "\\sqrt{x-1} &= 10-7\\\\\n",
    "\\sqrt{10-1} &= 3\\\\\n",
    "\\sqrt{9} &= 3\\\\\n",
    "3 &= 3\n",
    "\\end{align*}\n",
    "$$\n",
    "\n",
    "Because we obtained an identity, $x_1 =10$ is a valid solution for our equation.\n",
    "\n",
    "Let's check $x_2=5$\n",
    "\n",
    "$$\n",
    "\\begin{align*}\n",
    "\\sqrt{x-1} &= x-7\\\\\n",
    "\\sqrt{5-1} &= 5-7\\\\\n",
    "\\sqrt{4}  &= -2\\\\\n",
    "2 &\\neq -2\\\\\n",
    "\\end{align*}\n",
    "$$\n",
    "\n",
    "Therefore $x_2=5$ is not a solution for our equation.\n",
    "\n",
    "Where did this solution come from?\n",
    "\n",
    "It came from squaring both sides of the original equation. By squaring both sides, we created an extra (and wrong) solution. We call this type of solution **extraneous**.  In this context, extraneous means *mathematically correct, but **not relevant or useful**, as far as the original question is concerned*.\n",
    "\n",
    "The creation of this extraneous solutions is precisely the reason why it is important to always algebraically check your solutions to a radical equation."
   ]
  },
  {
   "cell_type": "code",
   "execution_count": 6,
   "metadata": {},
   "outputs": [
    {
     "data": {
      "text/latex": [
       "Is $0$ a solution for the following equation?"
      ],
      "text/plain": [
       "<IPython.core.display.Latex object>"
      ]
     },
     "metadata": {},
     "output_type": "display_data"
    },
    {
     "data": {
      "text/latex": [
       "$$\\sqrt{x+4}=x-2$$"
      ],
      "text/plain": [
       "<IPython.core.display.Latex object>"
      ]
     },
     "metadata": {},
     "output_type": "display_data"
    },
    {
     "data": {
      "application/vnd.jupyter.widget-view+json": {
       "model_id": "6e972fa825134a5bbc4117e3bc318b04",
       "version_major": 2,
       "version_minor": 0
      },
      "text/html": [
       "<p>Failed to display Jupyter Widget of type <code>interactive</code>.</p>\n",
       "<p>\n",
       "  If you're reading this message in the Jupyter Notebook or JupyterLab Notebook, it may mean\n",
       "  that the widgets JavaScript is still loading. If this message persists, it\n",
       "  likely means that the widgets JavaScript library is either not installed or\n",
       "  not enabled. See the <a href=\"https://ipywidgets.readthedocs.io/en/stable/user_install.html\">Jupyter\n",
       "  Widgets Documentation</a> for setup instructions.\n",
       "</p>\n",
       "<p>\n",
       "  If you're reading this message in another frontend (for example, a static\n",
       "  rendering on GitHub or <a href=\"https://nbviewer.jupyter.org/\">NBViewer</a>),\n",
       "  it may mean that your frontend doesn't currently support widgets.\n",
       "</p>\n"
      ],
      "text/plain": [
       "interactive(children=(Dropdown(description='Choose One:', options=(' ', 'Yes', 'No'), value=' '), Output()), _dom_classes=('widget-interact',))"
      ]
     },
     "metadata": {},
     "output_type": "display_data"
    }
   ],
   "source": [
    "def lin_or_non(val):\n",
    "    if val == \"Yes\":\n",
    "        display(Latex(\"Try again!\"))\n",
    "        #display(Latex(\"This equation has no exponent on either variable, and is therefore linear.\"))\n",
    "    elif val == \"No\":\n",
    "        display(Latex(\"Correct!\"))\n",
    "\n",
    "display(Latex(\"Is $0$ a solution for the following equation?\"))\n",
    "display(Latex('$$\\sqrt{x+4}=x-2$$'))\n",
    "    \n",
    "interact(lin_or_non, val = widgets.Dropdown(options=[' ', 'Yes', 'No'],value = ' ',description = 'Choose One:',disabled = False));\n"
   ]
  },
  {
   "cell_type": "markdown",
   "metadata": {},
   "source": [
    "### Solve problems by modelling a situation with a radical equation and solving the equation.\n",
    "\n",
    "Radical equations can be important to model and solve problems.\n",
    "\n",
    "Consider the following problem.\n",
    "\n",
    "**Problem**\n",
    "\n",
    "At which points the functions $y=\\sqrt{8x-3}$ and $y=x+\\frac{3}{4}$ intersect?\n",
    "\n",
    "\n",
    "**Solution**\n",
    "\n",
    "The figure below shows the functions $y=\\sqrt{8x-3}$ (blue) and $y=x+\\frac{3}{4}$ (red). We observe that they intersect at two points.\n",
    "\n",
    "<img src=\"./CC38_figures/radicands_problem.jpg\" style=\"width: 700px;\"/>"
   ]
  },
  {
   "cell_type": "markdown",
   "metadata": {},
   "source": [
    "To find the points at which the two curves intersect, we must equate their equations.\n",
    "\n",
    "$$\\sqrt{8x-3} = x+\\frac{3}{4}.$$\n",
    "\n",
    "We obtained a radical equation that we must solve using the steps we learnt in this notebook.\n",
    "\n",
    "First of all, we determine the restrictions on the variable $x$.\n",
    "\n",
    "$$\\sqrt{8x-3} \\geq 0 \\to \\quad 8x-3 \\geq 0 \\to \\quad x \\geq \\frac{3}{8}.$$\n",
    "\n",
    "Therefore, we will accept values for the solution that are greater than or equal to $\\frac{3}{8}$.\n",
    "\n",
    "Next, w esolve the radical equation. Because the square root is already isolated on the left hand side, we can square both terms right away.\n",
    "\n",
    "$$\n",
    "\\begin{align*}\n",
    "\\left(\\sqrt{8x-3}\\right)^2 &= (x+\\frac{3}{4})^2\\\\\n",
    "8x-3 &= (x+\\frac{3}{4})(x+\\frac{3}{4})\\\\\n",
    "8x-3 &= x^2 +\\frac{3}{2}x +\\frac{9}{16}\\\\\n",
    "\\end{align*}\n",
    "$$\n",
    "\n",
    "Rearraging the terms gives\n",
    "\n",
    "$$x^2 -\\frac{13}{2}x + \\frac{144}{6} = 0.$$\n",
    "\n",
    "To find the solutions, we apply the quadratic formula\n",
    "\n",
    "$$\n",
    "\\begin{align*}\n",
    "x_{1,2} &= \\frac{-b\\pm \\sqrt{b^2 -4ac}}{2a}\\\\\n",
    "&=\\frac{\\frac{13}{2}\\pm\\sqrt{\\left(\\frac{13}{2}\\right)^2-4(1)\\left(\\frac{144}{16}\\right)}}{2(1)}\\\\\n",
    "&=\\frac{\\frac{13}{2}\\pm\\sqrt{\\left(\\frac{169}{4}\\right)-\\left(\\frac{144}{4}\\right)}}{2}\\\\\n",
    "&=\\frac{\\frac{13}{2}\\pm\\sqrt{\\left(\\frac{25}{4}\\right)}}{2}\\\\\n",
    "&=\\frac{\\frac{13}{2}\\pm\\frac{5}{2}}{2}\\\\\n",
    "\\end{align*}\n",
    "$$\n",
    "\n",
    "which gives $x_1 = \\frac{9}{2}$ and $x_2 = 2$. Both solutions are greater than or equal to $\\frac{3}{8}$ therefore are valid."
   ]
  },
  {
   "cell_type": "markdown",
   "metadata": {},
   "source": [
    "### Conclusion\n",
    "\n",
    "In this notebook we learned\n",
    "\n",
    "\n",
    "<ul>\n",
    "    <li> When solving radical equation we first need to determine the restrictions on the solution. </li>\n",
    "    <li> To solve a radical equations we always want to isolate the radical first, then square sides, not terms. </li>\n",
    "    <li> We always need to check the solutions and discard any extraneuos.</li>\n",
    " \n",
    "</ul>\n"
   ]
  },
  {
   "cell_type": "markdown",
   "metadata": {},
   "source": [
    "![alt text][bottom-banner]\n",
    "\n",
    "[bottom-banner]:./CC38_figures/callysto-bottom-banner.jpg"
   ]
  }
 ],
 "metadata": {
  "kernelspec": {
   "display_name": "Python 3",
   "language": "python",
   "name": "python3"
  },
  "language_info": {
   "codemirror_mode": {
    "name": "ipython",
    "version": 3
   },
   "file_extension": ".py",
   "mimetype": "text/x-python",
   "name": "python",
   "nbconvert_exporter": "python",
   "pygments_lexer": "ipython3",
   "version": "3.6.5"
  }
 },
 "nbformat": 4,
 "nbformat_minor": 2
}
