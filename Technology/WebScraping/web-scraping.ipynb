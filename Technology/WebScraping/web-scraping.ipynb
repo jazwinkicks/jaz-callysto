{
 "cells": [
  {
   "cell_type": "code",
   "execution_count": 5,
   "metadata": {},
   "outputs": [],
   "source": [
    "# !pip install --user scrapy"
   ]
  },
  {
   "cell_type": "code",
   "execution_count": 2,
   "metadata": {},
   "outputs": [],
   "source": [
    "from scrapy.selector import Selector\n",
    "from scrapy.http import HtmlResponse\n",
    "\n",
    "from IPython.core.display import HTML"
   ]
  },
  {
   "cell_type": "markdown",
   "metadata": {},
   "source": [
    "## A Crash Course in HTML\n",
    "\n",
    "To properly scrape a page, you first need to know a little about HTML (also known as: hypertext markup language). It's what almost every website you'll find out there is built on.\n",
    "\n",
    "The main thing that makes HTML different than regular text is its use of **tags**. A `<` marks the beginning of a tag and a `>` marks the end of a tag. If you're just using a single tag on its own, it should end with a `/>`. For example, a line break is `<br/>`. Your browser doesn't need to know anything else about it to know it should put an empty line between that tag and whatever comes next.\n",
    "\n",
    "However, most tags are a little more sophisticated than our rather boring `<br/>`. Most tags do *something* to what  comes after them. For example `<b>` tells you to start **making everything bold. But eventually bold words just get distracting, so you'll want to stop making them all bold. You do that with `</b>`**.\n",
    "\n",
    "Notice that the only difference between the closing tag and the opening tag is that the closing tag begins with `</` instead of `<`. \n",
    "\n",
    "When your browser is figuring out how to display a page, it expects that you provide the closing tag whenever you use an opening tag. You can put whatever you want in between the opening and closing tag as long as it's valid HTML.\n",
    "\n",
    "For example, `<i>foo</i>` will italicize *foo*. If you want to also make **<i>foo</i>** bold, you could put the valid HTML `<i>foo</i>` inside an opening and closing `b` tag: \n",
    "\n",
    "```html\n",
    "<b><i>foo</i></b>\n",
    "```\n",
    "\n",
    "In case you're wondering, yes, you could also get the same result with:\n",
    "\n",
    "```html\n",
    "<i><b>foo</b></i>\n",
    "```\n",
    "\n",
    "That may seem like a lot of work to do something you could do in a couple of mouse clicks or key presses in your favourite word processor. The beauty of HTML is that all web browsers are expected to do the *same* thing when they run into any of the standard HTML tags. That means that the tags you wrote to make your text bold and italicized will result in **<i>bold, italicized</i>** text no matter what browser someone uses to read it.\n",
    "\n",
    "### Valid HTML Documents\n",
    "\n",
    "We've learned what basic valid HTML looks like. What about a whole HTML document? Here's the minimum an HTML document should have in order to be valid HTML5 (the latest version of HTML):\n",
    "\n",
    "```html\n",
    "<!DOCTYPE html>\n",
    "<html lang=\"en\">\n",
    "  <head>\n",
    "    <meta charset=\"utf-8\">\n",
    "    <title>Your page title goes here.</title>\n",
    "  </head>\n",
    "  <body>\n",
    "    Your main page content goes here.\n",
    "  </body>\n",
    "</html>\n",
    "```\n",
    "\n",
    "Web browsers can be pretty forgiving, and your page probably won't break if you miss some of these. Don't worry about trying to memorize this either. You can find it in more than enough places on line and it's perfectly okay to cut and paste to start out. Even the pros do that.\n",
    "\n",
    "We'll just be focusing on what happens within the `<body></body>` tags, so for the following examples, just remember that to make them into a valid HTML document, you'd have to put them inside the `<body></body>` tags above."
   ]
  },
  {
   "cell_type": "markdown",
   "metadata": {},
   "source": [
    "## A Simple Scraper\n",
    "\n",
    "There's a lot more we could say about HTML and its standard tags, and if you're interested, you can read about those tags [here](https://www.w3schools.com/tags/default.asp). Along with CSS (or cascading style sheets), another standard expected to be supported by every browser, you can make text and images look exactly the way you want in any web browser. And with a third standard language, Javascript, you can even create sophisticated user interfaces that people can interact with. Bet your word processor can't do that!\n",
    "\n",
    "However, this notebook's purpose is to get you ready to scrape other peoples' nice looking web pages! And we now know enough about HTML to start doing that. So let's get into it!\n",
    "\n",
    "### Your First Mission\n",
    "\n",
    "Let's say we have the following within our document `<body></body>`:\n",
    "\n",
    "```html\n",
    "The answer to the question is: <b>42</b>.\n",
    "```\n",
    "\n",
    "Here's what that looks like:"
   ]
  },
  {
   "cell_type": "code",
   "execution_count": 42,
   "metadata": {},
   "outputs": [
    {
     "data": {
      "text/html": [
       "The answer to the question is: <b>42</b>."
      ],
      "text/plain": [
       "<IPython.core.display.HTML object>"
      ]
     },
     "execution_count": 42,
     "metadata": {},
     "output_type": "execute_result"
    }
   ],
   "source": [
    "html_text = 'The answer to the question is: <b>42</b>.'\n",
    "HTML(html_text)"
   ]
  },
  {
   "cell_type": "markdown",
   "metadata": {},
   "source": [
    "How would you get *just* the answer `42`?\n",
    "\n",
    "Well, you *could* just look for some part of the text before and after it. For example, you could look for `'is: '` and grab everything until the first `.`. That's after you remove that bold tag and any other HTML tags within the text:"
   ]
  },
  {
   "cell_type": "code",
   "execution_count": 43,
   "metadata": {},
   "outputs": [],
   "source": [
    "## TODO: Put this in a helper file:\n",
    "\n",
    "from html.parser import HTMLParser\n",
    "\n",
    "class TagRemover(HTMLParser):\n",
    "    def __init__(self):\n",
    "        self.reset()\n",
    "        self.strict = False\n",
    "        self.convert_charrefs= True\n",
    "        self.fed = []\n",
    "    def handle_data(self, d):\n",
    "        self.fed.append(d)\n",
    "    def get_data(self):\n",
    "        return ''.join(self.fed)\n",
    "\n",
    "def remove_tags(html):\n",
    "    s = TagRemover()\n",
    "    s.feed(html)\n",
    "    return s.get_data()"
   ]
  },
  {
   "cell_type": "code",
   "execution_count": 44,
   "metadata": {},
   "outputs": [
    {
     "data": {
      "text/plain": [
       "'42'"
      ]
     },
     "execution_count": 44,
     "metadata": {},
     "output_type": "execute_result"
    }
   ],
   "source": [
    "raw_text = remove_tags(html_text)\n",
    "before_text = 'is: '\n",
    "answer_start = raw_text.find(before_text) + len(before_text)\n",
    "answer_end = raw_text.find('.', answer_start)\n",
    "raw_text[answer_start:answer_end]"
   ]
  },
  {
   "cell_type": "markdown",
   "metadata": {},
   "source": [
    "What are some problems with finding the answer this way? Well, first, it's a lot of work! But on top of that, if we change any of the text around the answer, we risk breaking the code we're using to grab it. What if, instead of stripping out the `<b>` tag, we used it as a way to locate the answer? That's where scraping libraries like *scrapy* come in. They can use the structure of the HTML itself to help drill down to the parts of it we're interested in.\n",
    "\n",
    "Here's how we can find our answer using *scrapy*:"
   ]
  },
  {
   "cell_type": "code",
   "execution_count": 45,
   "metadata": {},
   "outputs": [
    {
     "data": {
      "text/plain": [
       "'42'"
      ]
     },
     "execution_count": 45,
     "metadata": {},
     "output_type": "execute_result"
    }
   ],
   "source": [
    "Selector(text=html_text).xpath('//b/text()').extract_first()"
   ]
  },
  {
   "cell_type": "markdown",
   "metadata": {},
   "source": [
    "### XPaths\n",
    "\n",
    "What's going on here? Let's break up that first line above into 3 pieces:\n",
    "\n",
    "1. `Selector(text=html_text)`\n",
    "2. `xpath('//b/text()')`\n",
    "3. `extract_first()`\n",
    "\n",
    "The first piece is just a way of initializing **scrapy** with the HTML that we want it to dig into. We're creating the `Selector` object with our `html_text` string, and that object will do the hard work of figuring out the structure of that text string based on all the HTML tags, etc. in it. The last piece tells **scrapy** that we want to return the first match to our query. We could have used `extract` instead of `extract_first`, and received an array with a single element (`'42'`) that we would then have to pull out of the array.\n",
    "\n",
    "As important as the first and third pieces are, the second piece is where we'll be spending most of our time. This is where you tell **scrapy** what to look for and where to start looking for it.\n",
    "\n",
    "Let's modify our example just a bit:"
   ]
  },
  {
   "cell_type": "code",
   "execution_count": 46,
   "metadata": {},
   "outputs": [
    {
     "data": {
      "text/html": [
       "\n",
       "Answer to Question 1: <b>42</b><br/>\n",
       "Answer to Question 2: <b>2</b><br/>\n",
       "Answer to Question 3: <b>foo</b>\n"
      ],
      "text/plain": [
       "<IPython.core.display.HTML object>"
      ]
     },
     "execution_count": 46,
     "metadata": {},
     "output_type": "execute_result"
    }
   ],
   "source": [
    "html_text = '''\n",
    "Answer to Question 1: <b>42</b><br/>\n",
    "Answer to Question 2: <b>2</b><br/>\n",
    "Answer to Question 3: <b>foo</b>\n",
    "'''\n",
    "HTML(html_text)"
   ]
  },
  {
   "cell_type": "markdown",
   "metadata": {},
   "source": [
    "How would you get all 3 answers? Note that we've also changed the text that comes before and after the answers. This would completely break our very first code for extracting the answer. How much would you have to change the **scrapy** version?\n",
    "\n",
    "The great thing is you don't have to change either the first or second part at all! The answers are all still within those `<b></b>` tags. But now, instead of just as single match, we want *all* of them."
   ]
  },
  {
   "cell_type": "code",
   "execution_count": 48,
   "metadata": {},
   "outputs": [
    {
     "data": {
      "text/plain": [
       "['42', '2', 'foo']"
      ]
     },
     "execution_count": 48,
     "metadata": {},
     "output_type": "execute_result"
    }
   ],
   "source": [
    "Selector(text=html_text).xpath('//b/text()').extract()"
   ]
  },
  {
   "cell_type": "markdown",
   "metadata": {},
   "source": [
    "What if we put those answers inside another HTML element? We're going to use a `<div></div>` element that's kind of like an all-purpose container for things. Think of it as a box that you can put stuff in. That box can go into bigger boxes, and those boxes can be moved around without repositioning the things inside them. Here's what our answers look like inside a `div`:"
   ]
  },
  {
   "cell_type": "code",
   "execution_count": 58,
   "metadata": {},
   "outputs": [
    {
     "data": {
      "text/html": [
       "\n",
       "<div>\n",
       "    Answer to Question 1: <b>42</b><br/>\n",
       "    Answer to Question 2: <b>2</b><br/>\n",
       "    Answer to Question 3: <b>foo</b>\n",
       "</div>\n"
      ],
      "text/plain": [
       "<IPython.core.display.HTML object>"
      ]
     },
     "execution_count": 58,
     "metadata": {},
     "output_type": "execute_result"
    }
   ],
   "source": [
    "html_text = '''\n",
    "<div>\n",
    "    Answer to Question 1: <b>42</b><br/>\n",
    "    Answer to Question 2: <b>2</b><br/>\n",
    "    Answer to Question 3: <b>foo</b>\n",
    "</div>\n",
    "'''\n",
    "HTML(html_text)"
   ]
  },
  {
   "cell_type": "markdown",
   "metadata": {},
   "source": [
    "Nothing *visually* has changed about the text. Right now, our `div` is an invisible box. So, does that change what we need to do to find our answers? Nope!"
   ]
  },
  {
   "cell_type": "code",
   "execution_count": 75,
   "metadata": {},
   "outputs": [
    {
     "data": {
      "text/plain": [
       "['42', '2', 'foo']"
      ]
     },
     "execution_count": 75,
     "metadata": {},
     "output_type": "execute_result"
    }
   ],
   "source": [
    "Selector(text=html_text).xpath('//b/text()').extract()"
   ]
  },
  {
   "cell_type": "markdown",
   "metadata": {},
   "source": [
    "It seems like there might be just a bit of magic going on with that small bit of text within our `xpath` function call. Let's take a closer look at it. What does `'//b/text()'` mean to **scrapy's** `xpath` function? Just like we did above, let's pull out the pieces:\n",
    "\n",
    "1. `//` and `/`\n",
    "2. `b`\n",
    "3. `text()`\n",
    "\n"
   ]
  }
 ],
 "metadata": {
  "kernelspec": {
   "display_name": "Python 3",
   "language": "python",
   "name": "python3"
  },
  "language_info": {
   "codemirror_mode": {
    "name": "ipython",
    "version": 3
   },
   "file_extension": ".py",
   "mimetype": "text/x-python",
   "name": "python",
   "nbconvert_exporter": "python",
   "pygments_lexer": "ipython3",
   "version": "3.6.5"
  }
 },
 "nbformat": 4,
 "nbformat_minor": 2
}
