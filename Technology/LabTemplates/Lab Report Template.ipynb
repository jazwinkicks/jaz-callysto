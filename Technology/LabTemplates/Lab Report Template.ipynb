{
 "cells": [
  {
   "cell_type": "markdown",
   "metadata": {},
   "source": [
    "![alt text](https://github.com/callysto/callysto-sample-notebooks/blob/master/notebooks/images/Callysto_Notebook-Banner_Top_06.06.18.jpg?raw=true)"
   ]
  },
  {
   "cell_type": "markdown",
   "metadata": {},
   "source": [
    "# Lab Report Template \n",
    " \n",
    " This is the generic lab report template that can be customized for use with student lab reports. For a tutorial on the use of some of the functions used here please [click this link](Lab Report Template Tutorial.ipynb). If it is your first time using the template, we recommend you read the tutorial before going further."
   ]
  },
  {
   "cell_type": "code",
   "execution_count": null,
   "metadata": {},
   "outputs": [],
   "source": [
    "# Importing our helper functions \n",
    "from lab_template_helpers import easy_table, graph_table"
   ]
  },
  {
   "cell_type": "markdown",
   "metadata": {},
   "source": [
    " # Background \n",
    " \n",
    " Describe the background and motivation of the laboratory here. \n",
    " \n",
    " # Experimental Procedure \n",
    " \n",
    " Explain the experimental procedure here \n",
    " \n",
    " # Student Hypothesis \n",
    " \n",
    " Have students explain their hypothesis here after reading the background and experimental procedure. \n",
    " \n",
    " # Pre-lab Questions \n",
    " \n",
    " If you have pre lab questions, enter them here. \n",
    " \n",
    " 1. Question 1 \n",
    " 1. Question 2 \n",
    " 1. Question 3. \n",
    " 1. ... \n",
    "\n",
    "## Create A Blank Table\n",
    "\n",
    "You can create and save a blank table here.\n",
    "\n",
    "NOTE: You can remove this cell once you've created the file, or get the students to create their own tables themselves."
   ]
  },
  {
   "cell_type": "code",
   "execution_count": null,
   "metadata": {},
   "outputs": [],
   "source": []
  },
  {
   "cell_type": "code",
   "execution_count": null,
   "metadata": {},
   "outputs": [],
   "source": [
    "easy_table.create_table('data_table_file.csv')"
   ]
  },
  {
   "cell_type": "markdown",
   "metadata": {},
   "source": [
    "# Load Your Created Table"
   ]
  },
  {
   "cell_type": "code",
   "execution_count": null,
   "metadata": {},
   "outputs": [],
   "source": [
    "my_table = easy_table.load_table(\"data_table_file.csv\")\n",
    "my_table"
   ]
  },
  {
   "cell_type": "markdown",
   "metadata": {},
   "source": [
    "# Load Online Or Local CSV\n",
    "\n",
    " Note: If it is a local file to your/your student's hub account, simply type the file path in below instead of a url."
   ]
  },
  {
   "cell_type": "code",
   "execution_count": null,
   "metadata": {},
   "outputs": [],
   "source": [
    "online_table = easy_table.load_table(\"https://raw.githubusercontent.com/mwaskom/seaborn-data/master/iris.csv\", \n",
    "                      external=True)\n",
    "online_table"
   ]
  },
  {
   "cell_type": "markdown",
   "metadata": {},
   "source": [
    "# Graph Results Of Table"
   ]
  },
  {
   "cell_type": "code",
   "execution_count": null,
   "metadata": {},
   "outputs": [],
   "source": [
    "graph_table.graph_from_table(online_table)"
   ]
  },
  {
   "cell_type": "markdown",
   "metadata": {},
   "source": [
    "# Student Findings And Results \n",
    "\n",
    "## Discussion \n",
    "\n",
    "Your discussion of your findings and results go here. \n",
    "\n",
    "## Conclusion \n",
    "\n",
    "Your conclusions go here."
   ]
  },
  {
   "cell_type": "markdown",
   "metadata": {},
   "source": [
    "![alt text](https://github.com/callysto/callysto-sample-notebooks/blob/master/notebooks/images/Callysto_Notebook-Banners_Bottom_06.06.18.jpg?raw=true)"
   ]
  }
 ],
 "metadata": {
  "kernelspec": {
   "display_name": "Python 3",
   "language": "python",
   "name": "python3"
  },
  "language_info": {
   "codemirror_mode": {
    "name": "ipython",
    "version": 3
   },
   "file_extension": ".py",
   "mimetype": "text/x-python",
   "name": "python",
   "nbconvert_exporter": "python",
   "pygments_lexer": "ipython3",
   "version": "3.6.4"
  }
 },
 "nbformat": 4,
 "nbformat_minor": 2
}
