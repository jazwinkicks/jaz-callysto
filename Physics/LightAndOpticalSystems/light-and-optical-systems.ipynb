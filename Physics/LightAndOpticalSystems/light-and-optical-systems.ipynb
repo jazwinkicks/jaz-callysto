{
 "cells": [
  {
   "cell_type": "markdown",
   "metadata": {},
   "source": [
    "<img src='images/callysto-top-banner.jpg'>"
   ]
  },
  {
   "cell_type": "code",
   "execution_count": 1,
   "metadata": {},
   "outputs": [],
   "source": [
    "import random\n",
    "import os\n",
    "import os.path\n",
    "import sys\n",
    "from random import randint\n",
    "import numpy as np\n",
    "from IPython.display import display, Math, Latex, clear_output, HTML"
   ]
  },
  {
   "cell_type": "code",
   "execution_count": 2,
   "metadata": {},
   "outputs": [
    {
     "data": {
      "text/html": [
       "\n",
       "<div>\n",
       "    <img src=\"images/iris.jpg\" width=720px style=\"margin-left:auto; margin-right:auto\">\n",
       "    <div style=\"position: absolute; top: 8%; left: 24%; color: #b3cce6; font-size: 24pt; text-align: center; text-shadow: 2px 2px 4px #000000; padding: 20px; background-color: rgb(0,0,0,0.5); border-radius: 10px;\">\n",
       "        The Science of Image Formation and Vision\n",
       "    </div>\n",
       "</div>"
      ],
      "text/plain": [
       "<IPython.core.display.HTML object>"
      ]
     },
     "metadata": {},
     "output_type": "display_data"
    }
   ],
   "source": [
    "%%html\n",
    "\n",
    "<div>\n",
    "    <img src=\"images/iris.jpg\" width=720px style=\"margin-left:auto; margin-right:auto\">\n",
    "    <div style=\"position: absolute; top: 8%; left: 24%; color: #b3cce6; font-size: 24pt; text-align: center; text-shadow: 2px 2px 4px #000000; padding: 20px; background-color: rgb(0,0,0,0.5); border-radius: 10px;\">\n",
    "        The Science of Image Formation and Vision\n",
    "    </div>\n",
    "</div>"
   ]
  },
  {
   "cell_type": "code",
   "execution_count": 3,
   "metadata": {},
   "outputs": [
    {
     "data": {
      "text/html": [
       "\n",
       "<script src=\"https://cdn.geogebra.org/apps/deployggb.js\"></script>"
      ],
      "text/plain": [
       "<IPython.core.display.HTML object>"
      ]
     },
     "metadata": {},
     "output_type": "display_data"
    }
   ],
   "source": [
    "%%html\n",
    "\n",
    "<script src=\"https://cdn.geogebra.org/apps/deployggb.js\"></script>"
   ]
  },
  {
   "cell_type": "markdown",
   "metadata": {},
   "source": [
    "# Introduction\n",
    "\n",
    "Our eyes help us to interact with the world around us. Have you ever wondered how they work? How does light bounce off of things and then make images in our brains? What about other animals? Do they see things the same way we do? \n",
    "\n",
    "This notebook will answer these questions and more. We'll look at how a lens works and how lenses can be used to make powerful scientific tools. We'll also explore how the human eye works and compare it to the eyes of a few different animals."
   ]
  },
  {
   "cell_type": "markdown",
   "metadata": {},
   "source": [
    "# Background\n",
    "\n",
    "## Real Images\n",
    "\n",
    "To start our exploration of the human eye, let's first look at something called a **double convex lens**. Using a double convex lens, a **real image** can be formed.\n",
    "\n",
    "INTRODUCE THE DIAGRAM BEFORE YOU SHOW IT"
   ]
  },
  {
   "cell_type": "code",
   "execution_count": 4,
   "metadata": {},
   "outputs": [
    {
     "data": {
      "text/html": [
       "\n",
       "<div id=\"ggb-convex-lens\"/>\n",
       "\n",
       "<script>\n",
       "  var ggbApp = new GGBApplet({\n",
       "      \"height\": 640,\n",
       "      \"showToolBar\": false,\n",
       "      \"showMenuBar\": false,\n",
       "      \"showAlgebraInput\": false,\n",
       "      \"showResetIcon\": true,\n",
       "      \"enableLabelDrags\": false,\n",
       "      \"enableRightClick\": false,\n",
       "      \"enableShiftDragZoom\": true,\n",
       "      \"useBrowserForJS\": false,\n",
       "      \"filename\": \"scripts/convex_lens.ggb\"\n",
       "  }, 'ggb-convex-lens');\n",
       "\n",
       "  ggbApp.inject();\n",
       "</script>\n",
       "<p style='text-align: center'>Geogebra project adapted from user <i>Magdalena</i>.</p>"
      ],
      "text/plain": [
       "<IPython.core.display.HTML object>"
      ]
     },
     "metadata": {},
     "output_type": "display_data"
    }
   ],
   "source": [
    "%%html\n",
    "\n",
    "<div id=\"ggb-convex-lens\"/>\n",
    "\n",
    "<script>\n",
    "  var ggbApp = new GGBApplet({\n",
    "      \"height\": 640,\n",
    "      \"showToolBar\": false,\n",
    "      \"showMenuBar\": false,\n",
    "      \"showAlgebraInput\": false,\n",
    "      \"showResetIcon\": true,\n",
    "      \"enableLabelDrags\": false,\n",
    "      \"enableRightClick\": false,\n",
    "      \"enableShiftDragZoom\": true,\n",
    "      \"useBrowserForJS\": false,\n",
    "      \"filename\": \"scripts/convex_lens.ggb\"\n",
    "  }, 'ggb-convex-lens');\n",
    "\n",
    "  ggbApp.inject();\n",
    "</script>\n",
    "<p style='text-align: center'>Geogebra project adapted from user <i>Magdalena</i>.</p>"
   ]
  },
  {
   "cell_type": "markdown",
   "metadata": {},
   "source": [
    "In the diagram above, the yellow lines represent light rays. An object reflects light rays in lots of different directions. Some of the light is reflected towards the convex lens. When the light rays pass through the convex lens, they change direction. You can see how the light rays come together on the right side of the lens. This is the point where the *real image* is formed. It is called the **focal point**. Because of the way the lens changes the direction of the light rays, the *real image* on the right side of the lens is upside down. \n",
    "\n",
    "Let's try to understand this more completely, because the diagram only shows three light rays coming away from the object. In real life, there would be millions more (infinitely more, in fact) light rays coming off of the object. Let's say that the object was a car. All of the light rays that reflected off of the car's wheel would pass through the lens, get flipped upside down, and form a *real image* of the wheel on the other side of the lens. The same thing would happen to all parts of the car. \n",
    "\n",
    "It may seem strange that the real image gets flipped upside down. What's even more bizarre is that our eyes have a double convex lens, and that the images our brain receives are upside down! We'll talk more about this in the section on [Exploring the Human Eye](#human_eye).\n",
    "\n",
    "### Questions\n",
    "<ol>\n",
    "    <li> What happens to the real image when the lens is farther from the object? </li>\n",
    "    <li> What happens to the real image when the lens is close to the object? </li>\n",
    "    <li> Try moving the focal length (the point labeled F) to the other side of the lens. Is the real image upside down anymore? </li>\n",
    "</ol>"
   ]
  },
  {
   "cell_type": "markdown",
   "metadata": {},
   "source": [
    "## How does a microscope work?\n"
   ]
  },
  {
   "cell_type": "code",
   "execution_count": 66,
   "metadata": {},
   "outputs": [],
   "source": [
    "# Microscope interactive cross-section."
   ]
  },
  {
   "cell_type": "markdown",
   "metadata": {},
   "source": [
    "Describe eyeglasses, binoculars, and telescopes in general terms."
   ]
  },
  {
   "cell_type": "markdown",
   "metadata": {},
   "source": [
    "<img src=\"images/telescopes.jpg\">"
   ]
  },
  {
   "cell_type": "markdown",
   "metadata": {},
   "source": [
    "<a id='human_eye'></a>\n",
    "## Exploring the Human Eye\n",
    "\n",
    "Our eyes use real images formed by double convex lenses to see the world around us. Real images are formed in our eyes when light first passes through a transparent (see-through) layer called the *cornea*. This layer bends the light a little, but not very much. Next, the light passes through the *lens*, which bends the light rays far more than the cornea. The lens focuses light rays onto a layer of light receptor cells at the back of the eyeball called the *retina*. The retina converts the light energy into electrical signals which get sent down the *optic nerve* into the brain.\n",
    "\n",
    "When we look at another person's eye, we see the colour of their eyes. The colored part is a muscle called the *iris*. A black circle in the middle of the iris is actually the hole that lets light through. This hole is called the *pupil*. When there is lots of light (like on a bright, sunny day), the iris **contracts**. This makes the pupil smaller so less light gets through. When there is not much light (like at night), the iris **dilates**. This makes the pupil get bigger so more light gets through. The iris is very important, since too much light getting through when it is very bright can damage your eyes.\n",
    "\n",
    "Let's take a look at the human eye in 3D."
   ]
  },
  {
   "cell_type": "code",
   "execution_count": 5,
   "metadata": {},
   "outputs": [
    {
     "ename": "ModuleNotFoundError",
     "evalue": "No module named 'OCC'",
     "output_type": "error",
     "traceback": [
      "\u001b[0;31m---------------------------------------------------------------------------\u001b[0m",
      "\u001b[0;31mModuleNotFoundError\u001b[0m                       Traceback (most recent call last)",
      "\u001b[0;32m<ipython-input-5-030434c1e2ef>\u001b[0m in \u001b[0;36m<module>\u001b[0;34m()\u001b[0m\n\u001b[1;32m      1\u001b[0m \u001b[0;34m\"\"\" Human eye 3D explorer. \"\"\"\u001b[0m\u001b[0;34m\u001b[0m\u001b[0m\n\u001b[0;32m----> 2\u001b[0;31m \u001b[0;32mfrom\u001b[0m \u001b[0mOCC\u001b[0m\u001b[0;34m.\u001b[0m\u001b[0mDisplay\u001b[0m\u001b[0;34m.\u001b[0m\u001b[0mSimpleGui\u001b[0m \u001b[0;32mimport\u001b[0m \u001b[0minit_display\u001b[0m\u001b[0;34m\u001b[0m\u001b[0m\n\u001b[0m\u001b[1;32m      3\u001b[0m \u001b[0;32mfrom\u001b[0m \u001b[0mOCC\u001b[0m\u001b[0;34m.\u001b[0m\u001b[0mBRepPrimAPI\u001b[0m \u001b[0;32mimport\u001b[0m \u001b[0mBRepPrimAPI_MakeBox\u001b[0m\u001b[0;34m\u001b[0m\u001b[0m\n\u001b[1;32m      4\u001b[0m \u001b[0;32mfrom\u001b[0m \u001b[0mOCC\u001b[0m\u001b[0;34m.\u001b[0m\u001b[0mSTEPControl\u001b[0m \u001b[0;32mimport\u001b[0m \u001b[0mSTEPControl_Reader\u001b[0m\u001b[0;34m\u001b[0m\u001b[0m\n\u001b[1;32m      5\u001b[0m \u001b[0;34m\u001b[0m\u001b[0m\n",
      "\u001b[0;31mModuleNotFoundError\u001b[0m: No module named 'OCC'"
     ]
    }
   ],
   "source": [
    "\"\"\" Human eye 3D explorer. \"\"\"\n",
    "from OCC.Display.SimpleGui import init_display\n",
    "from OCC.BRepPrimAPI import BRepPrimAPI_MakeBox\n",
    "from OCC.STEPControl import STEPControl_Reader\n",
    "\n",
    "# Load in a step reader and read the .STEP file.\n",
    "step_reader = STEPControl_Reader()\n",
    "step_reader.ReadFile('eyeball v13.step')\n",
    "step_reader.TransferRoot()\n",
    "\n",
    "# Create the display window.\n",
    "display, start_display, add_menu, add_function_to_menu = init_display()\n",
    "\n",
    "# Display the .STEP file.\n",
    "display.DisplayShape(step_reader.Shape(), update=True)\n",
    "start_display()"
   ]
  },
  {
   "cell_type": "markdown",
   "metadata": {},
   "source": [
    "Not every person's vision is the same. Some people can't see far away things, and some people can't see things close up. These conditions are called **myopia** (near-sightedness) and **hyperopia** (far-sightedness). "
   ]
  },
  {
   "cell_type": "markdown",
   "metadata": {},
   "source": [
    "### How do Human Eyes Compare with Other Species?\n",
    "\n",
    "We talk about people with good eyesight having 'eagle eyes', or a camera having a 'fish-eye' lens. Also, if you've ever caught a fly and looked really close at its head, you've probably noticed that its eyes look very different from ours. So what's the difference between an animal's eyes and ours? Is anything the same? Let's take a look."
   ]
  },
  {
   "cell_type": "code",
   "execution_count": null,
   "metadata": {},
   "outputs": [],
   "source": [
    "\"\"\" Exploring eyes of other animals.\"\"\""
   ]
  },
  {
   "cell_type": "markdown",
   "metadata": {},
   "source": [
    "Talk about Lasik/laser eye surgery and night vision (picture for laser eye surgery)."
   ]
  },
  {
   "cell_type": "markdown",
   "metadata": {},
   "source": [
    "# Definitions of Terms\n",
    "<ul>\n",
    "    <li> **Double convex lens** </li>\n",
    "    <li> **Real image** </li>\n",
    "    <li> **Focal point** </li>\n",
    "</ul>"
   ]
  },
  {
   "cell_type": "markdown",
   "metadata": {},
   "source": [
    "<img src='images/callysto-bottom-banner.jpg'>"
   ]
  },
  {
   "cell_type": "code",
   "execution_count": 9,
   "metadata": {},
   "outputs": [],
   "source": [
    "import numpy as np\n",
    "from stl import mesh"
   ]
  },
  {
   "cell_type": "code",
   "execution_count": 10,
   "metadata": {},
   "outputs": [],
   "source": [
    "from mpl_toolkits import mplot3d\n",
    "from matplotlib import pyplot"
   ]
  },
  {
   "cell_type": "code",
   "execution_count": 11,
   "metadata": {},
   "outputs": [
    {
     "name": "stderr",
     "output_type": "stream",
     "text": [
      "/opt/conda/lib/python3.6/site-packages/ipykernel_launcher.py:12: DeprecationWarning: Non-string object detected for the array ordering. Please pass in 'C', 'F', 'A', or 'K' instead\n",
      "  if sys.path[0] == '':\n"
     ]
    },
    {
     "data": {
      "image/png": "[encoded data removed]",
      "text/plain": [
       "<matplotlib.figure.Figure at 0x7f70ee4c4f98>"
      ]
     },
     "metadata": {},
     "output_type": "display_data"
    }
   ],
   "source": [
    "%matplotlib inline\n",
    "\n",
    "# Create a new plot\n",
    "figure = pyplot.figure()\n",
    "axes = mplot3d.Axes3D(figure)\n",
    "\n",
    "# Load the STL files and add the vectors to the plot\n",
    "your_mesh = mesh.Mesh.from_file('eyeball.stl')\n",
    "axes.add_collection3d(mplot3d.art3d.Poly3DCollection(your_mesh.vectors))\n",
    "\n",
    "# Auto scale to the mesh size\n",
    "scale = your_mesh.points.flatten(-1)\n",
    "axes.auto_scale_xyz(scale, scale, scale)\n",
    "\n",
    "# Show the plot to the screen\n",
    "pyplot.show()"
   ]
  },
  {
   "cell_type": "code",
   "execution_count": 12,
   "metadata": {},
   "outputs": [
    {
     "name": "stdout",
     "output_type": "stream",
     "text": [
      "['speedups', 'name', 'data', '__module__', '__doc__', '__abstractmethods__', '_abc_registry', '_abc_cache', '_abc_negative_cache', '_abc_negative_cache_version', 'logger', 'load', '_load_binary', '_ascii_reader', '_load_ascii', 'save', '_write_ascii', '_write_binary', 'from_file', 'from_multi_file', 'dtype', '__init__', 'attr', 'normals', 'vectors', 'points', 'v0', 'v1', 'v2', 'x', 'y', 'z', 'remove_duplicate_polygons', 'remove_empty_areas', 'update_normals', 'update_min', 'update_max', 'update_areas', 'check', 'get_mass_properties', 'update_units', 'rotation_matrix', 'rotate', 'rotate_using_matrix', 'translate', 'transform', '_get_or_update', '_set', 'min_', 'max_', 'areas', 'units', '__getitem__', '__setitem__', '__len__', '__iter__', '_Logged__get_name', 'debug', 'error', 'exception', 'info', 'log', 'warning', '__new__', '__dict__', '__weakref__', '__repr__', '__hash__', '__str__', '__getattribute__', '__setattr__', '__delattr__', '__lt__', '__le__', '__eq__', '__ne__', '__gt__', '__ge__', '__reduce_ex__', '__reduce__', '__subclasshook__', '__init_subclass__', '__format__', '__sizeof__', '__dir__', '__class__', '__slots__', 'get', '__contains__', 'keys', 'items', 'values', '__reversed__']\n"
     ]
    }
   ],
   "source": [
    "print(your_mesh.__dir__())"
   ]
  },
  {
   "cell_type": "code",
   "execution_count": 17,
   "metadata": {},
   "outputs": [
    {
     "name": "stdout",
     "output_type": "stream",
     "text": [
      "[[ 21.41508865   4.92365074  -6.55620384 ...,  22.40799904   4.76605606\n",
      "   -6.67291164]\n",
      " [ 21.42693901   5.503304     7.92502832 ...,  22.41955566   5.25550604\n",
      "    8.13621426]\n",
      " [ 21.42683983   4.99704885   8.34282494 ...,  22.41955566   5.25550604\n",
      "    8.13621426]\n",
      " ..., \n",
      " [ 13.92059803  -4.18381596   7.37248278 ...,  14.76700211  -3.86244369\n",
      "    8.46594048]\n",
      " [ 10.56576061  -0.12610768   1.40595281 ...,  10.66540909   0.53491849\n",
      "    1.76356757]\n",
      " [ 16.01042557   2.80991197   9.506217   ...,  16.00987816   4.42115498\n",
      "    8.65880775]]\n"
     ]
    }
   ],
   "source": [
    "print(your_mesh.points)"
   ]
  },
  {
   "cell_type": "code",
   "execution_count": null,
   "metadata": {},
   "outputs": [],
   "source": []
  }
 ],
 "metadata": {
  "kernelspec": {
   "display_name": "Python 3",
   "language": "python",
   "name": "python3"
  },
  "language_info": {
   "codemirror_mode": {
    "name": "ipython",
    "version": 3
   },
   "file_extension": ".py",
   "mimetype": "text/x-python",
   "name": "python",
   "nbconvert_exporter": "python",
   "pygments_lexer": "ipython3",
   "version": "3.6.5"
  }
 },
 "nbformat": 4,
 "nbformat_minor": 2
}
